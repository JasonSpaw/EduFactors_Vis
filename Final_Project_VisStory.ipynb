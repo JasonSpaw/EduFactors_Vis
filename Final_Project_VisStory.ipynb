{
 "cells": [
  {
   "cell_type": "markdown",
   "metadata": {},
   "source": [
    "# Module 8 Exercise - Data Storytelling\n",
    "\n",
    "In this exercise, you will **create a narrative visualization with a data set of your choosing**. You can choose any data set you can find on the Internet, or a data set related to your current line of work. \n",
    "\n",
    "**You will create visualizations to give a message, make a point, or convince your audience by using all the techniques we have seen throughout the course.**\n",
    "\n",
    "Here is a list of your tasks:\n",
    "\n",
    "1. Find a data set and upload it to your exercises folder in module 8. \n",
    "\n",
    "2. Write your R code **in this exercise notebook** to create your visualizations, and save them under `exercises` folder.\n",
    "\n",
    "3. Create a **narrative visualization document** using **any** software you want (Word, PowerPoint, Photoshop, etc.) by pasting your visualizations and creating all necessary elements (captions, text annotations, layout, etc.) \n",
    "\n",
    "4. Save your end product as a **pdf file** and upload it to your exercises folder (**name it L8_Exercise.pdf**)\n",
    "\n",
    "Make sure that you start with a clear message in mind, and filter and format your data accordingly, and create the visualizations that will **support that message**. \n",
    "\n",
    "You need to have **at least one major visualization, and a number of supporting smaller graphs (2, 3, or more)**. Make sure to have a **clean layout**, and **enough text annotations and captions** to make your message clear. \n",
    "\n",
    "You can choose any type of visualization that you believe will be most **effective** for the type of data and the message you have chosen. \n",
    "\n",
    "You will be graded by the quality of your visualizations and storytelling; **make sure to use everything you have learned in this course.** \n",
    "\n",
    "\n",
    "Following is to show how to plot to a file to save a graph:"
   ]
  },
  {
   "cell_type": "code",
   "execution_count": 1,
   "metadata": {},
   "outputs": [
    {
     "data": {
      "text/html": [
       "<strong>png:</strong> 2"
      ],
      "text/latex": [
       "\\textbf{png:} 2"
      ],
      "text/markdown": [
       "**png:** 2"
      ],
      "text/plain": [
       "png \n",
       "  2 "
      ]
     },
     "metadata": {},
     "output_type": "display_data"
    }
   ],
   "source": [
    "# this is how you save a plot to a file\n",
    "library(ggplot2)\n",
    "library(RColorBrewer)\n",
    "\n",
    "# comment this out to see the plot in the notebook \n",
    "png(filename=\"myplot.png\")\n",
    "\n",
    "# your plot here..\n",
    "qplot(carat, price, data = diamonds)\n",
    "\n",
    "# comment this out to see the plot in the notebook\n",
    "dev.off()"
   ]
  },
  {
   "cell_type": "markdown",
   "metadata": {},
   "source": [
    "Make sure you have all axis labels set in R notebook before you save your plot. You can adjust width and height when saving your plots.  Here is a reference to png() function:\n",
    "https://stat.ethz.ch/R-manual/R-devel/library/grDevices/html/png.html"
   ]
  },
  {
   "cell_type": "markdown",
   "metadata": {},
   "source": [
    "**Activity:**"
   ]
  },
  {
   "cell_type": "code",
   "execution_count": 2,
   "metadata": {
    "scrolled": false
   },
   "outputs": [
    {
     "data": {
      "text/html": [
       "<table>\n",
       "<caption>A data.frame: 6 × 33</caption>\n",
       "<thead>\n",
       "\t<tr><th scope=col>school</th><th scope=col>sex</th><th scope=col>age</th><th scope=col>address</th><th scope=col>famsize</th><th scope=col>Pstatus</th><th scope=col>Medu</th><th scope=col>Fedu</th><th scope=col>Mjob</th><th scope=col>Fjob</th><th scope=col>⋯</th><th scope=col>famrel</th><th scope=col>freetime</th><th scope=col>goout</th><th scope=col>Dalc</th><th scope=col>Walc</th><th scope=col>health</th><th scope=col>absences</th><th scope=col>G1</th><th scope=col>G2</th><th scope=col>G3</th></tr>\n",
       "\t<tr><th scope=col>&lt;chr&gt;</th><th scope=col>&lt;chr&gt;</th><th scope=col>&lt;int&gt;</th><th scope=col>&lt;chr&gt;</th><th scope=col>&lt;chr&gt;</th><th scope=col>&lt;chr&gt;</th><th scope=col>&lt;int&gt;</th><th scope=col>&lt;int&gt;</th><th scope=col>&lt;chr&gt;</th><th scope=col>&lt;chr&gt;</th><th scope=col>⋯</th><th scope=col>&lt;int&gt;</th><th scope=col>&lt;int&gt;</th><th scope=col>&lt;int&gt;</th><th scope=col>&lt;int&gt;</th><th scope=col>&lt;int&gt;</th><th scope=col>&lt;int&gt;</th><th scope=col>&lt;int&gt;</th><th scope=col>&lt;int&gt;</th><th scope=col>&lt;int&gt;</th><th scope=col>&lt;int&gt;</th></tr>\n",
       "</thead>\n",
       "<tbody>\n",
       "\t<tr><td>GP</td><td>F</td><td>18</td><td>U</td><td>GT3</td><td>A</td><td>4</td><td>4</td><td>at_home </td><td>teacher </td><td>⋯</td><td>4</td><td>3</td><td>4</td><td>1</td><td>1</td><td>3</td><td> 6</td><td> 5</td><td> 6</td><td> 6</td></tr>\n",
       "\t<tr><td>GP</td><td>F</td><td>17</td><td>U</td><td>GT3</td><td>T</td><td>1</td><td>1</td><td>at_home </td><td>other   </td><td>⋯</td><td>5</td><td>3</td><td>3</td><td>1</td><td>1</td><td>3</td><td> 4</td><td> 5</td><td> 5</td><td> 6</td></tr>\n",
       "\t<tr><td>GP</td><td>F</td><td>15</td><td>U</td><td>LE3</td><td>T</td><td>1</td><td>1</td><td>at_home </td><td>other   </td><td>⋯</td><td>4</td><td>3</td><td>2</td><td>2</td><td>3</td><td>3</td><td>10</td><td> 7</td><td> 8</td><td>10</td></tr>\n",
       "\t<tr><td>GP</td><td>F</td><td>15</td><td>U</td><td>GT3</td><td>T</td><td>4</td><td>2</td><td>health  </td><td>services</td><td>⋯</td><td>3</td><td>2</td><td>2</td><td>1</td><td>1</td><td>5</td><td> 2</td><td>15</td><td>14</td><td>15</td></tr>\n",
       "\t<tr><td>GP</td><td>F</td><td>16</td><td>U</td><td>GT3</td><td>T</td><td>3</td><td>3</td><td>other   </td><td>other   </td><td>⋯</td><td>4</td><td>3</td><td>2</td><td>1</td><td>2</td><td>5</td><td> 4</td><td> 6</td><td>10</td><td>10</td></tr>\n",
       "\t<tr><td>GP</td><td>M</td><td>16</td><td>U</td><td>LE3</td><td>T</td><td>4</td><td>3</td><td>services</td><td>other   </td><td>⋯</td><td>5</td><td>4</td><td>2</td><td>1</td><td>2</td><td>5</td><td>10</td><td>15</td><td>15</td><td>15</td></tr>\n",
       "</tbody>\n",
       "</table>\n"
      ],
      "text/latex": [
       "A data.frame: 6 × 33\n",
       "\\begin{tabular}{r|lllllllllllllllllllllllllllllllll}\n",
       " school & sex & age & address & famsize & Pstatus & Medu & Fedu & Mjob & Fjob & reason & guardian & traveltime & studytime & failures & schoolsup & famsup & paid & activities & nursery & higher & internet & romantic & famrel & freetime & goout & Dalc & Walc & health & absences & G1 & G2 & G3\\\\\n",
       " <chr> & <chr> & <int> & <chr> & <chr> & <chr> & <int> & <int> & <chr> & <chr> & <chr> & <chr> & <int> & <int> & <int> & <chr> & <chr> & <chr> & <chr> & <chr> & <chr> & <chr> & <chr> & <int> & <int> & <int> & <int> & <int> & <int> & <int> & <int> & <int> & <int>\\\\\n",
       "\\hline\n",
       "\t GP & F & 18 & U & GT3 & A & 4 & 4 & at\\_home  & teacher  & course     & mother & 2 & 2 & 0 & yes & no  & no  & no  & yes & yes & no  & no  & 4 & 3 & 4 & 1 & 1 & 3 &  6 &  5 &  6 &  6\\\\\n",
       "\t GP & F & 17 & U & GT3 & T & 1 & 1 & at\\_home  & other    & course     & father & 1 & 2 & 0 & no  & yes & no  & no  & no  & yes & yes & no  & 5 & 3 & 3 & 1 & 1 & 3 &  4 &  5 &  5 &  6\\\\\n",
       "\t GP & F & 15 & U & LE3 & T & 1 & 1 & at\\_home  & other    & other      & mother & 1 & 2 & 3 & yes & no  & yes & no  & yes & yes & yes & no  & 4 & 3 & 2 & 2 & 3 & 3 & 10 &  7 &  8 & 10\\\\\n",
       "\t GP & F & 15 & U & GT3 & T & 4 & 2 & health   & services & home       & mother & 1 & 3 & 0 & no  & yes & yes & yes & yes & yes & yes & yes & 3 & 2 & 2 & 1 & 1 & 5 &  2 & 15 & 14 & 15\\\\\n",
       "\t GP & F & 16 & U & GT3 & T & 3 & 3 & other    & other    & home       & father & 1 & 2 & 0 & no  & yes & yes & no  & yes & yes & no  & no  & 4 & 3 & 2 & 1 & 2 & 5 &  4 &  6 & 10 & 10\\\\\n",
       "\t GP & M & 16 & U & LE3 & T & 4 & 3 & services & other    & reputation & mother & 1 & 2 & 0 & no  & yes & yes & yes & yes & yes & yes & no  & 5 & 4 & 2 & 1 & 2 & 5 & 10 & 15 & 15 & 15\\\\\n",
       "\\end{tabular}\n"
      ],
      "text/markdown": [
       "\n",
       "A data.frame: 6 × 33\n",
       "\n",
       "| school &lt;chr&gt; | sex &lt;chr&gt; | age &lt;int&gt; | address &lt;chr&gt; | famsize &lt;chr&gt; | Pstatus &lt;chr&gt; | Medu &lt;int&gt; | Fedu &lt;int&gt; | Mjob &lt;chr&gt; | Fjob &lt;chr&gt; | ⋯ ⋯ | famrel &lt;int&gt; | freetime &lt;int&gt; | goout &lt;int&gt; | Dalc &lt;int&gt; | Walc &lt;int&gt; | health &lt;int&gt; | absences &lt;int&gt; | G1 &lt;int&gt; | G2 &lt;int&gt; | G3 &lt;int&gt; |\n",
       "|---|---|---|---|---|---|---|---|---|---|---|---|---|---|---|---|---|---|---|---|---|\n",
       "| GP | F | 18 | U | GT3 | A | 4 | 4 | at_home  | teacher  | ⋯ | 4 | 3 | 4 | 1 | 1 | 3 |  6 |  5 |  6 |  6 |\n",
       "| GP | F | 17 | U | GT3 | T | 1 | 1 | at_home  | other    | ⋯ | 5 | 3 | 3 | 1 | 1 | 3 |  4 |  5 |  5 |  6 |\n",
       "| GP | F | 15 | U | LE3 | T | 1 | 1 | at_home  | other    | ⋯ | 4 | 3 | 2 | 2 | 3 | 3 | 10 |  7 |  8 | 10 |\n",
       "| GP | F | 15 | U | GT3 | T | 4 | 2 | health   | services | ⋯ | 3 | 2 | 2 | 1 | 1 | 5 |  2 | 15 | 14 | 15 |\n",
       "| GP | F | 16 | U | GT3 | T | 3 | 3 | other    | other    | ⋯ | 4 | 3 | 2 | 1 | 2 | 5 |  4 |  6 | 10 | 10 |\n",
       "| GP | M | 16 | U | LE3 | T | 4 | 3 | services | other    | ⋯ | 5 | 4 | 2 | 1 | 2 | 5 | 10 | 15 | 15 | 15 |\n",
       "\n"
      ],
      "text/plain": [
       "  school sex age address famsize Pstatus Medu Fedu Mjob     Fjob     ⋯ famrel\n",
       "1 GP     F   18  U       GT3     A       4    4    at_home  teacher  ⋯ 4     \n",
       "2 GP     F   17  U       GT3     T       1    1    at_home  other    ⋯ 5     \n",
       "3 GP     F   15  U       LE3     T       1    1    at_home  other    ⋯ 4     \n",
       "4 GP     F   15  U       GT3     T       4    2    health   services ⋯ 3     \n",
       "5 GP     F   16  U       GT3     T       3    3    other    other    ⋯ 4     \n",
       "6 GP     M   16  U       LE3     T       4    3    services other    ⋯ 5     \n",
       "  freetime goout Dalc Walc health absences G1 G2 G3\n",
       "1 3        4     1    1    3       6        5  6  6\n",
       "2 3        3     1    1    3       4        5  5  6\n",
       "3 3        2     2    3    3      10        7  8 10\n",
       "4 2        2     1    1    5       2       15 14 15\n",
       "5 3        2     1    2    5       4        6 10 10\n",
       "6 4        2     1    2    5      10       15 15 15"
      ]
     },
     "metadata": {},
     "output_type": "display_data"
    }
   ],
   "source": [
    "# Read your data here; \n",
    "\n",
    "# Clean it up, reformat it, filter it, sort it, group it, etc.\n",
    "\n",
    "# Create your visualizations and save them as png files, then prepare your final pdf document elsewhere\n",
    "# <- ALL YOUR CODE HERE ->\n",
    "file <- read.csv('/home/jpsvf2/jupyter/student-mat.csv', encoding = 'utf-8', sep = ';', stringsAsFactors = FALSE)\n",
    "head(file)"
   ]
  },
  {
   "cell_type": "code",
   "execution_count": 3,
   "metadata": {
    "scrolled": false
   },
   "outputs": [
    {
     "name": "stderr",
     "output_type": "stream",
     "text": [
      "\n",
      "Attaching package: ‘dplyr’\n",
      "\n",
      "The following objects are masked from ‘package:stats’:\n",
      "\n",
      "    filter, lag\n",
      "\n",
      "The following objects are masked from ‘package:base’:\n",
      "\n",
      "    intersect, setdiff, setequal, union\n",
      "\n",
      "\n",
      "Attaching package: ‘lubridate’\n",
      "\n",
      "The following object is masked from ‘package:base’:\n",
      "\n",
      "    date\n",
      "\n"
     ]
    },
    {
     "data": {
      "text/html": [
       "<ol class=list-inline>\n",
       "\t<li>'school'</li>\n",
       "\t<li>'sex'</li>\n",
       "\t<li>'age'</li>\n",
       "\t<li>'address'</li>\n",
       "\t<li>'famsize'</li>\n",
       "\t<li>'Pstatus'</li>\n",
       "\t<li>'Medu'</li>\n",
       "\t<li>'Fedu'</li>\n",
       "\t<li>'Mjob'</li>\n",
       "\t<li>'Fjob'</li>\n",
       "\t<li>'reason'</li>\n",
       "\t<li>'guardian'</li>\n",
       "\t<li>'traveltime'</li>\n",
       "\t<li>'studytime'</li>\n",
       "\t<li>'failures'</li>\n",
       "\t<li>'schoolsup'</li>\n",
       "\t<li>'famsup'</li>\n",
       "\t<li>'paid'</li>\n",
       "\t<li>'activities'</li>\n",
       "\t<li>'nursery'</li>\n",
       "\t<li>'higher'</li>\n",
       "\t<li>'internet'</li>\n",
       "\t<li>'romantic'</li>\n",
       "\t<li>'famrel'</li>\n",
       "\t<li>'freetime'</li>\n",
       "\t<li>'goout'</li>\n",
       "\t<li>'Dalc'</li>\n",
       "\t<li>'Walc'</li>\n",
       "\t<li>'health'</li>\n",
       "\t<li>'absences'</li>\n",
       "\t<li>'G1'</li>\n",
       "\t<li>'G2'</li>\n",
       "\t<li>'G3'</li>\n",
       "</ol>\n"
      ],
      "text/latex": [
       "\\begin{enumerate*}\n",
       "\\item 'school'\n",
       "\\item 'sex'\n",
       "\\item 'age'\n",
       "\\item 'address'\n",
       "\\item 'famsize'\n",
       "\\item 'Pstatus'\n",
       "\\item 'Medu'\n",
       "\\item 'Fedu'\n",
       "\\item 'Mjob'\n",
       "\\item 'Fjob'\n",
       "\\item 'reason'\n",
       "\\item 'guardian'\n",
       "\\item 'traveltime'\n",
       "\\item 'studytime'\n",
       "\\item 'failures'\n",
       "\\item 'schoolsup'\n",
       "\\item 'famsup'\n",
       "\\item 'paid'\n",
       "\\item 'activities'\n",
       "\\item 'nursery'\n",
       "\\item 'higher'\n",
       "\\item 'internet'\n",
       "\\item 'romantic'\n",
       "\\item 'famrel'\n",
       "\\item 'freetime'\n",
       "\\item 'goout'\n",
       "\\item 'Dalc'\n",
       "\\item 'Walc'\n",
       "\\item 'health'\n",
       "\\item 'absences'\n",
       "\\item 'G1'\n",
       "\\item 'G2'\n",
       "\\item 'G3'\n",
       "\\end{enumerate*}\n"
      ],
      "text/markdown": [
       "1. 'school'\n",
       "2. 'sex'\n",
       "3. 'age'\n",
       "4. 'address'\n",
       "5. 'famsize'\n",
       "6. 'Pstatus'\n",
       "7. 'Medu'\n",
       "8. 'Fedu'\n",
       "9. 'Mjob'\n",
       "10. 'Fjob'\n",
       "11. 'reason'\n",
       "12. 'guardian'\n",
       "13. 'traveltime'\n",
       "14. 'studytime'\n",
       "15. 'failures'\n",
       "16. 'schoolsup'\n",
       "17. 'famsup'\n",
       "18. 'paid'\n",
       "19. 'activities'\n",
       "20. 'nursery'\n",
       "21. 'higher'\n",
       "22. 'internet'\n",
       "23. 'romantic'\n",
       "24. 'famrel'\n",
       "25. 'freetime'\n",
       "26. 'goout'\n",
       "27. 'Dalc'\n",
       "28. 'Walc'\n",
       "29. 'health'\n",
       "30. 'absences'\n",
       "31. 'G1'\n",
       "32. 'G2'\n",
       "33. 'G3'\n",
       "\n",
       "\n"
      ],
      "text/plain": [
       " [1] \"school\"     \"sex\"        \"age\"        \"address\"    \"famsize\"   \n",
       " [6] \"Pstatus\"    \"Medu\"       \"Fedu\"       \"Mjob\"       \"Fjob\"      \n",
       "[11] \"reason\"     \"guardian\"   \"traveltime\" \"studytime\"  \"failures\"  \n",
       "[16] \"schoolsup\"  \"famsup\"     \"paid\"       \"activities\" \"nursery\"   \n",
       "[21] \"higher\"     \"internet\"   \"romantic\"   \"famrel\"     \"freetime\"  \n",
       "[26] \"goout\"      \"Dalc\"       \"Walc\"       \"health\"     \"absences\"  \n",
       "[31] \"G1\"         \"G2\"         \"G3\"        "
      ]
     },
     "metadata": {},
     "output_type": "display_data"
    }
   ],
   "source": [
    "library(dplyr)\n",
    "library(tidyr)\n",
    "library(lubridate)\n",
    "\n",
    "colnames(file)"
   ]
  },
  {
   "cell_type": "code",
   "execution_count": 4,
   "metadata": {},
   "outputs": [
    {
     "data": {
      "text/html": [
       "<table>\n",
       "<caption>A data.frame: 2 × 1</caption>\n",
       "<thead>\n",
       "\t<tr><th scope=col>romantic</th></tr>\n",
       "\t<tr><th scope=col>&lt;chr&gt;</th></tr>\n",
       "</thead>\n",
       "<tbody>\n",
       "\t<tr><td>no </td></tr>\n",
       "\t<tr><td>yes</td></tr>\n",
       "</tbody>\n",
       "</table>\n"
      ],
      "text/latex": [
       "A data.frame: 2 × 1\n",
       "\\begin{tabular}{r|l}\n",
       " romantic\\\\\n",
       " <chr>\\\\\n",
       "\\hline\n",
       "\t no \\\\\n",
       "\t yes\\\\\n",
       "\\end{tabular}\n"
      ],
      "text/markdown": [
       "\n",
       "A data.frame: 2 × 1\n",
       "\n",
       "| romantic &lt;chr&gt; |\n",
       "|---|\n",
       "| no  |\n",
       "| yes |\n",
       "\n"
      ],
      "text/plain": [
       "  romantic\n",
       "1 no      \n",
       "2 yes     "
      ]
     },
     "metadata": {},
     "output_type": "display_data"
    }
   ],
   "source": [
    "distinct(file, romantic)"
   ]
  },
  {
   "cell_type": "code",
   "execution_count": 5,
   "metadata": {},
   "outputs": [
    {
     "data": {
      "text/html": [
       "<table>\n",
       "<caption>A data.frame: 4 × 1</caption>\n",
       "<thead>\n",
       "\t<tr><th scope=col>studytime</th></tr>\n",
       "\t<tr><th scope=col>&lt;int&gt;</th></tr>\n",
       "</thead>\n",
       "<tbody>\n",
       "\t<tr><td>2</td></tr>\n",
       "\t<tr><td>3</td></tr>\n",
       "\t<tr><td>1</td></tr>\n",
       "\t<tr><td>4</td></tr>\n",
       "</tbody>\n",
       "</table>\n"
      ],
      "text/latex": [
       "A data.frame: 4 × 1\n",
       "\\begin{tabular}{r|l}\n",
       " studytime\\\\\n",
       " <int>\\\\\n",
       "\\hline\n",
       "\t 2\\\\\n",
       "\t 3\\\\\n",
       "\t 1\\\\\n",
       "\t 4\\\\\n",
       "\\end{tabular}\n"
      ],
      "text/markdown": [
       "\n",
       "A data.frame: 4 × 1\n",
       "\n",
       "| studytime &lt;int&gt; |\n",
       "|---|\n",
       "| 2 |\n",
       "| 3 |\n",
       "| 1 |\n",
       "| 4 |\n",
       "\n"
      ],
      "text/plain": [
       "  studytime\n",
       "1 2        \n",
       "2 3        \n",
       "3 1        \n",
       "4 4        "
      ]
     },
     "metadata": {},
     "output_type": "display_data"
    }
   ],
   "source": [
    "distinct(file, studytime)"
   ]
  },
  {
   "cell_type": "code",
   "execution_count": 6,
   "metadata": {},
   "outputs": [
    {
     "data": {
      "text/html": [
       "<table>\n",
       "<caption>A data.frame: 2 × 1</caption>\n",
       "<thead>\n",
       "\t<tr><th scope=col>school</th></tr>\n",
       "\t<tr><th scope=col>&lt;chr&gt;</th></tr>\n",
       "</thead>\n",
       "<tbody>\n",
       "\t<tr><td>GP</td></tr>\n",
       "\t<tr><td>MS</td></tr>\n",
       "</tbody>\n",
       "</table>\n"
      ],
      "text/latex": [
       "A data.frame: 2 × 1\n",
       "\\begin{tabular}{r|l}\n",
       " school\\\\\n",
       " <chr>\\\\\n",
       "\\hline\n",
       "\t GP\\\\\n",
       "\t MS\\\\\n",
       "\\end{tabular}\n"
      ],
      "text/markdown": [
       "\n",
       "A data.frame: 2 × 1\n",
       "\n",
       "| school &lt;chr&gt; |\n",
       "|---|\n",
       "| GP |\n",
       "| MS |\n",
       "\n"
      ],
      "text/plain": [
       "  school\n",
       "1 GP    \n",
       "2 MS    "
      ]
     },
     "metadata": {},
     "output_type": "display_data"
    }
   ],
   "source": [
    "distinct(file, school)"
   ]
  },
  {
   "cell_type": "code",
   "execution_count": 7,
   "metadata": {},
   "outputs": [
    {
     "data": {
      "text/html": [
       "<table>\n",
       "<caption>A data.frame: 1 × 7</caption>\n",
       "<thead>\n",
       "\t<tr><th scope=col>Dalc</th><th scope=col>G1</th><th scope=col>G2</th><th scope=col>G3</th><th scope=col>Average.G1</th><th scope=col>Average.G2</th><th scope=col>Average.G3</th></tr>\n",
       "\t<tr><th scope=col>&lt;int&gt;</th><th scope=col>&lt;dbl&gt;</th><th scope=col>&lt;dbl&gt;</th><th scope=col>&lt;dbl&gt;</th><th scope=col>&lt;dbl&gt;</th><th scope=col>&lt;dbl&gt;</th><th scope=col>&lt;dbl&gt;</th></tr>\n",
       "</thead>\n",
       "<tbody>\n",
       "\t<tr><td>1</td><td>5</td><td>6</td><td>6</td><td>11.1558</td><td>10.94928</td><td>10.73188</td></tr>\n",
       "</tbody>\n",
       "</table>\n"
      ],
      "text/latex": [
       "A data.frame: 1 × 7\n",
       "\\begin{tabular}{r|lllllll}\n",
       " Dalc & G1 & G2 & G3 & Average.G1 & Average.G2 & Average.G3\\\\\n",
       " <int> & <dbl> & <dbl> & <dbl> & <dbl> & <dbl> & <dbl>\\\\\n",
       "\\hline\n",
       "\t 1 & 5 & 6 & 6 & 11.1558 & 10.94928 & 10.73188\\\\\n",
       "\\end{tabular}\n"
      ],
      "text/markdown": [
       "\n",
       "A data.frame: 1 × 7\n",
       "\n",
       "| Dalc &lt;int&gt; | G1 &lt;dbl&gt; | G2 &lt;dbl&gt; | G3 &lt;dbl&gt; | Average.G1 &lt;dbl&gt; | Average.G2 &lt;dbl&gt; | Average.G3 &lt;dbl&gt; |\n",
       "|---|---|---|---|---|---|---|\n",
       "| 1 | 5 | 6 | 6 | 11.1558 | 10.94928 | 10.73188 |\n",
       "\n"
      ],
      "text/plain": [
       "  Dalc G1 G2 G3 Average.G1 Average.G2 Average.G3\n",
       "1 1    5  6  6  11.1558    10.94928   10.73188  "
      ]
     },
     "metadata": {},
     "output_type": "display_data"
    },
    {
     "data": {
      "text/html": [
       "<table>\n",
       "<caption>A data.frame: 1 × 7</caption>\n",
       "<thead>\n",
       "\t<tr><th scope=col>Dalc</th><th scope=col>G1</th><th scope=col>G2</th><th scope=col>G3</th><th scope=col>Average.G1</th><th scope=col>Average.G2</th><th scope=col>Average.G3</th></tr>\n",
       "\t<tr><th scope=col>&lt;int&gt;</th><th scope=col>&lt;dbl&gt;</th><th scope=col>&lt;dbl&gt;</th><th scope=col>&lt;dbl&gt;</th><th scope=col>&lt;dbl&gt;</th><th scope=col>&lt;dbl&gt;</th><th scope=col>&lt;dbl&gt;</th></tr>\n",
       "</thead>\n",
       "<tbody>\n",
       "\t<tr><td>2</td><td>7</td><td>8</td><td>10</td><td>10.30667</td><td>10.01333</td><td>9.253333</td></tr>\n",
       "</tbody>\n",
       "</table>\n"
      ],
      "text/latex": [
       "A data.frame: 1 × 7\n",
       "\\begin{tabular}{r|lllllll}\n",
       " Dalc & G1 & G2 & G3 & Average.G1 & Average.G2 & Average.G3\\\\\n",
       " <int> & <dbl> & <dbl> & <dbl> & <dbl> & <dbl> & <dbl>\\\\\n",
       "\\hline\n",
       "\t 2 & 7 & 8 & 10 & 10.30667 & 10.01333 & 9.253333\\\\\n",
       "\\end{tabular}\n"
      ],
      "text/markdown": [
       "\n",
       "A data.frame: 1 × 7\n",
       "\n",
       "| Dalc &lt;int&gt; | G1 &lt;dbl&gt; | G2 &lt;dbl&gt; | G3 &lt;dbl&gt; | Average.G1 &lt;dbl&gt; | Average.G2 &lt;dbl&gt; | Average.G3 &lt;dbl&gt; |\n",
       "|---|---|---|---|---|---|---|\n",
       "| 2 | 7 | 8 | 10 | 10.30667 | 10.01333 | 9.253333 |\n",
       "\n"
      ],
      "text/plain": [
       "  Dalc G1 G2 G3 Average.G1 Average.G2 Average.G3\n",
       "1 2    7  8  10 10.30667   10.01333   9.253333  "
      ]
     },
     "metadata": {},
     "output_type": "display_data"
    },
    {
     "data": {
      "text/html": [
       "<table>\n",
       "<caption>A data.frame: 1 × 7</caption>\n",
       "<thead>\n",
       "\t<tr><th scope=col>Dalc</th><th scope=col>G1</th><th scope=col>G2</th><th scope=col>G3</th><th scope=col>Average.G1</th><th scope=col>Average.G2</th><th scope=col>Average.G3</th></tr>\n",
       "\t<tr><th scope=col>&lt;int&gt;</th><th scope=col>&lt;dbl&gt;</th><th scope=col>&lt;dbl&gt;</th><th scope=col>&lt;dbl&gt;</th><th scope=col>&lt;dbl&gt;</th><th scope=col>&lt;dbl&gt;</th><th scope=col>&lt;dbl&gt;</th></tr>\n",
       "</thead>\n",
       "<tbody>\n",
       "\t<tr><td>3</td><td>9</td><td>11</td><td>12</td><td>10.57692</td><td>10.53846</td><td>10.5</td></tr>\n",
       "</tbody>\n",
       "</table>\n"
      ],
      "text/latex": [
       "A data.frame: 1 × 7\n",
       "\\begin{tabular}{r|lllllll}\n",
       " Dalc & G1 & G2 & G3 & Average.G1 & Average.G2 & Average.G3\\\\\n",
       " <int> & <dbl> & <dbl> & <dbl> & <dbl> & <dbl> & <dbl>\\\\\n",
       "\\hline\n",
       "\t 3 & 9 & 11 & 12 & 10.57692 & 10.53846 & 10.5\\\\\n",
       "\\end{tabular}\n"
      ],
      "text/markdown": [
       "\n",
       "A data.frame: 1 × 7\n",
       "\n",
       "| Dalc &lt;int&gt; | G1 &lt;dbl&gt; | G2 &lt;dbl&gt; | G3 &lt;dbl&gt; | Average.G1 &lt;dbl&gt; | Average.G2 &lt;dbl&gt; | Average.G3 &lt;dbl&gt; |\n",
       "|---|---|---|---|---|---|---|\n",
       "| 3 | 9 | 11 | 12 | 10.57692 | 10.53846 | 10.5 |\n",
       "\n"
      ],
      "text/plain": [
       "  Dalc G1 G2 G3 Average.G1 Average.G2 Average.G3\n",
       "1 3    9  11 12 10.57692   10.53846   10.5      "
      ]
     },
     "metadata": {},
     "output_type": "display_data"
    },
    {
     "data": {
      "text/html": [
       "<table>\n",
       "<caption>A data.frame: 1 × 7</caption>\n",
       "<thead>\n",
       "\t<tr><th scope=col>Dalc</th><th scope=col>G1</th><th scope=col>G2</th><th scope=col>G3</th><th scope=col>Average.G1</th><th scope=col>Average.G2</th><th scope=col>Average.G3</th></tr>\n",
       "\t<tr><th scope=col>&lt;int&gt;</th><th scope=col>&lt;dbl&gt;</th><th scope=col>&lt;dbl&gt;</th><th scope=col>&lt;dbl&gt;</th><th scope=col>&lt;dbl&gt;</th><th scope=col>&lt;dbl&gt;</th><th scope=col>&lt;dbl&gt;</th></tr>\n",
       "</thead>\n",
       "<tbody>\n",
       "\t<tr><td>4</td><td>10</td><td>13</td><td>13</td><td>9.777778</td><td>9.777778</td><td>9.888889</td></tr>\n",
       "</tbody>\n",
       "</table>\n"
      ],
      "text/latex": [
       "A data.frame: 1 × 7\n",
       "\\begin{tabular}{r|lllllll}\n",
       " Dalc & G1 & G2 & G3 & Average.G1 & Average.G2 & Average.G3\\\\\n",
       " <int> & <dbl> & <dbl> & <dbl> & <dbl> & <dbl> & <dbl>\\\\\n",
       "\\hline\n",
       "\t 4 & 10 & 13 & 13 & 9.777778 & 9.777778 & 9.888889\\\\\n",
       "\\end{tabular}\n"
      ],
      "text/markdown": [
       "\n",
       "A data.frame: 1 × 7\n",
       "\n",
       "| Dalc &lt;int&gt; | G1 &lt;dbl&gt; | G2 &lt;dbl&gt; | G3 &lt;dbl&gt; | Average.G1 &lt;dbl&gt; | Average.G2 &lt;dbl&gt; | Average.G3 &lt;dbl&gt; |\n",
       "|---|---|---|---|---|---|---|\n",
       "| 4 | 10 | 13 | 13 | 9.777778 | 9.777778 | 9.888889 |\n",
       "\n"
      ],
      "text/plain": [
       "  Dalc G1 G2 G3 Average.G1 Average.G2 Average.G3\n",
       "1 4    10 13 13 9.777778   9.777778   9.888889  "
      ]
     },
     "metadata": {},
     "output_type": "display_data"
    },
    {
     "data": {
      "text/html": [
       "<table>\n",
       "<caption>A data.frame: 1 × 7</caption>\n",
       "<thead>\n",
       "\t<tr><th scope=col>Dalc</th><th scope=col>G1</th><th scope=col>G2</th><th scope=col>G3</th><th scope=col>Average.G1</th><th scope=col>Average.G2</th><th scope=col>Average.G3</th></tr>\n",
       "\t<tr><th scope=col>&lt;int&gt;</th><th scope=col>&lt;dbl&gt;</th><th scope=col>&lt;dbl&gt;</th><th scope=col>&lt;dbl&gt;</th><th scope=col>&lt;dbl&gt;</th><th scope=col>&lt;dbl&gt;</th><th scope=col>&lt;dbl&gt;</th></tr>\n",
       "</thead>\n",
       "<tbody>\n",
       "\t<tr><td>5</td><td>10</td><td>12</td><td>11</td><td>10.44444</td><td>10.77778</td><td>10.66667</td></tr>\n",
       "</tbody>\n",
       "</table>\n"
      ],
      "text/latex": [
       "A data.frame: 1 × 7\n",
       "\\begin{tabular}{r|lllllll}\n",
       " Dalc & G1 & G2 & G3 & Average.G1 & Average.G2 & Average.G3\\\\\n",
       " <int> & <dbl> & <dbl> & <dbl> & <dbl> & <dbl> & <dbl>\\\\\n",
       "\\hline\n",
       "\t 5 & 10 & 12 & 11 & 10.44444 & 10.77778 & 10.66667\\\\\n",
       "\\end{tabular}\n"
      ],
      "text/markdown": [
       "\n",
       "A data.frame: 1 × 7\n",
       "\n",
       "| Dalc &lt;int&gt; | G1 &lt;dbl&gt; | G2 &lt;dbl&gt; | G3 &lt;dbl&gt; | Average.G1 &lt;dbl&gt; | Average.G2 &lt;dbl&gt; | Average.G3 &lt;dbl&gt; |\n",
       "|---|---|---|---|---|---|---|\n",
       "| 5 | 10 | 12 | 11 | 10.44444 | 10.77778 | 10.66667 |\n",
       "\n"
      ],
      "text/plain": [
       "  Dalc G1 G2 G3 Average.G1 Average.G2 Average.G3\n",
       "1 5    10 12 11 10.44444   10.77778   10.66667  "
      ]
     },
     "metadata": {},
     "output_type": "display_data"
    }
   ],
   "source": [
    "Dalc1_df <- select(file, Dalc, G1, G2, G3) %>% filter(Dalc == 1) %>% transform(G1 = as.numeric(G1)) %>%\n",
    "    transform(G2 = as.numeric(G2)) %>% transform(G3 = as.numeric(G3))\n",
    "Dalc1_df <- Dalc1_df %>% group_by(Dalc) %>% \n",
    "    transform(Avgerage.G1 = summarise(Dalc1_df, Average.G1 = mean(G1, na.rm = T))) %>%\n",
    "    transform(Avgerage.G2 = summarise(Dalc1_df, Average.G2 = mean(G2, na.rm = T))) %>%\n",
    "    transform(Avgerage.G3 = summarise(Dalc1_df, Average.G3 = mean(G3, na.rm = T)))\n",
    "\n",
    "Dalc2_df <- select(file, Dalc, G1, G2, G3) %>% filter(Dalc == 2) %>% transform(G1 = as.numeric(G1)) %>%\n",
    "    transform(G2 = as.numeric(G2)) %>% transform(G3 = as.numeric(G3))\n",
    "Dalc2_df <- Dalc2_df %>% group_by(Dalc) %>% \n",
    "    transform(Avgerage.G1 = summarise(Dalc2_df, Average.G1 = mean(G1, na.rm = T))) %>%\n",
    "    transform(Avgerage.G2 = summarise(Dalc2_df, Average.G2 = mean(G2, na.rm = T))) %>%\n",
    "    transform(Avgerage.G3 = summarise(Dalc2_df, Average.G3 = mean(G3, na.rm = T)))\n",
    "\n",
    "Dalc3_df <- select(file, Dalc, G1, G2, G3) %>% filter(Dalc == 3) %>% transform(G1 = as.numeric(G1)) %>%\n",
    "    transform(G2 = as.numeric(G2)) %>% transform(G3 = as.numeric(G3))\n",
    "Dalc3_df <- Dalc3_df %>% group_by(Dalc) %>% \n",
    "    transform(Avgerage.G1 = summarise(Dalc3_df, Average.G1 = mean(G1, na.rm = T))) %>%\n",
    "    transform(Avgerage.G2 = summarise(Dalc3_df, Average.G2 = mean(G2, na.rm = T))) %>%\n",
    "    transform(Avgerage.G3 = summarise(Dalc3_df, Average.G3 = mean(G3, na.rm = T)))\n",
    "\n",
    "Dalc4_df <- select(file, Dalc, G1, G2, G3) %>% filter(Dalc == 4) %>% transform(G1 = as.numeric(G1)) %>%\n",
    "    transform(G2 = as.numeric(G2)) %>% transform(G3 = as.numeric(G3))\n",
    "Dalc4_df <- Dalc4_df %>% group_by(Dalc) %>% \n",
    "    transform(Avgerage.G1 = summarise(Dalc4_df, Average.G1 = mean(G1, na.rm = T))) %>%\n",
    "    transform(Avgerage.G2 = summarise(Dalc4_df, Average.G2 = mean(G2, na.rm = T))) %>%\n",
    "    transform(Avgerage.G3 = summarise(Dalc4_df, Average.G3 = mean(G3, na.rm = T)))\n",
    "\n",
    "Dalc5_df <- select(file, Dalc, G1, G2, G3) %>% filter(Dalc == 5) %>% transform(G1 = as.numeric(G1)) %>%\n",
    "    transform(G2 = as.numeric(G2)) %>% transform(G3 = as.numeric(G3))\n",
    "Dalc5_df <- Dalc5_df %>% group_by(Dalc) %>% \n",
    "    transform(Avgerage.G1 = summarise(Dalc5_df, Average.G1 = mean(G1, na.rm = T))) %>%\n",
    "    transform(Avgerage.G2 = summarise(Dalc5_df, Average.G2 = mean(G2, na.rm = T))) %>%\n",
    "    transform(Avgerage.G3 = summarise(Dalc5_df, Average.G3 = mean(G3, na.rm = T)))\n",
    "\n",
    "head(Dalc1_df, 1)\n",
    "head(Dalc2_df, 1)\n",
    "head(Dalc3_df, 1)\n",
    "head(Dalc4_df, 1)\n",
    "head(Dalc5_df, 1)"
   ]
  },
  {
   "cell_type": "code",
   "execution_count": 8,
   "metadata": {},
   "outputs": [
    {
     "data": {
      "text/html": [
       "<table>\n",
       "<caption>A data.frame: 1 × 7</caption>\n",
       "<thead>\n",
       "\t<tr><th scope=col>Walc</th><th scope=col>G1</th><th scope=col>G2</th><th scope=col>G3</th><th scope=col>Average.G1</th><th scope=col>Average.G2</th><th scope=col>Average.G3</th></tr>\n",
       "\t<tr><th scope=col>&lt;int&gt;</th><th scope=col>&lt;dbl&gt;</th><th scope=col>&lt;dbl&gt;</th><th scope=col>&lt;dbl&gt;</th><th scope=col>&lt;dbl&gt;</th><th scope=col>&lt;dbl&gt;</th><th scope=col>&lt;dbl&gt;</th></tr>\n",
       "</thead>\n",
       "<tbody>\n",
       "\t<tr><td>1</td><td>5</td><td>6</td><td>6</td><td>11.17881</td><td>11.05298</td><td>10.7351</td></tr>\n",
       "</tbody>\n",
       "</table>\n"
      ],
      "text/latex": [
       "A data.frame: 1 × 7\n",
       "\\begin{tabular}{r|lllllll}\n",
       " Walc & G1 & G2 & G3 & Average.G1 & Average.G2 & Average.G3\\\\\n",
       " <int> & <dbl> & <dbl> & <dbl> & <dbl> & <dbl> & <dbl>\\\\\n",
       "\\hline\n",
       "\t 1 & 5 & 6 & 6 & 11.17881 & 11.05298 & 10.7351\\\\\n",
       "\\end{tabular}\n"
      ],
      "text/markdown": [
       "\n",
       "A data.frame: 1 × 7\n",
       "\n",
       "| Walc &lt;int&gt; | G1 &lt;dbl&gt; | G2 &lt;dbl&gt; | G3 &lt;dbl&gt; | Average.G1 &lt;dbl&gt; | Average.G2 &lt;dbl&gt; | Average.G3 &lt;dbl&gt; |\n",
       "|---|---|---|---|---|---|---|\n",
       "| 1 | 5 | 6 | 6 | 11.17881 | 11.05298 | 10.7351 |\n",
       "\n"
      ],
      "text/plain": [
       "  Walc G1 G2 G3 Average.G1 Average.G2 Average.G3\n",
       "1 1    5  6  6  11.17881   11.05298   10.7351   "
      ]
     },
     "metadata": {},
     "output_type": "display_data"
    },
    {
     "data": {
      "text/html": [
       "<table>\n",
       "<caption>A data.frame: 1 × 7</caption>\n",
       "<thead>\n",
       "\t<tr><th scope=col>Walc</th><th scope=col>G1</th><th scope=col>G2</th><th scope=col>G3</th><th scope=col>Average.G1</th><th scope=col>Average.G2</th><th scope=col>Average.G3</th></tr>\n",
       "\t<tr><th scope=col>&lt;int&gt;</th><th scope=col>&lt;dbl&gt;</th><th scope=col>&lt;dbl&gt;</th><th scope=col>&lt;dbl&gt;</th><th scope=col>&lt;dbl&gt;</th><th scope=col>&lt;dbl&gt;</th><th scope=col>&lt;dbl&gt;</th></tr>\n",
       "</thead>\n",
       "<tbody>\n",
       "\t<tr><td>2</td><td>6</td><td>10</td><td>10</td><td>11.27059</td><td>10.61176</td><td>10.08235</td></tr>\n",
       "</tbody>\n",
       "</table>\n"
      ],
      "text/latex": [
       "A data.frame: 1 × 7\n",
       "\\begin{tabular}{r|lllllll}\n",
       " Walc & G1 & G2 & G3 & Average.G1 & Average.G2 & Average.G3\\\\\n",
       " <int> & <dbl> & <dbl> & <dbl> & <dbl> & <dbl> & <dbl>\\\\\n",
       "\\hline\n",
       "\t 2 & 6 & 10 & 10 & 11.27059 & 10.61176 & 10.08235\\\\\n",
       "\\end{tabular}\n"
      ],
      "text/markdown": [
       "\n",
       "A data.frame: 1 × 7\n",
       "\n",
       "| Walc &lt;int&gt; | G1 &lt;dbl&gt; | G2 &lt;dbl&gt; | G3 &lt;dbl&gt; | Average.G1 &lt;dbl&gt; | Average.G2 &lt;dbl&gt; | Average.G3 &lt;dbl&gt; |\n",
       "|---|---|---|---|---|---|---|\n",
       "| 2 | 6 | 10 | 10 | 11.27059 | 10.61176 | 10.08235 |\n",
       "\n"
      ],
      "text/plain": [
       "  Walc G1 G2 G3 Average.G1 Average.G2 Average.G3\n",
       "1 2    6  10 10 11.27059   10.61176   10.08235  "
      ]
     },
     "metadata": {},
     "output_type": "display_data"
    },
    {
     "data": {
      "text/html": [
       "<table>\n",
       "<caption>A data.frame: 1 × 7</caption>\n",
       "<thead>\n",
       "\t<tr><th scope=col>Walc</th><th scope=col>G1</th><th scope=col>G2</th><th scope=col>G3</th><th scope=col>Average.G1</th><th scope=col>Average.G2</th><th scope=col>Average.G3</th></tr>\n",
       "\t<tr><th scope=col>&lt;int&gt;</th><th scope=col>&lt;dbl&gt;</th><th scope=col>&lt;dbl&gt;</th><th scope=col>&lt;dbl&gt;</th><th scope=col>&lt;dbl&gt;</th><th scope=col>&lt;dbl&gt;</th><th scope=col>&lt;dbl&gt;</th></tr>\n",
       "</thead>\n",
       "<tbody>\n",
       "\t<tr><td>3</td><td>7</td><td>8</td><td>10</td><td>10.9375</td><td>10.9125</td><td>10.725</td></tr>\n",
       "</tbody>\n",
       "</table>\n"
      ],
      "text/latex": [
       "A data.frame: 1 × 7\n",
       "\\begin{tabular}{r|lllllll}\n",
       " Walc & G1 & G2 & G3 & Average.G1 & Average.G2 & Average.G3\\\\\n",
       " <int> & <dbl> & <dbl> & <dbl> & <dbl> & <dbl> & <dbl>\\\\\n",
       "\\hline\n",
       "\t 3 & 7 & 8 & 10 & 10.9375 & 10.9125 & 10.725\\\\\n",
       "\\end{tabular}\n"
      ],
      "text/markdown": [
       "\n",
       "A data.frame: 1 × 7\n",
       "\n",
       "| Walc &lt;int&gt; | G1 &lt;dbl&gt; | G2 &lt;dbl&gt; | G3 &lt;dbl&gt; | Average.G1 &lt;dbl&gt; | Average.G2 &lt;dbl&gt; | Average.G3 &lt;dbl&gt; |\n",
       "|---|---|---|---|---|---|---|\n",
       "| 3 | 7 | 8 | 10 | 10.9375 | 10.9125 | 10.725 |\n",
       "\n"
      ],
      "text/plain": [
       "  Walc G1 G2 G3 Average.G1 Average.G2 Average.G3\n",
       "1 3    7  8  10 10.9375    10.9125    10.725    "
      ]
     },
     "metadata": {},
     "output_type": "display_data"
    },
    {
     "data": {
      "text/html": [
       "<table>\n",
       "<caption>A data.frame: 1 × 7</caption>\n",
       "<thead>\n",
       "\t<tr><th scope=col>Walc</th><th scope=col>G1</th><th scope=col>G2</th><th scope=col>G3</th><th scope=col>Average.G1</th><th scope=col>Average.G2</th><th scope=col>Average.G3</th></tr>\n",
       "\t<tr><th scope=col>&lt;int&gt;</th><th scope=col>&lt;dbl&gt;</th><th scope=col>&lt;dbl&gt;</th><th scope=col>&lt;dbl&gt;</th><th scope=col>&lt;dbl&gt;</th><th scope=col>&lt;dbl&gt;</th><th scope=col>&lt;dbl&gt;</th></tr>\n",
       "</thead>\n",
       "<tbody>\n",
       "\t<tr><td>4</td><td>6</td><td>5</td><td>5</td><td>9.980392</td><td>9.764706</td><td>9.686275</td></tr>\n",
       "</tbody>\n",
       "</table>\n"
      ],
      "text/latex": [
       "A data.frame: 1 × 7\n",
       "\\begin{tabular}{r|lllllll}\n",
       " Walc & G1 & G2 & G3 & Average.G1 & Average.G2 & Average.G3\\\\\n",
       " <int> & <dbl> & <dbl> & <dbl> & <dbl> & <dbl> & <dbl>\\\\\n",
       "\\hline\n",
       "\t 4 & 6 & 5 & 5 & 9.980392 & 9.764706 & 9.686275\\\\\n",
       "\\end{tabular}\n"
      ],
      "text/markdown": [
       "\n",
       "A data.frame: 1 × 7\n",
       "\n",
       "| Walc &lt;int&gt; | G1 &lt;dbl&gt; | G2 &lt;dbl&gt; | G3 &lt;dbl&gt; | Average.G1 &lt;dbl&gt; | Average.G2 &lt;dbl&gt; | Average.G3 &lt;dbl&gt; |\n",
       "|---|---|---|---|---|---|---|\n",
       "| 4 | 6 | 5 | 5 | 9.980392 | 9.764706 | 9.686275 |\n",
       "\n"
      ],
      "text/plain": [
       "  Walc G1 G2 G3 Average.G1 Average.G2 Average.G3\n",
       "1 4    6  5  5  9.980392   9.764706   9.686275  "
      ]
     },
     "metadata": {},
     "output_type": "display_data"
    },
    {
     "data": {
      "text/html": [
       "<table>\n",
       "<caption>A data.frame: 1 × 7</caption>\n",
       "<thead>\n",
       "\t<tr><th scope=col>Walc</th><th scope=col>G1</th><th scope=col>G2</th><th scope=col>G3</th><th scope=col>Average.G1</th><th scope=col>Average.G2</th><th scope=col>Average.G3</th></tr>\n",
       "\t<tr><th scope=col>&lt;int&gt;</th><th scope=col>&lt;dbl&gt;</th><th scope=col>&lt;dbl&gt;</th><th scope=col>&lt;dbl&gt;</th><th scope=col>&lt;dbl&gt;</th><th scope=col>&lt;dbl&gt;</th><th scope=col>&lt;dbl&gt;</th></tr>\n",
       "</thead>\n",
       "<tbody>\n",
       "\t<tr><td>5</td><td>10</td><td>12</td><td>11</td><td>9.964286</td><td>10.35714</td><td>10.14286</td></tr>\n",
       "</tbody>\n",
       "</table>\n"
      ],
      "text/latex": [
       "A data.frame: 1 × 7\n",
       "\\begin{tabular}{r|lllllll}\n",
       " Walc & G1 & G2 & G3 & Average.G1 & Average.G2 & Average.G3\\\\\n",
       " <int> & <dbl> & <dbl> & <dbl> & <dbl> & <dbl> & <dbl>\\\\\n",
       "\\hline\n",
       "\t 5 & 10 & 12 & 11 & 9.964286 & 10.35714 & 10.14286\\\\\n",
       "\\end{tabular}\n"
      ],
      "text/markdown": [
       "\n",
       "A data.frame: 1 × 7\n",
       "\n",
       "| Walc &lt;int&gt; | G1 &lt;dbl&gt; | G2 &lt;dbl&gt; | G3 &lt;dbl&gt; | Average.G1 &lt;dbl&gt; | Average.G2 &lt;dbl&gt; | Average.G3 &lt;dbl&gt; |\n",
       "|---|---|---|---|---|---|---|\n",
       "| 5 | 10 | 12 | 11 | 9.964286 | 10.35714 | 10.14286 |\n",
       "\n"
      ],
      "text/plain": [
       "  Walc G1 G2 G3 Average.G1 Average.G2 Average.G3\n",
       "1 5    10 12 11 9.964286   10.35714   10.14286  "
      ]
     },
     "metadata": {},
     "output_type": "display_data"
    }
   ],
   "source": [
    "Walc1_df <- select(file, Walc, G1, G2, G3) %>% filter(Walc == 1) %>% transform(G1 = as.numeric(G1)) %>%\n",
    "    transform(G2 = as.numeric(G2)) %>% transform(G3 = as.numeric(G3))\n",
    "Walc1_df <- Walc1_df %>% group_by(Walc) %>% \n",
    "    transform(Avgerage.G1 = summarise(Walc1_df, Average.G1 = mean(G1, na.rm = T))) %>%\n",
    "    transform(Avgerage.G2 = summarise(Walc1_df, Average.G2 = mean(G2, na.rm = T))) %>%\n",
    "    transform(Avgerage.G3 = summarise(Walc1_df, Average.G3 = mean(G3, na.rm = T)))\n",
    "\n",
    "Walc2_df <- select(file, Walc, G1, G2, G3) %>% filter(Walc == 2) %>% transform(G1 = as.numeric(G1)) %>%\n",
    "    transform(G2 = as.numeric(G2)) %>% transform(G3 = as.numeric(G3))\n",
    "Walc2_df <- Walc2_df %>% group_by(Walc) %>% \n",
    "    transform(Avgerage.G1 = summarise(Walc2_df, Average.G1 = mean(G1, na.rm = T))) %>%\n",
    "    transform(Avgerage.G2 = summarise(Walc2_df, Average.G2 = mean(G2, na.rm = T))) %>%\n",
    "    transform(Avgerage.G3 = summarise(Walc2_df, Average.G3 = mean(G3, na.rm = T)))\n",
    "\n",
    "Walc3_df <- select(file, Walc, G1, G2, G3) %>% filter(Walc == 3) %>% transform(G1 = as.numeric(G1)) %>%\n",
    "    transform(G2 = as.numeric(G2)) %>% transform(G3 = as.numeric(G3))\n",
    "Walc3_df <- Walc3_df %>% group_by(Walc) %>% \n",
    "    transform(Avgerage.G1 = summarise(Walc3_df, Average.G1 = mean(G1, na.rm = T))) %>%\n",
    "    transform(Avgerage.G2 = summarise(Walc3_df, Average.G2 = mean(G2, na.rm = T))) %>%\n",
    "    transform(Avgerage.G3 = summarise(Walc3_df, Average.G3 = mean(G3, na.rm = T)))\n",
    "\n",
    "Walc4_df <- select(file, Walc, G1, G2, G3) %>% filter(Walc == 4) %>% transform(G1 = as.numeric(G1)) %>%\n",
    "    transform(G2 = as.numeric(G2)) %>% transform(G3 = as.numeric(G3))\n",
    "Walc4_df <- Walc4_df %>% group_by(Walc) %>% \n",
    "    transform(Avgerage.G1 = summarise(Walc4_df, Average.G1 = mean(G1, na.rm = T))) %>%\n",
    "    transform(Avgerage.G2 = summarise(Walc4_df, Average.G2 = mean(G2, na.rm = T))) %>%\n",
    "    transform(Avgerage.G3 = summarise(Walc4_df, Average.G3 = mean(G3, na.rm = T)))\n",
    "\n",
    "Walc5_df <- select(file, Walc, G1, G2, G3) %>% filter(Walc == 5) %>% transform(G1 = as.numeric(G1)) %>%\n",
    "    transform(G2 = as.numeric(G2)) %>% transform(G3 = as.numeric(G3))\n",
    "Walc5_df <- Walc5_df %>% group_by(Walc) %>% \n",
    "    transform(Avgerage.G1 = summarise(Walc5_df, Average.G1 = mean(G1, na.rm = T))) %>%\n",
    "    transform(Avgerage.G2 = summarise(Walc5_df, Average.G2 = mean(G2, na.rm = T))) %>%\n",
    "    transform(Avgerage.G3 = summarise(Walc5_df, Average.G3 = mean(G3, na.rm = T)))\n",
    "\n",
    "head(Walc1_df, 1)\n",
    "head(Walc2_df, 1)\n",
    "head(Walc3_df, 1)\n",
    "head(Walc4_df, 1)\n",
    "head(Walc5_df, 1)"
   ]
  },
  {
   "cell_type": "code",
   "execution_count": 9,
   "metadata": {},
   "outputs": [
    {
     "data": {
      "text/html": [
       "<table>\n",
       "<caption>A data.frame: 1 × 7</caption>\n",
       "<thead>\n",
       "\t<tr><th scope=col>goout</th><th scope=col>G1</th><th scope=col>G2</th><th scope=col>G3</th><th scope=col>Average.G1</th><th scope=col>Average.G2</th><th scope=col>Average.G3</th></tr>\n",
       "\t<tr><th scope=col>&lt;int&gt;</th><th scope=col>&lt;dbl&gt;</th><th scope=col>&lt;dbl&gt;</th><th scope=col>&lt;dbl&gt;</th><th scope=col>&lt;dbl&gt;</th><th scope=col>&lt;dbl&gt;</th><th scope=col>&lt;dbl&gt;</th></tr>\n",
       "</thead>\n",
       "<tbody>\n",
       "\t<tr><td>1</td><td>14</td><td>15</td><td>15</td><td>11.13043</td><td>10.78261</td><td>9.869565</td></tr>\n",
       "</tbody>\n",
       "</table>\n"
      ],
      "text/latex": [
       "A data.frame: 1 × 7\n",
       "\\begin{tabular}{r|lllllll}\n",
       " goout & G1 & G2 & G3 & Average.G1 & Average.G2 & Average.G3\\\\\n",
       " <int> & <dbl> & <dbl> & <dbl> & <dbl> & <dbl> & <dbl>\\\\\n",
       "\\hline\n",
       "\t 1 & 14 & 15 & 15 & 11.13043 & 10.78261 & 9.869565\\\\\n",
       "\\end{tabular}\n"
      ],
      "text/markdown": [
       "\n",
       "A data.frame: 1 × 7\n",
       "\n",
       "| goout &lt;int&gt; | G1 &lt;dbl&gt; | G2 &lt;dbl&gt; | G3 &lt;dbl&gt; | Average.G1 &lt;dbl&gt; | Average.G2 &lt;dbl&gt; | Average.G3 &lt;dbl&gt; |\n",
       "|---|---|---|---|---|---|---|\n",
       "| 1 | 14 | 15 | 15 | 11.13043 | 10.78261 | 9.869565 |\n",
       "\n"
      ],
      "text/plain": [
       "  goout G1 G2 G3 Average.G1 Average.G2 Average.G3\n",
       "1 1     14 15 15 11.13043   10.78261   9.869565  "
      ]
     },
     "metadata": {},
     "output_type": "display_data"
    },
    {
     "data": {
      "text/html": [
       "<table>\n",
       "<caption>A data.frame: 1 × 7</caption>\n",
       "<thead>\n",
       "\t<tr><th scope=col>goout</th><th scope=col>G1</th><th scope=col>G2</th><th scope=col>G3</th><th scope=col>Average.G1</th><th scope=col>Average.G2</th><th scope=col>Average.G3</th></tr>\n",
       "\t<tr><th scope=col>&lt;int&gt;</th><th scope=col>&lt;dbl&gt;</th><th scope=col>&lt;dbl&gt;</th><th scope=col>&lt;dbl&gt;</th><th scope=col>&lt;dbl&gt;</th><th scope=col>&lt;dbl&gt;</th><th scope=col>&lt;dbl&gt;</th></tr>\n",
       "</thead>\n",
       "<tbody>\n",
       "\t<tr><td>2</td><td>7</td><td>8</td><td>10</td><td>11.36893</td><td>11.45631</td><td>11.19417</td></tr>\n",
       "</tbody>\n",
       "</table>\n"
      ],
      "text/latex": [
       "A data.frame: 1 × 7\n",
       "\\begin{tabular}{r|lllllll}\n",
       " goout & G1 & G2 & G3 & Average.G1 & Average.G2 & Average.G3\\\\\n",
       " <int> & <dbl> & <dbl> & <dbl> & <dbl> & <dbl> & <dbl>\\\\\n",
       "\\hline\n",
       "\t 2 & 7 & 8 & 10 & 11.36893 & 11.45631 & 11.19417\\\\\n",
       "\\end{tabular}\n"
      ],
      "text/markdown": [
       "\n",
       "A data.frame: 1 × 7\n",
       "\n",
       "| goout &lt;int&gt; | G1 &lt;dbl&gt; | G2 &lt;dbl&gt; | G3 &lt;dbl&gt; | Average.G1 &lt;dbl&gt; | Average.G2 &lt;dbl&gt; | Average.G3 &lt;dbl&gt; |\n",
       "|---|---|---|---|---|---|---|\n",
       "| 2 | 7 | 8 | 10 | 11.36893 | 11.45631 | 11.19417 |\n",
       "\n"
      ],
      "text/plain": [
       "  goout G1 G2 G3 Average.G1 Average.G2 Average.G3\n",
       "1 2     7  8  10 11.36893   11.45631   11.19417  "
      ]
     },
     "metadata": {},
     "output_type": "display_data"
    },
    {
     "data": {
      "text/html": [
       "<table>\n",
       "<caption>A data.frame: 1 × 7</caption>\n",
       "<thead>\n",
       "\t<tr><th scope=col>goout</th><th scope=col>G1</th><th scope=col>G2</th><th scope=col>G3</th><th scope=col>Average.G1</th><th scope=col>Average.G2</th><th scope=col>Average.G3</th></tr>\n",
       "\t<tr><th scope=col>&lt;int&gt;</th><th scope=col>&lt;dbl&gt;</th><th scope=col>&lt;dbl&gt;</th><th scope=col>&lt;dbl&gt;</th><th scope=col>&lt;dbl&gt;</th><th scope=col>&lt;dbl&gt;</th><th scope=col>&lt;dbl&gt;</th></tr>\n",
       "</thead>\n",
       "<tbody>\n",
       "\t<tr><td>3</td><td>5</td><td>5</td><td>6</td><td>11.27692</td><td>11.05385</td><td>10.96154</td></tr>\n",
       "</tbody>\n",
       "</table>\n"
      ],
      "text/latex": [
       "A data.frame: 1 × 7\n",
       "\\begin{tabular}{r|lllllll}\n",
       " goout & G1 & G2 & G3 & Average.G1 & Average.G2 & Average.G3\\\\\n",
       " <int> & <dbl> & <dbl> & <dbl> & <dbl> & <dbl> & <dbl>\\\\\n",
       "\\hline\n",
       "\t 3 & 5 & 5 & 6 & 11.27692 & 11.05385 & 10.96154\\\\\n",
       "\\end{tabular}\n"
      ],
      "text/markdown": [
       "\n",
       "A data.frame: 1 × 7\n",
       "\n",
       "| goout &lt;int&gt; | G1 &lt;dbl&gt; | G2 &lt;dbl&gt; | G3 &lt;dbl&gt; | Average.G1 &lt;dbl&gt; | Average.G2 &lt;dbl&gt; | Average.G3 &lt;dbl&gt; |\n",
       "|---|---|---|---|---|---|---|\n",
       "| 3 | 5 | 5 | 6 | 11.27692 | 11.05385 | 10.96154 |\n",
       "\n"
      ],
      "text/plain": [
       "  goout G1 G2 G3 Average.G1 Average.G2 Average.G3\n",
       "1 3     5  5  6  11.27692   11.05385   10.96154  "
      ]
     },
     "metadata": {},
     "output_type": "display_data"
    },
    {
     "data": {
      "text/html": [
       "<table>\n",
       "<caption>A data.frame: 1 × 7</caption>\n",
       "<thead>\n",
       "\t<tr><th scope=col>goout</th><th scope=col>G1</th><th scope=col>G2</th><th scope=col>G3</th><th scope=col>Average.G1</th><th scope=col>Average.G2</th><th scope=col>Average.G3</th></tr>\n",
       "\t<tr><th scope=col>&lt;int&gt;</th><th scope=col>&lt;dbl&gt;</th><th scope=col>&lt;dbl&gt;</th><th scope=col>&lt;dbl&gt;</th><th scope=col>&lt;dbl&gt;</th><th scope=col>&lt;dbl&gt;</th><th scope=col>&lt;dbl&gt;</th></tr>\n",
       "</thead>\n",
       "<tbody>\n",
       "\t<tr><td>4</td><td>5</td><td>6</td><td>6</td><td>10.43023</td><td>10.05814</td><td>9.651163</td></tr>\n",
       "</tbody>\n",
       "</table>\n"
      ],
      "text/latex": [
       "A data.frame: 1 × 7\n",
       "\\begin{tabular}{r|lllllll}\n",
       " goout & G1 & G2 & G3 & Average.G1 & Average.G2 & Average.G3\\\\\n",
       " <int> & <dbl> & <dbl> & <dbl> & <dbl> & <dbl> & <dbl>\\\\\n",
       "\\hline\n",
       "\t 4 & 5 & 6 & 6 & 10.43023 & 10.05814 & 9.651163\\\\\n",
       "\\end{tabular}\n"
      ],
      "text/markdown": [
       "\n",
       "A data.frame: 1 × 7\n",
       "\n",
       "| goout &lt;int&gt; | G1 &lt;dbl&gt; | G2 &lt;dbl&gt; | G3 &lt;dbl&gt; | Average.G1 &lt;dbl&gt; | Average.G2 &lt;dbl&gt; | Average.G3 &lt;dbl&gt; |\n",
       "|---|---|---|---|---|---|---|\n",
       "| 4 | 5 | 6 | 6 | 10.43023 | 10.05814 | 9.651163 |\n",
       "\n"
      ],
      "text/plain": [
       "  goout G1 G2 G3 Average.G1 Average.G2 Average.G3\n",
       "1 4     5  6  6  10.43023   10.05814   9.651163  "
      ]
     },
     "metadata": {},
     "output_type": "display_data"
    },
    {
     "data": {
      "text/html": [
       "<table>\n",
       "<caption>A data.frame: 1 × 7</caption>\n",
       "<thead>\n",
       "\t<tr><th scope=col>goout</th><th scope=col>G1</th><th scope=col>G2</th><th scope=col>G3</th><th scope=col>Average.G1</th><th scope=col>Average.G2</th><th scope=col>Average.G3</th></tr>\n",
       "\t<tr><th scope=col>&lt;int&gt;</th><th scope=col>&lt;dbl&gt;</th><th scope=col>&lt;dbl&gt;</th><th scope=col>&lt;dbl&gt;</th><th scope=col>&lt;dbl&gt;</th><th scope=col>&lt;dbl&gt;</th><th scope=col>&lt;dbl&gt;</th></tr>\n",
       "</thead>\n",
       "<tbody>\n",
       "\t<tr><td>5</td><td>6</td><td>5</td><td>5</td><td>9.792453</td><td>9.471698</td><td>9.037736</td></tr>\n",
       "</tbody>\n",
       "</table>\n"
      ],
      "text/latex": [
       "A data.frame: 1 × 7\n",
       "\\begin{tabular}{r|lllllll}\n",
       " goout & G1 & G2 & G3 & Average.G1 & Average.G2 & Average.G3\\\\\n",
       " <int> & <dbl> & <dbl> & <dbl> & <dbl> & <dbl> & <dbl>\\\\\n",
       "\\hline\n",
       "\t 5 & 6 & 5 & 5 & 9.792453 & 9.471698 & 9.037736\\\\\n",
       "\\end{tabular}\n"
      ],
      "text/markdown": [
       "\n",
       "A data.frame: 1 × 7\n",
       "\n",
       "| goout &lt;int&gt; | G1 &lt;dbl&gt; | G2 &lt;dbl&gt; | G3 &lt;dbl&gt; | Average.G1 &lt;dbl&gt; | Average.G2 &lt;dbl&gt; | Average.G3 &lt;dbl&gt; |\n",
       "|---|---|---|---|---|---|---|\n",
       "| 5 | 6 | 5 | 5 | 9.792453 | 9.471698 | 9.037736 |\n",
       "\n"
      ],
      "text/plain": [
       "  goout G1 G2 G3 Average.G1 Average.G2 Average.G3\n",
       "1 5     6  5  5  9.792453   9.471698   9.037736  "
      ]
     },
     "metadata": {},
     "output_type": "display_data"
    }
   ],
   "source": [
    "goout1_df <- select(file, goout, G1, G2, G3) %>% filter(goout == 1) %>% transform(G1 = as.numeric(G1)) %>%\n",
    "    transform(G2 = as.numeric(G2)) %>% transform(G3 = as.numeric(G3))\n",
    "goout1_df <- goout1_df %>% group_by(goout) %>% \n",
    "    transform(Avgerage.G1 = summarise(goout1_df, Average.G1 = mean(G1, na.rm = T))) %>%\n",
    "    transform(Avgerage.G2 = summarise(goout1_df, Average.G2 = mean(G2, na.rm = T))) %>%\n",
    "    transform(Avgerage.G3 = summarise(goout1_df, Average.G3 = mean(G3, na.rm = T)))\n",
    "\n",
    "goout2_df <- select(file, goout, G1, G2, G3) %>% filter(goout == 2) %>% transform(G1 = as.numeric(G1)) %>%\n",
    "    transform(G2 = as.numeric(G2)) %>% transform(G3 = as.numeric(G3))\n",
    "goout2_df <- goout2_df %>% group_by(goout) %>% \n",
    "    transform(Avgerage.G1 = summarise(goout2_df, Average.G1 = mean(G1, na.rm = T))) %>%\n",
    "    transform(Avgerage.G2 = summarise(goout2_df, Average.G2 = mean(G2, na.rm = T))) %>%\n",
    "    transform(Avgerage.G3 = summarise(goout2_df, Average.G3 = mean(G3, na.rm = T)))\n",
    "\n",
    "goout3_df <- select(file, goout, G1, G2, G3) %>% filter(goout == 3) %>% transform(G1 = as.numeric(G1)) %>%\n",
    "    transform(G2 = as.numeric(G2)) %>% transform(G3 = as.numeric(G3))\n",
    "goout3_df <- goout3_df %>% group_by(goout) %>% \n",
    "    transform(Avgerage.G1 = summarise(goout3_df, Average.G1 = mean(G1, na.rm = T))) %>%\n",
    "    transform(Avgerage.G2 = summarise(goout3_df, Average.G2 = mean(G2, na.rm = T))) %>%\n",
    "    transform(Avgerage.G3 = summarise(goout3_df, Average.G3 = mean(G3, na.rm = T)))\n",
    "\n",
    "goout4_df <- select(file, goout, G1, G2, G3) %>% filter(goout == 4) %>% transform(G1 = as.numeric(G1)) %>%\n",
    "    transform(G2 = as.numeric(G2)) %>% transform(G3 = as.numeric(G3))\n",
    "goout4_df <- goout4_df %>% group_by(goout) %>% \n",
    "    transform(Avgerage.G1 = summarise(goout4_df, Average.G1 = mean(G1, na.rm = T))) %>%\n",
    "    transform(Avgerage.G2 = summarise(goout4_df, Average.G2 = mean(G2, na.rm = T))) %>%\n",
    "    transform(Avgerage.G3 = summarise(goout4_df, Average.G3 = mean(G3, na.rm = T)))\n",
    "\n",
    "goout5_df <- select(file, goout, G1, G2, G3) %>% filter(goout == 5) %>% transform(G1 = as.numeric(G1)) %>%\n",
    "    transform(G2 = as.numeric(G2)) %>% transform(G3 = as.numeric(G3))\n",
    "goout5_df <- goout5_df %>% group_by(goout) %>% \n",
    "    transform(Avgerage.G1 = summarise(goout5_df, Average.G1 = mean(G1, na.rm = T))) %>%\n",
    "    transform(Avgerage.G2 = summarise(goout5_df, Average.G2 = mean(G2, na.rm = T))) %>%\n",
    "    transform(Avgerage.G3 = summarise(goout5_df, Average.G3 = mean(G3, na.rm = T)))\n",
    "\n",
    "head(goout1_df, 1)\n",
    "head(goout2_df, 1)\n",
    "head(goout3_df, 1)\n",
    "head(goout4_df, 1)\n",
    "head(goout5_df, 1)"
   ]
  },
  {
   "cell_type": "code",
   "execution_count": 10,
   "metadata": {},
   "outputs": [
    {
     "data": {
      "text/html": [
       "<table>\n",
       "<caption>A data.frame: 1 × 7</caption>\n",
       "<thead>\n",
       "\t<tr><th scope=col>studytime</th><th scope=col>G1</th><th scope=col>G2</th><th scope=col>G3</th><th scope=col>Average.G1</th><th scope=col>Average.G2</th><th scope=col>Average.G3</th></tr>\n",
       "\t<tr><th scope=col>&lt;int&gt;</th><th scope=col>&lt;dbl&gt;</th><th scope=col>&lt;dbl&gt;</th><th scope=col>&lt;dbl&gt;</th><th scope=col>&lt;dbl&gt;</th><th scope=col>&lt;dbl&gt;</th><th scope=col>&lt;dbl&gt;</th></tr>\n",
       "</thead>\n",
       "<tbody>\n",
       "\t<tr><td>1</td><td>14</td><td>14</td><td>14</td><td>10.4381</td><td>10.27619</td><td>10.04762</td></tr>\n",
       "</tbody>\n",
       "</table>\n"
      ],
      "text/latex": [
       "A data.frame: 1 × 7\n",
       "\\begin{tabular}{r|lllllll}\n",
       " studytime & G1 & G2 & G3 & Average.G1 & Average.G2 & Average.G3\\\\\n",
       " <int> & <dbl> & <dbl> & <dbl> & <dbl> & <dbl> & <dbl>\\\\\n",
       "\\hline\n",
       "\t 1 & 14 & 14 & 14 & 10.4381 & 10.27619 & 10.04762\\\\\n",
       "\\end{tabular}\n"
      ],
      "text/markdown": [
       "\n",
       "A data.frame: 1 × 7\n",
       "\n",
       "| studytime &lt;int&gt; | G1 &lt;dbl&gt; | G2 &lt;dbl&gt; | G3 &lt;dbl&gt; | Average.G1 &lt;dbl&gt; | Average.G2 &lt;dbl&gt; | Average.G3 &lt;dbl&gt; |\n",
       "|---|---|---|---|---|---|---|\n",
       "| 1 | 14 | 14 | 14 | 10.4381 | 10.27619 | 10.04762 |\n",
       "\n"
      ],
      "text/plain": [
       "  studytime G1 G2 G3 Average.G1 Average.G2 Average.G3\n",
       "1 1         14 14 14 10.4381    10.27619   10.04762  "
      ]
     },
     "metadata": {},
     "output_type": "display_data"
    },
    {
     "data": {
      "text/html": [
       "<table>\n",
       "<caption>A data.frame: 1 × 7</caption>\n",
       "<thead>\n",
       "\t<tr><th scope=col>studytime</th><th scope=col>G1</th><th scope=col>G2</th><th scope=col>G3</th><th scope=col>Average.G1</th><th scope=col>Average.G2</th><th scope=col>Average.G3</th></tr>\n",
       "\t<tr><th scope=col>&lt;int&gt;</th><th scope=col>&lt;dbl&gt;</th><th scope=col>&lt;dbl&gt;</th><th scope=col>&lt;dbl&gt;</th><th scope=col>&lt;dbl&gt;</th><th scope=col>&lt;dbl&gt;</th><th scope=col>&lt;dbl&gt;</th></tr>\n",
       "</thead>\n",
       "<tbody>\n",
       "\t<tr><td>2</td><td>5</td><td>6</td><td>6</td><td>10.65152</td><td>10.50505</td><td>10.17172</td></tr>\n",
       "</tbody>\n",
       "</table>\n"
      ],
      "text/latex": [
       "A data.frame: 1 × 7\n",
       "\\begin{tabular}{r|lllllll}\n",
       " studytime & G1 & G2 & G3 & Average.G1 & Average.G2 & Average.G3\\\\\n",
       " <int> & <dbl> & <dbl> & <dbl> & <dbl> & <dbl> & <dbl>\\\\\n",
       "\\hline\n",
       "\t 2 & 5 & 6 & 6 & 10.65152 & 10.50505 & 10.17172\\\\\n",
       "\\end{tabular}\n"
      ],
      "text/markdown": [
       "\n",
       "A data.frame: 1 × 7\n",
       "\n",
       "| studytime &lt;int&gt; | G1 &lt;dbl&gt; | G2 &lt;dbl&gt; | G3 &lt;dbl&gt; | Average.G1 &lt;dbl&gt; | Average.G2 &lt;dbl&gt; | Average.G3 &lt;dbl&gt; |\n",
       "|---|---|---|---|---|---|---|\n",
       "| 2 | 5 | 6 | 6 | 10.65152 | 10.50505 | 10.17172 |\n",
       "\n"
      ],
      "text/plain": [
       "  studytime G1 G2 G3 Average.G1 Average.G2 Average.G3\n",
       "1 2         5  6  6  10.65152   10.50505   10.17172  "
      ]
     },
     "metadata": {},
     "output_type": "display_data"
    },
    {
     "data": {
      "text/html": [
       "<table>\n",
       "<caption>A data.frame: 1 × 7</caption>\n",
       "<thead>\n",
       "\t<tr><th scope=col>studytime</th><th scope=col>G1</th><th scope=col>G2</th><th scope=col>G3</th><th scope=col>Average.G1</th><th scope=col>Average.G2</th><th scope=col>Average.G3</th></tr>\n",
       "\t<tr><th scope=col>&lt;int&gt;</th><th scope=col>&lt;dbl&gt;</th><th scope=col>&lt;dbl&gt;</th><th scope=col>&lt;dbl&gt;</th><th scope=col>&lt;dbl&gt;</th><th scope=col>&lt;dbl&gt;</th><th scope=col>&lt;dbl&gt;</th></tr>\n",
       "</thead>\n",
       "<tbody>\n",
       "\t<tr><td>3</td><td>15</td><td>14</td><td>15</td><td>12.04615</td><td>11.50769</td><td>11.4</td></tr>\n",
       "</tbody>\n",
       "</table>\n"
      ],
      "text/latex": [
       "A data.frame: 1 × 7\n",
       "\\begin{tabular}{r|lllllll}\n",
       " studytime & G1 & G2 & G3 & Average.G1 & Average.G2 & Average.G3\\\\\n",
       " <int> & <dbl> & <dbl> & <dbl> & <dbl> & <dbl> & <dbl>\\\\\n",
       "\\hline\n",
       "\t 3 & 15 & 14 & 15 & 12.04615 & 11.50769 & 11.4\\\\\n",
       "\\end{tabular}\n"
      ],
      "text/markdown": [
       "\n",
       "A data.frame: 1 × 7\n",
       "\n",
       "| studytime &lt;int&gt; | G1 &lt;dbl&gt; | G2 &lt;dbl&gt; | G3 &lt;dbl&gt; | Average.G1 &lt;dbl&gt; | Average.G2 &lt;dbl&gt; | Average.G3 &lt;dbl&gt; |\n",
       "|---|---|---|---|---|---|---|\n",
       "| 3 | 15 | 14 | 15 | 12.04615 | 11.50769 | 11.4 |\n",
       "\n"
      ],
      "text/plain": [
       "  studytime G1 G2 G3 Average.G1 Average.G2 Average.G3\n",
       "1 3         15 14 15 12.04615   11.50769   11.4      "
      ]
     },
     "metadata": {},
     "output_type": "display_data"
    },
    {
     "data": {
      "text/html": [
       "<table>\n",
       "<caption>A data.frame: 1 × 7</caption>\n",
       "<thead>\n",
       "\t<tr><th scope=col>studytime</th><th scope=col>G1</th><th scope=col>G2</th><th scope=col>G3</th><th scope=col>Average.G1</th><th scope=col>Average.G2</th><th scope=col>Average.G3</th></tr>\n",
       "\t<tr><th scope=col>&lt;int&gt;</th><th scope=col>&lt;dbl&gt;</th><th scope=col>&lt;dbl&gt;</th><th scope=col>&lt;dbl&gt;</th><th scope=col>&lt;dbl&gt;</th><th scope=col>&lt;dbl&gt;</th><th scope=col>&lt;dbl&gt;</th></tr>\n",
       "</thead>\n",
       "<tbody>\n",
       "\t<tr><td>4</td><td>19</td><td>19</td><td>20</td><td>11.88889</td><td>12.03704</td><td>11.25926</td></tr>\n",
       "</tbody>\n",
       "</table>\n"
      ],
      "text/latex": [
       "A data.frame: 1 × 7\n",
       "\\begin{tabular}{r|lllllll}\n",
       " studytime & G1 & G2 & G3 & Average.G1 & Average.G2 & Average.G3\\\\\n",
       " <int> & <dbl> & <dbl> & <dbl> & <dbl> & <dbl> & <dbl>\\\\\n",
       "\\hline\n",
       "\t 4 & 19 & 19 & 20 & 11.88889 & 12.03704 & 11.25926\\\\\n",
       "\\end{tabular}\n"
      ],
      "text/markdown": [
       "\n",
       "A data.frame: 1 × 7\n",
       "\n",
       "| studytime &lt;int&gt; | G1 &lt;dbl&gt; | G2 &lt;dbl&gt; | G3 &lt;dbl&gt; | Average.G1 &lt;dbl&gt; | Average.G2 &lt;dbl&gt; | Average.G3 &lt;dbl&gt; |\n",
       "|---|---|---|---|---|---|---|\n",
       "| 4 | 19 | 19 | 20 | 11.88889 | 12.03704 | 11.25926 |\n",
       "\n"
      ],
      "text/plain": [
       "  studytime G1 G2 G3 Average.G1 Average.G2 Average.G3\n",
       "1 4         19 19 20 11.88889   12.03704   11.25926  "
      ]
     },
     "metadata": {},
     "output_type": "display_data"
    }
   ],
   "source": [
    "studytime1_df <- select(file, studytime, G1, G2, G3) %>% filter(studytime == 1) %>% transform(G1 = as.numeric(G1)) %>%\n",
    "    transform(G2 = as.numeric(G2)) %>% transform(G3 = as.numeric(G3))\n",
    "studytime1_df <- studytime1_df %>% group_by(studytime) %>% \n",
    "    transform(Avgerage.G1 = summarise(studytime1_df, Average.G1 = mean(G1, na.rm = T))) %>%\n",
    "    transform(Avgerage.G2 = summarise(studytime1_df, Average.G2 = mean(G2, na.rm = T))) %>%\n",
    "    transform(Avgerage.G3 = summarise(studytime1_df, Average.G3 = mean(G3, na.rm = T)))\n",
    "\n",
    "studytime2_df <- select(file, studytime, G1, G2, G3) %>% filter(studytime == 2) %>% transform(G1 = as.numeric(G1)) %>%\n",
    "    transform(G2 = as.numeric(G2)) %>% transform(G3 = as.numeric(G3))\n",
    "studytime2_df <- studytime2_df %>% group_by(studytime) %>% \n",
    "    transform(Avgerage.G1 = summarise(studytime2_df, Average.G1 = mean(G1, na.rm = T))) %>%\n",
    "    transform(Avgerage.G2 = summarise(studytime2_df, Average.G2 = mean(G2, na.rm = T))) %>%\n",
    "    transform(Avgerage.G3 = summarise(studytime2_df, Average.G3 = mean(G3, na.rm = T)))\n",
    "\n",
    "studytime3_df <- select(file, studytime, G1, G2, G3) %>% filter(studytime == 3) %>% transform(G1 = as.numeric(G1)) %>%\n",
    "    transform(G2 = as.numeric(G2)) %>% transform(G3 = as.numeric(G3))\n",
    "studytime3_df <- studytime3_df %>% group_by(studytime) %>% \n",
    "    transform(Avgerage.G1 = summarise(studytime3_df, Average.G1 = mean(G1, na.rm = T))) %>%\n",
    "    transform(Avgerage.G2 = summarise(studytime3_df, Average.G2 = mean(G2, na.rm = T))) %>%\n",
    "    transform(Avgerage.G3 = summarise(studytime3_df, Average.G3 = mean(G3, na.rm = T)))\n",
    "\n",
    "studytime4_df <- select(file, studytime, G1, G2, G3) %>% filter(studytime == 4) %>% transform(G1 = as.numeric(G1)) %>%\n",
    "    transform(G2 = as.numeric(G2)) %>% transform(G3 = as.numeric(G3))\n",
    "studytime4_df <- studytime4_df %>% group_by(studytime) %>% \n",
    "    transform(Avgerage.G1 = summarise(studytime4_df, Average.G1 = mean(G1, na.rm = T))) %>%\n",
    "    transform(Avgerage.G2 = summarise(studytime4_df, Average.G2 = mean(G2, na.rm = T))) %>%\n",
    "    transform(Avgerage.G3 = summarise(studytime4_df, Average.G3 = mean(G3, na.rm = T)))\n",
    "\n",
    "head(studytime1_df, 1)\n",
    "head(studytime2_df, 1)\n",
    "head(studytime3_df, 1)\n",
    "head(studytime4_df, 1)\n"
   ]
  },
  {
   "cell_type": "code",
   "execution_count": 11,
   "metadata": {},
   "outputs": [
    {
     "data": {
      "text/html": [
       "<table>\n",
       "<caption>A data.frame: 1 × 7</caption>\n",
       "<thead>\n",
       "\t<tr><th scope=col>romantic</th><th scope=col>G1</th><th scope=col>G2</th><th scope=col>G3</th><th scope=col>Average.G1</th><th scope=col>Average.G2</th><th scope=col>Average.G3</th></tr>\n",
       "\t<tr><th scope=col>&lt;chr&gt;</th><th scope=col>&lt;dbl&gt;</th><th scope=col>&lt;dbl&gt;</th><th scope=col>&lt;dbl&gt;</th><th scope=col>&lt;dbl&gt;</th><th scope=col>&lt;dbl&gt;</th><th scope=col>&lt;dbl&gt;</th></tr>\n",
       "</thead>\n",
       "<tbody>\n",
       "\t<tr><td>yes</td><td>15</td><td>14</td><td>15</td><td>10.73485</td><td>10.12121</td><td>9.575758</td></tr>\n",
       "</tbody>\n",
       "</table>\n"
      ],
      "text/latex": [
       "A data.frame: 1 × 7\n",
       "\\begin{tabular}{r|lllllll}\n",
       " romantic & G1 & G2 & G3 & Average.G1 & Average.G2 & Average.G3\\\\\n",
       " <chr> & <dbl> & <dbl> & <dbl> & <dbl> & <dbl> & <dbl>\\\\\n",
       "\\hline\n",
       "\t yes & 15 & 14 & 15 & 10.73485 & 10.12121 & 9.575758\\\\\n",
       "\\end{tabular}\n"
      ],
      "text/markdown": [
       "\n",
       "A data.frame: 1 × 7\n",
       "\n",
       "| romantic &lt;chr&gt; | G1 &lt;dbl&gt; | G2 &lt;dbl&gt; | G3 &lt;dbl&gt; | Average.G1 &lt;dbl&gt; | Average.G2 &lt;dbl&gt; | Average.G3 &lt;dbl&gt; |\n",
       "|---|---|---|---|---|---|---|\n",
       "| yes | 15 | 14 | 15 | 10.73485 | 10.12121 | 9.575758 |\n",
       "\n"
      ],
      "text/plain": [
       "  romantic G1 G2 G3 Average.G1 Average.G2 Average.G3\n",
       "1 yes      15 14 15 10.73485   10.12121   9.575758  "
      ]
     },
     "metadata": {},
     "output_type": "display_data"
    },
    {
     "data": {
      "text/html": [
       "<table>\n",
       "<caption>A data.frame: 1 × 7</caption>\n",
       "<thead>\n",
       "\t<tr><th scope=col>romantic</th><th scope=col>G1</th><th scope=col>G2</th><th scope=col>G3</th><th scope=col>Average.G1</th><th scope=col>Average.G2</th><th scope=col>Average.G3</th></tr>\n",
       "\t<tr><th scope=col>&lt;chr&gt;</th><th scope=col>&lt;dbl&gt;</th><th scope=col>&lt;dbl&gt;</th><th scope=col>&lt;dbl&gt;</th><th scope=col>&lt;dbl&gt;</th><th scope=col>&lt;dbl&gt;</th><th scope=col>&lt;dbl&gt;</th></tr>\n",
       "</thead>\n",
       "<tbody>\n",
       "\t<tr><td>no</td><td>5</td><td>6</td><td>6</td><td>10.9962</td><td>11.01141</td><td>10.8365</td></tr>\n",
       "</tbody>\n",
       "</table>\n"
      ],
      "text/latex": [
       "A data.frame: 1 × 7\n",
       "\\begin{tabular}{r|lllllll}\n",
       " romantic & G1 & G2 & G3 & Average.G1 & Average.G2 & Average.G3\\\\\n",
       " <chr> & <dbl> & <dbl> & <dbl> & <dbl> & <dbl> & <dbl>\\\\\n",
       "\\hline\n",
       "\t no & 5 & 6 & 6 & 10.9962 & 11.01141 & 10.8365\\\\\n",
       "\\end{tabular}\n"
      ],
      "text/markdown": [
       "\n",
       "A data.frame: 1 × 7\n",
       "\n",
       "| romantic &lt;chr&gt; | G1 &lt;dbl&gt; | G2 &lt;dbl&gt; | G3 &lt;dbl&gt; | Average.G1 &lt;dbl&gt; | Average.G2 &lt;dbl&gt; | Average.G3 &lt;dbl&gt; |\n",
       "|---|---|---|---|---|---|---|\n",
       "| no | 5 | 6 | 6 | 10.9962 | 11.01141 | 10.8365 |\n",
       "\n"
      ],
      "text/plain": [
       "  romantic G1 G2 G3 Average.G1 Average.G2 Average.G3\n",
       "1 no       5  6  6  10.9962    11.01141   10.8365   "
      ]
     },
     "metadata": {},
     "output_type": "display_data"
    }
   ],
   "source": [
    "romanticy_df <- select(file, romantic, G1, G2, G3) %>% filter(romantic == 'yes') %>% transform(G1 = as.numeric(G1)) %>%\n",
    "    transform(G2 = as.numeric(G2)) %>% transform(G3 = as.numeric(G3))\n",
    "romanticy_df <- romanticy_df %>% group_by(romantic) %>% \n",
    "    transform(Avgerage.G1 = summarise(romanticy_df, Average.G1 = mean(G1, na.rm = T))) %>%\n",
    "    transform(Avgerage.G2 = summarise(romanticy_df, Average.G2 = mean(G2, na.rm = T))) %>%\n",
    "    transform(Avgerage.G3 = summarise(romanticy_df, Average.G3 = mean(G3, na.rm = T)))\n",
    "\n",
    "romanticn_df <- select(file, romantic, G1, G2, G3) %>% filter(romantic == 'no') %>% transform(G1 = as.numeric(G1)) %>%\n",
    "    transform(G2 = as.numeric(G2)) %>% transform(G3 = as.numeric(G3))\n",
    "romanticn_df <- romanticn_df %>% group_by(romantic) %>% \n",
    "    transform(Avgerage.G1 = summarise(romanticn_df, Average.G1 = mean(G1, na.rm = T))) %>%\n",
    "    transform(Avgerage.G2 = summarise(romanticn_df, Average.G2 = mean(G2, na.rm = T))) %>%\n",
    "    transform(Avgerage.G3 = summarise(romanticn_df, Average.G3 = mean(G3, na.rm = T)))\n",
    "\n",
    "head(romanticy_df, 1)\n",
    "head(romanticn_df, 1)"
   ]
  },
  {
   "cell_type": "code",
   "execution_count": 12,
   "metadata": {},
   "outputs": [
    {
     "data": {
      "text/html": [
       "<table>\n",
       "<caption>A data.frame: 1 × 7</caption>\n",
       "<thead>\n",
       "\t<tr><th scope=col>internet</th><th scope=col>G1</th><th scope=col>G2</th><th scope=col>G3</th><th scope=col>Average.G1</th><th scope=col>Average.G2</th><th scope=col>Average.G3</th></tr>\n",
       "\t<tr><th scope=col>&lt;chr&gt;</th><th scope=col>&lt;dbl&gt;</th><th scope=col>&lt;dbl&gt;</th><th scope=col>&lt;dbl&gt;</th><th scope=col>&lt;dbl&gt;</th><th scope=col>&lt;dbl&gt;</th><th scope=col>&lt;dbl&gt;</th></tr>\n",
       "</thead>\n",
       "<tbody>\n",
       "\t<tr><td>yes</td><td>5</td><td>5</td><td>6</td><td>11.0152</td><td>10.91489</td><td>10.61702</td></tr>\n",
       "</tbody>\n",
       "</table>\n"
      ],
      "text/latex": [
       "A data.frame: 1 × 7\n",
       "\\begin{tabular}{r|lllllll}\n",
       " internet & G1 & G2 & G3 & Average.G1 & Average.G2 & Average.G3\\\\\n",
       " <chr> & <dbl> & <dbl> & <dbl> & <dbl> & <dbl> & <dbl>\\\\\n",
       "\\hline\n",
       "\t yes & 5 & 5 & 6 & 11.0152 & 10.91489 & 10.61702\\\\\n",
       "\\end{tabular}\n"
      ],
      "text/markdown": [
       "\n",
       "A data.frame: 1 × 7\n",
       "\n",
       "| internet &lt;chr&gt; | G1 &lt;dbl&gt; | G2 &lt;dbl&gt; | G3 &lt;dbl&gt; | Average.G1 &lt;dbl&gt; | Average.G2 &lt;dbl&gt; | Average.G3 &lt;dbl&gt; |\n",
       "|---|---|---|---|---|---|---|\n",
       "| yes | 5 | 5 | 6 | 11.0152 | 10.91489 | 10.61702 |\n",
       "\n"
      ],
      "text/plain": [
       "  internet G1 G2 G3 Average.G1 Average.G2 Average.G3\n",
       "1 yes      5  5  6  11.0152    10.91489   10.61702  "
      ]
     },
     "metadata": {},
     "output_type": "display_data"
    },
    {
     "data": {
      "text/html": [
       "<table>\n",
       "<caption>A data.frame: 1 × 7</caption>\n",
       "<thead>\n",
       "\t<tr><th scope=col>internet</th><th scope=col>G1</th><th scope=col>G2</th><th scope=col>G3</th><th scope=col>Average.G1</th><th scope=col>Average.G2</th><th scope=col>Average.G3</th></tr>\n",
       "\t<tr><th scope=col>&lt;chr&gt;</th><th scope=col>&lt;dbl&gt;</th><th scope=col>&lt;dbl&gt;</th><th scope=col>&lt;dbl&gt;</th><th scope=col>&lt;dbl&gt;</th><th scope=col>&lt;dbl&gt;</th><th scope=col>&lt;dbl&gt;</th></tr>\n",
       "</thead>\n",
       "<tbody>\n",
       "\t<tr><td>no</td><td>5</td><td>6</td><td>6</td><td>10.37879</td><td>9.712121</td><td>9.409091</td></tr>\n",
       "</tbody>\n",
       "</table>\n"
      ],
      "text/latex": [
       "A data.frame: 1 × 7\n",
       "\\begin{tabular}{r|lllllll}\n",
       " internet & G1 & G2 & G3 & Average.G1 & Average.G2 & Average.G3\\\\\n",
       " <chr> & <dbl> & <dbl> & <dbl> & <dbl> & <dbl> & <dbl>\\\\\n",
       "\\hline\n",
       "\t no & 5 & 6 & 6 & 10.37879 & 9.712121 & 9.409091\\\\\n",
       "\\end{tabular}\n"
      ],
      "text/markdown": [
       "\n",
       "A data.frame: 1 × 7\n",
       "\n",
       "| internet &lt;chr&gt; | G1 &lt;dbl&gt; | G2 &lt;dbl&gt; | G3 &lt;dbl&gt; | Average.G1 &lt;dbl&gt; | Average.G2 &lt;dbl&gt; | Average.G3 &lt;dbl&gt; |\n",
       "|---|---|---|---|---|---|---|\n",
       "| no | 5 | 6 | 6 | 10.37879 | 9.712121 | 9.409091 |\n",
       "\n"
      ],
      "text/plain": [
       "  internet G1 G2 G3 Average.G1 Average.G2 Average.G3\n",
       "1 no       5  6  6  10.37879   9.712121   9.409091  "
      ]
     },
     "metadata": {},
     "output_type": "display_data"
    }
   ],
   "source": [
    "internety_df <- select(file, internet, G1, G2, G3) %>% filter(internet == 'yes') %>% transform(G1 = as.numeric(G1)) %>%\n",
    "    transform(G2 = as.numeric(G2)) %>% transform(G3 = as.numeric(G3))\n",
    "internety_df <- internety_df %>% group_by(internet) %>% \n",
    "    transform(Avgerage.G1 = summarise(internety_df, Average.G1 = mean(G1, na.rm = T))) %>%\n",
    "    transform(Avgerage.G2 = summarise(internety_df, Average.G2 = mean(G2, na.rm = T))) %>%\n",
    "    transform(Avgerage.G3 = summarise(internety_df, Average.G3 = mean(G3, na.rm = T)))\n",
    "\n",
    "internetn_df <- select(file, internet, G1, G2, G3) %>% filter(internet == 'no') %>% transform(G1 = as.numeric(G1)) %>%\n",
    "    transform(G2 = as.numeric(G2)) %>% transform(G3 = as.numeric(G3))\n",
    "internetn_df <- internetn_df %>% group_by(internet) %>% \n",
    "    transform(Avgerage.G1 = summarise(internetn_df, Average.G1 = mean(G1, na.rm = T))) %>%\n",
    "    transform(Avgerage.G2 = summarise(internetn_df, Average.G2 = mean(G2, na.rm = T))) %>%\n",
    "    transform(Avgerage.G3 = summarise(internetn_df, Average.G3 = mean(G3, na.rm = T)))\n",
    "\n",
    "head(internety_df, 1)\n",
    "head(internetn_df, 1)"
   ]
  },
  {
   "cell_type": "code",
   "execution_count": 13,
   "metadata": {},
   "outputs": [
    {
     "data": {
      "text/html": [
       "<table>\n",
       "<caption>A data.frame: 1 × 7</caption>\n",
       "<thead>\n",
       "\t<tr><th scope=col>activities</th><th scope=col>G1</th><th scope=col>G2</th><th scope=col>G3</th><th scope=col>Average.G1</th><th scope=col>Average.G2</th><th scope=col>Average.G3</th></tr>\n",
       "\t<tr><th scope=col>&lt;chr&gt;</th><th scope=col>&lt;dbl&gt;</th><th scope=col>&lt;dbl&gt;</th><th scope=col>&lt;dbl&gt;</th><th scope=col>&lt;dbl&gt;</th><th scope=col>&lt;dbl&gt;</th><th scope=col>&lt;dbl&gt;</th></tr>\n",
       "</thead>\n",
       "<tbody>\n",
       "\t<tr><td>yes</td><td>15</td><td>14</td><td>15</td><td>11.09453</td><td>10.9005</td><td>10.48756</td></tr>\n",
       "</tbody>\n",
       "</table>\n"
      ],
      "text/latex": [
       "A data.frame: 1 × 7\n",
       "\\begin{tabular}{r|lllllll}\n",
       " activities & G1 & G2 & G3 & Average.G1 & Average.G2 & Average.G3\\\\\n",
       " <chr> & <dbl> & <dbl> & <dbl> & <dbl> & <dbl> & <dbl>\\\\\n",
       "\\hline\n",
       "\t yes & 15 & 14 & 15 & 11.09453 & 10.9005 & 10.48756\\\\\n",
       "\\end{tabular}\n"
      ],
      "text/markdown": [
       "\n",
       "A data.frame: 1 × 7\n",
       "\n",
       "| activities &lt;chr&gt; | G1 &lt;dbl&gt; | G2 &lt;dbl&gt; | G3 &lt;dbl&gt; | Average.G1 &lt;dbl&gt; | Average.G2 &lt;dbl&gt; | Average.G3 &lt;dbl&gt; |\n",
       "|---|---|---|---|---|---|---|\n",
       "| yes | 15 | 14 | 15 | 11.09453 | 10.9005 | 10.48756 |\n",
       "\n"
      ],
      "text/plain": [
       "  activities G1 G2 G3 Average.G1 Average.G2 Average.G3\n",
       "1 yes        15 14 15 11.09453   10.9005    10.48756  "
      ]
     },
     "metadata": {},
     "output_type": "display_data"
    },
    {
     "data": {
      "text/html": [
       "<table>\n",
       "<caption>A data.frame: 1 × 7</caption>\n",
       "<thead>\n",
       "\t<tr><th scope=col>activities</th><th scope=col>G1</th><th scope=col>G2</th><th scope=col>G3</th><th scope=col>Average.G1</th><th scope=col>Average.G2</th><th scope=col>Average.G3</th></tr>\n",
       "\t<tr><th scope=col>&lt;chr&gt;</th><th scope=col>&lt;dbl&gt;</th><th scope=col>&lt;dbl&gt;</th><th scope=col>&lt;dbl&gt;</th><th scope=col>&lt;dbl&gt;</th><th scope=col>&lt;dbl&gt;</th><th scope=col>&lt;dbl&gt;</th></tr>\n",
       "</thead>\n",
       "<tbody>\n",
       "\t<tr><td>no</td><td>5</td><td>6</td><td>6</td><td>10.71649</td><td>10.52062</td><td>10.34021</td></tr>\n",
       "</tbody>\n",
       "</table>\n"
      ],
      "text/latex": [
       "A data.frame: 1 × 7\n",
       "\\begin{tabular}{r|lllllll}\n",
       " activities & G1 & G2 & G3 & Average.G1 & Average.G2 & Average.G3\\\\\n",
       " <chr> & <dbl> & <dbl> & <dbl> & <dbl> & <dbl> & <dbl>\\\\\n",
       "\\hline\n",
       "\t no & 5 & 6 & 6 & 10.71649 & 10.52062 & 10.34021\\\\\n",
       "\\end{tabular}\n"
      ],
      "text/markdown": [
       "\n",
       "A data.frame: 1 × 7\n",
       "\n",
       "| activities &lt;chr&gt; | G1 &lt;dbl&gt; | G2 &lt;dbl&gt; | G3 &lt;dbl&gt; | Average.G1 &lt;dbl&gt; | Average.G2 &lt;dbl&gt; | Average.G3 &lt;dbl&gt; |\n",
       "|---|---|---|---|---|---|---|\n",
       "| no | 5 | 6 | 6 | 10.71649 | 10.52062 | 10.34021 |\n",
       "\n"
      ],
      "text/plain": [
       "  activities G1 G2 G3 Average.G1 Average.G2 Average.G3\n",
       "1 no         5  6  6  10.71649   10.52062   10.34021  "
      ]
     },
     "metadata": {},
     "output_type": "display_data"
    }
   ],
   "source": [
    "activitiesy_df <- select(file, activities, G1, G2, G3) %>% filter(activities == 'yes') %>% transform(G1 = as.numeric(G1)) %>%\n",
    "    transform(G2 = as.numeric(G2)) %>% transform(G3 = as.numeric(G3))\n",
    "activitiesy_df <- activitiesy_df %>% group_by(activities) %>% \n",
    "    transform(Avgerage.G1 = summarise(activitiesy_df, Average.G1 = mean(G1, na.rm = T))) %>%\n",
    "    transform(Avgerage.G2 = summarise(activitiesy_df, Average.G2 = mean(G2, na.rm = T))) %>%\n",
    "    transform(Avgerage.G3 = summarise(activitiesy_df, Average.G3 = mean(G3, na.rm = T)))\n",
    "\n",
    "activitiesn_df <- select(file, activities, G1, G2, G3) %>% filter(activities == 'no') %>% transform(G1 = as.numeric(G1)) %>%\n",
    "    transform(G2 = as.numeric(G2)) %>% transform(G3 = as.numeric(G3))\n",
    "activitiesn_df <- activitiesn_df %>% group_by(activities) %>% \n",
    "    transform(Avgerage.G1 = summarise(activitiesn_df, Average.G1 = mean(G1, na.rm = T))) %>%\n",
    "    transform(Avgerage.G2 = summarise(activitiesn_df, Average.G2 = mean(G2, na.rm = T))) %>%\n",
    "    transform(Avgerage.G3 = summarise(activitiesn_df, Average.G3 = mean(G3, na.rm = T)))\n",
    "\n",
    "head(activitiesy_df, 1)\n",
    "head(activitiesn_df, 1)"
   ]
  },
  {
   "cell_type": "code",
   "execution_count": 14,
   "metadata": {
    "scrolled": true
   },
   "outputs": [
    {
     "data": {
      "text/html": [
       "<table>\n",
       "<caption>A data.frame: 1 × 7</caption>\n",
       "<thead>\n",
       "\t<tr><th scope=col>school</th><th scope=col>G1</th><th scope=col>G2</th><th scope=col>G3</th><th scope=col>Average.G1</th><th scope=col>Average.G2</th><th scope=col>Average.G3</th></tr>\n",
       "\t<tr><th scope=col>&lt;chr&gt;</th><th scope=col>&lt;dbl&gt;</th><th scope=col>&lt;dbl&gt;</th><th scope=col>&lt;dbl&gt;</th><th scope=col>&lt;dbl&gt;</th><th scope=col>&lt;dbl&gt;</th><th scope=col>&lt;dbl&gt;</th></tr>\n",
       "</thead>\n",
       "<tbody>\n",
       "\t<tr><td>GP</td><td>5</td><td>6</td><td>6</td><td>10.93983</td><td>10.78223</td><td>10.48997</td></tr>\n",
       "</tbody>\n",
       "</table>\n"
      ],
      "text/latex": [
       "A data.frame: 1 × 7\n",
       "\\begin{tabular}{r|lllllll}\n",
       " school & G1 & G2 & G3 & Average.G1 & Average.G2 & Average.G3\\\\\n",
       " <chr> & <dbl> & <dbl> & <dbl> & <dbl> & <dbl> & <dbl>\\\\\n",
       "\\hline\n",
       "\t GP & 5 & 6 & 6 & 10.93983 & 10.78223 & 10.48997\\\\\n",
       "\\end{tabular}\n"
      ],
      "text/markdown": [
       "\n",
       "A data.frame: 1 × 7\n",
       "\n",
       "| school &lt;chr&gt; | G1 &lt;dbl&gt; | G2 &lt;dbl&gt; | G3 &lt;dbl&gt; | Average.G1 &lt;dbl&gt; | Average.G2 &lt;dbl&gt; | Average.G3 &lt;dbl&gt; |\n",
       "|---|---|---|---|---|---|---|\n",
       "| GP | 5 | 6 | 6 | 10.93983 | 10.78223 | 10.48997 |\n",
       "\n"
      ],
      "text/plain": [
       "  school G1 G2 G3 Average.G1 Average.G2 Average.G3\n",
       "1 GP     5  6  6  10.93983   10.78223   10.48997  "
      ]
     },
     "metadata": {},
     "output_type": "display_data"
    },
    {
     "data": {
      "text/html": [
       "<table>\n",
       "<caption>A data.frame: 1 × 7</caption>\n",
       "<thead>\n",
       "\t<tr><th scope=col>school</th><th scope=col>G1</th><th scope=col>G2</th><th scope=col>G3</th><th scope=col>Average.G1</th><th scope=col>Average.G2</th><th scope=col>Average.G3</th></tr>\n",
       "\t<tr><th scope=col>&lt;chr&gt;</th><th scope=col>&lt;dbl&gt;</th><th scope=col>&lt;dbl&gt;</th><th scope=col>&lt;dbl&gt;</th><th scope=col>&lt;dbl&gt;</th><th scope=col>&lt;dbl&gt;</th><th scope=col>&lt;dbl&gt;</th></tr>\n",
       "</thead>\n",
       "<tbody>\n",
       "\t<tr><td>MS</td><td>11</td><td>13</td><td>13</td><td>10.67391</td><td>10.19565</td><td>9.847826</td></tr>\n",
       "</tbody>\n",
       "</table>\n"
      ],
      "text/latex": [
       "A data.frame: 1 × 7\n",
       "\\begin{tabular}{r|lllllll}\n",
       " school & G1 & G2 & G3 & Average.G1 & Average.G2 & Average.G3\\\\\n",
       " <chr> & <dbl> & <dbl> & <dbl> & <dbl> & <dbl> & <dbl>\\\\\n",
       "\\hline\n",
       "\t MS & 11 & 13 & 13 & 10.67391 & 10.19565 & 9.847826\\\\\n",
       "\\end{tabular}\n"
      ],
      "text/markdown": [
       "\n",
       "A data.frame: 1 × 7\n",
       "\n",
       "| school &lt;chr&gt; | G1 &lt;dbl&gt; | G2 &lt;dbl&gt; | G3 &lt;dbl&gt; | Average.G1 &lt;dbl&gt; | Average.G2 &lt;dbl&gt; | Average.G3 &lt;dbl&gt; |\n",
       "|---|---|---|---|---|---|---|\n",
       "| MS | 11 | 13 | 13 | 10.67391 | 10.19565 | 9.847826 |\n",
       "\n"
      ],
      "text/plain": [
       "  school G1 G2 G3 Average.G1 Average.G2 Average.G3\n",
       "1 MS     11 13 13 10.67391   10.19565   9.847826  "
      ]
     },
     "metadata": {},
     "output_type": "display_data"
    }
   ],
   "source": [
    "schoolGP_df <- select(file, school, G1, G2, G3) %>% filter(school == 'GP') %>% transform(G1 = as.numeric(G1)) %>%\n",
    "    transform(G2 = as.numeric(G2)) %>% transform(G3 = as.numeric(G3))\n",
    "schoolGP_df <- schoolGP_df %>% group_by(school) %>% \n",
    "    transform(Avgerage.G1 = summarise(schoolGP_df, Average.G1 = mean(G1, na.rm = T))) %>%\n",
    "    transform(Avgerage.G2 = summarise(schoolGP_df, Average.G2 = mean(G2, na.rm = T))) %>%\n",
    "    transform(Avgerage.G3 = summarise(schoolGP_df, Average.G3 = mean(G3, na.rm = T)))\n",
    "\n",
    "schoolMS_df <- select(file, school, G1, G2, G3) %>% filter(school == 'MS') %>% transform(G1 = as.numeric(G1)) %>%\n",
    "    transform(G2 = as.numeric(G2)) %>% transform(G3 = as.numeric(G3))\n",
    "schoolMS_df <- schoolMS_df %>% group_by(school) %>% \n",
    "    transform(Avgerage.G1 = summarise(schoolMS_df, Average.G1 = mean(G1, na.rm = T))) %>%\n",
    "    transform(Avgerage.G2 = summarise(schoolMS_df, Average.G2 = mean(G2, na.rm = T))) %>%\n",
    "    transform(Avgerage.G3 = summarise(schoolMS_df, Average.G3 = mean(G3, na.rm = T)))\n",
    "\n",
    "head(schoolGP_df, 1)\n",
    "head(schoolMS_df, 1)"
   ]
  },
  {
   "cell_type": "code",
   "execution_count": 15,
   "metadata": {},
   "outputs": [
    {
     "data": {
      "text/html": [
       "<table>\n",
       "<caption>A data.frame: 15 × 10</caption>\n",
       "<thead>\n",
       "\t<tr><th scope=col>Alc_Wend</th><th scope=col>Alc_Wday</th><th scope=col>go_out</th><th scope=col>romantic</th><th scope=col>internet</th><th scope=col>studytime</th><th scope=col>activities</th><th scope=col>school</th><th scope=col>value</th><th scope=col>grade</th></tr>\n",
       "\t<tr><th scope=col>&lt;dbl&gt;</th><th scope=col>&lt;dbl&gt;</th><th scope=col>&lt;dbl&gt;</th><th scope=col>&lt;dbl&gt;</th><th scope=col>&lt;dbl&gt;</th><th scope=col>&lt;dbl&gt;</th><th scope=col>&lt;dbl&gt;</th><th scope=col>&lt;dbl&gt;</th><th scope=col>&lt;dbl&gt;</th><th scope=col>&lt;fct&gt;</th></tr>\n",
       "</thead>\n",
       "<tbody>\n",
       "\t<tr><td>11.178810</td><td>11.155800</td><td>11.130430</td><td>10.734850</td><td>11.015200</td><td>10.43810</td><td>11.09453</td><td>10.939830</td><td>1</td><td>G1</td></tr>\n",
       "\t<tr><td>11.052980</td><td>10.949280</td><td>10.782610</td><td>10.121210</td><td>10.914890</td><td>10.27619</td><td>10.90050</td><td>10.782230</td><td>1</td><td>G2</td></tr>\n",
       "\t<tr><td>10.735100</td><td>10.731880</td><td> 9.869565</td><td> 9.575758</td><td>10.617020</td><td>10.04762</td><td>10.48756</td><td>10.489970</td><td>1</td><td>G3</td></tr>\n",
       "\t<tr><td>11.270590</td><td>10.306670</td><td>11.368930</td><td>10.996200</td><td>10.378790</td><td>10.65152</td><td>10.71649</td><td>10.673910</td><td>2</td><td>G1</td></tr>\n",
       "\t<tr><td>10.611760</td><td>10.013330</td><td>11.456310</td><td>11.011410</td><td> 9.712121</td><td>10.50505</td><td>10.52062</td><td>10.195650</td><td>2</td><td>G2</td></tr>\n",
       "\t<tr><td>10.082350</td><td> 9.253333</td><td>11.194170</td><td>10.836500</td><td> 9.409091</td><td>10.17172</td><td>10.34021</td><td> 9.847826</td><td>2</td><td>G3</td></tr>\n",
       "\t<tr><td>10.937500</td><td>10.576920</td><td>11.276920</td><td> 0.000000</td><td> 0.000000</td><td>12.04615</td><td> 0.00000</td><td> 0.000000</td><td>3</td><td>G1</td></tr>\n",
       "\t<tr><td>10.912500</td><td>10.538460</td><td>11.053850</td><td> 0.000000</td><td> 0.000000</td><td>11.50769</td><td> 0.00000</td><td> 0.000000</td><td>3</td><td>G2</td></tr>\n",
       "\t<tr><td>10.725000</td><td>10.500000</td><td>10.961540</td><td> 0.000000</td><td> 0.000000</td><td>11.40000</td><td> 0.00000</td><td> 0.000000</td><td>3</td><td>G3</td></tr>\n",
       "\t<tr><td> 9.980392</td><td> 9.777778</td><td>10.430230</td><td> 0.000000</td><td> 0.000000</td><td>11.88889</td><td> 0.00000</td><td> 0.000000</td><td>4</td><td>G1</td></tr>\n",
       "\t<tr><td> 9.764706</td><td> 9.777778</td><td>10.058140</td><td> 0.000000</td><td> 0.000000</td><td>12.03704</td><td> 0.00000</td><td> 0.000000</td><td>4</td><td>G2</td></tr>\n",
       "\t<tr><td> 9.686275</td><td> 9.888889</td><td> 9.651163</td><td> 0.000000</td><td> 0.000000</td><td>11.25926</td><td> 0.00000</td><td> 0.000000</td><td>4</td><td>G3</td></tr>\n",
       "\t<tr><td> 9.964286</td><td>10.444440</td><td> 9.792453</td><td> 0.000000</td><td> 0.000000</td><td> 0.00000</td><td> 0.00000</td><td> 0.000000</td><td>5</td><td>G1</td></tr>\n",
       "\t<tr><td>10.357140</td><td>10.777780</td><td> 9.471698</td><td> 0.000000</td><td> 0.000000</td><td> 0.00000</td><td> 0.00000</td><td> 0.000000</td><td>5</td><td>G2</td></tr>\n",
       "\t<tr><td>10.142860</td><td>10.666670</td><td> 9.037736</td><td> 0.000000</td><td> 0.000000</td><td> 0.00000</td><td> 0.00000</td><td> 0.000000</td><td>5</td><td>G3</td></tr>\n",
       "</tbody>\n",
       "</table>\n"
      ],
      "text/latex": [
       "A data.frame: 15 × 10\n",
       "\\begin{tabular}{r|llllllllll}\n",
       " Alc\\_Wend & Alc\\_Wday & go\\_out & romantic & internet & studytime & activities & school & value & grade\\\\\n",
       " <dbl> & <dbl> & <dbl> & <dbl> & <dbl> & <dbl> & <dbl> & <dbl> & <dbl> & <fct>\\\\\n",
       "\\hline\n",
       "\t 11.178810 & 11.155800 & 11.130430 & 10.734850 & 11.015200 & 10.43810 & 11.09453 & 10.939830 & 1 & G1\\\\\n",
       "\t 11.052980 & 10.949280 & 10.782610 & 10.121210 & 10.914890 & 10.27619 & 10.90050 & 10.782230 & 1 & G2\\\\\n",
       "\t 10.735100 & 10.731880 &  9.869565 &  9.575758 & 10.617020 & 10.04762 & 10.48756 & 10.489970 & 1 & G3\\\\\n",
       "\t 11.270590 & 10.306670 & 11.368930 & 10.996200 & 10.378790 & 10.65152 & 10.71649 & 10.673910 & 2 & G1\\\\\n",
       "\t 10.611760 & 10.013330 & 11.456310 & 11.011410 &  9.712121 & 10.50505 & 10.52062 & 10.195650 & 2 & G2\\\\\n",
       "\t 10.082350 &  9.253333 & 11.194170 & 10.836500 &  9.409091 & 10.17172 & 10.34021 &  9.847826 & 2 & G3\\\\\n",
       "\t 10.937500 & 10.576920 & 11.276920 &  0.000000 &  0.000000 & 12.04615 &  0.00000 &  0.000000 & 3 & G1\\\\\n",
       "\t 10.912500 & 10.538460 & 11.053850 &  0.000000 &  0.000000 & 11.50769 &  0.00000 &  0.000000 & 3 & G2\\\\\n",
       "\t 10.725000 & 10.500000 & 10.961540 &  0.000000 &  0.000000 & 11.40000 &  0.00000 &  0.000000 & 3 & G3\\\\\n",
       "\t  9.980392 &  9.777778 & 10.430230 &  0.000000 &  0.000000 & 11.88889 &  0.00000 &  0.000000 & 4 & G1\\\\\n",
       "\t  9.764706 &  9.777778 & 10.058140 &  0.000000 &  0.000000 & 12.03704 &  0.00000 &  0.000000 & 4 & G2\\\\\n",
       "\t  9.686275 &  9.888889 &  9.651163 &  0.000000 &  0.000000 & 11.25926 &  0.00000 &  0.000000 & 4 & G3\\\\\n",
       "\t  9.964286 & 10.444440 &  9.792453 &  0.000000 &  0.000000 &  0.00000 &  0.00000 &  0.000000 & 5 & G1\\\\\n",
       "\t 10.357140 & 10.777780 &  9.471698 &  0.000000 &  0.000000 &  0.00000 &  0.00000 &  0.000000 & 5 & G2\\\\\n",
       "\t 10.142860 & 10.666670 &  9.037736 &  0.000000 &  0.000000 &  0.00000 &  0.00000 &  0.000000 & 5 & G3\\\\\n",
       "\\end{tabular}\n"
      ],
      "text/markdown": [
       "\n",
       "A data.frame: 15 × 10\n",
       "\n",
       "| Alc_Wend &lt;dbl&gt; | Alc_Wday &lt;dbl&gt; | go_out &lt;dbl&gt; | romantic &lt;dbl&gt; | internet &lt;dbl&gt; | studytime &lt;dbl&gt; | activities &lt;dbl&gt; | school &lt;dbl&gt; | value &lt;dbl&gt; | grade &lt;fct&gt; |\n",
       "|---|---|---|---|---|---|---|---|---|---|\n",
       "| 11.178810 | 11.155800 | 11.130430 | 10.734850 | 11.015200 | 10.43810 | 11.09453 | 10.939830 | 1 | G1 |\n",
       "| 11.052980 | 10.949280 | 10.782610 | 10.121210 | 10.914890 | 10.27619 | 10.90050 | 10.782230 | 1 | G2 |\n",
       "| 10.735100 | 10.731880 |  9.869565 |  9.575758 | 10.617020 | 10.04762 | 10.48756 | 10.489970 | 1 | G3 |\n",
       "| 11.270590 | 10.306670 | 11.368930 | 10.996200 | 10.378790 | 10.65152 | 10.71649 | 10.673910 | 2 | G1 |\n",
       "| 10.611760 | 10.013330 | 11.456310 | 11.011410 |  9.712121 | 10.50505 | 10.52062 | 10.195650 | 2 | G2 |\n",
       "| 10.082350 |  9.253333 | 11.194170 | 10.836500 |  9.409091 | 10.17172 | 10.34021 |  9.847826 | 2 | G3 |\n",
       "| 10.937500 | 10.576920 | 11.276920 |  0.000000 |  0.000000 | 12.04615 |  0.00000 |  0.000000 | 3 | G1 |\n",
       "| 10.912500 | 10.538460 | 11.053850 |  0.000000 |  0.000000 | 11.50769 |  0.00000 |  0.000000 | 3 | G2 |\n",
       "| 10.725000 | 10.500000 | 10.961540 |  0.000000 |  0.000000 | 11.40000 |  0.00000 |  0.000000 | 3 | G3 |\n",
       "|  9.980392 |  9.777778 | 10.430230 |  0.000000 |  0.000000 | 11.88889 |  0.00000 |  0.000000 | 4 | G1 |\n",
       "|  9.764706 |  9.777778 | 10.058140 |  0.000000 |  0.000000 | 12.03704 |  0.00000 |  0.000000 | 4 | G2 |\n",
       "|  9.686275 |  9.888889 |  9.651163 |  0.000000 |  0.000000 | 11.25926 |  0.00000 |  0.000000 | 4 | G3 |\n",
       "|  9.964286 | 10.444440 |  9.792453 |  0.000000 |  0.000000 |  0.00000 |  0.00000 |  0.000000 | 5 | G1 |\n",
       "| 10.357140 | 10.777780 |  9.471698 |  0.000000 |  0.000000 |  0.00000 |  0.00000 |  0.000000 | 5 | G2 |\n",
       "| 10.142860 | 10.666670 |  9.037736 |  0.000000 |  0.000000 |  0.00000 |  0.00000 |  0.000000 | 5 | G3 |\n",
       "\n"
      ],
      "text/plain": [
       "   Alc_Wend  Alc_Wday  go_out    romantic  internet  studytime activities\n",
       "1  11.178810 11.155800 11.130430 10.734850 11.015200 10.43810  11.09453  \n",
       "2  11.052980 10.949280 10.782610 10.121210 10.914890 10.27619  10.90050  \n",
       "3  10.735100 10.731880  9.869565  9.575758 10.617020 10.04762  10.48756  \n",
       "4  11.270590 10.306670 11.368930 10.996200 10.378790 10.65152  10.71649  \n",
       "5  10.611760 10.013330 11.456310 11.011410  9.712121 10.50505  10.52062  \n",
       "6  10.082350  9.253333 11.194170 10.836500  9.409091 10.17172  10.34021  \n",
       "7  10.937500 10.576920 11.276920  0.000000  0.000000 12.04615   0.00000  \n",
       "8  10.912500 10.538460 11.053850  0.000000  0.000000 11.50769   0.00000  \n",
       "9  10.725000 10.500000 10.961540  0.000000  0.000000 11.40000   0.00000  \n",
       "10  9.980392  9.777778 10.430230  0.000000  0.000000 11.88889   0.00000  \n",
       "11  9.764706  9.777778 10.058140  0.000000  0.000000 12.03704   0.00000  \n",
       "12  9.686275  9.888889  9.651163  0.000000  0.000000 11.25926   0.00000  \n",
       "13  9.964286 10.444440  9.792453  0.000000  0.000000  0.00000   0.00000  \n",
       "14 10.357140 10.777780  9.471698  0.000000  0.000000  0.00000   0.00000  \n",
       "15 10.142860 10.666670  9.037736  0.000000  0.000000  0.00000   0.00000  \n",
       "   school    value grade\n",
       "1  10.939830 1     G1   \n",
       "2  10.782230 1     G2   \n",
       "3  10.489970 1     G3   \n",
       "4  10.673910 2     G1   \n",
       "5  10.195650 2     G2   \n",
       "6   9.847826 2     G3   \n",
       "7   0.000000 3     G1   \n",
       "8   0.000000 3     G2   \n",
       "9   0.000000 3     G3   \n",
       "10  0.000000 4     G1   \n",
       "11  0.000000 4     G2   \n",
       "12  0.000000 4     G3   \n",
       "13  0.000000 5     G1   \n",
       "14  0.000000 5     G2   \n",
       "15  0.000000 5     G3   "
      ]
     },
     "metadata": {},
     "output_type": "display_data"
    }
   ],
   "source": [
    "Alc_Wend = c(11.17881, 11.05298, 10.7351, 11.27059, 10.61176, 10.08235, 10.9375, 10.9125, 10.725, 9.980392, 9.764706, 9.686275, 9.964286, 10.35714, 10.14286)\n",
    "Alc_Wday = c(11.1558, 10.94928, 10.73188, 10.30667, 10.01333, 9.253333, 10.57692, 10.53846, 10.5, 9.777778, 9.777778, 9.888889, 10.44444, 10.77778, 10.66667)\n",
    "goout = c(11.13043, 10.78261, 9.869565, 11.36893, 11.45631, 11.19417, 11.27692, 11.05385, 10.96154, 10.43023, 10.05814, 9.651163, 9.792453, 9.471698, 9.037736)\n",
    "romantic = c(10.73485, 10.12121, 9.575758, 10.9962, 11.01141, 10.8365, 0, 0, 0, 0, 0, 0, 0, 0, 0)\n",
    "internet = c(11.0152, 10.91489, 10.61702, 10.37879, 9.712121, 9.409091, 0, 0, 0, 0, 0, 0, 0, 0, 0)\n",
    "studytime = c(10.4381, 10.27619, 10.04762, 10.65152, 10.50505, 10.17172, 12.04615, 11.50769, 11.4, 11.88889, 12.03704, 11.25926, 0, 0, 0)\n",
    "activities = c(11.09453, 10.9005, 10.48756, 10.71649, 10.52062, 10.34021, 0, 0, 0, 0, 0, 0, 0, 0, 0)\n",
    "school = c(10.93983, 10.78223, 10.48997, 10.67391, 10.19565, 9.847826, 0, 0, 0, 0, 0, 0, 0, 0, 0)\n",
    "value = c(1, 1, 1, 2, 2, 2, 3, 3, 3, 4, 4, 4, 5, 5, 5)\n",
    "grade = c('G1', 'G2', 'G3', 'G1', 'G2', 'G3', 'G1', 'G2', 'G3', 'G1', 'G2', 'G3', 'G1', 'G2', 'G3')\n",
    "\n",
    "\n",
    "avg_grades <- data.frame(Alc_Wend=Alc_Wend, Alc_Wday=Alc_Wday, go_out=goout, romantic=romantic, internet=internet, studytime=studytime, activities=activities, school=school, value=value, grade=grade)\n",
    "avg_grades"
   ]
  },
  {
   "cell_type": "code",
   "execution_count": 16,
   "metadata": {
    "scrolled": true
   },
   "outputs": [
    {
     "data": {
      "text/html": [
       "<table>\n",
       "<caption>A tibble: 120 × 4</caption>\n",
       "<thead>\n",
       "\t<tr><th scope=col>value</th><th scope=col>grade</th><th scope=col>Factor</th><th scope=col>AverageGrade</th></tr>\n",
       "\t<tr><th scope=col>&lt;dbl&gt;</th><th scope=col>&lt;fct&gt;</th><th scope=col>&lt;chr&gt;</th><th scope=col>&lt;dbl&gt;</th></tr>\n",
       "</thead>\n",
       "<tbody>\n",
       "\t<tr><td>1</td><td>G1</td><td>Alc_Wend  </td><td>11.178810</td></tr>\n",
       "\t<tr><td>1</td><td>G1</td><td>Alc_Wday  </td><td>11.155800</td></tr>\n",
       "\t<tr><td>1</td><td>G1</td><td>go_out    </td><td>11.130430</td></tr>\n",
       "\t<tr><td>1</td><td>G1</td><td>romantic  </td><td>10.734850</td></tr>\n",
       "\t<tr><td>1</td><td>G1</td><td>internet  </td><td>11.015200</td></tr>\n",
       "\t<tr><td>1</td><td>G1</td><td>studytime </td><td>10.438100</td></tr>\n",
       "\t<tr><td>1</td><td>G1</td><td>activities</td><td>11.094530</td></tr>\n",
       "\t<tr><td>1</td><td>G1</td><td>school    </td><td>10.939830</td></tr>\n",
       "\t<tr><td>1</td><td>G2</td><td>Alc_Wend  </td><td>11.052980</td></tr>\n",
       "\t<tr><td>1</td><td>G2</td><td>Alc_Wday  </td><td>10.949280</td></tr>\n",
       "\t<tr><td>1</td><td>G2</td><td>go_out    </td><td>10.782610</td></tr>\n",
       "\t<tr><td>1</td><td>G2</td><td>romantic  </td><td>10.121210</td></tr>\n",
       "\t<tr><td>1</td><td>G2</td><td>internet  </td><td>10.914890</td></tr>\n",
       "\t<tr><td>1</td><td>G2</td><td>studytime </td><td>10.276190</td></tr>\n",
       "\t<tr><td>1</td><td>G2</td><td>activities</td><td>10.900500</td></tr>\n",
       "\t<tr><td>1</td><td>G2</td><td>school    </td><td>10.782230</td></tr>\n",
       "\t<tr><td>1</td><td>G3</td><td>Alc_Wend  </td><td>10.735100</td></tr>\n",
       "\t<tr><td>1</td><td>G3</td><td>Alc_Wday  </td><td>10.731880</td></tr>\n",
       "\t<tr><td>1</td><td>G3</td><td>go_out    </td><td> 9.869565</td></tr>\n",
       "\t<tr><td>1</td><td>G3</td><td>romantic  </td><td> 9.575758</td></tr>\n",
       "\t<tr><td>1</td><td>G3</td><td>internet  </td><td>10.617020</td></tr>\n",
       "\t<tr><td>1</td><td>G3</td><td>studytime </td><td>10.047620</td></tr>\n",
       "\t<tr><td>1</td><td>G3</td><td>activities</td><td>10.487560</td></tr>\n",
       "\t<tr><td>1</td><td>G3</td><td>school    </td><td>10.489970</td></tr>\n",
       "\t<tr><td>2</td><td>G1</td><td>Alc_Wend  </td><td>11.270590</td></tr>\n",
       "\t<tr><td>2</td><td>G1</td><td>Alc_Wday  </td><td>10.306670</td></tr>\n",
       "\t<tr><td>2</td><td>G1</td><td>go_out    </td><td>11.368930</td></tr>\n",
       "\t<tr><td>2</td><td>G1</td><td>romantic  </td><td>10.996200</td></tr>\n",
       "\t<tr><td>2</td><td>G1</td><td>internet  </td><td>10.378790</td></tr>\n",
       "\t<tr><td>2</td><td>G1</td><td>studytime </td><td>10.651520</td></tr>\n",
       "\t<tr><td>⋮</td><td>⋮</td><td>⋮</td><td>⋮</td></tr>\n",
       "\t<tr><td>4</td><td>G3</td><td>go_out    </td><td> 9.651163</td></tr>\n",
       "\t<tr><td>4</td><td>G3</td><td>romantic  </td><td> 0.000000</td></tr>\n",
       "\t<tr><td>4</td><td>G3</td><td>internet  </td><td> 0.000000</td></tr>\n",
       "\t<tr><td>4</td><td>G3</td><td>studytime </td><td>11.259260</td></tr>\n",
       "\t<tr><td>4</td><td>G3</td><td>activities</td><td> 0.000000</td></tr>\n",
       "\t<tr><td>4</td><td>G3</td><td>school    </td><td> 0.000000</td></tr>\n",
       "\t<tr><td>5</td><td>G1</td><td>Alc_Wend  </td><td> 9.964286</td></tr>\n",
       "\t<tr><td>5</td><td>G1</td><td>Alc_Wday  </td><td>10.444440</td></tr>\n",
       "\t<tr><td>5</td><td>G1</td><td>go_out    </td><td> 9.792453</td></tr>\n",
       "\t<tr><td>5</td><td>G1</td><td>romantic  </td><td> 0.000000</td></tr>\n",
       "\t<tr><td>5</td><td>G1</td><td>internet  </td><td> 0.000000</td></tr>\n",
       "\t<tr><td>5</td><td>G1</td><td>studytime </td><td> 0.000000</td></tr>\n",
       "\t<tr><td>5</td><td>G1</td><td>activities</td><td> 0.000000</td></tr>\n",
       "\t<tr><td>5</td><td>G1</td><td>school    </td><td> 0.000000</td></tr>\n",
       "\t<tr><td>5</td><td>G2</td><td>Alc_Wend  </td><td>10.357140</td></tr>\n",
       "\t<tr><td>5</td><td>G2</td><td>Alc_Wday  </td><td>10.777780</td></tr>\n",
       "\t<tr><td>5</td><td>G2</td><td>go_out    </td><td> 9.471698</td></tr>\n",
       "\t<tr><td>5</td><td>G2</td><td>romantic  </td><td> 0.000000</td></tr>\n",
       "\t<tr><td>5</td><td>G2</td><td>internet  </td><td> 0.000000</td></tr>\n",
       "\t<tr><td>5</td><td>G2</td><td>studytime </td><td> 0.000000</td></tr>\n",
       "\t<tr><td>5</td><td>G2</td><td>activities</td><td> 0.000000</td></tr>\n",
       "\t<tr><td>5</td><td>G2</td><td>school    </td><td> 0.000000</td></tr>\n",
       "\t<tr><td>5</td><td>G3</td><td>Alc_Wend  </td><td>10.142860</td></tr>\n",
       "\t<tr><td>5</td><td>G3</td><td>Alc_Wday  </td><td>10.666670</td></tr>\n",
       "\t<tr><td>5</td><td>G3</td><td>go_out    </td><td> 9.037736</td></tr>\n",
       "\t<tr><td>5</td><td>G3</td><td>romantic  </td><td> 0.000000</td></tr>\n",
       "\t<tr><td>5</td><td>G3</td><td>internet  </td><td> 0.000000</td></tr>\n",
       "\t<tr><td>5</td><td>G3</td><td>studytime </td><td> 0.000000</td></tr>\n",
       "\t<tr><td>5</td><td>G3</td><td>activities</td><td> 0.000000</td></tr>\n",
       "\t<tr><td>5</td><td>G3</td><td>school    </td><td> 0.000000</td></tr>\n",
       "</tbody>\n",
       "</table>\n"
      ],
      "text/latex": [
       "A tibble: 120 × 4\n",
       "\\begin{tabular}{r|llll}\n",
       " value & grade & Factor & AverageGrade\\\\\n",
       " <dbl> & <fct> & <chr> & <dbl>\\\\\n",
       "\\hline\n",
       "\t 1 & G1 & Alc\\_Wend   & 11.178810\\\\\n",
       "\t 1 & G1 & Alc\\_Wday   & 11.155800\\\\\n",
       "\t 1 & G1 & go\\_out     & 11.130430\\\\\n",
       "\t 1 & G1 & romantic   & 10.734850\\\\\n",
       "\t 1 & G1 & internet   & 11.015200\\\\\n",
       "\t 1 & G1 & studytime  & 10.438100\\\\\n",
       "\t 1 & G1 & activities & 11.094530\\\\\n",
       "\t 1 & G1 & school     & 10.939830\\\\\n",
       "\t 1 & G2 & Alc\\_Wend   & 11.052980\\\\\n",
       "\t 1 & G2 & Alc\\_Wday   & 10.949280\\\\\n",
       "\t 1 & G2 & go\\_out     & 10.782610\\\\\n",
       "\t 1 & G2 & romantic   & 10.121210\\\\\n",
       "\t 1 & G2 & internet   & 10.914890\\\\\n",
       "\t 1 & G2 & studytime  & 10.276190\\\\\n",
       "\t 1 & G2 & activities & 10.900500\\\\\n",
       "\t 1 & G2 & school     & 10.782230\\\\\n",
       "\t 1 & G3 & Alc\\_Wend   & 10.735100\\\\\n",
       "\t 1 & G3 & Alc\\_Wday   & 10.731880\\\\\n",
       "\t 1 & G3 & go\\_out     &  9.869565\\\\\n",
       "\t 1 & G3 & romantic   &  9.575758\\\\\n",
       "\t 1 & G3 & internet   & 10.617020\\\\\n",
       "\t 1 & G3 & studytime  & 10.047620\\\\\n",
       "\t 1 & G3 & activities & 10.487560\\\\\n",
       "\t 1 & G3 & school     & 10.489970\\\\\n",
       "\t 2 & G1 & Alc\\_Wend   & 11.270590\\\\\n",
       "\t 2 & G1 & Alc\\_Wday   & 10.306670\\\\\n",
       "\t 2 & G1 & go\\_out     & 11.368930\\\\\n",
       "\t 2 & G1 & romantic   & 10.996200\\\\\n",
       "\t 2 & G1 & internet   & 10.378790\\\\\n",
       "\t 2 & G1 & studytime  & 10.651520\\\\\n",
       "\t ⋮ & ⋮ & ⋮ & ⋮\\\\\n",
       "\t 4 & G3 & go\\_out     &  9.651163\\\\\n",
       "\t 4 & G3 & romantic   &  0.000000\\\\\n",
       "\t 4 & G3 & internet   &  0.000000\\\\\n",
       "\t 4 & G3 & studytime  & 11.259260\\\\\n",
       "\t 4 & G3 & activities &  0.000000\\\\\n",
       "\t 4 & G3 & school     &  0.000000\\\\\n",
       "\t 5 & G1 & Alc\\_Wend   &  9.964286\\\\\n",
       "\t 5 & G1 & Alc\\_Wday   & 10.444440\\\\\n",
       "\t 5 & G1 & go\\_out     &  9.792453\\\\\n",
       "\t 5 & G1 & romantic   &  0.000000\\\\\n",
       "\t 5 & G1 & internet   &  0.000000\\\\\n",
       "\t 5 & G1 & studytime  &  0.000000\\\\\n",
       "\t 5 & G1 & activities &  0.000000\\\\\n",
       "\t 5 & G1 & school     &  0.000000\\\\\n",
       "\t 5 & G2 & Alc\\_Wend   & 10.357140\\\\\n",
       "\t 5 & G2 & Alc\\_Wday   & 10.777780\\\\\n",
       "\t 5 & G2 & go\\_out     &  9.471698\\\\\n",
       "\t 5 & G2 & romantic   &  0.000000\\\\\n",
       "\t 5 & G2 & internet   &  0.000000\\\\\n",
       "\t 5 & G2 & studytime  &  0.000000\\\\\n",
       "\t 5 & G2 & activities &  0.000000\\\\\n",
       "\t 5 & G2 & school     &  0.000000\\\\\n",
       "\t 5 & G3 & Alc\\_Wend   & 10.142860\\\\\n",
       "\t 5 & G3 & Alc\\_Wday   & 10.666670\\\\\n",
       "\t 5 & G3 & go\\_out     &  9.037736\\\\\n",
       "\t 5 & G3 & romantic   &  0.000000\\\\\n",
       "\t 5 & G3 & internet   &  0.000000\\\\\n",
       "\t 5 & G3 & studytime  &  0.000000\\\\\n",
       "\t 5 & G3 & activities &  0.000000\\\\\n",
       "\t 5 & G3 & school     &  0.000000\\\\\n",
       "\\end{tabular}\n"
      ],
      "text/markdown": [
       "\n",
       "A tibble: 120 × 4\n",
       "\n",
       "| value &lt;dbl&gt; | grade &lt;fct&gt; | Factor &lt;chr&gt; | AverageGrade &lt;dbl&gt; |\n",
       "|---|---|---|---|\n",
       "| 1 | G1 | Alc_Wend   | 11.178810 |\n",
       "| 1 | G1 | Alc_Wday   | 11.155800 |\n",
       "| 1 | G1 | go_out     | 11.130430 |\n",
       "| 1 | G1 | romantic   | 10.734850 |\n",
       "| 1 | G1 | internet   | 11.015200 |\n",
       "| 1 | G1 | studytime  | 10.438100 |\n",
       "| 1 | G1 | activities | 11.094530 |\n",
       "| 1 | G1 | school     | 10.939830 |\n",
       "| 1 | G2 | Alc_Wend   | 11.052980 |\n",
       "| 1 | G2 | Alc_Wday   | 10.949280 |\n",
       "| 1 | G2 | go_out     | 10.782610 |\n",
       "| 1 | G2 | romantic   | 10.121210 |\n",
       "| 1 | G2 | internet   | 10.914890 |\n",
       "| 1 | G2 | studytime  | 10.276190 |\n",
       "| 1 | G2 | activities | 10.900500 |\n",
       "| 1 | G2 | school     | 10.782230 |\n",
       "| 1 | G3 | Alc_Wend   | 10.735100 |\n",
       "| 1 | G3 | Alc_Wday   | 10.731880 |\n",
       "| 1 | G3 | go_out     |  9.869565 |\n",
       "| 1 | G3 | romantic   |  9.575758 |\n",
       "| 1 | G3 | internet   | 10.617020 |\n",
       "| 1 | G3 | studytime  | 10.047620 |\n",
       "| 1 | G3 | activities | 10.487560 |\n",
       "| 1 | G3 | school     | 10.489970 |\n",
       "| 2 | G1 | Alc_Wend   | 11.270590 |\n",
       "| 2 | G1 | Alc_Wday   | 10.306670 |\n",
       "| 2 | G1 | go_out     | 11.368930 |\n",
       "| 2 | G1 | romantic   | 10.996200 |\n",
       "| 2 | G1 | internet   | 10.378790 |\n",
       "| 2 | G1 | studytime  | 10.651520 |\n",
       "| ⋮ | ⋮ | ⋮ | ⋮ |\n",
       "| 4 | G3 | go_out     |  9.651163 |\n",
       "| 4 | G3 | romantic   |  0.000000 |\n",
       "| 4 | G3 | internet   |  0.000000 |\n",
       "| 4 | G3 | studytime  | 11.259260 |\n",
       "| 4 | G3 | activities |  0.000000 |\n",
       "| 4 | G3 | school     |  0.000000 |\n",
       "| 5 | G1 | Alc_Wend   |  9.964286 |\n",
       "| 5 | G1 | Alc_Wday   | 10.444440 |\n",
       "| 5 | G1 | go_out     |  9.792453 |\n",
       "| 5 | G1 | romantic   |  0.000000 |\n",
       "| 5 | G1 | internet   |  0.000000 |\n",
       "| 5 | G1 | studytime  |  0.000000 |\n",
       "| 5 | G1 | activities |  0.000000 |\n",
       "| 5 | G1 | school     |  0.000000 |\n",
       "| 5 | G2 | Alc_Wend   | 10.357140 |\n",
       "| 5 | G2 | Alc_Wday   | 10.777780 |\n",
       "| 5 | G2 | go_out     |  9.471698 |\n",
       "| 5 | G2 | romantic   |  0.000000 |\n",
       "| 5 | G2 | internet   |  0.000000 |\n",
       "| 5 | G2 | studytime  |  0.000000 |\n",
       "| 5 | G2 | activities |  0.000000 |\n",
       "| 5 | G2 | school     |  0.000000 |\n",
       "| 5 | G3 | Alc_Wend   | 10.142860 |\n",
       "| 5 | G3 | Alc_Wday   | 10.666670 |\n",
       "| 5 | G3 | go_out     |  9.037736 |\n",
       "| 5 | G3 | romantic   |  0.000000 |\n",
       "| 5 | G3 | internet   |  0.000000 |\n",
       "| 5 | G3 | studytime  |  0.000000 |\n",
       "| 5 | G3 | activities |  0.000000 |\n",
       "| 5 | G3 | school     |  0.000000 |\n",
       "\n"
      ],
      "text/plain": [
       "    value grade Factor     AverageGrade\n",
       "1   1     G1    Alc_Wend   11.178810   \n",
       "2   1     G1    Alc_Wday   11.155800   \n",
       "3   1     G1    go_out     11.130430   \n",
       "4   1     G1    romantic   10.734850   \n",
       "5   1     G1    internet   11.015200   \n",
       "6   1     G1    studytime  10.438100   \n",
       "7   1     G1    activities 11.094530   \n",
       "8   1     G1    school     10.939830   \n",
       "9   1     G2    Alc_Wend   11.052980   \n",
       "10  1     G2    Alc_Wday   10.949280   \n",
       "11  1     G2    go_out     10.782610   \n",
       "12  1     G2    romantic   10.121210   \n",
       "13  1     G2    internet   10.914890   \n",
       "14  1     G2    studytime  10.276190   \n",
       "15  1     G2    activities 10.900500   \n",
       "16  1     G2    school     10.782230   \n",
       "17  1     G3    Alc_Wend   10.735100   \n",
       "18  1     G3    Alc_Wday   10.731880   \n",
       "19  1     G3    go_out      9.869565   \n",
       "20  1     G3    romantic    9.575758   \n",
       "21  1     G3    internet   10.617020   \n",
       "22  1     G3    studytime  10.047620   \n",
       "23  1     G3    activities 10.487560   \n",
       "24  1     G3    school     10.489970   \n",
       "25  2     G1    Alc_Wend   11.270590   \n",
       "26  2     G1    Alc_Wday   10.306670   \n",
       "27  2     G1    go_out     11.368930   \n",
       "28  2     G1    romantic   10.996200   \n",
       "29  2     G1    internet   10.378790   \n",
       "30  2     G1    studytime  10.651520   \n",
       "⋮   ⋮     ⋮     ⋮          ⋮           \n",
       "91  4     G3    go_out      9.651163   \n",
       "92  4     G3    romantic    0.000000   \n",
       "93  4     G3    internet    0.000000   \n",
       "94  4     G3    studytime  11.259260   \n",
       "95  4     G3    activities  0.000000   \n",
       "96  4     G3    school      0.000000   \n",
       "97  5     G1    Alc_Wend    9.964286   \n",
       "98  5     G1    Alc_Wday   10.444440   \n",
       "99  5     G1    go_out      9.792453   \n",
       "100 5     G1    romantic    0.000000   \n",
       "101 5     G1    internet    0.000000   \n",
       "102 5     G1    studytime   0.000000   \n",
       "103 5     G1    activities  0.000000   \n",
       "104 5     G1    school      0.000000   \n",
       "105 5     G2    Alc_Wend   10.357140   \n",
       "106 5     G2    Alc_Wday   10.777780   \n",
       "107 5     G2    go_out      9.471698   \n",
       "108 5     G2    romantic    0.000000   \n",
       "109 5     G2    internet    0.000000   \n",
       "110 5     G2    studytime   0.000000   \n",
       "111 5     G2    activities  0.000000   \n",
       "112 5     G2    school      0.000000   \n",
       "113 5     G3    Alc_Wend   10.142860   \n",
       "114 5     G3    Alc_Wday   10.666670   \n",
       "115 5     G3    go_out      9.037736   \n",
       "116 5     G3    romantic    0.000000   \n",
       "117 5     G3    internet    0.000000   \n",
       "118 5     G3    studytime   0.000000   \n",
       "119 5     G3    activities  0.000000   \n",
       "120 5     G3    school      0.000000   "
      ]
     },
     "metadata": {},
     "output_type": "display_data"
    }
   ],
   "source": [
    "avg_grades_piv <- avg_grades %>% pivot_longer(1:8, names_to = \"Factor\", values_to = \"AverageGrade\")\n",
    "avg_grades_piv"
   ]
  },
  {
   "cell_type": "markdown",
   "metadata": {},
   "source": []
  },
  {
   "cell_type": "code",
   "execution_count": 17,
   "metadata": {
    "scrolled": true
   },
   "outputs": [
    {
     "data": {
      "text/html": [
       "<table>\n",
       "<caption>A data.frame: 40 × 4</caption>\n",
       "<thead>\n",
       "\t<tr><th scope=col>value</th><th scope=col>grade</th><th scope=col>Factor</th><th scope=col>AverageGrade</th></tr>\n",
       "\t<tr><th scope=col>&lt;fct&gt;</th><th scope=col>&lt;fct&gt;</th><th scope=col>&lt;chr&gt;</th><th scope=col>&lt;dbl&gt;</th></tr>\n",
       "</thead>\n",
       "<tbody>\n",
       "\t<tr><td>1</td><td>G1</td><td>Alc_Wend  </td><td>11.178810</td></tr>\n",
       "\t<tr><td>1</td><td>G1</td><td>Alc_Wday  </td><td>11.155800</td></tr>\n",
       "\t<tr><td>1</td><td>G1</td><td>go_out    </td><td>11.130430</td></tr>\n",
       "\t<tr><td>1</td><td>G1</td><td>romantic  </td><td>10.734850</td></tr>\n",
       "\t<tr><td>1</td><td>G1</td><td>internet  </td><td>11.015200</td></tr>\n",
       "\t<tr><td>1</td><td>G1</td><td>studytime </td><td>10.438100</td></tr>\n",
       "\t<tr><td>1</td><td>G1</td><td>activities</td><td>11.094530</td></tr>\n",
       "\t<tr><td>1</td><td>G1</td><td>school    </td><td>10.939830</td></tr>\n",
       "\t<tr><td>2</td><td>G1</td><td>Alc_Wend  </td><td>11.270590</td></tr>\n",
       "\t<tr><td>2</td><td>G1</td><td>Alc_Wday  </td><td>10.306670</td></tr>\n",
       "\t<tr><td>2</td><td>G1</td><td>go_out    </td><td>11.368930</td></tr>\n",
       "\t<tr><td>2</td><td>G1</td><td>romantic  </td><td>10.996200</td></tr>\n",
       "\t<tr><td>2</td><td>G1</td><td>internet  </td><td>10.378790</td></tr>\n",
       "\t<tr><td>2</td><td>G1</td><td>studytime </td><td>10.651520</td></tr>\n",
       "\t<tr><td>2</td><td>G1</td><td>activities</td><td>10.716490</td></tr>\n",
       "\t<tr><td>2</td><td>G1</td><td>school    </td><td>10.673910</td></tr>\n",
       "\t<tr><td>3</td><td>G1</td><td>Alc_Wend  </td><td>10.937500</td></tr>\n",
       "\t<tr><td>3</td><td>G1</td><td>Alc_Wday  </td><td>10.576920</td></tr>\n",
       "\t<tr><td>3</td><td>G1</td><td>go_out    </td><td>11.276920</td></tr>\n",
       "\t<tr><td>3</td><td>G1</td><td>romantic  </td><td> 0.000000</td></tr>\n",
       "\t<tr><td>3</td><td>G1</td><td>internet  </td><td> 0.000000</td></tr>\n",
       "\t<tr><td>3</td><td>G1</td><td>studytime </td><td>12.046150</td></tr>\n",
       "\t<tr><td>3</td><td>G1</td><td>activities</td><td> 0.000000</td></tr>\n",
       "\t<tr><td>3</td><td>G1</td><td>school    </td><td> 0.000000</td></tr>\n",
       "\t<tr><td>4</td><td>G1</td><td>Alc_Wend  </td><td> 9.980392</td></tr>\n",
       "\t<tr><td>4</td><td>G1</td><td>Alc_Wday  </td><td> 9.777778</td></tr>\n",
       "\t<tr><td>4</td><td>G1</td><td>go_out    </td><td>10.430230</td></tr>\n",
       "\t<tr><td>4</td><td>G1</td><td>romantic  </td><td> 0.000000</td></tr>\n",
       "\t<tr><td>4</td><td>G1</td><td>internet  </td><td> 0.000000</td></tr>\n",
       "\t<tr><td>4</td><td>G1</td><td>studytime </td><td>11.888890</td></tr>\n",
       "\t<tr><td>4</td><td>G1</td><td>activities</td><td> 0.000000</td></tr>\n",
       "\t<tr><td>4</td><td>G1</td><td>school    </td><td> 0.000000</td></tr>\n",
       "\t<tr><td>5</td><td>G1</td><td>Alc_Wend  </td><td> 9.964286</td></tr>\n",
       "\t<tr><td>5</td><td>G1</td><td>Alc_Wday  </td><td>10.444440</td></tr>\n",
       "\t<tr><td>5</td><td>G1</td><td>go_out    </td><td> 9.792453</td></tr>\n",
       "\t<tr><td>5</td><td>G1</td><td>romantic  </td><td> 0.000000</td></tr>\n",
       "\t<tr><td>5</td><td>G1</td><td>internet  </td><td> 0.000000</td></tr>\n",
       "\t<tr><td>5</td><td>G1</td><td>studytime </td><td> 0.000000</td></tr>\n",
       "\t<tr><td>5</td><td>G1</td><td>activities</td><td> 0.000000</td></tr>\n",
       "\t<tr><td>5</td><td>G1</td><td>school    </td><td> 0.000000</td></tr>\n",
       "</tbody>\n",
       "</table>\n"
      ],
      "text/latex": [
       "A data.frame: 40 × 4\n",
       "\\begin{tabular}{r|llll}\n",
       " value & grade & Factor & AverageGrade\\\\\n",
       " <fct> & <fct> & <chr> & <dbl>\\\\\n",
       "\\hline\n",
       "\t 1 & G1 & Alc\\_Wend   & 11.178810\\\\\n",
       "\t 1 & G1 & Alc\\_Wday   & 11.155800\\\\\n",
       "\t 1 & G1 & go\\_out     & 11.130430\\\\\n",
       "\t 1 & G1 & romantic   & 10.734850\\\\\n",
       "\t 1 & G1 & internet   & 11.015200\\\\\n",
       "\t 1 & G1 & studytime  & 10.438100\\\\\n",
       "\t 1 & G1 & activities & 11.094530\\\\\n",
       "\t 1 & G1 & school     & 10.939830\\\\\n",
       "\t 2 & G1 & Alc\\_Wend   & 11.270590\\\\\n",
       "\t 2 & G1 & Alc\\_Wday   & 10.306670\\\\\n",
       "\t 2 & G1 & go\\_out     & 11.368930\\\\\n",
       "\t 2 & G1 & romantic   & 10.996200\\\\\n",
       "\t 2 & G1 & internet   & 10.378790\\\\\n",
       "\t 2 & G1 & studytime  & 10.651520\\\\\n",
       "\t 2 & G1 & activities & 10.716490\\\\\n",
       "\t 2 & G1 & school     & 10.673910\\\\\n",
       "\t 3 & G1 & Alc\\_Wend   & 10.937500\\\\\n",
       "\t 3 & G1 & Alc\\_Wday   & 10.576920\\\\\n",
       "\t 3 & G1 & go\\_out     & 11.276920\\\\\n",
       "\t 3 & G1 & romantic   &  0.000000\\\\\n",
       "\t 3 & G1 & internet   &  0.000000\\\\\n",
       "\t 3 & G1 & studytime  & 12.046150\\\\\n",
       "\t 3 & G1 & activities &  0.000000\\\\\n",
       "\t 3 & G1 & school     &  0.000000\\\\\n",
       "\t 4 & G1 & Alc\\_Wend   &  9.980392\\\\\n",
       "\t 4 & G1 & Alc\\_Wday   &  9.777778\\\\\n",
       "\t 4 & G1 & go\\_out     & 10.430230\\\\\n",
       "\t 4 & G1 & romantic   &  0.000000\\\\\n",
       "\t 4 & G1 & internet   &  0.000000\\\\\n",
       "\t 4 & G1 & studytime  & 11.888890\\\\\n",
       "\t 4 & G1 & activities &  0.000000\\\\\n",
       "\t 4 & G1 & school     &  0.000000\\\\\n",
       "\t 5 & G1 & Alc\\_Wend   &  9.964286\\\\\n",
       "\t 5 & G1 & Alc\\_Wday   & 10.444440\\\\\n",
       "\t 5 & G1 & go\\_out     &  9.792453\\\\\n",
       "\t 5 & G1 & romantic   &  0.000000\\\\\n",
       "\t 5 & G1 & internet   &  0.000000\\\\\n",
       "\t 5 & G1 & studytime  &  0.000000\\\\\n",
       "\t 5 & G1 & activities &  0.000000\\\\\n",
       "\t 5 & G1 & school     &  0.000000\\\\\n",
       "\\end{tabular}\n"
      ],
      "text/markdown": [
       "\n",
       "A data.frame: 40 × 4\n",
       "\n",
       "| value &lt;fct&gt; | grade &lt;fct&gt; | Factor &lt;chr&gt; | AverageGrade &lt;dbl&gt; |\n",
       "|---|---|---|---|\n",
       "| 1 | G1 | Alc_Wend   | 11.178810 |\n",
       "| 1 | G1 | Alc_Wday   | 11.155800 |\n",
       "| 1 | G1 | go_out     | 11.130430 |\n",
       "| 1 | G1 | romantic   | 10.734850 |\n",
       "| 1 | G1 | internet   | 11.015200 |\n",
       "| 1 | G1 | studytime  | 10.438100 |\n",
       "| 1 | G1 | activities | 11.094530 |\n",
       "| 1 | G1 | school     | 10.939830 |\n",
       "| 2 | G1 | Alc_Wend   | 11.270590 |\n",
       "| 2 | G1 | Alc_Wday   | 10.306670 |\n",
       "| 2 | G1 | go_out     | 11.368930 |\n",
       "| 2 | G1 | romantic   | 10.996200 |\n",
       "| 2 | G1 | internet   | 10.378790 |\n",
       "| 2 | G1 | studytime  | 10.651520 |\n",
       "| 2 | G1 | activities | 10.716490 |\n",
       "| 2 | G1 | school     | 10.673910 |\n",
       "| 3 | G1 | Alc_Wend   | 10.937500 |\n",
       "| 3 | G1 | Alc_Wday   | 10.576920 |\n",
       "| 3 | G1 | go_out     | 11.276920 |\n",
       "| 3 | G1 | romantic   |  0.000000 |\n",
       "| 3 | G1 | internet   |  0.000000 |\n",
       "| 3 | G1 | studytime  | 12.046150 |\n",
       "| 3 | G1 | activities |  0.000000 |\n",
       "| 3 | G1 | school     |  0.000000 |\n",
       "| 4 | G1 | Alc_Wend   |  9.980392 |\n",
       "| 4 | G1 | Alc_Wday   |  9.777778 |\n",
       "| 4 | G1 | go_out     | 10.430230 |\n",
       "| 4 | G1 | romantic   |  0.000000 |\n",
       "| 4 | G1 | internet   |  0.000000 |\n",
       "| 4 | G1 | studytime  | 11.888890 |\n",
       "| 4 | G1 | activities |  0.000000 |\n",
       "| 4 | G1 | school     |  0.000000 |\n",
       "| 5 | G1 | Alc_Wend   |  9.964286 |\n",
       "| 5 | G1 | Alc_Wday   | 10.444440 |\n",
       "| 5 | G1 | go_out     |  9.792453 |\n",
       "| 5 | G1 | romantic   |  0.000000 |\n",
       "| 5 | G1 | internet   |  0.000000 |\n",
       "| 5 | G1 | studytime  |  0.000000 |\n",
       "| 5 | G1 | activities |  0.000000 |\n",
       "| 5 | G1 | school     |  0.000000 |\n",
       "\n"
      ],
      "text/plain": [
       "   value grade Factor     AverageGrade\n",
       "1  1     G1    Alc_Wend   11.178810   \n",
       "2  1     G1    Alc_Wday   11.155800   \n",
       "3  1     G1    go_out     11.130430   \n",
       "4  1     G1    romantic   10.734850   \n",
       "5  1     G1    internet   11.015200   \n",
       "6  1     G1    studytime  10.438100   \n",
       "7  1     G1    activities 11.094530   \n",
       "8  1     G1    school     10.939830   \n",
       "9  2     G1    Alc_Wend   11.270590   \n",
       "10 2     G1    Alc_Wday   10.306670   \n",
       "11 2     G1    go_out     11.368930   \n",
       "12 2     G1    romantic   10.996200   \n",
       "13 2     G1    internet   10.378790   \n",
       "14 2     G1    studytime  10.651520   \n",
       "15 2     G1    activities 10.716490   \n",
       "16 2     G1    school     10.673910   \n",
       "17 3     G1    Alc_Wend   10.937500   \n",
       "18 3     G1    Alc_Wday   10.576920   \n",
       "19 3     G1    go_out     11.276920   \n",
       "20 3     G1    romantic    0.000000   \n",
       "21 3     G1    internet    0.000000   \n",
       "22 3     G1    studytime  12.046150   \n",
       "23 3     G1    activities  0.000000   \n",
       "24 3     G1    school      0.000000   \n",
       "25 4     G1    Alc_Wend    9.980392   \n",
       "26 4     G1    Alc_Wday    9.777778   \n",
       "27 4     G1    go_out     10.430230   \n",
       "28 4     G1    romantic    0.000000   \n",
       "29 4     G1    internet    0.000000   \n",
       "30 4     G1    studytime  11.888890   \n",
       "31 4     G1    activities  0.000000   \n",
       "32 4     G1    school      0.000000   \n",
       "33 5     G1    Alc_Wend    9.964286   \n",
       "34 5     G1    Alc_Wday   10.444440   \n",
       "35 5     G1    go_out      9.792453   \n",
       "36 5     G1    romantic    0.000000   \n",
       "37 5     G1    internet    0.000000   \n",
       "38 5     G1    studytime   0.000000   \n",
       "39 5     G1    activities  0.000000   \n",
       "40 5     G1    school      0.000000   "
      ]
     },
     "metadata": {},
     "output_type": "display_data"
    }
   ],
   "source": [
    "avg_grades_piv <- avg_grades_piv %>% transform(value = as.factor(value))\n",
    "\n",
    "avg_grades_piv1 <- avg_grades_piv %>% filter(grade == 'G1')\n",
    "avg_grades_piv2 <- avg_grades_piv %>% filter(grade == 'G2')\n",
    "avg_grades_piv3 <- avg_grades_piv %>% filter(grade == 'G3')\n",
    "\n",
    "avg_grades_piv1"
   ]
  },
  {
   "cell_type": "code",
   "execution_count": 18,
   "metadata": {
    "scrolled": false
   },
   "outputs": [
    {
     "data": {
      "image/png": "[encoded data removed]",
      "text/plain": [
       "plot without title"
      ]
     },
     "metadata": {},
     "output_type": "display_data"
    }
   ],
   "source": [
    "coul <- c('#fef0d9','#fdd49e','#fdbb84','#fc8d59','#e34a33','#b30000')\n",
    "plot1 <- ggplot(data = avg_grades_piv1) + \n",
    "        geom_bar(mapping = aes(x = Factor, y=AverageGrade, fill = value), position = \"dodge\", stat=\"identity\") + \n",
    "        scale_fill_manual(values = coul) + ylab(\"Average Grade (G1)\") + ylim(c(0,20)) + \n",
    "        ggtitle(\"Average Math Grade\\nper Questionnaire Value\\n(First) \") \n",
    "plot1"
   ]
  },
  {
   "cell_type": "code",
   "execution_count": 19,
   "metadata": {},
   "outputs": [
    {
     "data": {
      "image/png": "[encoded data removed]",
      "text/plain": [
       "plot without title"
      ]
     },
     "metadata": {},
     "output_type": "display_data"
    }
   ],
   "source": [
    "plot2 <- ggplot(data = avg_grades_piv2) + \n",
    "        geom_bar(mapping = aes(x = Factor, y=AverageGrade, fill = value), position = \"dodge\", stat=\"identity\") + \n",
    "        ylab(\"Average Grade (G2)\") + ylim(c(0,20)) + scale_fill_manual(values = coul)\n",
    "plot2"
   ]
  },
  {
   "cell_type": "code",
   "execution_count": 20,
   "metadata": {},
   "outputs": [
    {
     "data": {
      "image/png": "[encoded data removed]",
      "text/plain": [
       "plot without title"
      ]
     },
     "metadata": {},
     "output_type": "display_data"
    }
   ],
   "source": [
    "plot3 <- ggplot(data = avg_grades_piv3) + \n",
    "        geom_bar(mapping = aes(x = Factor, y=AverageGrade, fill = value), position = \"dodge\", stat=\"identity\") + \n",
    "        ylab(\"Average Grade (G3)\") + ylim(c(0,20)) + scale_fill_manual(values = coul)\n",
    "plot3"
   ]
  },
  {
   "cell_type": "code",
   "execution_count": 21,
   "metadata": {},
   "outputs": [
    {
     "data": {
      "text/html": [
       "<table>\n",
       "<caption>A data.frame: 6 × 33</caption>\n",
       "<thead>\n",
       "\t<tr><th scope=col>school</th><th scope=col>sex</th><th scope=col>age</th><th scope=col>address</th><th scope=col>famsize</th><th scope=col>Pstatus</th><th scope=col>Medu</th><th scope=col>Fedu</th><th scope=col>Mjob</th><th scope=col>Fjob</th><th scope=col>⋯</th><th scope=col>famrel</th><th scope=col>freetime</th><th scope=col>goout</th><th scope=col>Dalc</th><th scope=col>Walc</th><th scope=col>health</th><th scope=col>absences</th><th scope=col>G1</th><th scope=col>G2</th><th scope=col>G3</th></tr>\n",
       "\t<tr><th scope=col>&lt;chr&gt;</th><th scope=col>&lt;chr&gt;</th><th scope=col>&lt;int&gt;</th><th scope=col>&lt;chr&gt;</th><th scope=col>&lt;chr&gt;</th><th scope=col>&lt;chr&gt;</th><th scope=col>&lt;int&gt;</th><th scope=col>&lt;int&gt;</th><th scope=col>&lt;chr&gt;</th><th scope=col>&lt;chr&gt;</th><th scope=col>⋯</th><th scope=col>&lt;int&gt;</th><th scope=col>&lt;int&gt;</th><th scope=col>&lt;int&gt;</th><th scope=col>&lt;int&gt;</th><th scope=col>&lt;int&gt;</th><th scope=col>&lt;int&gt;</th><th scope=col>&lt;int&gt;</th><th scope=col>&lt;int&gt;</th><th scope=col>&lt;int&gt;</th><th scope=col>&lt;int&gt;</th></tr>\n",
       "</thead>\n",
       "<tbody>\n",
       "\t<tr><td>GP</td><td>F</td><td>18</td><td>U</td><td>GT3</td><td>A</td><td>4</td><td>4</td><td>at_home </td><td>teacher </td><td>⋯</td><td>4</td><td>3</td><td>4</td><td>1</td><td>1</td><td>3</td><td>4</td><td> 0</td><td>11</td><td>11</td></tr>\n",
       "\t<tr><td>GP</td><td>F</td><td>17</td><td>U</td><td>GT3</td><td>T</td><td>1</td><td>1</td><td>at_home </td><td>other   </td><td>⋯</td><td>5</td><td>3</td><td>3</td><td>1</td><td>1</td><td>3</td><td>2</td><td> 9</td><td>11</td><td>11</td></tr>\n",
       "\t<tr><td>GP</td><td>F</td><td>15</td><td>U</td><td>LE3</td><td>T</td><td>1</td><td>1</td><td>at_home </td><td>other   </td><td>⋯</td><td>4</td><td>3</td><td>2</td><td>2</td><td>3</td><td>3</td><td>6</td><td>12</td><td>13</td><td>12</td></tr>\n",
       "\t<tr><td>GP</td><td>F</td><td>15</td><td>U</td><td>GT3</td><td>T</td><td>4</td><td>2</td><td>health  </td><td>services</td><td>⋯</td><td>3</td><td>2</td><td>2</td><td>1</td><td>1</td><td>5</td><td>0</td><td>14</td><td>14</td><td>14</td></tr>\n",
       "\t<tr><td>GP</td><td>F</td><td>16</td><td>U</td><td>GT3</td><td>T</td><td>3</td><td>3</td><td>other   </td><td>other   </td><td>⋯</td><td>4</td><td>3</td><td>2</td><td>1</td><td>2</td><td>5</td><td>0</td><td>11</td><td>13</td><td>13</td></tr>\n",
       "\t<tr><td>GP</td><td>M</td><td>16</td><td>U</td><td>LE3</td><td>T</td><td>4</td><td>3</td><td>services</td><td>other   </td><td>⋯</td><td>5</td><td>4</td><td>2</td><td>1</td><td>2</td><td>5</td><td>6</td><td>12</td><td>12</td><td>13</td></tr>\n",
       "</tbody>\n",
       "</table>\n"
      ],
      "text/latex": [
       "A data.frame: 6 × 33\n",
       "\\begin{tabular}{r|lllllllllllllllllllllllllllllllll}\n",
       " school & sex & age & address & famsize & Pstatus & Medu & Fedu & Mjob & Fjob & reason & guardian & traveltime & studytime & failures & schoolsup & famsup & paid & activities & nursery & higher & internet & romantic & famrel & freetime & goout & Dalc & Walc & health & absences & G1 & G2 & G3\\\\\n",
       " <chr> & <chr> & <int> & <chr> & <chr> & <chr> & <int> & <int> & <chr> & <chr> & <chr> & <chr> & <int> & <int> & <int> & <chr> & <chr> & <chr> & <chr> & <chr> & <chr> & <chr> & <chr> & <int> & <int> & <int> & <int> & <int> & <int> & <int> & <int> & <int> & <int>\\\\\n",
       "\\hline\n",
       "\t GP & F & 18 & U & GT3 & A & 4 & 4 & at\\_home  & teacher  & course     & mother & 2 & 2 & 0 & yes & no  & no & no  & yes & yes & no  & no  & 4 & 3 & 4 & 1 & 1 & 3 & 4 &  0 & 11 & 11\\\\\n",
       "\t GP & F & 17 & U & GT3 & T & 1 & 1 & at\\_home  & other    & course     & father & 1 & 2 & 0 & no  & yes & no & no  & no  & yes & yes & no  & 5 & 3 & 3 & 1 & 1 & 3 & 2 &  9 & 11 & 11\\\\\n",
       "\t GP & F & 15 & U & LE3 & T & 1 & 1 & at\\_home  & other    & other      & mother & 1 & 2 & 0 & yes & no  & no & no  & yes & yes & yes & no  & 4 & 3 & 2 & 2 & 3 & 3 & 6 & 12 & 13 & 12\\\\\n",
       "\t GP & F & 15 & U & GT3 & T & 4 & 2 & health   & services & home       & mother & 1 & 3 & 0 & no  & yes & no & yes & yes & yes & yes & yes & 3 & 2 & 2 & 1 & 1 & 5 & 0 & 14 & 14 & 14\\\\\n",
       "\t GP & F & 16 & U & GT3 & T & 3 & 3 & other    & other    & home       & father & 1 & 2 & 0 & no  & yes & no & no  & yes & yes & no  & no  & 4 & 3 & 2 & 1 & 2 & 5 & 0 & 11 & 13 & 13\\\\\n",
       "\t GP & M & 16 & U & LE3 & T & 4 & 3 & services & other    & reputation & mother & 1 & 2 & 0 & no  & yes & no & yes & yes & yes & yes & no  & 5 & 4 & 2 & 1 & 2 & 5 & 6 & 12 & 12 & 13\\\\\n",
       "\\end{tabular}\n"
      ],
      "text/markdown": [
       "\n",
       "A data.frame: 6 × 33\n",
       "\n",
       "| school &lt;chr&gt; | sex &lt;chr&gt; | age &lt;int&gt; | address &lt;chr&gt; | famsize &lt;chr&gt; | Pstatus &lt;chr&gt; | Medu &lt;int&gt; | Fedu &lt;int&gt; | Mjob &lt;chr&gt; | Fjob &lt;chr&gt; | ⋯ ⋯ | famrel &lt;int&gt; | freetime &lt;int&gt; | goout &lt;int&gt; | Dalc &lt;int&gt; | Walc &lt;int&gt; | health &lt;int&gt; | absences &lt;int&gt; | G1 &lt;int&gt; | G2 &lt;int&gt; | G3 &lt;int&gt; |\n",
       "|---|---|---|---|---|---|---|---|---|---|---|---|---|---|---|---|---|---|---|---|---|\n",
       "| GP | F | 18 | U | GT3 | A | 4 | 4 | at_home  | teacher  | ⋯ | 4 | 3 | 4 | 1 | 1 | 3 | 4 |  0 | 11 | 11 |\n",
       "| GP | F | 17 | U | GT3 | T | 1 | 1 | at_home  | other    | ⋯ | 5 | 3 | 3 | 1 | 1 | 3 | 2 |  9 | 11 | 11 |\n",
       "| GP | F | 15 | U | LE3 | T | 1 | 1 | at_home  | other    | ⋯ | 4 | 3 | 2 | 2 | 3 | 3 | 6 | 12 | 13 | 12 |\n",
       "| GP | F | 15 | U | GT3 | T | 4 | 2 | health   | services | ⋯ | 3 | 2 | 2 | 1 | 1 | 5 | 0 | 14 | 14 | 14 |\n",
       "| GP | F | 16 | U | GT3 | T | 3 | 3 | other    | other    | ⋯ | 4 | 3 | 2 | 1 | 2 | 5 | 0 | 11 | 13 | 13 |\n",
       "| GP | M | 16 | U | LE3 | T | 4 | 3 | services | other    | ⋯ | 5 | 4 | 2 | 1 | 2 | 5 | 6 | 12 | 12 | 13 |\n",
       "\n"
      ],
      "text/plain": [
       "  school sex age address famsize Pstatus Medu Fedu Mjob     Fjob     ⋯ famrel\n",
       "1 GP     F   18  U       GT3     A       4    4    at_home  teacher  ⋯ 4     \n",
       "2 GP     F   17  U       GT3     T       1    1    at_home  other    ⋯ 5     \n",
       "3 GP     F   15  U       LE3     T       1    1    at_home  other    ⋯ 4     \n",
       "4 GP     F   15  U       GT3     T       4    2    health   services ⋯ 3     \n",
       "5 GP     F   16  U       GT3     T       3    3    other    other    ⋯ 4     \n",
       "6 GP     M   16  U       LE3     T       4    3    services other    ⋯ 5     \n",
       "  freetime goout Dalc Walc health absences G1 G2 G3\n",
       "1 3        4     1    1    3      4         0 11 11\n",
       "2 3        3     1    1    3      2         9 11 11\n",
       "3 3        2     2    3    3      6        12 13 12\n",
       "4 2        2     1    1    5      0        14 14 14\n",
       "5 3        2     1    2    5      0        11 13 13\n",
       "6 4        2     1    2    5      6        12 12 13"
      ]
     },
     "metadata": {},
     "output_type": "display_data"
    }
   ],
   "source": [
    "file2 <- read.csv('/home/jpsvf2/jupyter/student-por.csv', encoding = 'utf-8', sep = ';', stringsAsFactors = FALSE)\n",
    "head(file2)"
   ]
  },
  {
   "cell_type": "code",
   "execution_count": 22,
   "metadata": {},
   "outputs": [
    {
     "data": {
      "text/html": [
       "<table>\n",
       "<caption>A data.frame: 4 × 1</caption>\n",
       "<thead>\n",
       "\t<tr><th scope=col>studytime</th></tr>\n",
       "\t<tr><th scope=col>&lt;int&gt;</th></tr>\n",
       "</thead>\n",
       "<tbody>\n",
       "\t<tr><td>2</td></tr>\n",
       "\t<tr><td>3</td></tr>\n",
       "\t<tr><td>1</td></tr>\n",
       "\t<tr><td>4</td></tr>\n",
       "</tbody>\n",
       "</table>\n"
      ],
      "text/latex": [
       "A data.frame: 4 × 1\n",
       "\\begin{tabular}{r|l}\n",
       " studytime\\\\\n",
       " <int>\\\\\n",
       "\\hline\n",
       "\t 2\\\\\n",
       "\t 3\\\\\n",
       "\t 1\\\\\n",
       "\t 4\\\\\n",
       "\\end{tabular}\n"
      ],
      "text/markdown": [
       "\n",
       "A data.frame: 4 × 1\n",
       "\n",
       "| studytime &lt;int&gt; |\n",
       "|---|\n",
       "| 2 |\n",
       "| 3 |\n",
       "| 1 |\n",
       "| 4 |\n",
       "\n"
      ],
      "text/plain": [
       "  studytime\n",
       "1 2        \n",
       "2 3        \n",
       "3 1        \n",
       "4 4        "
      ]
     },
     "metadata": {},
     "output_type": "display_data"
    }
   ],
   "source": [
    "distinct(file2, studytime)"
   ]
  },
  {
   "cell_type": "code",
   "execution_count": 23,
   "metadata": {},
   "outputs": [
    {
     "data": {
      "text/html": [
       "<table>\n",
       "<caption>A data.frame: 1 × 7</caption>\n",
       "<thead>\n",
       "\t<tr><th scope=col>Dalc</th><th scope=col>G1</th><th scope=col>G2</th><th scope=col>G3</th><th scope=col>Average.G1</th><th scope=col>Average.G2</th><th scope=col>Average.G3</th></tr>\n",
       "\t<tr><th scope=col>&lt;int&gt;</th><th scope=col>&lt;dbl&gt;</th><th scope=col>&lt;dbl&gt;</th><th scope=col>&lt;dbl&gt;</th><th scope=col>&lt;dbl&gt;</th><th scope=col>&lt;dbl&gt;</th><th scope=col>&lt;dbl&gt;</th></tr>\n",
       "</thead>\n",
       "<tbody>\n",
       "\t<tr><td>1</td><td>0</td><td>11</td><td>11</td><td>11.69845</td><td>11.89579</td><td>12.29933</td></tr>\n",
       "</tbody>\n",
       "</table>\n"
      ],
      "text/latex": [
       "A data.frame: 1 × 7\n",
       "\\begin{tabular}{r|lllllll}\n",
       " Dalc & G1 & G2 & G3 & Average.G1 & Average.G2 & Average.G3\\\\\n",
       " <int> & <dbl> & <dbl> & <dbl> & <dbl> & <dbl> & <dbl>\\\\\n",
       "\\hline\n",
       "\t 1 & 0 & 11 & 11 & 11.69845 & 11.89579 & 12.29933\\\\\n",
       "\\end{tabular}\n"
      ],
      "text/markdown": [
       "\n",
       "A data.frame: 1 × 7\n",
       "\n",
       "| Dalc &lt;int&gt; | G1 &lt;dbl&gt; | G2 &lt;dbl&gt; | G3 &lt;dbl&gt; | Average.G1 &lt;dbl&gt; | Average.G2 &lt;dbl&gt; | Average.G3 &lt;dbl&gt; |\n",
       "|---|---|---|---|---|---|---|\n",
       "| 1 | 0 | 11 | 11 | 11.69845 | 11.89579 | 12.29933 |\n",
       "\n"
      ],
      "text/plain": [
       "  Dalc G1 G2 G3 Average.G1 Average.G2 Average.G3\n",
       "1 1    0  11 11 11.69845   11.89579   12.29933  "
      ]
     },
     "metadata": {},
     "output_type": "display_data"
    },
    {
     "data": {
      "text/html": [
       "<table>\n",
       "<caption>A data.frame: 1 × 7</caption>\n",
       "<thead>\n",
       "\t<tr><th scope=col>Dalc</th><th scope=col>G1</th><th scope=col>G2</th><th scope=col>G3</th><th scope=col>Average.G1</th><th scope=col>Average.G2</th><th scope=col>Average.G3</th></tr>\n",
       "\t<tr><th scope=col>&lt;int&gt;</th><th scope=col>&lt;dbl&gt;</th><th scope=col>&lt;dbl&gt;</th><th scope=col>&lt;dbl&gt;</th><th scope=col>&lt;dbl&gt;</th><th scope=col>&lt;dbl&gt;</th><th scope=col>&lt;dbl&gt;</th></tr>\n",
       "</thead>\n",
       "<tbody>\n",
       "\t<tr><td>2</td><td>12</td><td>13</td><td>12</td><td>11.09091</td><td>11.15702</td><td>11.36364</td></tr>\n",
       "</tbody>\n",
       "</table>\n"
      ],
      "text/latex": [
       "A data.frame: 1 × 7\n",
       "\\begin{tabular}{r|lllllll}\n",
       " Dalc & G1 & G2 & G3 & Average.G1 & Average.G2 & Average.G3\\\\\n",
       " <int> & <dbl> & <dbl> & <dbl> & <dbl> & <dbl> & <dbl>\\\\\n",
       "\\hline\n",
       "\t 2 & 12 & 13 & 12 & 11.09091 & 11.15702 & 11.36364\\\\\n",
       "\\end{tabular}\n"
      ],
      "text/markdown": [
       "\n",
       "A data.frame: 1 × 7\n",
       "\n",
       "| Dalc &lt;int&gt; | G1 &lt;dbl&gt; | G2 &lt;dbl&gt; | G3 &lt;dbl&gt; | Average.G1 &lt;dbl&gt; | Average.G2 &lt;dbl&gt; | Average.G3 &lt;dbl&gt; |\n",
       "|---|---|---|---|---|---|---|\n",
       "| 2 | 12 | 13 | 12 | 11.09091 | 11.15702 | 11.36364 |\n",
       "\n"
      ],
      "text/plain": [
       "  Dalc G1 G2 G3 Average.G1 Average.G2 Average.G3\n",
       "1 2    12 13 12 11.09091   11.15702   11.36364  "
      ]
     },
     "metadata": {},
     "output_type": "display_data"
    },
    {
     "data": {
      "text/html": [
       "<table>\n",
       "<caption>A data.frame: 1 × 7</caption>\n",
       "<thead>\n",
       "\t<tr><th scope=col>Dalc</th><th scope=col>G1</th><th scope=col>G2</th><th scope=col>G3</th><th scope=col>Average.G1</th><th scope=col>Average.G2</th><th scope=col>Average.G3</th></tr>\n",
       "\t<tr><th scope=col>&lt;int&gt;</th><th scope=col>&lt;dbl&gt;</th><th scope=col>&lt;dbl&gt;</th><th scope=col>&lt;dbl&gt;</th><th scope=col>&lt;dbl&gt;</th><th scope=col>&lt;dbl&gt;</th><th scope=col>&lt;dbl&gt;</th></tr>\n",
       "</thead>\n",
       "<tbody>\n",
       "\t<tr><td>3</td><td>10</td><td>11</td><td>11</td><td>10.44186</td><td>10.74419</td><td>11.13953</td></tr>\n",
       "</tbody>\n",
       "</table>\n"
      ],
      "text/latex": [
       "A data.frame: 1 × 7\n",
       "\\begin{tabular}{r|lllllll}\n",
       " Dalc & G1 & G2 & G3 & Average.G1 & Average.G2 & Average.G3\\\\\n",
       " <int> & <dbl> & <dbl> & <dbl> & <dbl> & <dbl> & <dbl>\\\\\n",
       "\\hline\n",
       "\t 3 & 10 & 11 & 11 & 10.44186 & 10.74419 & 11.13953\\\\\n",
       "\\end{tabular}\n"
      ],
      "text/markdown": [
       "\n",
       "A data.frame: 1 × 7\n",
       "\n",
       "| Dalc &lt;int&gt; | G1 &lt;dbl&gt; | G2 &lt;dbl&gt; | G3 &lt;dbl&gt; | Average.G1 &lt;dbl&gt; | Average.G2 &lt;dbl&gt; | Average.G3 &lt;dbl&gt; |\n",
       "|---|---|---|---|---|---|---|\n",
       "| 3 | 10 | 11 | 11 | 10.44186 | 10.74419 | 11.13953 |\n",
       "\n"
      ],
      "text/plain": [
       "  Dalc G1 G2 G3 Average.G1 Average.G2 Average.G3\n",
       "1 3    10 11 11 10.44186   10.74419   11.13953  "
      ]
     },
     "metadata": {},
     "output_type": "display_data"
    },
    {
     "data": {
      "text/html": [
       "<table>\n",
       "<caption>A data.frame: 1 × 7</caption>\n",
       "<thead>\n",
       "\t<tr><th scope=col>Dalc</th><th scope=col>G1</th><th scope=col>G2</th><th scope=col>G3</th><th scope=col>Average.G1</th><th scope=col>Average.G2</th><th scope=col>Average.G3</th></tr>\n",
       "\t<tr><th scope=col>&lt;int&gt;</th><th scope=col>&lt;dbl&gt;</th><th scope=col>&lt;dbl&gt;</th><th scope=col>&lt;dbl&gt;</th><th scope=col>&lt;dbl&gt;</th><th scope=col>&lt;dbl&gt;</th><th scope=col>&lt;dbl&gt;</th></tr>\n",
       "</thead>\n",
       "<tbody>\n",
       "\t<tr><td>4</td><td>13</td><td>12</td><td>13</td><td>9.941176</td><td>9.470588</td><td>8.941176</td></tr>\n",
       "</tbody>\n",
       "</table>\n"
      ],
      "text/latex": [
       "A data.frame: 1 × 7\n",
       "\\begin{tabular}{r|lllllll}\n",
       " Dalc & G1 & G2 & G3 & Average.G1 & Average.G2 & Average.G3\\\\\n",
       " <int> & <dbl> & <dbl> & <dbl> & <dbl> & <dbl> & <dbl>\\\\\n",
       "\\hline\n",
       "\t 4 & 13 & 12 & 13 & 9.941176 & 9.470588 & 8.941176\\\\\n",
       "\\end{tabular}\n"
      ],
      "text/markdown": [
       "\n",
       "A data.frame: 1 × 7\n",
       "\n",
       "| Dalc &lt;int&gt; | G1 &lt;dbl&gt; | G2 &lt;dbl&gt; | G3 &lt;dbl&gt; | Average.G1 &lt;dbl&gt; | Average.G2 &lt;dbl&gt; | Average.G3 &lt;dbl&gt; |\n",
       "|---|---|---|---|---|---|---|\n",
       "| 4 | 13 | 12 | 13 | 9.941176 | 9.470588 | 8.941176 |\n",
       "\n"
      ],
      "text/plain": [
       "  Dalc G1 G2 G3 Average.G1 Average.G2 Average.G3\n",
       "1 4    13 12 13 9.941176   9.470588   8.941176  "
      ]
     },
     "metadata": {},
     "output_type": "display_data"
    },
    {
     "data": {
      "text/html": [
       "<table>\n",
       "<caption>A data.frame: 1 × 7</caption>\n",
       "<thead>\n",
       "\t<tr><th scope=col>Dalc</th><th scope=col>G1</th><th scope=col>G2</th><th scope=col>G3</th><th scope=col>Average.G1</th><th scope=col>Average.G2</th><th scope=col>Average.G3</th></tr>\n",
       "\t<tr><th scope=col>&lt;int&gt;</th><th scope=col>&lt;dbl&gt;</th><th scope=col>&lt;dbl&gt;</th><th scope=col>&lt;dbl&gt;</th><th scope=col>&lt;dbl&gt;</th><th scope=col>&lt;dbl&gt;</th><th scope=col>&lt;dbl&gt;</th></tr>\n",
       "</thead>\n",
       "<tbody>\n",
       "\t<tr><td>5</td><td>12</td><td>11</td><td>12</td><td>9.529412</td><td>10.05882</td><td>10.23529</td></tr>\n",
       "</tbody>\n",
       "</table>\n"
      ],
      "text/latex": [
       "A data.frame: 1 × 7\n",
       "\\begin{tabular}{r|lllllll}\n",
       " Dalc & G1 & G2 & G3 & Average.G1 & Average.G2 & Average.G3\\\\\n",
       " <int> & <dbl> & <dbl> & <dbl> & <dbl> & <dbl> & <dbl>\\\\\n",
       "\\hline\n",
       "\t 5 & 12 & 11 & 12 & 9.529412 & 10.05882 & 10.23529\\\\\n",
       "\\end{tabular}\n"
      ],
      "text/markdown": [
       "\n",
       "A data.frame: 1 × 7\n",
       "\n",
       "| Dalc &lt;int&gt; | G1 &lt;dbl&gt; | G2 &lt;dbl&gt; | G3 &lt;dbl&gt; | Average.G1 &lt;dbl&gt; | Average.G2 &lt;dbl&gt; | Average.G3 &lt;dbl&gt; |\n",
       "|---|---|---|---|---|---|---|\n",
       "| 5 | 12 | 11 | 12 | 9.529412 | 10.05882 | 10.23529 |\n",
       "\n"
      ],
      "text/plain": [
       "  Dalc G1 G2 G3 Average.G1 Average.G2 Average.G3\n",
       "1 5    12 11 12 9.529412   10.05882   10.23529  "
      ]
     },
     "metadata": {},
     "output_type": "display_data"
    }
   ],
   "source": [
    "Dalc1_df2 <- select(file2, Dalc, G1, G2, G3) %>% filter(Dalc == 1) %>% transform(G1 = as.numeric(G1)) %>%\n",
    "    transform(G2 = as.numeric(G2)) %>% transform(G3 = as.numeric(G3))\n",
    "Dalc1_df2 <- Dalc1_df2 %>% group_by(Dalc) %>% \n",
    "    transform(Avgerage.G1 = summarise(Dalc1_df2, Average.G1 = mean(G1, na.rm = T))) %>%\n",
    "    transform(Avgerage.G2 = summarise(Dalc1_df2, Average.G2 = mean(G2, na.rm = T))) %>%\n",
    "    transform(Avgerage.G3 = summarise(Dalc1_df2, Average.G3 = mean(G3, na.rm = T)))\n",
    "\n",
    "Dalc2_df2 <- select(file2, Dalc, G1, G2, G3) %>% filter(Dalc == 2) %>% transform(G1 = as.numeric(G1)) %>%\n",
    "    transform(G2 = as.numeric(G2)) %>% transform(G3 = as.numeric(G3))\n",
    "Dalc2_df2 <- Dalc2_df2 %>% group_by(Dalc) %>% \n",
    "    transform(Avgerage.G1 = summarise(Dalc2_df2, Average.G1 = mean(G1, na.rm = T))) %>%\n",
    "    transform(Avgerage.G2 = summarise(Dalc2_df2, Average.G2 = mean(G2, na.rm = T))) %>%\n",
    "    transform(Avgerage.G3 = summarise(Dalc2_df2, Average.G3 = mean(G3, na.rm = T)))\n",
    "\n",
    "Dalc3_df2 <- select(file2, Dalc, G1, G2, G3) %>% filter(Dalc == 3) %>% transform(G1 = as.numeric(G1)) %>%\n",
    "    transform(G2 = as.numeric(G2)) %>% transform(G3 = as.numeric(G3))\n",
    "Dalc3_df2 <- Dalc3_df2 %>% group_by(Dalc) %>% \n",
    "    transform(Avgerage.G1 = summarise(Dalc3_df2, Average.G1 = mean(G1, na.rm = T))) %>%\n",
    "    transform(Avgerage.G2 = summarise(Dalc3_df2, Average.G2 = mean(G2, na.rm = T))) %>%\n",
    "    transform(Avgerage.G3 = summarise(Dalc3_df2, Average.G3 = mean(G3, na.rm = T)))\n",
    "\n",
    "Dalc4_df2 <- select(file2, Dalc, G1, G2, G3) %>% filter(Dalc == 4) %>% transform(G1 = as.numeric(G1)) %>%\n",
    "    transform(G2 = as.numeric(G2)) %>% transform(G3 = as.numeric(G3))\n",
    "Dalc4_df2 <- Dalc4_df2 %>% group_by(Dalc) %>% \n",
    "    transform(Avgerage.G1 = summarise(Dalc4_df2, Average.G1 = mean(G1, na.rm = T))) %>%\n",
    "    transform(Avgerage.G2 = summarise(Dalc4_df2, Average.G2 = mean(G2, na.rm = T))) %>%\n",
    "    transform(Avgerage.G3 = summarise(Dalc4_df2, Average.G3 = mean(G3, na.rm = T)))\n",
    "\n",
    "Dalc5_df2 <- select(file2, Dalc, G1, G2, G3) %>% filter(Dalc == 5) %>% transform(G1 = as.numeric(G1)) %>%\n",
    "    transform(G2 = as.numeric(G2)) %>% transform(G3 = as.numeric(G3))\n",
    "Dalc5_df2 <- Dalc5_df2 %>% group_by(Dalc) %>% \n",
    "    transform(Avgerage.G1 = summarise(Dalc5_df2, Average.G1 = mean(G1, na.rm = T))) %>%\n",
    "    transform(Avgerage.G2 = summarise(Dalc5_df2, Average.G2 = mean(G2, na.rm = T))) %>%\n",
    "    transform(Avgerage.G3 = summarise(Dalc5_df2, Average.G3 = mean(G3, na.rm = T)))\n",
    "\n",
    "head(Dalc1_df2, 1)\n",
    "head(Dalc2_df2, 1)\n",
    "head(Dalc3_df2, 1)\n",
    "head(Dalc4_df2, 1)\n",
    "head(Dalc5_df2, 1)"
   ]
  },
  {
   "cell_type": "code",
   "execution_count": 24,
   "metadata": {},
   "outputs": [
    {
     "data": {
      "text/html": [
       "<table>\n",
       "<caption>A data.frame: 1 × 7</caption>\n",
       "<thead>\n",
       "\t<tr><th scope=col>Walc</th><th scope=col>G1</th><th scope=col>G2</th><th scope=col>G3</th><th scope=col>Average.G1</th><th scope=col>Average.G2</th><th scope=col>Average.G3</th></tr>\n",
       "\t<tr><th scope=col>&lt;int&gt;</th><th scope=col>&lt;dbl&gt;</th><th scope=col>&lt;dbl&gt;</th><th scope=col>&lt;dbl&gt;</th><th scope=col>&lt;dbl&gt;</th><th scope=col>&lt;dbl&gt;</th><th scope=col>&lt;dbl&gt;</th></tr>\n",
       "</thead>\n",
       "<tbody>\n",
       "\t<tr><td>1</td><td>0</td><td>11</td><td>11</td><td>11.68826</td><td>11.95142</td><td>12.36032</td></tr>\n",
       "</tbody>\n",
       "</table>\n"
      ],
      "text/latex": [
       "A data.frame: 1 × 7\n",
       "\\begin{tabular}{r|lllllll}\n",
       " Walc & G1 & G2 & G3 & Average.G1 & Average.G2 & Average.G3\\\\\n",
       " <int> & <dbl> & <dbl> & <dbl> & <dbl> & <dbl> & <dbl>\\\\\n",
       "\\hline\n",
       "\t 1 & 0 & 11 & 11 & 11.68826 & 11.95142 & 12.36032\\\\\n",
       "\\end{tabular}\n"
      ],
      "text/markdown": [
       "\n",
       "A data.frame: 1 × 7\n",
       "\n",
       "| Walc &lt;int&gt; | G1 &lt;dbl&gt; | G2 &lt;dbl&gt; | G3 &lt;dbl&gt; | Average.G1 &lt;dbl&gt; | Average.G2 &lt;dbl&gt; | Average.G3 &lt;dbl&gt; |\n",
       "|---|---|---|---|---|---|---|\n",
       "| 1 | 0 | 11 | 11 | 11.68826 | 11.95142 | 12.36032 |\n",
       "\n"
      ],
      "text/plain": [
       "  Walc G1 G2 G3 Average.G1 Average.G2 Average.G3\n",
       "1 1    0  11 11 11.68826   11.95142   12.36032  "
      ]
     },
     "metadata": {},
     "output_type": "display_data"
    },
    {
     "data": {
      "text/html": [
       "<table>\n",
       "<caption>A data.frame: 1 × 7</caption>\n",
       "<thead>\n",
       "\t<tr><th scope=col>Walc</th><th scope=col>G1</th><th scope=col>G2</th><th scope=col>G3</th><th scope=col>Average.G1</th><th scope=col>Average.G2</th><th scope=col>Average.G3</th></tr>\n",
       "\t<tr><th scope=col>&lt;int&gt;</th><th scope=col>&lt;dbl&gt;</th><th scope=col>&lt;dbl&gt;</th><th scope=col>&lt;dbl&gt;</th><th scope=col>&lt;dbl&gt;</th><th scope=col>&lt;dbl&gt;</th><th scope=col>&lt;dbl&gt;</th></tr>\n",
       "</thead>\n",
       "<tbody>\n",
       "\t<tr><td>2</td><td>11</td><td>13</td><td>13</td><td>11.74667</td><td>11.82</td><td>12.26</td></tr>\n",
       "</tbody>\n",
       "</table>\n"
      ],
      "text/latex": [
       "A data.frame: 1 × 7\n",
       "\\begin{tabular}{r|lllllll}\n",
       " Walc & G1 & G2 & G3 & Average.G1 & Average.G2 & Average.G3\\\\\n",
       " <int> & <dbl> & <dbl> & <dbl> & <dbl> & <dbl> & <dbl>\\\\\n",
       "\\hline\n",
       "\t 2 & 11 & 13 & 13 & 11.74667 & 11.82 & 12.26\\\\\n",
       "\\end{tabular}\n"
      ],
      "text/markdown": [
       "\n",
       "A data.frame: 1 × 7\n",
       "\n",
       "| Walc &lt;int&gt; | G1 &lt;dbl&gt; | G2 &lt;dbl&gt; | G3 &lt;dbl&gt; | Average.G1 &lt;dbl&gt; | Average.G2 &lt;dbl&gt; | Average.G3 &lt;dbl&gt; |\n",
       "|---|---|---|---|---|---|---|\n",
       "| 2 | 11 | 13 | 13 | 11.74667 | 11.82 | 12.26 |\n",
       "\n"
      ],
      "text/plain": [
       "  Walc G1 G2 G3 Average.G1 Average.G2 Average.G3\n",
       "1 2    11 13 13 11.74667   11.82      12.26     "
      ]
     },
     "metadata": {},
     "output_type": "display_data"
    },
    {
     "data": {
      "text/html": [
       "<table>\n",
       "<caption>A data.frame: 1 × 7</caption>\n",
       "<thead>\n",
       "\t<tr><th scope=col>Walc</th><th scope=col>G1</th><th scope=col>G2</th><th scope=col>G3</th><th scope=col>Average.G1</th><th scope=col>Average.G2</th><th scope=col>Average.G3</th></tr>\n",
       "\t<tr><th scope=col>&lt;int&gt;</th><th scope=col>&lt;dbl&gt;</th><th scope=col>&lt;dbl&gt;</th><th scope=col>&lt;dbl&gt;</th><th scope=col>&lt;dbl&gt;</th><th scope=col>&lt;dbl&gt;</th><th scope=col>&lt;dbl&gt;</th></tr>\n",
       "</thead>\n",
       "<tbody>\n",
       "\t<tr><td>3</td><td>12</td><td>13</td><td>12</td><td>11.30833</td><td>11.5</td><td>11.66667</td></tr>\n",
       "</tbody>\n",
       "</table>\n"
      ],
      "text/latex": [
       "A data.frame: 1 × 7\n",
       "\\begin{tabular}{r|lllllll}\n",
       " Walc & G1 & G2 & G3 & Average.G1 & Average.G2 & Average.G3\\\\\n",
       " <int> & <dbl> & <dbl> & <dbl> & <dbl> & <dbl> & <dbl>\\\\\n",
       "\\hline\n",
       "\t 3 & 12 & 13 & 12 & 11.30833 & 11.5 & 11.66667\\\\\n",
       "\\end{tabular}\n"
      ],
      "text/markdown": [
       "\n",
       "A data.frame: 1 × 7\n",
       "\n",
       "| Walc &lt;int&gt; | G1 &lt;dbl&gt; | G2 &lt;dbl&gt; | G3 &lt;dbl&gt; | Average.G1 &lt;dbl&gt; | Average.G2 &lt;dbl&gt; | Average.G3 &lt;dbl&gt; |\n",
       "|---|---|---|---|---|---|---|\n",
       "| 3 | 12 | 13 | 12 | 11.30833 | 11.5 | 11.66667 |\n",
       "\n"
      ],
      "text/plain": [
       "  Walc G1 G2 G3 Average.G1 Average.G2 Average.G3\n",
       "1 3    12 13 12 11.30833   11.5       11.66667  "
      ]
     },
     "metadata": {},
     "output_type": "display_data"
    },
    {
     "data": {
      "text/html": [
       "<table>\n",
       "<caption>A data.frame: 1 × 7</caption>\n",
       "<thead>\n",
       "\t<tr><th scope=col>Walc</th><th scope=col>G1</th><th scope=col>G2</th><th scope=col>G3</th><th scope=col>Average.G1</th><th scope=col>Average.G2</th><th scope=col>Average.G3</th></tr>\n",
       "\t<tr><th scope=col>&lt;int&gt;</th><th scope=col>&lt;dbl&gt;</th><th scope=col>&lt;dbl&gt;</th><th scope=col>&lt;dbl&gt;</th><th scope=col>&lt;dbl&gt;</th><th scope=col>&lt;dbl&gt;</th><th scope=col>&lt;dbl&gt;</th></tr>\n",
       "</thead>\n",
       "<tbody>\n",
       "\t<tr><td>4</td><td>8</td><td>8</td><td>7</td><td>10.65517</td><td>10.73563</td><td>11.03448</td></tr>\n",
       "</tbody>\n",
       "</table>\n"
      ],
      "text/latex": [
       "A data.frame: 1 × 7\n",
       "\\begin{tabular}{r|lllllll}\n",
       " Walc & G1 & G2 & G3 & Average.G1 & Average.G2 & Average.G3\\\\\n",
       " <int> & <dbl> & <dbl> & <dbl> & <dbl> & <dbl> & <dbl>\\\\\n",
       "\\hline\n",
       "\t 4 & 8 & 8 & 7 & 10.65517 & 10.73563 & 11.03448\\\\\n",
       "\\end{tabular}\n"
      ],
      "text/markdown": [
       "\n",
       "A data.frame: 1 × 7\n",
       "\n",
       "| Walc &lt;int&gt; | G1 &lt;dbl&gt; | G2 &lt;dbl&gt; | G3 &lt;dbl&gt; | Average.G1 &lt;dbl&gt; | Average.G2 &lt;dbl&gt; | Average.G3 &lt;dbl&gt; |\n",
       "|---|---|---|---|---|---|---|\n",
       "| 4 | 8 | 8 | 7 | 10.65517 | 10.73563 | 11.03448 |\n",
       "\n"
      ],
      "text/plain": [
       "  Walc G1 G2 G3 Average.G1 Average.G2 Average.G3\n",
       "1 4    8  8  7  10.65517   10.73563   11.03448  "
      ]
     },
     "metadata": {},
     "output_type": "display_data"
    },
    {
     "data": {
      "text/html": [
       "<table>\n",
       "<caption>A data.frame: 1 × 7</caption>\n",
       "<thead>\n",
       "\t<tr><th scope=col>Walc</th><th scope=col>G1</th><th scope=col>G2</th><th scope=col>G3</th><th scope=col>Average.G1</th><th scope=col>Average.G2</th><th scope=col>Average.G3</th></tr>\n",
       "\t<tr><th scope=col>&lt;int&gt;</th><th scope=col>&lt;dbl&gt;</th><th scope=col>&lt;dbl&gt;</th><th scope=col>&lt;dbl&gt;</th><th scope=col>&lt;dbl&gt;</th><th scope=col>&lt;dbl&gt;</th><th scope=col>&lt;dbl&gt;</th></tr>\n",
       "</thead>\n",
       "<tbody>\n",
       "\t<tr><td>5</td><td>12</td><td>11</td><td>12</td><td>10.33333</td><td>10.44444</td><td>10.55556</td></tr>\n",
       "</tbody>\n",
       "</table>\n"
      ],
      "text/latex": [
       "A data.frame: 1 × 7\n",
       "\\begin{tabular}{r|lllllll}\n",
       " Walc & G1 & G2 & G3 & Average.G1 & Average.G2 & Average.G3\\\\\n",
       " <int> & <dbl> & <dbl> & <dbl> & <dbl> & <dbl> & <dbl>\\\\\n",
       "\\hline\n",
       "\t 5 & 12 & 11 & 12 & 10.33333 & 10.44444 & 10.55556\\\\\n",
       "\\end{tabular}\n"
      ],
      "text/markdown": [
       "\n",
       "A data.frame: 1 × 7\n",
       "\n",
       "| Walc &lt;int&gt; | G1 &lt;dbl&gt; | G2 &lt;dbl&gt; | G3 &lt;dbl&gt; | Average.G1 &lt;dbl&gt; | Average.G2 &lt;dbl&gt; | Average.G3 &lt;dbl&gt; |\n",
       "|---|---|---|---|---|---|---|\n",
       "| 5 | 12 | 11 | 12 | 10.33333 | 10.44444 | 10.55556 |\n",
       "\n"
      ],
      "text/plain": [
       "  Walc G1 G2 G3 Average.G1 Average.G2 Average.G3\n",
       "1 5    12 11 12 10.33333   10.44444   10.55556  "
      ]
     },
     "metadata": {},
     "output_type": "display_data"
    }
   ],
   "source": [
    "Walc1_df2 <- select(file2, Walc, G1, G2, G3) %>% filter(Walc == 1) %>% transform(G1 = as.numeric(G1)) %>%\n",
    "    transform(G2 = as.numeric(G2)) %>% transform(G3 = as.numeric(G3))\n",
    "Walc1_df2 <- Walc1_df2 %>% group_by(Walc) %>% \n",
    "    transform(Avgerage.G1 = summarise(Walc1_df2, Average.G1 = mean(G1, na.rm = T))) %>%\n",
    "    transform(Avgerage.G2 = summarise(Walc1_df2, Average.G2 = mean(G2, na.rm = T))) %>%\n",
    "    transform(Avgerage.G3 = summarise(Walc1_df2, Average.G3 = mean(G3, na.rm = T)))\n",
    "\n",
    "Walc2_df2 <- select(file2, Walc, G1, G2, G3) %>% filter(Walc == 2) %>% transform(G1 = as.numeric(G1)) %>%\n",
    "    transform(G2 = as.numeric(G2)) %>% transform(G3 = as.numeric(G3))\n",
    "Walc2_df2 <- Walc2_df2 %>% group_by(Walc) %>% \n",
    "    transform(Avgerage.G1 = summarise(Walc2_df2, Average.G1 = mean(G1, na.rm = T))) %>%\n",
    "    transform(Avgerage.G2 = summarise(Walc2_df2, Average.G2 = mean(G2, na.rm = T))) %>%\n",
    "    transform(Avgerage.G3 = summarise(Walc2_df2, Average.G3 = mean(G3, na.rm = T)))\n",
    "\n",
    "Walc3_df2 <- select(file2, Walc, G1, G2, G3) %>% filter(Walc == 3) %>% transform(G1 = as.numeric(G1)) %>%\n",
    "    transform(G2 = as.numeric(G2)) %>% transform(G3 = as.numeric(G3))\n",
    "Walc3_df2 <- Walc3_df2 %>% group_by(Walc) %>% \n",
    "    transform(Avgerage.G1 = summarise(Walc3_df2, Average.G1 = mean(G1, na.rm = T))) %>%\n",
    "    transform(Avgerage.G2 = summarise(Walc3_df2, Average.G2 = mean(G2, na.rm = T))) %>%\n",
    "    transform(Avgerage.G3 = summarise(Walc3_df2, Average.G3 = mean(G3, na.rm = T)))\n",
    "\n",
    "Walc4_df2 <- select(file2, Walc, G1, G2, G3) %>% filter(Walc == 4) %>% transform(G1 = as.numeric(G1)) %>%\n",
    "    transform(G2 = as.numeric(G2)) %>% transform(G3 = as.numeric(G3))\n",
    "Walc4_df2 <- Walc4_df2 %>% group_by(Walc) %>% \n",
    "    transform(Avgerage.G1 = summarise(Walc4_df2, Average.G1 = mean(G1, na.rm = T))) %>%\n",
    "    transform(Avgerage.G2 = summarise(Walc4_df2, Average.G2 = mean(G2, na.rm = T))) %>%\n",
    "    transform(Avgerage.G3 = summarise(Walc4_df2, Average.G3 = mean(G3, na.rm = T)))\n",
    "\n",
    "Walc5_df2 <- select(file2, Walc, G1, G2, G3) %>% filter(Walc == 5) %>% transform(G1 = as.numeric(G1)) %>%\n",
    "    transform(G2 = as.numeric(G2)) %>% transform(G3 = as.numeric(G3))\n",
    "Walc5_df2 <- Walc5_df2 %>% group_by(Walc) %>% \n",
    "    transform(Avgerage.G1 = summarise(Walc5_df2, Average.G1 = mean(G1, na.rm = T))) %>%\n",
    "    transform(Avgerage.G2 = summarise(Walc5_df2, Average.G2 = mean(G2, na.rm = T))) %>%\n",
    "    transform(Avgerage.G3 = summarise(Walc5_df2, Average.G3 = mean(G3, na.rm = T)))\n",
    "\n",
    "head(Walc1_df2, 1)\n",
    "head(Walc2_df2, 1)\n",
    "head(Walc3_df2, 1)\n",
    "head(Walc4_df2, 1)\n",
    "head(Walc5_df2, 1)"
   ]
  },
  {
   "cell_type": "code",
   "execution_count": 25,
   "metadata": {},
   "outputs": [
    {
     "data": {
      "text/html": [
       "<table>\n",
       "<caption>A data.frame: 1 × 7</caption>\n",
       "<thead>\n",
       "\t<tr><th scope=col>goout</th><th scope=col>G1</th><th scope=col>G2</th><th scope=col>G3</th><th scope=col>Average.G1</th><th scope=col>Average.G2</th><th scope=col>Average.G3</th></tr>\n",
       "\t<tr><th scope=col>&lt;int&gt;</th><th scope=col>&lt;dbl&gt;</th><th scope=col>&lt;dbl&gt;</th><th scope=col>&lt;dbl&gt;</th><th scope=col>&lt;dbl&gt;</th><th scope=col>&lt;dbl&gt;</th><th scope=col>&lt;dbl&gt;</th></tr>\n",
       "</thead>\n",
       "<tbody>\n",
       "\t<tr><td>1</td><td>12</td><td>12</td><td>13</td><td>10.41667</td><td>10.4375</td><td>10.72917</td></tr>\n",
       "</tbody>\n",
       "</table>\n"
      ],
      "text/latex": [
       "A data.frame: 1 × 7\n",
       "\\begin{tabular}{r|lllllll}\n",
       " goout & G1 & G2 & G3 & Average.G1 & Average.G2 & Average.G3\\\\\n",
       " <int> & <dbl> & <dbl> & <dbl> & <dbl> & <dbl> & <dbl>\\\\\n",
       "\\hline\n",
       "\t 1 & 12 & 12 & 13 & 10.41667 & 10.4375 & 10.72917\\\\\n",
       "\\end{tabular}\n"
      ],
      "text/markdown": [
       "\n",
       "A data.frame: 1 × 7\n",
       "\n",
       "| goout &lt;int&gt; | G1 &lt;dbl&gt; | G2 &lt;dbl&gt; | G3 &lt;dbl&gt; | Average.G1 &lt;dbl&gt; | Average.G2 &lt;dbl&gt; | Average.G3 &lt;dbl&gt; |\n",
       "|---|---|---|---|---|---|---|\n",
       "| 1 | 12 | 12 | 13 | 10.41667 | 10.4375 | 10.72917 |\n",
       "\n"
      ],
      "text/plain": [
       "  goout G1 G2 G3 Average.G1 Average.G2 Average.G3\n",
       "1 1     12 12 13 10.41667   10.4375    10.72917  "
      ]
     },
     "metadata": {},
     "output_type": "display_data"
    },
    {
     "data": {
      "text/html": [
       "<table>\n",
       "<caption>A data.frame: 1 × 7</caption>\n",
       "<thead>\n",
       "\t<tr><th scope=col>goout</th><th scope=col>G1</th><th scope=col>G2</th><th scope=col>G3</th><th scope=col>Average.G1</th><th scope=col>Average.G2</th><th scope=col>Average.G3</th></tr>\n",
       "\t<tr><th scope=col>&lt;int&gt;</th><th scope=col>&lt;dbl&gt;</th><th scope=col>&lt;dbl&gt;</th><th scope=col>&lt;dbl&gt;</th><th scope=col>&lt;dbl&gt;</th><th scope=col>&lt;dbl&gt;</th><th scope=col>&lt;dbl&gt;</th></tr>\n",
       "</thead>\n",
       "<tbody>\n",
       "\t<tr><td>2</td><td>12</td><td>13</td><td>12</td><td>12.01379</td><td>12.32414</td><td>12.66897</td></tr>\n",
       "</tbody>\n",
       "</table>\n"
      ],
      "text/latex": [
       "A data.frame: 1 × 7\n",
       "\\begin{tabular}{r|lllllll}\n",
       " goout & G1 & G2 & G3 & Average.G1 & Average.G2 & Average.G3\\\\\n",
       " <int> & <dbl> & <dbl> & <dbl> & <dbl> & <dbl> & <dbl>\\\\\n",
       "\\hline\n",
       "\t 2 & 12 & 13 & 12 & 12.01379 & 12.32414 & 12.66897\\\\\n",
       "\\end{tabular}\n"
      ],
      "text/markdown": [
       "\n",
       "A data.frame: 1 × 7\n",
       "\n",
       "| goout &lt;int&gt; | G1 &lt;dbl&gt; | G2 &lt;dbl&gt; | G3 &lt;dbl&gt; | Average.G1 &lt;dbl&gt; | Average.G2 &lt;dbl&gt; | Average.G3 &lt;dbl&gt; |\n",
       "|---|---|---|---|---|---|---|\n",
       "| 2 | 12 | 13 | 12 | 12.01379 | 12.32414 | 12.66897 |\n",
       "\n"
      ],
      "text/plain": [
       "  goout G1 G2 G3 Average.G1 Average.G2 Average.G3\n",
       "1 2     12 13 12 12.01379   12.32414   12.66897  "
      ]
     },
     "metadata": {},
     "output_type": "display_data"
    },
    {
     "data": {
      "text/html": [
       "<table>\n",
       "<caption>A data.frame: 1 × 7</caption>\n",
       "<thead>\n",
       "\t<tr><th scope=col>goout</th><th scope=col>G1</th><th scope=col>G2</th><th scope=col>G3</th><th scope=col>Average.G1</th><th scope=col>Average.G2</th><th scope=col>Average.G3</th></tr>\n",
       "\t<tr><th scope=col>&lt;int&gt;</th><th scope=col>&lt;dbl&gt;</th><th scope=col>&lt;dbl&gt;</th><th scope=col>&lt;dbl&gt;</th><th scope=col>&lt;dbl&gt;</th><th scope=col>&lt;dbl&gt;</th><th scope=col>&lt;dbl&gt;</th></tr>\n",
       "</thead>\n",
       "<tbody>\n",
       "\t<tr><td>3</td><td>9</td><td>11</td><td>11</td><td>11.63415</td><td>11.74634</td><td>12.15122</td></tr>\n",
       "</tbody>\n",
       "</table>\n"
      ],
      "text/latex": [
       "A data.frame: 1 × 7\n",
       "\\begin{tabular}{r|lllllll}\n",
       " goout & G1 & G2 & G3 & Average.G1 & Average.G2 & Average.G3\\\\\n",
       " <int> & <dbl> & <dbl> & <dbl> & <dbl> & <dbl> & <dbl>\\\\\n",
       "\\hline\n",
       "\t 3 & 9 & 11 & 11 & 11.63415 & 11.74634 & 12.15122\\\\\n",
       "\\end{tabular}\n"
      ],
      "text/markdown": [
       "\n",
       "A data.frame: 1 × 7\n",
       "\n",
       "| goout &lt;int&gt; | G1 &lt;dbl&gt; | G2 &lt;dbl&gt; | G3 &lt;dbl&gt; | Average.G1 &lt;dbl&gt; | Average.G2 &lt;dbl&gt; | Average.G3 &lt;dbl&gt; |\n",
       "|---|---|---|---|---|---|---|\n",
       "| 3 | 9 | 11 | 11 | 11.63415 | 11.74634 | 12.15122 |\n",
       "\n"
      ],
      "text/plain": [
       "  goout G1 G2 G3 Average.G1 Average.G2 Average.G3\n",
       "1 3     9  11 11 11.63415   11.74634   12.15122  "
      ]
     },
     "metadata": {},
     "output_type": "display_data"
    },
    {
     "data": {
      "text/html": [
       "<table>\n",
       "<caption>A data.frame: 1 × 7</caption>\n",
       "<thead>\n",
       "\t<tr><th scope=col>goout</th><th scope=col>G1</th><th scope=col>G2</th><th scope=col>G3</th><th scope=col>Average.G1</th><th scope=col>Average.G2</th><th scope=col>Average.G3</th></tr>\n",
       "\t<tr><th scope=col>&lt;int&gt;</th><th scope=col>&lt;dbl&gt;</th><th scope=col>&lt;dbl&gt;</th><th scope=col>&lt;dbl&gt;</th><th scope=col>&lt;dbl&gt;</th><th scope=col>&lt;dbl&gt;</th><th scope=col>&lt;dbl&gt;</th></tr>\n",
       "</thead>\n",
       "<tbody>\n",
       "\t<tr><td>4</td><td>0</td><td>11</td><td>11</td><td>11.25532</td><td>11.52482</td><td>11.97163</td></tr>\n",
       "</tbody>\n",
       "</table>\n"
      ],
      "text/latex": [
       "A data.frame: 1 × 7\n",
       "\\begin{tabular}{r|lllllll}\n",
       " goout & G1 & G2 & G3 & Average.G1 & Average.G2 & Average.G3\\\\\n",
       " <int> & <dbl> & <dbl> & <dbl> & <dbl> & <dbl> & <dbl>\\\\\n",
       "\\hline\n",
       "\t 4 & 0 & 11 & 11 & 11.25532 & 11.52482 & 11.97163\\\\\n",
       "\\end{tabular}\n"
      ],
      "text/markdown": [
       "\n",
       "A data.frame: 1 × 7\n",
       "\n",
       "| goout &lt;int&gt; | G1 &lt;dbl&gt; | G2 &lt;dbl&gt; | G3 &lt;dbl&gt; | Average.G1 &lt;dbl&gt; | Average.G2 &lt;dbl&gt; | Average.G3 &lt;dbl&gt; |\n",
       "|---|---|---|---|---|---|---|\n",
       "| 4 | 0 | 11 | 11 | 11.25532 | 11.52482 | 11.97163 |\n",
       "\n"
      ],
      "text/plain": [
       "  goout G1 G2 G3 Average.G1 Average.G2 Average.G3\n",
       "1 4     0  11 11 11.25532   11.52482   11.97163  "
      ]
     },
     "metadata": {},
     "output_type": "display_data"
    },
    {
     "data": {
      "text/html": [
       "<table>\n",
       "<caption>A data.frame: 1 × 7</caption>\n",
       "<thead>\n",
       "\t<tr><th scope=col>goout</th><th scope=col>G1</th><th scope=col>G2</th><th scope=col>G3</th><th scope=col>Average.G1</th><th scope=col>Average.G2</th><th scope=col>Average.G3</th></tr>\n",
       "\t<tr><th scope=col>&lt;int&gt;</th><th scope=col>&lt;dbl&gt;</th><th scope=col>&lt;dbl&gt;</th><th scope=col>&lt;dbl&gt;</th><th scope=col>&lt;dbl&gt;</th><th scope=col>&lt;dbl&gt;</th><th scope=col>&lt;dbl&gt;</th></tr>\n",
       "</thead>\n",
       "<tbody>\n",
       "\t<tr><td>5</td><td>8</td><td>8</td><td>7</td><td>10.76364</td><td>10.8</td><td>10.87273</td></tr>\n",
       "</tbody>\n",
       "</table>\n"
      ],
      "text/latex": [
       "A data.frame: 1 × 7\n",
       "\\begin{tabular}{r|lllllll}\n",
       " goout & G1 & G2 & G3 & Average.G1 & Average.G2 & Average.G3\\\\\n",
       " <int> & <dbl> & <dbl> & <dbl> & <dbl> & <dbl> & <dbl>\\\\\n",
       "\\hline\n",
       "\t 5 & 8 & 8 & 7 & 10.76364 & 10.8 & 10.87273\\\\\n",
       "\\end{tabular}\n"
      ],
      "text/markdown": [
       "\n",
       "A data.frame: 1 × 7\n",
       "\n",
       "| goout &lt;int&gt; | G1 &lt;dbl&gt; | G2 &lt;dbl&gt; | G3 &lt;dbl&gt; | Average.G1 &lt;dbl&gt; | Average.G2 &lt;dbl&gt; | Average.G3 &lt;dbl&gt; |\n",
       "|---|---|---|---|---|---|---|\n",
       "| 5 | 8 | 8 | 7 | 10.76364 | 10.8 | 10.87273 |\n",
       "\n"
      ],
      "text/plain": [
       "  goout G1 G2 G3 Average.G1 Average.G2 Average.G3\n",
       "1 5     8  8  7  10.76364   10.8       10.87273  "
      ]
     },
     "metadata": {},
     "output_type": "display_data"
    }
   ],
   "source": [
    "goout1_df2 <- select(file2, goout, G1, G2, G3) %>% filter(goout == 1) %>% transform(G1 = as.numeric(G1)) %>%\n",
    "    transform(G2 = as.numeric(G2)) %>% transform(G3 = as.numeric(G3))\n",
    "goout1_df2 <- goout1_df2 %>% group_by(goout) %>% \n",
    "    transform(Avgerage.G1 = summarise(goout1_df2, Average.G1 = mean(G1, na.rm = T))) %>%\n",
    "    transform(Avgerage.G2 = summarise(goout1_df2, Average.G2 = mean(G2, na.rm = T))) %>%\n",
    "    transform(Avgerage.G3 = summarise(goout1_df2, Average.G3 = mean(G3, na.rm = T)))\n",
    "\n",
    "goout2_df2 <- select(file2, goout, G1, G2, G3) %>% filter(goout == 2) %>% transform(G1 = as.numeric(G1)) %>%\n",
    "    transform(G2 = as.numeric(G2)) %>% transform(G3 = as.numeric(G3))\n",
    "goout2_df2 <- goout2_df2 %>% group_by(goout) %>% \n",
    "    transform(Avgerage.G1 = summarise(goout2_df2, Average.G1 = mean(G1, na.rm = T))) %>%\n",
    "    transform(Avgerage.G2 = summarise(goout2_df2, Average.G2 = mean(G2, na.rm = T))) %>%\n",
    "    transform(Avgerage.G3 = summarise(goout2_df2, Average.G3 = mean(G3, na.rm = T)))\n",
    "\n",
    "goout3_df2 <- select(file2, goout, G1, G2, G3) %>% filter(goout == 3) %>% transform(G1 = as.numeric(G1)) %>%\n",
    "    transform(G2 = as.numeric(G2)) %>% transform(G3 = as.numeric(G3))\n",
    "goout3_df2 <- goout3_df2 %>% group_by(goout) %>% \n",
    "    transform(Avgerage.G1 = summarise(goout3_df2, Average.G1 = mean(G1, na.rm = T))) %>%\n",
    "    transform(Avgerage.G2 = summarise(goout3_df2, Average.G2 = mean(G2, na.rm = T))) %>%\n",
    "    transform(Avgerage.G3 = summarise(goout3_df2, Average.G3 = mean(G3, na.rm = T)))\n",
    "\n",
    "goout4_df2 <- select(file2, goout, G1, G2, G3) %>% filter(goout == 4) %>% transform(G1 = as.numeric(G1)) %>%\n",
    "    transform(G2 = as.numeric(G2)) %>% transform(G3 = as.numeric(G3))\n",
    "goout4_df2 <- goout4_df2 %>% group_by(goout) %>% \n",
    "    transform(Avgerage.G1 = summarise(goout4_df2, Average.G1 = mean(G1, na.rm = T))) %>%\n",
    "    transform(Avgerage.G2 = summarise(goout4_df2, Average.G2 = mean(G2, na.rm = T))) %>%\n",
    "    transform(Avgerage.G3 = summarise(goout4_df2, Average.G3 = mean(G3, na.rm = T)))\n",
    "\n",
    "goout5_df2 <- select(file2, goout, G1, G2, G3) %>% filter(goout == 5) %>% transform(G1 = as.numeric(G1)) %>%\n",
    "    transform(G2 = as.numeric(G2)) %>% transform(G3 = as.numeric(G3))\n",
    "goout5_df2 <- goout5_df2 %>% group_by(goout) %>% \n",
    "    transform(Avgerage.G1 = summarise(goout5_df2, Average.G1 = mean(G1, na.rm = T))) %>%\n",
    "    transform(Avgerage.G2 = summarise(goout5_df2, Average.G2 = mean(G2, na.rm = T))) %>%\n",
    "    transform(Avgerage.G3 = summarise(goout5_df2, Average.G3 = mean(G3, na.rm = T)))\n",
    "\n",
    "head(goout1_df2, 1)\n",
    "head(goout2_df2, 1)\n",
    "head(goout3_df2, 1)\n",
    "head(goout4_df2, 1)\n",
    "head(goout5_df2, 1)"
   ]
  },
  {
   "cell_type": "code",
   "execution_count": 26,
   "metadata": {},
   "outputs": [
    {
     "data": {
      "text/html": [
       "<table>\n",
       "<caption>A data.frame: 1 × 7</caption>\n",
       "<thead>\n",
       "\t<tr><th scope=col>studytime</th><th scope=col>G1</th><th scope=col>G2</th><th scope=col>G3</th><th scope=col>Average.G1</th><th scope=col>Average.G2</th><th scope=col>Average.G3</th></tr>\n",
       "\t<tr><th scope=col>&lt;int&gt;</th><th scope=col>&lt;dbl&gt;</th><th scope=col>&lt;dbl&gt;</th><th scope=col>&lt;dbl&gt;</th><th scope=col>&lt;dbl&gt;</th><th scope=col>&lt;dbl&gt;</th><th scope=col>&lt;dbl&gt;</th></tr>\n",
       "</thead>\n",
       "<tbody>\n",
       "\t<tr><td>1</td><td>12</td><td>13</td><td>12</td><td>10.50472</td><td>10.70283</td><td>10.84434</td></tr>\n",
       "</tbody>\n",
       "</table>\n"
      ],
      "text/latex": [
       "A data.frame: 1 × 7\n",
       "\\begin{tabular}{r|lllllll}\n",
       " studytime & G1 & G2 & G3 & Average.G1 & Average.G2 & Average.G3\\\\\n",
       " <int> & <dbl> & <dbl> & <dbl> & <dbl> & <dbl> & <dbl>\\\\\n",
       "\\hline\n",
       "\t 1 & 12 & 13 & 12 & 10.50472 & 10.70283 & 10.84434\\\\\n",
       "\\end{tabular}\n"
      ],
      "text/markdown": [
       "\n",
       "A data.frame: 1 × 7\n",
       "\n",
       "| studytime &lt;int&gt; | G1 &lt;dbl&gt; | G2 &lt;dbl&gt; | G3 &lt;dbl&gt; | Average.G1 &lt;dbl&gt; | Average.G2 &lt;dbl&gt; | Average.G3 &lt;dbl&gt; |\n",
       "|---|---|---|---|---|---|---|\n",
       "| 1 | 12 | 13 | 12 | 10.50472 | 10.70283 | 10.84434 |\n",
       "\n"
      ],
      "text/plain": [
       "  studytime G1 G2 G3 Average.G1 Average.G2 Average.G3\n",
       "1 1         12 13 12 10.50472   10.70283   10.84434  "
      ]
     },
     "metadata": {},
     "output_type": "display_data"
    },
    {
     "data": {
      "text/html": [
       "<table>\n",
       "<caption>A data.frame: 1 × 7</caption>\n",
       "<thead>\n",
       "\t<tr><th scope=col>studytime</th><th scope=col>G1</th><th scope=col>G2</th><th scope=col>G3</th><th scope=col>Average.G1</th><th scope=col>Average.G2</th><th scope=col>Average.G3</th></tr>\n",
       "\t<tr><th scope=col>&lt;int&gt;</th><th scope=col>&lt;dbl&gt;</th><th scope=col>&lt;dbl&gt;</th><th scope=col>&lt;dbl&gt;</th><th scope=col>&lt;dbl&gt;</th><th scope=col>&lt;dbl&gt;</th><th scope=col>&lt;dbl&gt;</th></tr>\n",
       "</thead>\n",
       "<tbody>\n",
       "\t<tr><td>2</td><td>0</td><td>11</td><td>11</td><td>11.5377</td><td>11.6623</td><td>12.0918</td></tr>\n",
       "</tbody>\n",
       "</table>\n"
      ],
      "text/latex": [
       "A data.frame: 1 × 7\n",
       "\\begin{tabular}{r|lllllll}\n",
       " studytime & G1 & G2 & G3 & Average.G1 & Average.G2 & Average.G3\\\\\n",
       " <int> & <dbl> & <dbl> & <dbl> & <dbl> & <dbl> & <dbl>\\\\\n",
       "\\hline\n",
       "\t 2 & 0 & 11 & 11 & 11.5377 & 11.6623 & 12.0918\\\\\n",
       "\\end{tabular}\n"
      ],
      "text/markdown": [
       "\n",
       "A data.frame: 1 × 7\n",
       "\n",
       "| studytime &lt;int&gt; | G1 &lt;dbl&gt; | G2 &lt;dbl&gt; | G3 &lt;dbl&gt; | Average.G1 &lt;dbl&gt; | Average.G2 &lt;dbl&gt; | Average.G3 &lt;dbl&gt; |\n",
       "|---|---|---|---|---|---|---|\n",
       "| 2 | 0 | 11 | 11 | 11.5377 | 11.6623 | 12.0918 |\n",
       "\n"
      ],
      "text/plain": [
       "  studytime G1 G2 G3 Average.G1 Average.G2 Average.G3\n",
       "1 2         0  11 11 11.5377    11.6623    12.0918   "
      ]
     },
     "metadata": {},
     "output_type": "display_data"
    },
    {
     "data": {
      "text/html": [
       "<table>\n",
       "<caption>A data.frame: 1 × 7</caption>\n",
       "<thead>\n",
       "\t<tr><th scope=col>studytime</th><th scope=col>G1</th><th scope=col>G2</th><th scope=col>G3</th><th scope=col>Average.G1</th><th scope=col>Average.G2</th><th scope=col>Average.G3</th></tr>\n",
       "\t<tr><th scope=col>&lt;int&gt;</th><th scope=col>&lt;dbl&gt;</th><th scope=col>&lt;dbl&gt;</th><th scope=col>&lt;dbl&gt;</th><th scope=col>&lt;dbl&gt;</th><th scope=col>&lt;dbl&gt;</th><th scope=col>&lt;dbl&gt;</th></tr>\n",
       "</thead>\n",
       "<tbody>\n",
       "\t<tr><td>3</td><td>14</td><td>14</td><td>14</td><td>12.42268</td><td>12.79381</td><td>13.2268</td></tr>\n",
       "</tbody>\n",
       "</table>\n"
      ],
      "text/latex": [
       "A data.frame: 1 × 7\n",
       "\\begin{tabular}{r|lllllll}\n",
       " studytime & G1 & G2 & G3 & Average.G1 & Average.G2 & Average.G3\\\\\n",
       " <int> & <dbl> & <dbl> & <dbl> & <dbl> & <dbl> & <dbl>\\\\\n",
       "\\hline\n",
       "\t 3 & 14 & 14 & 14 & 12.42268 & 12.79381 & 13.2268\\\\\n",
       "\\end{tabular}\n"
      ],
      "text/markdown": [
       "\n",
       "A data.frame: 1 × 7\n",
       "\n",
       "| studytime &lt;int&gt; | G1 &lt;dbl&gt; | G2 &lt;dbl&gt; | G3 &lt;dbl&gt; | Average.G1 &lt;dbl&gt; | Average.G2 &lt;dbl&gt; | Average.G3 &lt;dbl&gt; |\n",
       "|---|---|---|---|---|---|---|\n",
       "| 3 | 14 | 14 | 14 | 12.42268 | 12.79381 | 13.2268 |\n",
       "\n"
      ],
      "text/plain": [
       "  studytime G1 G2 G3 Average.G1 Average.G2 Average.G3\n",
       "1 3         14 14 14 12.42268   12.79381   13.2268   "
      ]
     },
     "metadata": {},
     "output_type": "display_data"
    },
    {
     "data": {
      "text/html": [
       "<table>\n",
       "<caption>A data.frame: 1 × 7</caption>\n",
       "<thead>\n",
       "\t<tr><th scope=col>studytime</th><th scope=col>G1</th><th scope=col>G2</th><th scope=col>G3</th><th scope=col>Average.G1</th><th scope=col>Average.G2</th><th scope=col>Average.G3</th></tr>\n",
       "\t<tr><th scope=col>&lt;int&gt;</th><th scope=col>&lt;dbl&gt;</th><th scope=col>&lt;dbl&gt;</th><th scope=col>&lt;dbl&gt;</th><th scope=col>&lt;dbl&gt;</th><th scope=col>&lt;dbl&gt;</th><th scope=col>&lt;dbl&gt;</th></tr>\n",
       "</thead>\n",
       "<tbody>\n",
       "\t<tr><td>4</td><td>17</td><td>17</td><td>17</td><td>12.77143</td><td>12.62857</td><td>13.05714</td></tr>\n",
       "</tbody>\n",
       "</table>\n"
      ],
      "text/latex": [
       "A data.frame: 1 × 7\n",
       "\\begin{tabular}{r|lllllll}\n",
       " studytime & G1 & G2 & G3 & Average.G1 & Average.G2 & Average.G3\\\\\n",
       " <int> & <dbl> & <dbl> & <dbl> & <dbl> & <dbl> & <dbl>\\\\\n",
       "\\hline\n",
       "\t 4 & 17 & 17 & 17 & 12.77143 & 12.62857 & 13.05714\\\\\n",
       "\\end{tabular}\n"
      ],
      "text/markdown": [
       "\n",
       "A data.frame: 1 × 7\n",
       "\n",
       "| studytime &lt;int&gt; | G1 &lt;dbl&gt; | G2 &lt;dbl&gt; | G3 &lt;dbl&gt; | Average.G1 &lt;dbl&gt; | Average.G2 &lt;dbl&gt; | Average.G3 &lt;dbl&gt; |\n",
       "|---|---|---|---|---|---|---|\n",
       "| 4 | 17 | 17 | 17 | 12.77143 | 12.62857 | 13.05714 |\n",
       "\n"
      ],
      "text/plain": [
       "  studytime G1 G2 G3 Average.G1 Average.G2 Average.G3\n",
       "1 4         17 17 17 12.77143   12.62857   13.05714  "
      ]
     },
     "metadata": {},
     "output_type": "display_data"
    }
   ],
   "source": [
    "studytime1_df2 <- select(file2, studytime, G1, G2, G3) %>% filter(studytime == 1) %>% transform(G1 = as.numeric(G1)) %>%\n",
    "    transform(G2 = as.numeric(G2)) %>% transform(G3 = as.numeric(G3))\n",
    "studytime1_df2 <- studytime1_df2 %>% group_by(studytime) %>% \n",
    "    transform(Avgerage.G1 = summarise(studytime1_df2, Average.G1 = mean(G1, na.rm = T))) %>%\n",
    "    transform(Avgerage.G2 = summarise(studytime1_df2, Average.G2 = mean(G2, na.rm = T))) %>%\n",
    "    transform(Avgerage.G3 = summarise(studytime1_df2, Average.G3 = mean(G3, na.rm = T)))\n",
    "\n",
    "studytime2_df2 <- select(file2, studytime, G1, G2, G3) %>% filter(studytime == 2) %>% transform(G1 = as.numeric(G1)) %>%\n",
    "    transform(G2 = as.numeric(G2)) %>% transform(G3 = as.numeric(G3))\n",
    "studytime2_df2 <- studytime2_df2 %>% group_by(studytime) %>% \n",
    "    transform(Avgerage.G1 = summarise(studytime2_df2, Average.G1 = mean(G1, na.rm = T))) %>%\n",
    "    transform(Avgerage.G2 = summarise(studytime2_df2, Average.G2 = mean(G2, na.rm = T))) %>%\n",
    "    transform(Avgerage.G3 = summarise(studytime2_df2, Average.G3 = mean(G3, na.rm = T)))\n",
    "\n",
    "studytime3_df2 <- select(file2, studytime, G1, G2, G3) %>% filter(studytime == 3) %>% transform(G1 = as.numeric(G1)) %>%\n",
    "    transform(G2 = as.numeric(G2)) %>% transform(G3 = as.numeric(G3))\n",
    "studytime3_df2 <- studytime3_df2 %>% group_by(studytime) %>% \n",
    "    transform(Avgerage.G1 = summarise(studytime3_df2, Average.G1 = mean(G1, na.rm = T))) %>%\n",
    "    transform(Avgerage.G2 = summarise(studytime3_df2, Average.G2 = mean(G2, na.rm = T))) %>%\n",
    "    transform(Avgerage.G3 = summarise(studytime3_df2, Average.G3 = mean(G3, na.rm = T)))\n",
    "\n",
    "studytime4_df2 <- select(file2, studytime, G1, G2, G3) %>% filter(studytime == 4) %>% transform(G1 = as.numeric(G1)) %>%\n",
    "    transform(G2 = as.numeric(G2)) %>% transform(G3 = as.numeric(G3))\n",
    "studytime4_df2 <- studytime4_df2 %>% group_by(studytime) %>% \n",
    "    transform(Avgerage.G1 = summarise(studytime4_df2, Average.G1 = mean(G1, na.rm = T))) %>%\n",
    "    transform(Avgerage.G2 = summarise(studytime4_df2, Average.G2 = mean(G2, na.rm = T))) %>%\n",
    "    transform(Avgerage.G3 = summarise(studytime4_df2, Average.G3 = mean(G3, na.rm = T)))\n",
    "\n",
    "head(studytime1_df2, 1)\n",
    "head(studytime2_df2, 1)\n",
    "head(studytime3_df2, 1)\n",
    "head(studytime4_df2, 1)"
   ]
  },
  {
   "cell_type": "code",
   "execution_count": 27,
   "metadata": {},
   "outputs": [
    {
     "data": {
      "text/html": [
       "<table>\n",
       "<caption>A data.frame: 1 × 7</caption>\n",
       "<thead>\n",
       "\t<tr><th scope=col>romantic</th><th scope=col>G1</th><th scope=col>G2</th><th scope=col>G3</th><th scope=col>Average.G1</th><th scope=col>Average.G2</th><th scope=col>Average.G3</th></tr>\n",
       "\t<tr><th scope=col>&lt;chr&gt;</th><th scope=col>&lt;dbl&gt;</th><th scope=col>&lt;dbl&gt;</th><th scope=col>&lt;dbl&gt;</th><th scope=col>&lt;dbl&gt;</th><th scope=col>&lt;dbl&gt;</th><th scope=col>&lt;dbl&gt;</th></tr>\n",
       "</thead>\n",
       "<tbody>\n",
       "\t<tr><td>yes</td><td>14</td><td>14</td><td>14</td><td>11.12971</td><td>11.19665</td><td>11.52301</td></tr>\n",
       "</tbody>\n",
       "</table>\n"
      ],
      "text/latex": [
       "A data.frame: 1 × 7\n",
       "\\begin{tabular}{r|lllllll}\n",
       " romantic & G1 & G2 & G3 & Average.G1 & Average.G2 & Average.G3\\\\\n",
       " <chr> & <dbl> & <dbl> & <dbl> & <dbl> & <dbl> & <dbl>\\\\\n",
       "\\hline\n",
       "\t yes & 14 & 14 & 14 & 11.12971 & 11.19665 & 11.52301\\\\\n",
       "\\end{tabular}\n"
      ],
      "text/markdown": [
       "\n",
       "A data.frame: 1 × 7\n",
       "\n",
       "| romantic &lt;chr&gt; | G1 &lt;dbl&gt; | G2 &lt;dbl&gt; | G3 &lt;dbl&gt; | Average.G1 &lt;dbl&gt; | Average.G2 &lt;dbl&gt; | Average.G3 &lt;dbl&gt; |\n",
       "|---|---|---|---|---|---|---|\n",
       "| yes | 14 | 14 | 14 | 11.12971 | 11.19665 | 11.52301 |\n",
       "\n"
      ],
      "text/plain": [
       "  romantic G1 G2 G3 Average.G1 Average.G2 Average.G3\n",
       "1 yes      14 14 14 11.12971   11.19665   11.52301  "
      ]
     },
     "metadata": {},
     "output_type": "display_data"
    },
    {
     "data": {
      "text/html": [
       "<table>\n",
       "<caption>A data.frame: 1 × 7</caption>\n",
       "<thead>\n",
       "\t<tr><th scope=col>romantic</th><th scope=col>G1</th><th scope=col>G2</th><th scope=col>G3</th><th scope=col>Average.G1</th><th scope=col>Average.G2</th><th scope=col>Average.G3</th></tr>\n",
       "\t<tr><th scope=col>&lt;chr&gt;</th><th scope=col>&lt;dbl&gt;</th><th scope=col>&lt;dbl&gt;</th><th scope=col>&lt;dbl&gt;</th><th scope=col>&lt;dbl&gt;</th><th scope=col>&lt;dbl&gt;</th><th scope=col>&lt;dbl&gt;</th></tr>\n",
       "</thead>\n",
       "<tbody>\n",
       "\t<tr><td>no</td><td>0</td><td>11</td><td>11</td><td>11.5561</td><td>11.7878</td><td>12.12927</td></tr>\n",
       "</tbody>\n",
       "</table>\n"
      ],
      "text/latex": [
       "A data.frame: 1 × 7\n",
       "\\begin{tabular}{r|lllllll}\n",
       " romantic & G1 & G2 & G3 & Average.G1 & Average.G2 & Average.G3\\\\\n",
       " <chr> & <dbl> & <dbl> & <dbl> & <dbl> & <dbl> & <dbl>\\\\\n",
       "\\hline\n",
       "\t no & 0 & 11 & 11 & 11.5561 & 11.7878 & 12.12927\\\\\n",
       "\\end{tabular}\n"
      ],
      "text/markdown": [
       "\n",
       "A data.frame: 1 × 7\n",
       "\n",
       "| romantic &lt;chr&gt; | G1 &lt;dbl&gt; | G2 &lt;dbl&gt; | G3 &lt;dbl&gt; | Average.G1 &lt;dbl&gt; | Average.G2 &lt;dbl&gt; | Average.G3 &lt;dbl&gt; |\n",
       "|---|---|---|---|---|---|---|\n",
       "| no | 0 | 11 | 11 | 11.5561 | 11.7878 | 12.12927 |\n",
       "\n"
      ],
      "text/plain": [
       "  romantic G1 G2 G3 Average.G1 Average.G2 Average.G3\n",
       "1 no       0  11 11 11.5561    11.7878    12.12927  "
      ]
     },
     "metadata": {},
     "output_type": "display_data"
    }
   ],
   "source": [
    "romanticy_df2 <- select(file2, romantic, G1, G2, G3) %>% filter(romantic == 'yes') %>% transform(G1 = as.numeric(G1)) %>%\n",
    "    transform(G2 = as.numeric(G2)) %>% transform(G3 = as.numeric(G3))\n",
    "romanticy_df2 <- romanticy_df2 %>% group_by(romantic) %>% \n",
    "    transform(Avgerage.G1 = summarise(romanticy_df2, Average.G1 = mean(G1, na.rm = T))) %>%\n",
    "    transform(Avgerage.G2 = summarise(romanticy_df2, Average.G2 = mean(G2, na.rm = T))) %>%\n",
    "    transform(Avgerage.G3 = summarise(romanticy_df2, Average.G3 = mean(G3, na.rm = T)))\n",
    "\n",
    "romanticn_df2 <- select(file2, romantic, G1, G2, G3) %>% filter(romantic == 'no') %>% transform(G1 = as.numeric(G1)) %>%\n",
    "    transform(G2 = as.numeric(G2)) %>% transform(G3 = as.numeric(G3))\n",
    "romanticn_df2 <- romanticn_df2 %>% group_by(romantic) %>% \n",
    "    transform(Avgerage.G1 = summarise(romanticn_df2, Average.G1 = mean(G1, na.rm = T))) %>%\n",
    "    transform(Avgerage.G2 = summarise(romanticn_df2, Average.G2 = mean(G2, na.rm = T))) %>%\n",
    "    transform(Avgerage.G3 = summarise(romanticn_df2, Average.G3 = mean(G3, na.rm = T)))\n",
    "\n",
    "head(romanticy_df2, 1)\n",
    "head(romanticn_df2, 1)"
   ]
  },
  {
   "cell_type": "code",
   "execution_count": 28,
   "metadata": {},
   "outputs": [
    {
     "data": {
      "text/html": [
       "<table>\n",
       "<caption>A data.frame: 1 × 7</caption>\n",
       "<thead>\n",
       "\t<tr><th scope=col>internet</th><th scope=col>G1</th><th scope=col>G2</th><th scope=col>G3</th><th scope=col>Average.G1</th><th scope=col>Average.G2</th><th scope=col>Average.G3</th></tr>\n",
       "\t<tr><th scope=col>&lt;chr&gt;</th><th scope=col>&lt;dbl&gt;</th><th scope=col>&lt;dbl&gt;</th><th scope=col>&lt;dbl&gt;</th><th scope=col>&lt;dbl&gt;</th><th scope=col>&lt;dbl&gt;</th><th scope=col>&lt;dbl&gt;</th></tr>\n",
       "</thead>\n",
       "<tbody>\n",
       "\t<tr><td>yes</td><td>9</td><td>11</td><td>11</td><td>11.61044</td><td>11.80723</td><td>12.17269</td></tr>\n",
       "</tbody>\n",
       "</table>\n"
      ],
      "text/latex": [
       "A data.frame: 1 × 7\n",
       "\\begin{tabular}{r|lllllll}\n",
       " internet & G1 & G2 & G3 & Average.G1 & Average.G2 & Average.G3\\\\\n",
       " <chr> & <dbl> & <dbl> & <dbl> & <dbl> & <dbl> & <dbl>\\\\\n",
       "\\hline\n",
       "\t yes & 9 & 11 & 11 & 11.61044 & 11.80723 & 12.17269\\\\\n",
       "\\end{tabular}\n"
      ],
      "text/markdown": [
       "\n",
       "A data.frame: 1 × 7\n",
       "\n",
       "| internet &lt;chr&gt; | G1 &lt;dbl&gt; | G2 &lt;dbl&gt; | G3 &lt;dbl&gt; | Average.G1 &lt;dbl&gt; | Average.G2 &lt;dbl&gt; | Average.G3 &lt;dbl&gt; |\n",
       "|---|---|---|---|---|---|---|\n",
       "| yes | 9 | 11 | 11 | 11.61044 | 11.80723 | 12.17269 |\n",
       "\n"
      ],
      "text/plain": [
       "  internet G1 G2 G3 Average.G1 Average.G2 Average.G3\n",
       "1 yes      9  11 11 11.61044   11.80723   12.17269  "
      ]
     },
     "metadata": {},
     "output_type": "display_data"
    },
    {
     "data": {
      "text/html": [
       "<table>\n",
       "<caption>A data.frame: 1 × 7</caption>\n",
       "<thead>\n",
       "\t<tr><th scope=col>internet</th><th scope=col>G1</th><th scope=col>G2</th><th scope=col>G3</th><th scope=col>Average.G1</th><th scope=col>Average.G2</th><th scope=col>Average.G3</th></tr>\n",
       "\t<tr><th scope=col>&lt;chr&gt;</th><th scope=col>&lt;dbl&gt;</th><th scope=col>&lt;dbl&gt;</th><th scope=col>&lt;dbl&gt;</th><th scope=col>&lt;dbl&gt;</th><th scope=col>&lt;dbl&gt;</th><th scope=col>&lt;dbl&gt;</th></tr>\n",
       "</thead>\n",
       "<tbody>\n",
       "\t<tr><td>no</td><td>0</td><td>11</td><td>11</td><td>10.70199</td><td>10.78808</td><td>11.02649</td></tr>\n",
       "</tbody>\n",
       "</table>\n"
      ],
      "text/latex": [
       "A data.frame: 1 × 7\n",
       "\\begin{tabular}{r|lllllll}\n",
       " internet & G1 & G2 & G3 & Average.G1 & Average.G2 & Average.G3\\\\\n",
       " <chr> & <dbl> & <dbl> & <dbl> & <dbl> & <dbl> & <dbl>\\\\\n",
       "\\hline\n",
       "\t no & 0 & 11 & 11 & 10.70199 & 10.78808 & 11.02649\\\\\n",
       "\\end{tabular}\n"
      ],
      "text/markdown": [
       "\n",
       "A data.frame: 1 × 7\n",
       "\n",
       "| internet &lt;chr&gt; | G1 &lt;dbl&gt; | G2 &lt;dbl&gt; | G3 &lt;dbl&gt; | Average.G1 &lt;dbl&gt; | Average.G2 &lt;dbl&gt; | Average.G3 &lt;dbl&gt; |\n",
       "|---|---|---|---|---|---|---|\n",
       "| no | 0 | 11 | 11 | 10.70199 | 10.78808 | 11.02649 |\n",
       "\n"
      ],
      "text/plain": [
       "  internet G1 G2 G3 Average.G1 Average.G2 Average.G3\n",
       "1 no       0  11 11 10.70199   10.78808   11.02649  "
      ]
     },
     "metadata": {},
     "output_type": "display_data"
    }
   ],
   "source": [
    "internety_df2 <- select(file2, internet, G1, G2, G3) %>% filter(internet == 'yes') %>% transform(G1 = as.numeric(G1)) %>%\n",
    "    transform(G2 = as.numeric(G2)) %>% transform(G3 = as.numeric(G3))\n",
    "internety_df2 <- internety_df2 %>% group_by(internet) %>% \n",
    "    transform(Avgerage.G1 = summarise(internety_df2, Average.G1 = mean(G1, na.rm = T))) %>%\n",
    "    transform(Avgerage.G2 = summarise(internety_df2, Average.G2 = mean(G2, na.rm = T))) %>%\n",
    "    transform(Avgerage.G3 = summarise(internety_df2, Average.G3 = mean(G3, na.rm = T)))\n",
    "\n",
    "internetn_df2 <- select(file2, internet, G1, G2, G3) %>% filter(internet == 'no') %>% transform(G1 = as.numeric(G1)) %>%\n",
    "    transform(G2 = as.numeric(G2)) %>% transform(G3 = as.numeric(G3))\n",
    "internetn_df2 <- internetn_df2 %>% group_by(internet) %>% \n",
    "    transform(Avgerage.G1 = summarise(internetn_df2, Average.G1 = mean(G1, na.rm = T))) %>%\n",
    "    transform(Avgerage.G2 = summarise(internetn_df2, Average.G2 = mean(G2, na.rm = T))) %>%\n",
    "    transform(Avgerage.G3 = summarise(internetn_df2, Average.G3 = mean(G3, na.rm = T)))\n",
    "\n",
    "head(internety_df2, 1)\n",
    "head(internetn_df2, 1)"
   ]
  },
  {
   "cell_type": "code",
   "execution_count": 29,
   "metadata": {},
   "outputs": [
    {
     "data": {
      "text/html": [
       "<table>\n",
       "<caption>A data.frame: 1 × 7</caption>\n",
       "<thead>\n",
       "\t<tr><th scope=col>activities</th><th scope=col>G1</th><th scope=col>G2</th><th scope=col>G3</th><th scope=col>Average.G1</th><th scope=col>Average.G2</th><th scope=col>Average.G3</th></tr>\n",
       "\t<tr><th scope=col>&lt;chr&gt;</th><th scope=col>&lt;dbl&gt;</th><th scope=col>&lt;dbl&gt;</th><th scope=col>&lt;dbl&gt;</th><th scope=col>&lt;dbl&gt;</th><th scope=col>&lt;dbl&gt;</th><th scope=col>&lt;dbl&gt;</th></tr>\n",
       "</thead>\n",
       "<tbody>\n",
       "\t<tr><td>yes</td><td>14</td><td>14</td><td>14</td><td>11.6254</td><td>11.77143</td><td>12.10476</td></tr>\n",
       "</tbody>\n",
       "</table>\n"
      ],
      "text/latex": [
       "A data.frame: 1 × 7\n",
       "\\begin{tabular}{r|lllllll}\n",
       " activities & G1 & G2 & G3 & Average.G1 & Average.G2 & Average.G3\\\\\n",
       " <chr> & <dbl> & <dbl> & <dbl> & <dbl> & <dbl> & <dbl>\\\\\n",
       "\\hline\n",
       "\t yes & 14 & 14 & 14 & 11.6254 & 11.77143 & 12.10476\\\\\n",
       "\\end{tabular}\n"
      ],
      "text/markdown": [
       "\n",
       "A data.frame: 1 × 7\n",
       "\n",
       "| activities &lt;chr&gt; | G1 &lt;dbl&gt; | G2 &lt;dbl&gt; | G3 &lt;dbl&gt; | Average.G1 &lt;dbl&gt; | Average.G2 &lt;dbl&gt; | Average.G3 &lt;dbl&gt; |\n",
       "|---|---|---|---|---|---|---|\n",
       "| yes | 14 | 14 | 14 | 11.6254 | 11.77143 | 12.10476 |\n",
       "\n"
      ],
      "text/plain": [
       "  activities G1 G2 G3 Average.G1 Average.G2 Average.G3\n",
       "1 yes        14 14 14 11.6254    11.77143   12.10476  "
      ]
     },
     "metadata": {},
     "output_type": "display_data"
    },
    {
     "data": {
      "text/html": [
       "<table>\n",
       "<caption>A data.frame: 1 × 7</caption>\n",
       "<thead>\n",
       "\t<tr><th scope=col>activities</th><th scope=col>G1</th><th scope=col>G2</th><th scope=col>G3</th><th scope=col>Average.G1</th><th scope=col>Average.G2</th><th scope=col>Average.G3</th></tr>\n",
       "\t<tr><th scope=col>&lt;chr&gt;</th><th scope=col>&lt;dbl&gt;</th><th scope=col>&lt;dbl&gt;</th><th scope=col>&lt;dbl&gt;</th><th scope=col>&lt;dbl&gt;</th><th scope=col>&lt;dbl&gt;</th><th scope=col>&lt;dbl&gt;</th></tr>\n",
       "</thead>\n",
       "<tbody>\n",
       "\t<tr><td>no</td><td>0</td><td>11</td><td>11</td><td>11.18563</td><td>11.38024</td><td>11.71856</td></tr>\n",
       "</tbody>\n",
       "</table>\n"
      ],
      "text/latex": [
       "A data.frame: 1 × 7\n",
       "\\begin{tabular}{r|lllllll}\n",
       " activities & G1 & G2 & G3 & Average.G1 & Average.G2 & Average.G3\\\\\n",
       " <chr> & <dbl> & <dbl> & <dbl> & <dbl> & <dbl> & <dbl>\\\\\n",
       "\\hline\n",
       "\t no & 0 & 11 & 11 & 11.18563 & 11.38024 & 11.71856\\\\\n",
       "\\end{tabular}\n"
      ],
      "text/markdown": [
       "\n",
       "A data.frame: 1 × 7\n",
       "\n",
       "| activities &lt;chr&gt; | G1 &lt;dbl&gt; | G2 &lt;dbl&gt; | G3 &lt;dbl&gt; | Average.G1 &lt;dbl&gt; | Average.G2 &lt;dbl&gt; | Average.G3 &lt;dbl&gt; |\n",
       "|---|---|---|---|---|---|---|\n",
       "| no | 0 | 11 | 11 | 11.18563 | 11.38024 | 11.71856 |\n",
       "\n"
      ],
      "text/plain": [
       "  activities G1 G2 G3 Average.G1 Average.G2 Average.G3\n",
       "1 no         0  11 11 11.18563   11.38024   11.71856  "
      ]
     },
     "metadata": {},
     "output_type": "display_data"
    }
   ],
   "source": [
    "activitiesy_df2 <- select(file2, activities, G1, G2, G3) %>% filter(activities == 'yes') %>% transform(G1 = as.numeric(G1)) %>%\n",
    "    transform(G2 = as.numeric(G2)) %>% transform(G3 = as.numeric(G3))\n",
    "activitiesy_df2 <- activitiesy_df2 %>% group_by(activities) %>% \n",
    "    transform(Avgerage.G1 = summarise(activitiesy_df2, Average.G1 = mean(G1, na.rm = T))) %>%\n",
    "    transform(Avgerage.G2 = summarise(activitiesy_df2, Average.G2 = mean(G2, na.rm = T))) %>%\n",
    "    transform(Avgerage.G3 = summarise(activitiesy_df2, Average.G3 = mean(G3, na.rm = T)))\n",
    "\n",
    "activitiesn_df2 <- select(file2, activities, G1, G2, G3) %>% filter(activities == 'no') %>% transform(G1 = as.numeric(G1)) %>%\n",
    "    transform(G2 = as.numeric(G2)) %>% transform(G3 = as.numeric(G3))\n",
    "activitiesn_df2 <- activitiesn_df2 %>% group_by(activities) %>% \n",
    "    transform(Avgerage.G1 = summarise(activitiesn_df2, Average.G1 = mean(G1, na.rm = T))) %>%\n",
    "    transform(Avgerage.G2 = summarise(activitiesn_df2, Average.G2 = mean(G2, na.rm = T))) %>%\n",
    "    transform(Avgerage.G3 = summarise(activitiesn_df2, Average.G3 = mean(G3, na.rm = T)))\n",
    "\n",
    "head(activitiesy_df2, 1)\n",
    "head(activitiesn_df2, 1)"
   ]
  },
  {
   "cell_type": "code",
   "execution_count": 30,
   "metadata": {},
   "outputs": [
    {
     "data": {
      "text/html": [
       "<table>\n",
       "<caption>A data.frame: 1 × 7</caption>\n",
       "<thead>\n",
       "\t<tr><th scope=col>school</th><th scope=col>G1</th><th scope=col>G2</th><th scope=col>G3</th><th scope=col>Average.G1</th><th scope=col>Average.G2</th><th scope=col>Average.G3</th></tr>\n",
       "\t<tr><th scope=col>&lt;chr&gt;</th><th scope=col>&lt;dbl&gt;</th><th scope=col>&lt;dbl&gt;</th><th scope=col>&lt;dbl&gt;</th><th scope=col>&lt;dbl&gt;</th><th scope=col>&lt;dbl&gt;</th><th scope=col>&lt;dbl&gt;</th></tr>\n",
       "</thead>\n",
       "<tbody>\n",
       "\t<tr><td>GP</td><td>0</td><td>11</td><td>11</td><td>11.98582</td><td>12.14421</td><td>12.57683</td></tr>\n",
       "</tbody>\n",
       "</table>\n"
      ],
      "text/latex": [
       "A data.frame: 1 × 7\n",
       "\\begin{tabular}{r|lllllll}\n",
       " school & G1 & G2 & G3 & Average.G1 & Average.G2 & Average.G3\\\\\n",
       " <chr> & <dbl> & <dbl> & <dbl> & <dbl> & <dbl> & <dbl>\\\\\n",
       "\\hline\n",
       "\t GP & 0 & 11 & 11 & 11.98582 & 12.14421 & 12.57683\\\\\n",
       "\\end{tabular}\n"
      ],
      "text/markdown": [
       "\n",
       "A data.frame: 1 × 7\n",
       "\n",
       "| school &lt;chr&gt; | G1 &lt;dbl&gt; | G2 &lt;dbl&gt; | G3 &lt;dbl&gt; | Average.G1 &lt;dbl&gt; | Average.G2 &lt;dbl&gt; | Average.G3 &lt;dbl&gt; |\n",
       "|---|---|---|---|---|---|---|\n",
       "| GP | 0 | 11 | 11 | 11.98582 | 12.14421 | 12.57683 |\n",
       "\n"
      ],
      "text/plain": [
       "  school G1 G2 G3 Average.G1 Average.G2 Average.G3\n",
       "1 GP     0  11 11 11.98582   12.14421   12.57683  "
      ]
     },
     "metadata": {},
     "output_type": "display_data"
    },
    {
     "data": {
      "text/html": [
       "<table>\n",
       "<caption>A data.frame: 1 × 7</caption>\n",
       "<thead>\n",
       "\t<tr><th scope=col>school</th><th scope=col>G1</th><th scope=col>G2</th><th scope=col>G3</th><th scope=col>Average.G1</th><th scope=col>Average.G2</th><th scope=col>Average.G3</th></tr>\n",
       "\t<tr><th scope=col>&lt;chr&gt;</th><th scope=col>&lt;dbl&gt;</th><th scope=col>&lt;dbl&gt;</th><th scope=col>&lt;dbl&gt;</th><th scope=col>&lt;dbl&gt;</th><th scope=col>&lt;dbl&gt;</th><th scope=col>&lt;dbl&gt;</th></tr>\n",
       "</thead>\n",
       "<tbody>\n",
       "\t<tr><td>MS</td><td>10</td><td>11</td><td>11</td><td>10.30088</td><td>10.49558</td><td>10.65044</td></tr>\n",
       "</tbody>\n",
       "</table>\n"
      ],
      "text/latex": [
       "A data.frame: 1 × 7\n",
       "\\begin{tabular}{r|lllllll}\n",
       " school & G1 & G2 & G3 & Average.G1 & Average.G2 & Average.G3\\\\\n",
       " <chr> & <dbl> & <dbl> & <dbl> & <dbl> & <dbl> & <dbl>\\\\\n",
       "\\hline\n",
       "\t MS & 10 & 11 & 11 & 10.30088 & 10.49558 & 10.65044\\\\\n",
       "\\end{tabular}\n"
      ],
      "text/markdown": [
       "\n",
       "A data.frame: 1 × 7\n",
       "\n",
       "| school &lt;chr&gt; | G1 &lt;dbl&gt; | G2 &lt;dbl&gt; | G3 &lt;dbl&gt; | Average.G1 &lt;dbl&gt; | Average.G2 &lt;dbl&gt; | Average.G3 &lt;dbl&gt; |\n",
       "|---|---|---|---|---|---|---|\n",
       "| MS | 10 | 11 | 11 | 10.30088 | 10.49558 | 10.65044 |\n",
       "\n"
      ],
      "text/plain": [
       "  school G1 G2 G3 Average.G1 Average.G2 Average.G3\n",
       "1 MS     10 11 11 10.30088   10.49558   10.65044  "
      ]
     },
     "metadata": {},
     "output_type": "display_data"
    }
   ],
   "source": [
    "schoolGP_df2 <- select(file2, school, G1, G2, G3) %>% filter(school == 'GP') %>% transform(G1 = as.numeric(G1)) %>%\n",
    "    transform(G2 = as.numeric(G2)) %>% transform(G3 = as.numeric(G3))\n",
    "schoolGP_df2 <- schoolGP_df2 %>% group_by(school) %>% \n",
    "    transform(Avgerage.G1 = summarise(schoolGP_df2, Average.G1 = mean(G1, na.rm = T))) %>%\n",
    "    transform(Avgerage.G2 = summarise(schoolGP_df2, Average.G2 = mean(G2, na.rm = T))) %>%\n",
    "    transform(Avgerage.G3 = summarise(schoolGP_df2, Average.G3 = mean(G3, na.rm = T)))\n",
    "\n",
    "schoolMS_df2 <- select(file2, school, G1, G2, G3) %>% filter(school == 'MS') %>% transform(G1 = as.numeric(G1)) %>%\n",
    "    transform(G2 = as.numeric(G2)) %>% transform(G3 = as.numeric(G3))\n",
    "schoolMS_df2 <- schoolMS_df2 %>% group_by(school) %>% \n",
    "    transform(Avgerage.G1 = summarise(schoolMS_df2, Average.G1 = mean(G1, na.rm = T))) %>%\n",
    "    transform(Avgerage.G2 = summarise(schoolMS_df2, Average.G2 = mean(G2, na.rm = T))) %>%\n",
    "    transform(Avgerage.G3 = summarise(schoolMS_df2, Average.G3 = mean(G3, na.rm = T)))\n",
    "\n",
    "head(schoolGP_df2, 1)\n",
    "head(schoolMS_df2, 1)"
   ]
  },
  {
   "cell_type": "code",
   "execution_count": 31,
   "metadata": {},
   "outputs": [
    {
     "data": {
      "text/html": [
       "<table>\n",
       "<caption>A data.frame: 15 × 10</caption>\n",
       "<thead>\n",
       "\t<tr><th scope=col>Alc_Wend</th><th scope=col>Alc_Wday</th><th scope=col>go_out</th><th scope=col>romantic</th><th scope=col>internet</th><th scope=col>studytime</th><th scope=col>activities</th><th scope=col>school</th><th scope=col>value</th><th scope=col>grade</th></tr>\n",
       "\t<tr><th scope=col>&lt;dbl&gt;</th><th scope=col>&lt;dbl&gt;</th><th scope=col>&lt;dbl&gt;</th><th scope=col>&lt;dbl&gt;</th><th scope=col>&lt;dbl&gt;</th><th scope=col>&lt;dbl&gt;</th><th scope=col>&lt;dbl&gt;</th><th scope=col>&lt;dbl&gt;</th><th scope=col>&lt;dbl&gt;</th><th scope=col>&lt;fct&gt;</th></tr>\n",
       "</thead>\n",
       "<tbody>\n",
       "\t<tr><td>11.68826</td><td>11.698450</td><td>10.41667</td><td>11.12971</td><td>11.61044</td><td>10.50472</td><td>11.62540</td><td>11.98582</td><td>1</td><td>G1</td></tr>\n",
       "\t<tr><td>11.95142</td><td>11.895790</td><td>10.43750</td><td>11.19665</td><td>11.80723</td><td>10.70283</td><td>11.77143</td><td>12.14421</td><td>1</td><td>G2</td></tr>\n",
       "\t<tr><td>12.36032</td><td>12.299330</td><td>10.72917</td><td>11.52301</td><td>12.17269</td><td>10.84434</td><td>12.10476</td><td>12.57683</td><td>1</td><td>G3</td></tr>\n",
       "\t<tr><td>11.74667</td><td>11.090910</td><td>12.01379</td><td>11.55610</td><td>10.70199</td><td>11.53770</td><td>11.18563</td><td>10.30088</td><td>2</td><td>G1</td></tr>\n",
       "\t<tr><td>11.82000</td><td>11.157020</td><td>12.32414</td><td>11.78780</td><td>10.78808</td><td>11.66230</td><td>11.38024</td><td>10.49558</td><td>2</td><td>G2</td></tr>\n",
       "\t<tr><td>12.26000</td><td>11.363640</td><td>12.66897</td><td>12.12927</td><td>11.02649</td><td>12.09180</td><td>11.71856</td><td>10.65044</td><td>2</td><td>G3</td></tr>\n",
       "\t<tr><td>11.30833</td><td>10.441860</td><td>11.63415</td><td> 0.00000</td><td> 0.00000</td><td>12.42268</td><td> 0.00000</td><td> 0.00000</td><td>3</td><td>G1</td></tr>\n",
       "\t<tr><td>11.50000</td><td>10.744190</td><td>11.74634</td><td> 0.00000</td><td> 0.00000</td><td>12.79381</td><td> 0.00000</td><td> 0.00000</td><td>3</td><td>G2</td></tr>\n",
       "\t<tr><td>11.66667</td><td>11.139530</td><td>12.15122</td><td> 0.00000</td><td> 0.00000</td><td>13.22680</td><td> 0.00000</td><td> 0.00000</td><td>3</td><td>G3</td></tr>\n",
       "\t<tr><td>10.65517</td><td> 9.941176</td><td>11.25532</td><td> 0.00000</td><td> 0.00000</td><td>12.77143</td><td> 0.00000</td><td> 0.00000</td><td>4</td><td>G1</td></tr>\n",
       "\t<tr><td>10.73563</td><td> 9.470588</td><td>11.52482</td><td> 0.00000</td><td> 0.00000</td><td>12.62857</td><td> 0.00000</td><td> 0.00000</td><td>4</td><td>G2</td></tr>\n",
       "\t<tr><td>11.03448</td><td> 8.941176</td><td>11.97163</td><td> 0.00000</td><td> 0.00000</td><td>13.05714</td><td> 0.00000</td><td> 0.00000</td><td>4</td><td>G3</td></tr>\n",
       "\t<tr><td>10.33333</td><td> 9.529412</td><td>10.76364</td><td> 0.00000</td><td> 0.00000</td><td> 0.00000</td><td> 0.00000</td><td> 0.00000</td><td>5</td><td>G1</td></tr>\n",
       "\t<tr><td>10.44444</td><td>10.058820</td><td>10.80000</td><td> 0.00000</td><td> 0.00000</td><td> 0.00000</td><td> 0.00000</td><td> 0.00000</td><td>5</td><td>G2</td></tr>\n",
       "\t<tr><td>10.55556</td><td>10.235290</td><td>10.87273</td><td> 0.00000</td><td> 0.00000</td><td> 0.00000</td><td> 0.00000</td><td> 0.00000</td><td>5</td><td>G3</td></tr>\n",
       "</tbody>\n",
       "</table>\n"
      ],
      "text/latex": [
       "A data.frame: 15 × 10\n",
       "\\begin{tabular}{r|llllllllll}\n",
       " Alc\\_Wend & Alc\\_Wday & go\\_out & romantic & internet & studytime & activities & school & value & grade\\\\\n",
       " <dbl> & <dbl> & <dbl> & <dbl> & <dbl> & <dbl> & <dbl> & <dbl> & <dbl> & <fct>\\\\\n",
       "\\hline\n",
       "\t 11.68826 & 11.698450 & 10.41667 & 11.12971 & 11.61044 & 10.50472 & 11.62540 & 11.98582 & 1 & G1\\\\\n",
       "\t 11.95142 & 11.895790 & 10.43750 & 11.19665 & 11.80723 & 10.70283 & 11.77143 & 12.14421 & 1 & G2\\\\\n",
       "\t 12.36032 & 12.299330 & 10.72917 & 11.52301 & 12.17269 & 10.84434 & 12.10476 & 12.57683 & 1 & G3\\\\\n",
       "\t 11.74667 & 11.090910 & 12.01379 & 11.55610 & 10.70199 & 11.53770 & 11.18563 & 10.30088 & 2 & G1\\\\\n",
       "\t 11.82000 & 11.157020 & 12.32414 & 11.78780 & 10.78808 & 11.66230 & 11.38024 & 10.49558 & 2 & G2\\\\\n",
       "\t 12.26000 & 11.363640 & 12.66897 & 12.12927 & 11.02649 & 12.09180 & 11.71856 & 10.65044 & 2 & G3\\\\\n",
       "\t 11.30833 & 10.441860 & 11.63415 &  0.00000 &  0.00000 & 12.42268 &  0.00000 &  0.00000 & 3 & G1\\\\\n",
       "\t 11.50000 & 10.744190 & 11.74634 &  0.00000 &  0.00000 & 12.79381 &  0.00000 &  0.00000 & 3 & G2\\\\\n",
       "\t 11.66667 & 11.139530 & 12.15122 &  0.00000 &  0.00000 & 13.22680 &  0.00000 &  0.00000 & 3 & G3\\\\\n",
       "\t 10.65517 &  9.941176 & 11.25532 &  0.00000 &  0.00000 & 12.77143 &  0.00000 &  0.00000 & 4 & G1\\\\\n",
       "\t 10.73563 &  9.470588 & 11.52482 &  0.00000 &  0.00000 & 12.62857 &  0.00000 &  0.00000 & 4 & G2\\\\\n",
       "\t 11.03448 &  8.941176 & 11.97163 &  0.00000 &  0.00000 & 13.05714 &  0.00000 &  0.00000 & 4 & G3\\\\\n",
       "\t 10.33333 &  9.529412 & 10.76364 &  0.00000 &  0.00000 &  0.00000 &  0.00000 &  0.00000 & 5 & G1\\\\\n",
       "\t 10.44444 & 10.058820 & 10.80000 &  0.00000 &  0.00000 &  0.00000 &  0.00000 &  0.00000 & 5 & G2\\\\\n",
       "\t 10.55556 & 10.235290 & 10.87273 &  0.00000 &  0.00000 &  0.00000 &  0.00000 &  0.00000 & 5 & G3\\\\\n",
       "\\end{tabular}\n"
      ],
      "text/markdown": [
       "\n",
       "A data.frame: 15 × 10\n",
       "\n",
       "| Alc_Wend &lt;dbl&gt; | Alc_Wday &lt;dbl&gt; | go_out &lt;dbl&gt; | romantic &lt;dbl&gt; | internet &lt;dbl&gt; | studytime &lt;dbl&gt; | activities &lt;dbl&gt; | school &lt;dbl&gt; | value &lt;dbl&gt; | grade &lt;fct&gt; |\n",
       "|---|---|---|---|---|---|---|---|---|---|\n",
       "| 11.68826 | 11.698450 | 10.41667 | 11.12971 | 11.61044 | 10.50472 | 11.62540 | 11.98582 | 1 | G1 |\n",
       "| 11.95142 | 11.895790 | 10.43750 | 11.19665 | 11.80723 | 10.70283 | 11.77143 | 12.14421 | 1 | G2 |\n",
       "| 12.36032 | 12.299330 | 10.72917 | 11.52301 | 12.17269 | 10.84434 | 12.10476 | 12.57683 | 1 | G3 |\n",
       "| 11.74667 | 11.090910 | 12.01379 | 11.55610 | 10.70199 | 11.53770 | 11.18563 | 10.30088 | 2 | G1 |\n",
       "| 11.82000 | 11.157020 | 12.32414 | 11.78780 | 10.78808 | 11.66230 | 11.38024 | 10.49558 | 2 | G2 |\n",
       "| 12.26000 | 11.363640 | 12.66897 | 12.12927 | 11.02649 | 12.09180 | 11.71856 | 10.65044 | 2 | G3 |\n",
       "| 11.30833 | 10.441860 | 11.63415 |  0.00000 |  0.00000 | 12.42268 |  0.00000 |  0.00000 | 3 | G1 |\n",
       "| 11.50000 | 10.744190 | 11.74634 |  0.00000 |  0.00000 | 12.79381 |  0.00000 |  0.00000 | 3 | G2 |\n",
       "| 11.66667 | 11.139530 | 12.15122 |  0.00000 |  0.00000 | 13.22680 |  0.00000 |  0.00000 | 3 | G3 |\n",
       "| 10.65517 |  9.941176 | 11.25532 |  0.00000 |  0.00000 | 12.77143 |  0.00000 |  0.00000 | 4 | G1 |\n",
       "| 10.73563 |  9.470588 | 11.52482 |  0.00000 |  0.00000 | 12.62857 |  0.00000 |  0.00000 | 4 | G2 |\n",
       "| 11.03448 |  8.941176 | 11.97163 |  0.00000 |  0.00000 | 13.05714 |  0.00000 |  0.00000 | 4 | G3 |\n",
       "| 10.33333 |  9.529412 | 10.76364 |  0.00000 |  0.00000 |  0.00000 |  0.00000 |  0.00000 | 5 | G1 |\n",
       "| 10.44444 | 10.058820 | 10.80000 |  0.00000 |  0.00000 |  0.00000 |  0.00000 |  0.00000 | 5 | G2 |\n",
       "| 10.55556 | 10.235290 | 10.87273 |  0.00000 |  0.00000 |  0.00000 |  0.00000 |  0.00000 | 5 | G3 |\n",
       "\n"
      ],
      "text/plain": [
       "   Alc_Wend Alc_Wday  go_out   romantic internet studytime activities school  \n",
       "1  11.68826 11.698450 10.41667 11.12971 11.61044 10.50472  11.62540   11.98582\n",
       "2  11.95142 11.895790 10.43750 11.19665 11.80723 10.70283  11.77143   12.14421\n",
       "3  12.36032 12.299330 10.72917 11.52301 12.17269 10.84434  12.10476   12.57683\n",
       "4  11.74667 11.090910 12.01379 11.55610 10.70199 11.53770  11.18563   10.30088\n",
       "5  11.82000 11.157020 12.32414 11.78780 10.78808 11.66230  11.38024   10.49558\n",
       "6  12.26000 11.363640 12.66897 12.12927 11.02649 12.09180  11.71856   10.65044\n",
       "7  11.30833 10.441860 11.63415  0.00000  0.00000 12.42268   0.00000    0.00000\n",
       "8  11.50000 10.744190 11.74634  0.00000  0.00000 12.79381   0.00000    0.00000\n",
       "9  11.66667 11.139530 12.15122  0.00000  0.00000 13.22680   0.00000    0.00000\n",
       "10 10.65517  9.941176 11.25532  0.00000  0.00000 12.77143   0.00000    0.00000\n",
       "11 10.73563  9.470588 11.52482  0.00000  0.00000 12.62857   0.00000    0.00000\n",
       "12 11.03448  8.941176 11.97163  0.00000  0.00000 13.05714   0.00000    0.00000\n",
       "13 10.33333  9.529412 10.76364  0.00000  0.00000  0.00000   0.00000    0.00000\n",
       "14 10.44444 10.058820 10.80000  0.00000  0.00000  0.00000   0.00000    0.00000\n",
       "15 10.55556 10.235290 10.87273  0.00000  0.00000  0.00000   0.00000    0.00000\n",
       "   value grade\n",
       "1  1     G1   \n",
       "2  1     G2   \n",
       "3  1     G3   \n",
       "4  2     G1   \n",
       "5  2     G2   \n",
       "6  2     G3   \n",
       "7  3     G1   \n",
       "8  3     G2   \n",
       "9  3     G3   \n",
       "10 4     G1   \n",
       "11 4     G2   \n",
       "12 4     G3   \n",
       "13 5     G1   \n",
       "14 5     G2   \n",
       "15 5     G3   "
      ]
     },
     "metadata": {},
     "output_type": "display_data"
    }
   ],
   "source": [
    "Alc_Wend2 = c(11.68826, 11.95142, 12.36032, 11.74667, 11.82, 12.26, 11.30833, 11.5, 11.66667, 10.65517, 10.73563, 11.03448, 10.33333, 10.44444, 10.55556)\n",
    "Alc_Wday2 = c(11.69845, 11.89579, 12.29933, 11.09091, 11.15702, 11.36364, 10.44186, 10.74419, 11.13953, 9.941176, 9.470588, 8.941176, 9.529412, 10.05882, 10.23529)\n",
    "goout2 = c(10.41667, 10.4375, 10.72917, 12.01379, 12.32414, 12.66897, 11.63415, 11.74634, 12.15122, 11.25532, 11.52482, 11.97163, 10.76364, 10.8, 10.87273)\n",
    "romantic2 = c(11.12971, 11.19665, 11.52301, 11.5561, 11.7878, 12.12927,  0, 0, 0,  0, 0, 0,  0, 0, 0)\n",
    "internet2 = c(11.61044, 11.80723, 12.17269, 10.70199, 10.78808, 11.02649,  0, 0, 0,  0, 0, 0,  0, 0, 0)\n",
    "studytime2 = c(10.50472, 10.70283, 10.84434, 11.5377, 11.6623, 12.0918, 12.42268, 12.79381, 13.2268, 12.77143, 12.62857, 13.05714, 0, 0, 0)\n",
    "activities2 = c(11.6254, 11.77143, 12.10476, 11.18563, 11.38024, 11.71856,  0, 0, 0,  0, 0, 0,  0, 0, 0)\n",
    "school2 = c(11.98582, 12.14421, 12.57683, 10.30088, 10.49558, 10.65044,  0, 0, 0,  0, 0, 0,  0, 0, 0)\n",
    "value2 = c(1, 1, 1, 2, 2, 2, 3, 3, 3, 4, 4, 4, 5, 5, 5)\n",
    "grade2 = c('G1', 'G2', 'G3', 'G1', 'G2', 'G3', 'G1', 'G2', 'G3', 'G1', 'G2', 'G3', 'G1', 'G2', 'G3')\n",
    "\n",
    "\n",
    "avg_grades2 <- data.frame(Alc_Wend=Alc_Wend2, Alc_Wday=Alc_Wday2, go_out=goout2, romantic=romantic2, internet=internet2, studytime=studytime2, activities=activities2, school=school2, value=value2, grade=grade2)\n",
    "avg_grades2"
   ]
  },
  {
   "cell_type": "code",
   "execution_count": 32,
   "metadata": {
    "scrolled": true
   },
   "outputs": [
    {
     "data": {
      "text/html": [
       "<table>\n",
       "<caption>A tibble: 120 × 4</caption>\n",
       "<thead>\n",
       "\t<tr><th scope=col>value</th><th scope=col>grade</th><th scope=col>Factor</th><th scope=col>AverageGrade</th></tr>\n",
       "\t<tr><th scope=col>&lt;dbl&gt;</th><th scope=col>&lt;fct&gt;</th><th scope=col>&lt;chr&gt;</th><th scope=col>&lt;dbl&gt;</th></tr>\n",
       "</thead>\n",
       "<tbody>\n",
       "\t<tr><td>1</td><td>G1</td><td>Alc_Wend  </td><td>11.68826</td></tr>\n",
       "\t<tr><td>1</td><td>G1</td><td>Alc_Wday  </td><td>11.69845</td></tr>\n",
       "\t<tr><td>1</td><td>G1</td><td>go_out    </td><td>10.41667</td></tr>\n",
       "\t<tr><td>1</td><td>G1</td><td>romantic  </td><td>11.12971</td></tr>\n",
       "\t<tr><td>1</td><td>G1</td><td>internet  </td><td>11.61044</td></tr>\n",
       "\t<tr><td>1</td><td>G1</td><td>studytime </td><td>10.50472</td></tr>\n",
       "\t<tr><td>1</td><td>G1</td><td>activities</td><td>11.62540</td></tr>\n",
       "\t<tr><td>1</td><td>G1</td><td>school    </td><td>11.98582</td></tr>\n",
       "\t<tr><td>1</td><td>G2</td><td>Alc_Wend  </td><td>11.95142</td></tr>\n",
       "\t<tr><td>1</td><td>G2</td><td>Alc_Wday  </td><td>11.89579</td></tr>\n",
       "\t<tr><td>1</td><td>G2</td><td>go_out    </td><td>10.43750</td></tr>\n",
       "\t<tr><td>1</td><td>G2</td><td>romantic  </td><td>11.19665</td></tr>\n",
       "\t<tr><td>1</td><td>G2</td><td>internet  </td><td>11.80723</td></tr>\n",
       "\t<tr><td>1</td><td>G2</td><td>studytime </td><td>10.70283</td></tr>\n",
       "\t<tr><td>1</td><td>G2</td><td>activities</td><td>11.77143</td></tr>\n",
       "\t<tr><td>1</td><td>G2</td><td>school    </td><td>12.14421</td></tr>\n",
       "\t<tr><td>1</td><td>G3</td><td>Alc_Wend  </td><td>12.36032</td></tr>\n",
       "\t<tr><td>1</td><td>G3</td><td>Alc_Wday  </td><td>12.29933</td></tr>\n",
       "\t<tr><td>1</td><td>G3</td><td>go_out    </td><td>10.72917</td></tr>\n",
       "\t<tr><td>1</td><td>G3</td><td>romantic  </td><td>11.52301</td></tr>\n",
       "\t<tr><td>1</td><td>G3</td><td>internet  </td><td>12.17269</td></tr>\n",
       "\t<tr><td>1</td><td>G3</td><td>studytime </td><td>10.84434</td></tr>\n",
       "\t<tr><td>1</td><td>G3</td><td>activities</td><td>12.10476</td></tr>\n",
       "\t<tr><td>1</td><td>G3</td><td>school    </td><td>12.57683</td></tr>\n",
       "\t<tr><td>2</td><td>G1</td><td>Alc_Wend  </td><td>11.74667</td></tr>\n",
       "\t<tr><td>2</td><td>G1</td><td>Alc_Wday  </td><td>11.09091</td></tr>\n",
       "\t<tr><td>2</td><td>G1</td><td>go_out    </td><td>12.01379</td></tr>\n",
       "\t<tr><td>2</td><td>G1</td><td>romantic  </td><td>11.55610</td></tr>\n",
       "\t<tr><td>2</td><td>G1</td><td>internet  </td><td>10.70199</td></tr>\n",
       "\t<tr><td>2</td><td>G1</td><td>studytime </td><td>11.53770</td></tr>\n",
       "\t<tr><td>⋮</td><td>⋮</td><td>⋮</td><td>⋮</td></tr>\n",
       "\t<tr><td>4</td><td>G3</td><td>go_out    </td><td>11.971630</td></tr>\n",
       "\t<tr><td>4</td><td>G3</td><td>romantic  </td><td> 0.000000</td></tr>\n",
       "\t<tr><td>4</td><td>G3</td><td>internet  </td><td> 0.000000</td></tr>\n",
       "\t<tr><td>4</td><td>G3</td><td>studytime </td><td>13.057140</td></tr>\n",
       "\t<tr><td>4</td><td>G3</td><td>activities</td><td> 0.000000</td></tr>\n",
       "\t<tr><td>4</td><td>G3</td><td>school    </td><td> 0.000000</td></tr>\n",
       "\t<tr><td>5</td><td>G1</td><td>Alc_Wend  </td><td>10.333330</td></tr>\n",
       "\t<tr><td>5</td><td>G1</td><td>Alc_Wday  </td><td> 9.529412</td></tr>\n",
       "\t<tr><td>5</td><td>G1</td><td>go_out    </td><td>10.763640</td></tr>\n",
       "\t<tr><td>5</td><td>G1</td><td>romantic  </td><td> 0.000000</td></tr>\n",
       "\t<tr><td>5</td><td>G1</td><td>internet  </td><td> 0.000000</td></tr>\n",
       "\t<tr><td>5</td><td>G1</td><td>studytime </td><td> 0.000000</td></tr>\n",
       "\t<tr><td>5</td><td>G1</td><td>activities</td><td> 0.000000</td></tr>\n",
       "\t<tr><td>5</td><td>G1</td><td>school    </td><td> 0.000000</td></tr>\n",
       "\t<tr><td>5</td><td>G2</td><td>Alc_Wend  </td><td>10.444440</td></tr>\n",
       "\t<tr><td>5</td><td>G2</td><td>Alc_Wday  </td><td>10.058820</td></tr>\n",
       "\t<tr><td>5</td><td>G2</td><td>go_out    </td><td>10.800000</td></tr>\n",
       "\t<tr><td>5</td><td>G2</td><td>romantic  </td><td> 0.000000</td></tr>\n",
       "\t<tr><td>5</td><td>G2</td><td>internet  </td><td> 0.000000</td></tr>\n",
       "\t<tr><td>5</td><td>G2</td><td>studytime </td><td> 0.000000</td></tr>\n",
       "\t<tr><td>5</td><td>G2</td><td>activities</td><td> 0.000000</td></tr>\n",
       "\t<tr><td>5</td><td>G2</td><td>school    </td><td> 0.000000</td></tr>\n",
       "\t<tr><td>5</td><td>G3</td><td>Alc_Wend  </td><td>10.555560</td></tr>\n",
       "\t<tr><td>5</td><td>G3</td><td>Alc_Wday  </td><td>10.235290</td></tr>\n",
       "\t<tr><td>5</td><td>G3</td><td>go_out    </td><td>10.872730</td></tr>\n",
       "\t<tr><td>5</td><td>G3</td><td>romantic  </td><td> 0.000000</td></tr>\n",
       "\t<tr><td>5</td><td>G3</td><td>internet  </td><td> 0.000000</td></tr>\n",
       "\t<tr><td>5</td><td>G3</td><td>studytime </td><td> 0.000000</td></tr>\n",
       "\t<tr><td>5</td><td>G3</td><td>activities</td><td> 0.000000</td></tr>\n",
       "\t<tr><td>5</td><td>G3</td><td>school    </td><td> 0.000000</td></tr>\n",
       "</tbody>\n",
       "</table>\n"
      ],
      "text/latex": [
       "A tibble: 120 × 4\n",
       "\\begin{tabular}{r|llll}\n",
       " value & grade & Factor & AverageGrade\\\\\n",
       " <dbl> & <fct> & <chr> & <dbl>\\\\\n",
       "\\hline\n",
       "\t 1 & G1 & Alc\\_Wend   & 11.68826\\\\\n",
       "\t 1 & G1 & Alc\\_Wday   & 11.69845\\\\\n",
       "\t 1 & G1 & go\\_out     & 10.41667\\\\\n",
       "\t 1 & G1 & romantic   & 11.12971\\\\\n",
       "\t 1 & G1 & internet   & 11.61044\\\\\n",
       "\t 1 & G1 & studytime  & 10.50472\\\\\n",
       "\t 1 & G1 & activities & 11.62540\\\\\n",
       "\t 1 & G1 & school     & 11.98582\\\\\n",
       "\t 1 & G2 & Alc\\_Wend   & 11.95142\\\\\n",
       "\t 1 & G2 & Alc\\_Wday   & 11.89579\\\\\n",
       "\t 1 & G2 & go\\_out     & 10.43750\\\\\n",
       "\t 1 & G2 & romantic   & 11.19665\\\\\n",
       "\t 1 & G2 & internet   & 11.80723\\\\\n",
       "\t 1 & G2 & studytime  & 10.70283\\\\\n",
       "\t 1 & G2 & activities & 11.77143\\\\\n",
       "\t 1 & G2 & school     & 12.14421\\\\\n",
       "\t 1 & G3 & Alc\\_Wend   & 12.36032\\\\\n",
       "\t 1 & G3 & Alc\\_Wday   & 12.29933\\\\\n",
       "\t 1 & G3 & go\\_out     & 10.72917\\\\\n",
       "\t 1 & G3 & romantic   & 11.52301\\\\\n",
       "\t 1 & G3 & internet   & 12.17269\\\\\n",
       "\t 1 & G3 & studytime  & 10.84434\\\\\n",
       "\t 1 & G3 & activities & 12.10476\\\\\n",
       "\t 1 & G3 & school     & 12.57683\\\\\n",
       "\t 2 & G1 & Alc\\_Wend   & 11.74667\\\\\n",
       "\t 2 & G1 & Alc\\_Wday   & 11.09091\\\\\n",
       "\t 2 & G1 & go\\_out     & 12.01379\\\\\n",
       "\t 2 & G1 & romantic   & 11.55610\\\\\n",
       "\t 2 & G1 & internet   & 10.70199\\\\\n",
       "\t 2 & G1 & studytime  & 11.53770\\\\\n",
       "\t ⋮ & ⋮ & ⋮ & ⋮\\\\\n",
       "\t 4 & G3 & go\\_out     & 11.971630\\\\\n",
       "\t 4 & G3 & romantic   &  0.000000\\\\\n",
       "\t 4 & G3 & internet   &  0.000000\\\\\n",
       "\t 4 & G3 & studytime  & 13.057140\\\\\n",
       "\t 4 & G3 & activities &  0.000000\\\\\n",
       "\t 4 & G3 & school     &  0.000000\\\\\n",
       "\t 5 & G1 & Alc\\_Wend   & 10.333330\\\\\n",
       "\t 5 & G1 & Alc\\_Wday   &  9.529412\\\\\n",
       "\t 5 & G1 & go\\_out     & 10.763640\\\\\n",
       "\t 5 & G1 & romantic   &  0.000000\\\\\n",
       "\t 5 & G1 & internet   &  0.000000\\\\\n",
       "\t 5 & G1 & studytime  &  0.000000\\\\\n",
       "\t 5 & G1 & activities &  0.000000\\\\\n",
       "\t 5 & G1 & school     &  0.000000\\\\\n",
       "\t 5 & G2 & Alc\\_Wend   & 10.444440\\\\\n",
       "\t 5 & G2 & Alc\\_Wday   & 10.058820\\\\\n",
       "\t 5 & G2 & go\\_out     & 10.800000\\\\\n",
       "\t 5 & G2 & romantic   &  0.000000\\\\\n",
       "\t 5 & G2 & internet   &  0.000000\\\\\n",
       "\t 5 & G2 & studytime  &  0.000000\\\\\n",
       "\t 5 & G2 & activities &  0.000000\\\\\n",
       "\t 5 & G2 & school     &  0.000000\\\\\n",
       "\t 5 & G3 & Alc\\_Wend   & 10.555560\\\\\n",
       "\t 5 & G3 & Alc\\_Wday   & 10.235290\\\\\n",
       "\t 5 & G3 & go\\_out     & 10.872730\\\\\n",
       "\t 5 & G3 & romantic   &  0.000000\\\\\n",
       "\t 5 & G3 & internet   &  0.000000\\\\\n",
       "\t 5 & G3 & studytime  &  0.000000\\\\\n",
       "\t 5 & G3 & activities &  0.000000\\\\\n",
       "\t 5 & G3 & school     &  0.000000\\\\\n",
       "\\end{tabular}\n"
      ],
      "text/markdown": [
       "\n",
       "A tibble: 120 × 4\n",
       "\n",
       "| value &lt;dbl&gt; | grade &lt;fct&gt; | Factor &lt;chr&gt; | AverageGrade &lt;dbl&gt; |\n",
       "|---|---|---|---|\n",
       "| 1 | G1 | Alc_Wend   | 11.68826 |\n",
       "| 1 | G1 | Alc_Wday   | 11.69845 |\n",
       "| 1 | G1 | go_out     | 10.41667 |\n",
       "| 1 | G1 | romantic   | 11.12971 |\n",
       "| 1 | G1 | internet   | 11.61044 |\n",
       "| 1 | G1 | studytime  | 10.50472 |\n",
       "| 1 | G1 | activities | 11.62540 |\n",
       "| 1 | G1 | school     | 11.98582 |\n",
       "| 1 | G2 | Alc_Wend   | 11.95142 |\n",
       "| 1 | G2 | Alc_Wday   | 11.89579 |\n",
       "| 1 | G2 | go_out     | 10.43750 |\n",
       "| 1 | G2 | romantic   | 11.19665 |\n",
       "| 1 | G2 | internet   | 11.80723 |\n",
       "| 1 | G2 | studytime  | 10.70283 |\n",
       "| 1 | G2 | activities | 11.77143 |\n",
       "| 1 | G2 | school     | 12.14421 |\n",
       "| 1 | G3 | Alc_Wend   | 12.36032 |\n",
       "| 1 | G3 | Alc_Wday   | 12.29933 |\n",
       "| 1 | G3 | go_out     | 10.72917 |\n",
       "| 1 | G3 | romantic   | 11.52301 |\n",
       "| 1 | G3 | internet   | 12.17269 |\n",
       "| 1 | G3 | studytime  | 10.84434 |\n",
       "| 1 | G3 | activities | 12.10476 |\n",
       "| 1 | G3 | school     | 12.57683 |\n",
       "| 2 | G1 | Alc_Wend   | 11.74667 |\n",
       "| 2 | G1 | Alc_Wday   | 11.09091 |\n",
       "| 2 | G1 | go_out     | 12.01379 |\n",
       "| 2 | G1 | romantic   | 11.55610 |\n",
       "| 2 | G1 | internet   | 10.70199 |\n",
       "| 2 | G1 | studytime  | 11.53770 |\n",
       "| ⋮ | ⋮ | ⋮ | ⋮ |\n",
       "| 4 | G3 | go_out     | 11.971630 |\n",
       "| 4 | G3 | romantic   |  0.000000 |\n",
       "| 4 | G3 | internet   |  0.000000 |\n",
       "| 4 | G3 | studytime  | 13.057140 |\n",
       "| 4 | G3 | activities |  0.000000 |\n",
       "| 4 | G3 | school     |  0.000000 |\n",
       "| 5 | G1 | Alc_Wend   | 10.333330 |\n",
       "| 5 | G1 | Alc_Wday   |  9.529412 |\n",
       "| 5 | G1 | go_out     | 10.763640 |\n",
       "| 5 | G1 | romantic   |  0.000000 |\n",
       "| 5 | G1 | internet   |  0.000000 |\n",
       "| 5 | G1 | studytime  |  0.000000 |\n",
       "| 5 | G1 | activities |  0.000000 |\n",
       "| 5 | G1 | school     |  0.000000 |\n",
       "| 5 | G2 | Alc_Wend   | 10.444440 |\n",
       "| 5 | G2 | Alc_Wday   | 10.058820 |\n",
       "| 5 | G2 | go_out     | 10.800000 |\n",
       "| 5 | G2 | romantic   |  0.000000 |\n",
       "| 5 | G2 | internet   |  0.000000 |\n",
       "| 5 | G2 | studytime  |  0.000000 |\n",
       "| 5 | G2 | activities |  0.000000 |\n",
       "| 5 | G2 | school     |  0.000000 |\n",
       "| 5 | G3 | Alc_Wend   | 10.555560 |\n",
       "| 5 | G3 | Alc_Wday   | 10.235290 |\n",
       "| 5 | G3 | go_out     | 10.872730 |\n",
       "| 5 | G3 | romantic   |  0.000000 |\n",
       "| 5 | G3 | internet   |  0.000000 |\n",
       "| 5 | G3 | studytime  |  0.000000 |\n",
       "| 5 | G3 | activities |  0.000000 |\n",
       "| 5 | G3 | school     |  0.000000 |\n",
       "\n"
      ],
      "text/plain": [
       "    value grade Factor     AverageGrade\n",
       "1   1     G1    Alc_Wend   11.68826    \n",
       "2   1     G1    Alc_Wday   11.69845    \n",
       "3   1     G1    go_out     10.41667    \n",
       "4   1     G1    romantic   11.12971    \n",
       "5   1     G1    internet   11.61044    \n",
       "6   1     G1    studytime  10.50472    \n",
       "7   1     G1    activities 11.62540    \n",
       "8   1     G1    school     11.98582    \n",
       "9   1     G2    Alc_Wend   11.95142    \n",
       "10  1     G2    Alc_Wday   11.89579    \n",
       "11  1     G2    go_out     10.43750    \n",
       "12  1     G2    romantic   11.19665    \n",
       "13  1     G2    internet   11.80723    \n",
       "14  1     G2    studytime  10.70283    \n",
       "15  1     G2    activities 11.77143    \n",
       "16  1     G2    school     12.14421    \n",
       "17  1     G3    Alc_Wend   12.36032    \n",
       "18  1     G3    Alc_Wday   12.29933    \n",
       "19  1     G3    go_out     10.72917    \n",
       "20  1     G3    romantic   11.52301    \n",
       "21  1     G3    internet   12.17269    \n",
       "22  1     G3    studytime  10.84434    \n",
       "23  1     G3    activities 12.10476    \n",
       "24  1     G3    school     12.57683    \n",
       "25  2     G1    Alc_Wend   11.74667    \n",
       "26  2     G1    Alc_Wday   11.09091    \n",
       "27  2     G1    go_out     12.01379    \n",
       "28  2     G1    romantic   11.55610    \n",
       "29  2     G1    internet   10.70199    \n",
       "30  2     G1    studytime  11.53770    \n",
       "⋮   ⋮     ⋮     ⋮          ⋮           \n",
       "91  4     G3    go_out     11.971630   \n",
       "92  4     G3    romantic    0.000000   \n",
       "93  4     G3    internet    0.000000   \n",
       "94  4     G3    studytime  13.057140   \n",
       "95  4     G3    activities  0.000000   \n",
       "96  4     G3    school      0.000000   \n",
       "97  5     G1    Alc_Wend   10.333330   \n",
       "98  5     G1    Alc_Wday    9.529412   \n",
       "99  5     G1    go_out     10.763640   \n",
       "100 5     G1    romantic    0.000000   \n",
       "101 5     G1    internet    0.000000   \n",
       "102 5     G1    studytime   0.000000   \n",
       "103 5     G1    activities  0.000000   \n",
       "104 5     G1    school      0.000000   \n",
       "105 5     G2    Alc_Wend   10.444440   \n",
       "106 5     G2    Alc_Wday   10.058820   \n",
       "107 5     G2    go_out     10.800000   \n",
       "108 5     G2    romantic    0.000000   \n",
       "109 5     G2    internet    0.000000   \n",
       "110 5     G2    studytime   0.000000   \n",
       "111 5     G2    activities  0.000000   \n",
       "112 5     G2    school      0.000000   \n",
       "113 5     G3    Alc_Wend   10.555560   \n",
       "114 5     G3    Alc_Wday   10.235290   \n",
       "115 5     G3    go_out     10.872730   \n",
       "116 5     G3    romantic    0.000000   \n",
       "117 5     G3    internet    0.000000   \n",
       "118 5     G3    studytime   0.000000   \n",
       "119 5     G3    activities  0.000000   \n",
       "120 5     G3    school      0.000000   "
      ]
     },
     "metadata": {},
     "output_type": "display_data"
    }
   ],
   "source": [
    "avg_grades2_piv <- avg_grades2 %>% pivot_longer(1:8, names_to = \"Factor\", values_to = \"AverageGrade\")\n",
    "avg_grades2_piv"
   ]
  },
  {
   "cell_type": "code",
   "execution_count": 33,
   "metadata": {
    "scrolled": true
   },
   "outputs": [
    {
     "data": {
      "text/html": [
       "<table>\n",
       "<caption>A data.frame: 40 × 4</caption>\n",
       "<thead>\n",
       "\t<tr><th scope=col>value</th><th scope=col>grade</th><th scope=col>Factor</th><th scope=col>AverageGrade</th></tr>\n",
       "\t<tr><th scope=col>&lt;fct&gt;</th><th scope=col>&lt;fct&gt;</th><th scope=col>&lt;chr&gt;</th><th scope=col>&lt;dbl&gt;</th></tr>\n",
       "</thead>\n",
       "<tbody>\n",
       "\t<tr><td>1</td><td>G1</td><td>Alc_Wend  </td><td>11.688260</td></tr>\n",
       "\t<tr><td>1</td><td>G1</td><td>Alc_Wday  </td><td>11.698450</td></tr>\n",
       "\t<tr><td>1</td><td>G1</td><td>go_out    </td><td>10.416670</td></tr>\n",
       "\t<tr><td>1</td><td>G1</td><td>romantic  </td><td>11.129710</td></tr>\n",
       "\t<tr><td>1</td><td>G1</td><td>internet  </td><td>11.610440</td></tr>\n",
       "\t<tr><td>1</td><td>G1</td><td>studytime </td><td>10.504720</td></tr>\n",
       "\t<tr><td>1</td><td>G1</td><td>activities</td><td>11.625400</td></tr>\n",
       "\t<tr><td>1</td><td>G1</td><td>school    </td><td>11.985820</td></tr>\n",
       "\t<tr><td>2</td><td>G1</td><td>Alc_Wend  </td><td>11.746670</td></tr>\n",
       "\t<tr><td>2</td><td>G1</td><td>Alc_Wday  </td><td>11.090910</td></tr>\n",
       "\t<tr><td>2</td><td>G1</td><td>go_out    </td><td>12.013790</td></tr>\n",
       "\t<tr><td>2</td><td>G1</td><td>romantic  </td><td>11.556100</td></tr>\n",
       "\t<tr><td>2</td><td>G1</td><td>internet  </td><td>10.701990</td></tr>\n",
       "\t<tr><td>2</td><td>G1</td><td>studytime </td><td>11.537700</td></tr>\n",
       "\t<tr><td>2</td><td>G1</td><td>activities</td><td>11.185630</td></tr>\n",
       "\t<tr><td>2</td><td>G1</td><td>school    </td><td>10.300880</td></tr>\n",
       "\t<tr><td>3</td><td>G1</td><td>Alc_Wend  </td><td>11.308330</td></tr>\n",
       "\t<tr><td>3</td><td>G1</td><td>Alc_Wday  </td><td>10.441860</td></tr>\n",
       "\t<tr><td>3</td><td>G1</td><td>go_out    </td><td>11.634150</td></tr>\n",
       "\t<tr><td>3</td><td>G1</td><td>romantic  </td><td> 0.000000</td></tr>\n",
       "\t<tr><td>3</td><td>G1</td><td>internet  </td><td> 0.000000</td></tr>\n",
       "\t<tr><td>3</td><td>G1</td><td>studytime </td><td>12.422680</td></tr>\n",
       "\t<tr><td>3</td><td>G1</td><td>activities</td><td> 0.000000</td></tr>\n",
       "\t<tr><td>3</td><td>G1</td><td>school    </td><td> 0.000000</td></tr>\n",
       "\t<tr><td>4</td><td>G1</td><td>Alc_Wend  </td><td>10.655170</td></tr>\n",
       "\t<tr><td>4</td><td>G1</td><td>Alc_Wday  </td><td> 9.941176</td></tr>\n",
       "\t<tr><td>4</td><td>G1</td><td>go_out    </td><td>11.255320</td></tr>\n",
       "\t<tr><td>4</td><td>G1</td><td>romantic  </td><td> 0.000000</td></tr>\n",
       "\t<tr><td>4</td><td>G1</td><td>internet  </td><td> 0.000000</td></tr>\n",
       "\t<tr><td>4</td><td>G1</td><td>studytime </td><td>12.771430</td></tr>\n",
       "\t<tr><td>4</td><td>G1</td><td>activities</td><td> 0.000000</td></tr>\n",
       "\t<tr><td>4</td><td>G1</td><td>school    </td><td> 0.000000</td></tr>\n",
       "\t<tr><td>5</td><td>G1</td><td>Alc_Wend  </td><td>10.333330</td></tr>\n",
       "\t<tr><td>5</td><td>G1</td><td>Alc_Wday  </td><td> 9.529412</td></tr>\n",
       "\t<tr><td>5</td><td>G1</td><td>go_out    </td><td>10.763640</td></tr>\n",
       "\t<tr><td>5</td><td>G1</td><td>romantic  </td><td> 0.000000</td></tr>\n",
       "\t<tr><td>5</td><td>G1</td><td>internet  </td><td> 0.000000</td></tr>\n",
       "\t<tr><td>5</td><td>G1</td><td>studytime </td><td> 0.000000</td></tr>\n",
       "\t<tr><td>5</td><td>G1</td><td>activities</td><td> 0.000000</td></tr>\n",
       "\t<tr><td>5</td><td>G1</td><td>school    </td><td> 0.000000</td></tr>\n",
       "</tbody>\n",
       "</table>\n"
      ],
      "text/latex": [
       "A data.frame: 40 × 4\n",
       "\\begin{tabular}{r|llll}\n",
       " value & grade & Factor & AverageGrade\\\\\n",
       " <fct> & <fct> & <chr> & <dbl>\\\\\n",
       "\\hline\n",
       "\t 1 & G1 & Alc\\_Wend   & 11.688260\\\\\n",
       "\t 1 & G1 & Alc\\_Wday   & 11.698450\\\\\n",
       "\t 1 & G1 & go\\_out     & 10.416670\\\\\n",
       "\t 1 & G1 & romantic   & 11.129710\\\\\n",
       "\t 1 & G1 & internet   & 11.610440\\\\\n",
       "\t 1 & G1 & studytime  & 10.504720\\\\\n",
       "\t 1 & G1 & activities & 11.625400\\\\\n",
       "\t 1 & G1 & school     & 11.985820\\\\\n",
       "\t 2 & G1 & Alc\\_Wend   & 11.746670\\\\\n",
       "\t 2 & G1 & Alc\\_Wday   & 11.090910\\\\\n",
       "\t 2 & G1 & go\\_out     & 12.013790\\\\\n",
       "\t 2 & G1 & romantic   & 11.556100\\\\\n",
       "\t 2 & G1 & internet   & 10.701990\\\\\n",
       "\t 2 & G1 & studytime  & 11.537700\\\\\n",
       "\t 2 & G1 & activities & 11.185630\\\\\n",
       "\t 2 & G1 & school     & 10.300880\\\\\n",
       "\t 3 & G1 & Alc\\_Wend   & 11.308330\\\\\n",
       "\t 3 & G1 & Alc\\_Wday   & 10.441860\\\\\n",
       "\t 3 & G1 & go\\_out     & 11.634150\\\\\n",
       "\t 3 & G1 & romantic   &  0.000000\\\\\n",
       "\t 3 & G1 & internet   &  0.000000\\\\\n",
       "\t 3 & G1 & studytime  & 12.422680\\\\\n",
       "\t 3 & G1 & activities &  0.000000\\\\\n",
       "\t 3 & G1 & school     &  0.000000\\\\\n",
       "\t 4 & G1 & Alc\\_Wend   & 10.655170\\\\\n",
       "\t 4 & G1 & Alc\\_Wday   &  9.941176\\\\\n",
       "\t 4 & G1 & go\\_out     & 11.255320\\\\\n",
       "\t 4 & G1 & romantic   &  0.000000\\\\\n",
       "\t 4 & G1 & internet   &  0.000000\\\\\n",
       "\t 4 & G1 & studytime  & 12.771430\\\\\n",
       "\t 4 & G1 & activities &  0.000000\\\\\n",
       "\t 4 & G1 & school     &  0.000000\\\\\n",
       "\t 5 & G1 & Alc\\_Wend   & 10.333330\\\\\n",
       "\t 5 & G1 & Alc\\_Wday   &  9.529412\\\\\n",
       "\t 5 & G1 & go\\_out     & 10.763640\\\\\n",
       "\t 5 & G1 & romantic   &  0.000000\\\\\n",
       "\t 5 & G1 & internet   &  0.000000\\\\\n",
       "\t 5 & G1 & studytime  &  0.000000\\\\\n",
       "\t 5 & G1 & activities &  0.000000\\\\\n",
       "\t 5 & G1 & school     &  0.000000\\\\\n",
       "\\end{tabular}\n"
      ],
      "text/markdown": [
       "\n",
       "A data.frame: 40 × 4\n",
       "\n",
       "| value &lt;fct&gt; | grade &lt;fct&gt; | Factor &lt;chr&gt; | AverageGrade &lt;dbl&gt; |\n",
       "|---|---|---|---|\n",
       "| 1 | G1 | Alc_Wend   | 11.688260 |\n",
       "| 1 | G1 | Alc_Wday   | 11.698450 |\n",
       "| 1 | G1 | go_out     | 10.416670 |\n",
       "| 1 | G1 | romantic   | 11.129710 |\n",
       "| 1 | G1 | internet   | 11.610440 |\n",
       "| 1 | G1 | studytime  | 10.504720 |\n",
       "| 1 | G1 | activities | 11.625400 |\n",
       "| 1 | G1 | school     | 11.985820 |\n",
       "| 2 | G1 | Alc_Wend   | 11.746670 |\n",
       "| 2 | G1 | Alc_Wday   | 11.090910 |\n",
       "| 2 | G1 | go_out     | 12.013790 |\n",
       "| 2 | G1 | romantic   | 11.556100 |\n",
       "| 2 | G1 | internet   | 10.701990 |\n",
       "| 2 | G1 | studytime  | 11.537700 |\n",
       "| 2 | G1 | activities | 11.185630 |\n",
       "| 2 | G1 | school     | 10.300880 |\n",
       "| 3 | G1 | Alc_Wend   | 11.308330 |\n",
       "| 3 | G1 | Alc_Wday   | 10.441860 |\n",
       "| 3 | G1 | go_out     | 11.634150 |\n",
       "| 3 | G1 | romantic   |  0.000000 |\n",
       "| 3 | G1 | internet   |  0.000000 |\n",
       "| 3 | G1 | studytime  | 12.422680 |\n",
       "| 3 | G1 | activities |  0.000000 |\n",
       "| 3 | G1 | school     |  0.000000 |\n",
       "| 4 | G1 | Alc_Wend   | 10.655170 |\n",
       "| 4 | G1 | Alc_Wday   |  9.941176 |\n",
       "| 4 | G1 | go_out     | 11.255320 |\n",
       "| 4 | G1 | romantic   |  0.000000 |\n",
       "| 4 | G1 | internet   |  0.000000 |\n",
       "| 4 | G1 | studytime  | 12.771430 |\n",
       "| 4 | G1 | activities |  0.000000 |\n",
       "| 4 | G1 | school     |  0.000000 |\n",
       "| 5 | G1 | Alc_Wend   | 10.333330 |\n",
       "| 5 | G1 | Alc_Wday   |  9.529412 |\n",
       "| 5 | G1 | go_out     | 10.763640 |\n",
       "| 5 | G1 | romantic   |  0.000000 |\n",
       "| 5 | G1 | internet   |  0.000000 |\n",
       "| 5 | G1 | studytime  |  0.000000 |\n",
       "| 5 | G1 | activities |  0.000000 |\n",
       "| 5 | G1 | school     |  0.000000 |\n",
       "\n"
      ],
      "text/plain": [
       "   value grade Factor     AverageGrade\n",
       "1  1     G1    Alc_Wend   11.688260   \n",
       "2  1     G1    Alc_Wday   11.698450   \n",
       "3  1     G1    go_out     10.416670   \n",
       "4  1     G1    romantic   11.129710   \n",
       "5  1     G1    internet   11.610440   \n",
       "6  1     G1    studytime  10.504720   \n",
       "7  1     G1    activities 11.625400   \n",
       "8  1     G1    school     11.985820   \n",
       "9  2     G1    Alc_Wend   11.746670   \n",
       "10 2     G1    Alc_Wday   11.090910   \n",
       "11 2     G1    go_out     12.013790   \n",
       "12 2     G1    romantic   11.556100   \n",
       "13 2     G1    internet   10.701990   \n",
       "14 2     G1    studytime  11.537700   \n",
       "15 2     G1    activities 11.185630   \n",
       "16 2     G1    school     10.300880   \n",
       "17 3     G1    Alc_Wend   11.308330   \n",
       "18 3     G1    Alc_Wday   10.441860   \n",
       "19 3     G1    go_out     11.634150   \n",
       "20 3     G1    romantic    0.000000   \n",
       "21 3     G1    internet    0.000000   \n",
       "22 3     G1    studytime  12.422680   \n",
       "23 3     G1    activities  0.000000   \n",
       "24 3     G1    school      0.000000   \n",
       "25 4     G1    Alc_Wend   10.655170   \n",
       "26 4     G1    Alc_Wday    9.941176   \n",
       "27 4     G1    go_out     11.255320   \n",
       "28 4     G1    romantic    0.000000   \n",
       "29 4     G1    internet    0.000000   \n",
       "30 4     G1    studytime  12.771430   \n",
       "31 4     G1    activities  0.000000   \n",
       "32 4     G1    school      0.000000   \n",
       "33 5     G1    Alc_Wend   10.333330   \n",
       "34 5     G1    Alc_Wday    9.529412   \n",
       "35 5     G1    go_out     10.763640   \n",
       "36 5     G1    romantic    0.000000   \n",
       "37 5     G1    internet    0.000000   \n",
       "38 5     G1    studytime   0.000000   \n",
       "39 5     G1    activities  0.000000   \n",
       "40 5     G1    school      0.000000   "
      ]
     },
     "metadata": {},
     "output_type": "display_data"
    }
   ],
   "source": [
    "avg_grades2_piv <- avg_grades2_piv %>% transform(value = as.factor(value))\n",
    "\n",
    "avg_grades2_piv1 <- avg_grades2_piv %>% filter(grade == 'G1')\n",
    "avg_grades2_piv2 <- avg_grades2_piv %>% filter(grade == 'G2')\n",
    "avg_grades2_piv3 <- avg_grades2_piv %>% filter(grade == 'G3')\n",
    "\n",
    "avg_grades2_piv1"
   ]
  },
  {
   "cell_type": "code",
   "execution_count": 34,
   "metadata": {},
   "outputs": [
    {
     "data": {
      "image/png": "[encoded data removed]",
      "text/plain": [
       "plot without title"
      ]
     },
     "metadata": {},
     "output_type": "display_data"
    }
   ],
   "source": [
    "plot4 <- ggplot(data = avg_grades2_piv1) + \n",
    "        geom_bar(mapping = aes(x = Factor, y=AverageGrade, fill = value), position = \"dodge\", stat=\"identity\") + \n",
    "        ylab(\"Average Grade (G1)\") + ylim(c(0,20)) + scale_fill_manual(values = coul)\n",
    "plot4"
   ]
  },
  {
   "cell_type": "code",
   "execution_count": 35,
   "metadata": {},
   "outputs": [
    {
     "data": {
      "image/png": "[encoded data removed]",
      "text/plain": [
       "plot without title"
      ]
     },
     "metadata": {},
     "output_type": "display_data"
    }
   ],
   "source": [
    "plot5 <- ggplot(data = avg_grades2_piv2) + \n",
    "        geom_bar(mapping = aes(x = Factor, y=AverageGrade, fill = value), position = \"dodge\", stat=\"identity\") + \n",
    "        ylab(\"Average Grade (G2)\") + ylim(c(0,20)) + scale_fill_manual(values = coul)\n",
    "plot5"
   ]
  },
  {
   "cell_type": "code",
   "execution_count": 36,
   "metadata": {},
   "outputs": [
    {
     "data": {
      "image/png": "[encoded data removed]",
      "text/plain": [
       "plot without title"
      ]
     },
     "metadata": {},
     "output_type": "display_data"
    }
   ],
   "source": [
    "plot6 <- ggplot(data = avg_grades2_piv3) + \n",
    "        geom_bar(mapping = aes(x = Factor, y=AverageGrade, fill = value), position = \"dodge\", stat=\"identity\") + \n",
    "        ylab(\"Average Grade (G3)\") + ylim(c(0,20)) + scale_fill_manual(values = coul)\n",
    "plot6"
   ]
  },
  {
   "cell_type": "code",
   "execution_count": 37,
   "metadata": {
    "scrolled": true
   },
   "outputs": [
    {
     "data": {
      "text/html": [
       "<table>\n",
       "<caption>A data.frame: 40 × 33</caption>\n",
       "<thead>\n",
       "\t<tr><th scope=col>school</th><th scope=col>sex</th><th scope=col>age</th><th scope=col>address</th><th scope=col>famsize</th><th scope=col>Pstatus</th><th scope=col>Medu</th><th scope=col>Fedu</th><th scope=col>Mjob</th><th scope=col>Fjob</th><th scope=col>⋯</th><th scope=col>famrel</th><th scope=col>freetime</th><th scope=col>goout</th><th scope=col>Dalc</th><th scope=col>Walc</th><th scope=col>health</th><th scope=col>absences</th><th scope=col>G1</th><th scope=col>G2</th><th scope=col>G3</th></tr>\n",
       "\t<tr><th scope=col>&lt;chr&gt;</th><th scope=col>&lt;chr&gt;</th><th scope=col>&lt;int&gt;</th><th scope=col>&lt;chr&gt;</th><th scope=col>&lt;chr&gt;</th><th scope=col>&lt;chr&gt;</th><th scope=col>&lt;int&gt;</th><th scope=col>&lt;int&gt;</th><th scope=col>&lt;chr&gt;</th><th scope=col>&lt;chr&gt;</th><th scope=col>⋯</th><th scope=col>&lt;int&gt;</th><th scope=col>&lt;int&gt;</th><th scope=col>&lt;int&gt;</th><th scope=col>&lt;int&gt;</th><th scope=col>&lt;int&gt;</th><th scope=col>&lt;int&gt;</th><th scope=col>&lt;int&gt;</th><th scope=col>&lt;int&gt;</th><th scope=col>&lt;int&gt;</th><th scope=col>&lt;int&gt;</th></tr>\n",
       "</thead>\n",
       "<tbody>\n",
       "\t<tr><td>GP</td><td>M</td><td>15</td><td>U</td><td>LE3</td><td>A</td><td>3</td><td>2</td><td>services</td><td>other   </td><td>⋯</td><td>4</td><td>2</td><td>2</td><td>1</td><td>1</td><td>1</td><td> 0</td><td>16</td><td>18</td><td>19</td></tr>\n",
       "\t<tr><td>GP</td><td>M</td><td>15</td><td>U</td><td>GT3</td><td>A</td><td>2</td><td>2</td><td>other   </td><td>other   </td><td>⋯</td><td>4</td><td>5</td><td>2</td><td>1</td><td>1</td><td>3</td><td> 0</td><td>14</td><td>16</td><td>16</td></tr>\n",
       "\t<tr><td>GP</td><td>M</td><td>16</td><td>U</td><td>LE3</td><td>T</td><td>4</td><td>2</td><td>teacher </td><td>other   </td><td>⋯</td><td>4</td><td>5</td><td>1</td><td>1</td><td>3</td><td>5</td><td> 2</td><td>15</td><td>15</td><td>16</td></tr>\n",
       "\t<tr><td>GP</td><td>M</td><td>15</td><td>U</td><td>GT3</td><td>T</td><td>4</td><td>4</td><td>services</td><td>services</td><td>⋯</td><td>4</td><td>3</td><td>1</td><td>1</td><td>1</td><td>5</td><td> 0</td><td>17</td><td>16</td><td>17</td></tr>\n",
       "\t<tr><td>GP</td><td>M</td><td>15</td><td>R</td><td>GT3</td><td>T</td><td>4</td><td>3</td><td>teacher </td><td>at_home </td><td>⋯</td><td>4</td><td>5</td><td>2</td><td>1</td><td>1</td><td>5</td><td> 0</td><td>17</td><td>16</td><td>16</td></tr>\n",
       "\t<tr><td>GP</td><td>M</td><td>15</td><td>U</td><td>LE3</td><td>T</td><td>4</td><td>3</td><td>teacher </td><td>services</td><td>⋯</td><td>5</td><td>4</td><td>3</td><td>1</td><td>1</td><td>4</td><td> 2</td><td>15</td><td>16</td><td>18</td></tr>\n",
       "\t<tr><td>GP</td><td>M</td><td>15</td><td>U</td><td>GT3</td><td>T</td><td>4</td><td>4</td><td>services</td><td>teacher </td><td>⋯</td><td>4</td><td>3</td><td>3</td><td>1</td><td>1</td><td>5</td><td> 2</td><td>19</td><td>18</td><td>18</td></tr>\n",
       "\t<tr><td>GP</td><td>M</td><td>16</td><td>U</td><td>GT3</td><td>T</td><td>4</td><td>3</td><td>health  </td><td>services</td><td>⋯</td><td>4</td><td>2</td><td>2</td><td>1</td><td>1</td><td>2</td><td> 4</td><td>19</td><td>19</td><td>20</td></tr>\n",
       "\t<tr><td>GP</td><td>F</td><td>16</td><td>U</td><td>GT3</td><td>T</td><td>4</td><td>2</td><td>services</td><td>other   </td><td>⋯</td><td>4</td><td>2</td><td>3</td><td>1</td><td>1</td><td>5</td><td> 2</td><td>15</td><td>16</td><td>16</td></tr>\n",
       "\t<tr><td>GP</td><td>F</td><td>15</td><td>R</td><td>LE3</td><td>T</td><td>3</td><td>1</td><td>other   </td><td>other   </td><td>⋯</td><td>4</td><td>4</td><td>2</td><td>2</td><td>3</td><td>3</td><td>12</td><td>16</td><td>16</td><td>16</td></tr>\n",
       "\t<tr><td>GP</td><td>F</td><td>15</td><td>U</td><td>GT3</td><td>T</td><td>4</td><td>3</td><td>services</td><td>other   </td><td>⋯</td><td>4</td><td>5</td><td>5</td><td>1</td><td>3</td><td>1</td><td> 4</td><td>16</td><td>17</td><td>18</td></tr>\n",
       "\t<tr><td>GP</td><td>M</td><td>16</td><td>U</td><td>GT3</td><td>T</td><td>4</td><td>4</td><td>services</td><td>teacher </td><td>⋯</td><td>4</td><td>4</td><td>3</td><td>1</td><td>1</td><td>4</td><td> 0</td><td>16</td><td>17</td><td>17</td></tr>\n",
       "\t<tr><td>GP</td><td>M</td><td>15</td><td>U</td><td>GT3</td><td>A</td><td>3</td><td>4</td><td>services</td><td>other   </td><td>⋯</td><td>5</td><td>4</td><td>4</td><td>1</td><td>1</td><td>1</td><td> 0</td><td>16</td><td>18</td><td>18</td></tr>\n",
       "\t<tr><td>GP</td><td>M</td><td>16</td><td>U</td><td>GT3</td><td>T</td><td>3</td><td>3</td><td>services</td><td>other   </td><td>⋯</td><td>5</td><td>3</td><td>3</td><td>1</td><td>1</td><td>5</td><td> 2</td><td>16</td><td>18</td><td>18</td></tr>\n",
       "\t<tr><td>GP</td><td>F</td><td>16</td><td>U</td><td>LE3</td><td>T</td><td>4</td><td>4</td><td>health  </td><td>health  </td><td>⋯</td><td>5</td><td>4</td><td>5</td><td>1</td><td>1</td><td>4</td><td> 4</td><td>14</td><td>15</td><td>16</td></tr>\n",
       "\t<tr><td>GP</td><td>M</td><td>15</td><td>U</td><td>LE3</td><td>A</td><td>4</td><td>4</td><td>teacher </td><td>teacher </td><td>⋯</td><td>5</td><td>5</td><td>3</td><td>1</td><td>1</td><td>4</td><td> 6</td><td>18</td><td>19</td><td>19</td></tr>\n",
       "\t<tr><td>GP</td><td>M</td><td>15</td><td>U</td><td>LE3</td><td>T</td><td>4</td><td>2</td><td>teacher </td><td>other   </td><td>⋯</td><td>3</td><td>5</td><td>2</td><td>1</td><td>1</td><td>3</td><td>10</td><td>18</td><td>19</td><td>19</td></tr>\n",
       "\t<tr><td>GP</td><td>M</td><td>16</td><td>U</td><td>GT3</td><td>T</td><td>4</td><td>4</td><td>teacher </td><td>teacher </td><td>⋯</td><td>5</td><td>4</td><td>4</td><td>1</td><td>2</td><td>5</td><td> 2</td><td>15</td><td>15</td><td>16</td></tr>\n",
       "\t<tr><td>GP</td><td>M</td><td>16</td><td>R</td><td>GT3</td><td>T</td><td>4</td><td>4</td><td>teacher </td><td>teacher </td><td>⋯</td><td>3</td><td>5</td><td>5</td><td>2</td><td>5</td><td>4</td><td> 8</td><td>18</td><td>18</td><td>18</td></tr>\n",
       "\t<tr><td>GP</td><td>F</td><td>16</td><td>U</td><td>GT3</td><td>T</td><td>4</td><td>2</td><td>health  </td><td>services</td><td>⋯</td><td>4</td><td>2</td><td>3</td><td>1</td><td>1</td><td>3</td><td> 0</td><td>14</td><td>15</td><td>16</td></tr>\n",
       "\t<tr><td>GP</td><td>M</td><td>16</td><td>U</td><td>GT3</td><td>T</td><td>1</td><td>0</td><td>other   </td><td>other   </td><td>⋯</td><td>4</td><td>3</td><td>2</td><td>1</td><td>1</td><td>3</td><td> 2</td><td>13</td><td>15</td><td>16</td></tr>\n",
       "\t<tr><td>GP</td><td>F</td><td>17</td><td>U</td><td>GT3</td><td>T</td><td>2</td><td>4</td><td>services</td><td>services</td><td>⋯</td><td>5</td><td>4</td><td>2</td><td>2</td><td>3</td><td>5</td><td> 0</td><td>16</td><td>17</td><td>17</td></tr>\n",
       "\t<tr><td>GP</td><td>M</td><td>17</td><td>U</td><td>GT3</td><td>T</td><td>4</td><td>4</td><td>services</td><td>teacher </td><td>⋯</td><td>5</td><td>2</td><td>3</td><td>1</td><td>2</td><td>5</td><td> 4</td><td>17</td><td>15</td><td>16</td></tr>\n",
       "\t<tr><td>GP</td><td>F</td><td>17</td><td>U</td><td>GT3</td><td>T</td><td>4</td><td>4</td><td>services</td><td>teacher </td><td>⋯</td><td>4</td><td>2</td><td>4</td><td>2</td><td>3</td><td>2</td><td>24</td><td>18</td><td>18</td><td>18</td></tr>\n",
       "\t<tr><td>GP</td><td>F</td><td>16</td><td>U</td><td>GT3</td><td>T</td><td>4</td><td>3</td><td>health  </td><td>other   </td><td>⋯</td><td>4</td><td>3</td><td>5</td><td>1</td><td>5</td><td>2</td><td> 2</td><td>16</td><td>16</td><td>16</td></tr>\n",
       "\t<tr><td>GP</td><td>F</td><td>16</td><td>U</td><td>GT3</td><td>T</td><td>2</td><td>3</td><td>services</td><td>teacher </td><td>⋯</td><td>2</td><td>3</td><td>1</td><td>1</td><td>1</td><td>3</td><td> 2</td><td>16</td><td>16</td><td>17</td></tr>\n",
       "\t<tr><td>GP</td><td>M</td><td>16</td><td>U</td><td>GT3</td><td>T</td><td>2</td><td>1</td><td>other   </td><td>other   </td><td>⋯</td><td>4</td><td>3</td><td>3</td><td>1</td><td>1</td><td>4</td><td> 6</td><td>18</td><td>18</td><td>18</td></tr>\n",
       "\t<tr><td>GP</td><td>F</td><td>18</td><td>U</td><td>GT3</td><td>T</td><td>4</td><td>3</td><td>services</td><td>other   </td><td>⋯</td><td>3</td><td>1</td><td>2</td><td>1</td><td>3</td><td>2</td><td>21</td><td>17</td><td>18</td><td>18</td></tr>\n",
       "\t<tr><td>GP</td><td>M</td><td>18</td><td>R</td><td>LE3</td><td>A</td><td>3</td><td>4</td><td>other   </td><td>other   </td><td>⋯</td><td>4</td><td>2</td><td>5</td><td>3</td><td>4</td><td>1</td><td>13</td><td>17</td><td>17</td><td>17</td></tr>\n",
       "\t<tr><td>GP</td><td>F</td><td>18</td><td>U</td><td>GT3</td><td>T</td><td>2</td><td>2</td><td>at_home </td><td>at_home </td><td>⋯</td><td>4</td><td>3</td><td>3</td><td>1</td><td>2</td><td>2</td><td> 5</td><td>18</td><td>18</td><td>19</td></tr>\n",
       "\t<tr><td>GP</td><td>F</td><td>17</td><td>R</td><td>LE3</td><td>T</td><td>3</td><td>1</td><td>services</td><td>other   </td><td>⋯</td><td>3</td><td>1</td><td>2</td><td>1</td><td>1</td><td>3</td><td> 6</td><td>18</td><td>18</td><td>18</td></tr>\n",
       "\t<tr><td>GP</td><td>M</td><td>18</td><td>U</td><td>LE3</td><td>T</td><td>4</td><td>4</td><td>teacher </td><td>teacher </td><td>⋯</td><td>1</td><td>4</td><td>2</td><td>2</td><td>2</td><td>1</td><td> 5</td><td>16</td><td>15</td><td>16</td></tr>\n",
       "\t<tr><td>GP</td><td>F</td><td>17</td><td>U</td><td>GT3</td><td>T</td><td>3</td><td>2</td><td>health  </td><td>health  </td><td>⋯</td><td>5</td><td>2</td><td>2</td><td>1</td><td>2</td><td>5</td><td> 0</td><td>17</td><td>17</td><td>18</td></tr>\n",
       "\t<tr><td>GP</td><td>M</td><td>20</td><td>U</td><td>GT3</td><td>A</td><td>3</td><td>2</td><td>services</td><td>other   </td><td>⋯</td><td>5</td><td>5</td><td>3</td><td>1</td><td>1</td><td>5</td><td> 0</td><td>17</td><td>18</td><td>18</td></tr>\n",
       "\t<tr><td>GP</td><td>M</td><td>17</td><td>U</td><td>GT3</td><td>T</td><td>3</td><td>3</td><td>other   </td><td>services</td><td>⋯</td><td>4</td><td>3</td><td>5</td><td>3</td><td>5</td><td>5</td><td> 3</td><td>14</td><td>15</td><td>16</td></tr>\n",
       "\t<tr><td>GP</td><td>F</td><td>18</td><td>U</td><td>LE3</td><td>T</td><td>3</td><td>3</td><td>services</td><td>services</td><td>⋯</td><td>5</td><td>3</td><td>3</td><td>1</td><td>1</td><td>1</td><td> 7</td><td>16</td><td>15</td><td>17</td></tr>\n",
       "\t<tr><td>GP</td><td>M</td><td>18</td><td>R</td><td>GT3</td><td>T</td><td>4</td><td>3</td><td>teacher </td><td>services</td><td>⋯</td><td>5</td><td>3</td><td>2</td><td>1</td><td>2</td><td>4</td><td> 9</td><td>16</td><td>15</td><td>16</td></tr>\n",
       "\t<tr><td>MS</td><td>F</td><td>18</td><td>U</td><td>LE3</td><td>T</td><td>1</td><td>1</td><td>at_home </td><td>services</td><td>⋯</td><td>5</td><td>3</td><td>2</td><td>1</td><td>1</td><td>4</td><td> 0</td><td>18</td><td>16</td><td>16</td></tr>\n",
       "\t<tr><td>MS</td><td>F</td><td>18</td><td>R</td><td>LE3</td><td>T</td><td>4</td><td>4</td><td>other   </td><td>other   </td><td>⋯</td><td>5</td><td>4</td><td>4</td><td>1</td><td>1</td><td>1</td><td> 0</td><td>19</td><td>18</td><td>19</td></tr>\n",
       "\t<tr><td>MS</td><td>M</td><td>17</td><td>U</td><td>LE3</td><td>T</td><td>3</td><td>1</td><td>services</td><td>services</td><td>⋯</td><td>2</td><td>4</td><td>5</td><td>3</td><td>4</td><td>2</td><td> 3</td><td>14</td><td>16</td><td>16</td></tr>\n",
       "</tbody>\n",
       "</table>\n"
      ],
      "text/latex": [
       "A data.frame: 40 × 33\n",
       "\\begin{tabular}{r|lllllllllllllllllllllllllllllllll}\n",
       " school & sex & age & address & famsize & Pstatus & Medu & Fedu & Mjob & Fjob & reason & guardian & traveltime & studytime & failures & schoolsup & famsup & paid & activities & nursery & higher & internet & romantic & famrel & freetime & goout & Dalc & Walc & health & absences & G1 & G2 & G3\\\\\n",
       " <chr> & <chr> & <int> & <chr> & <chr> & <chr> & <int> & <int> & <chr> & <chr> & <chr> & <chr> & <int> & <int> & <int> & <chr> & <chr> & <chr> & <chr> & <chr> & <chr> & <chr> & <chr> & <int> & <int> & <int> & <int> & <int> & <int> & <int> & <int> & <int> & <int>\\\\\n",
       "\\hline\n",
       "\t GP & M & 15 & U & LE3 & A & 3 & 2 & services & other    & home       & mother & 1 & 2 & 0 & no  & yes & yes & no  & yes & yes & yes & no  & 4 & 2 & 2 & 1 & 1 & 1 &  0 & 16 & 18 & 19\\\\\n",
       "\t GP & M & 15 & U & GT3 & A & 2 & 2 & other    & other    & home       & other  & 1 & 3 & 0 & no  & yes & no  & no  & yes & yes & yes & yes & 4 & 5 & 2 & 1 & 1 & 3 &  0 & 14 & 16 & 16\\\\\n",
       "\t GP & M & 16 & U & LE3 & T & 4 & 2 & teacher  & other    & course     & mother & 1 & 2 & 0 & no  & no  & no  & yes & yes & yes & yes & no  & 4 & 5 & 1 & 1 & 3 & 5 &  2 & 15 & 15 & 16\\\\\n",
       "\t GP & M & 15 & U & GT3 & T & 4 & 4 & services & services & reputation & mother & 2 & 2 & 0 & no  & yes & no  & yes & yes & yes & yes & no  & 4 & 3 & 1 & 1 & 1 & 5 &  0 & 17 & 16 & 17\\\\\n",
       "\t GP & M & 15 & R & GT3 & T & 4 & 3 & teacher  & at\\_home  & course     & mother & 1 & 2 & 0 & no  & yes & no  & yes & yes & yes & yes & yes & 4 & 5 & 2 & 1 & 1 & 5 &  0 & 17 & 16 & 16\\\\\n",
       "\t GP & M & 15 & U & LE3 & T & 4 & 3 & teacher  & services & home       & mother & 1 & 3 & 0 & no  & yes & no  & yes & yes & yes & yes & no  & 5 & 4 & 3 & 1 & 1 & 4 &  2 & 15 & 16 & 18\\\\\n",
       "\t GP & M & 15 & U & GT3 & T & 4 & 4 & services & teacher  & course     & father & 1 & 2 & 0 & no  & yes & no  & yes & yes & yes & yes & no  & 4 & 3 & 3 & 1 & 1 & 5 &  2 & 19 & 18 & 18\\\\\n",
       "\t GP & M & 16 & U & GT3 & T & 4 & 3 & health   & services & reputation & mother & 1 & 4 & 0 & no  & no  & no  & yes & yes & yes & yes & no  & 4 & 2 & 2 & 1 & 1 & 2 &  4 & 19 & 19 & 20\\\\\n",
       "\t GP & F & 16 & U & GT3 & T & 4 & 2 & services & other    & course     & mother & 1 & 2 & 0 & no  & yes & no  & no  & yes & yes & yes & no  & 4 & 2 & 3 & 1 & 1 & 5 &  2 & 15 & 16 & 16\\\\\n",
       "\t GP & F & 15 & R & LE3 & T & 3 & 1 & other    & other    & reputation & father & 2 & 4 & 0 & no  & yes & no  & no  & no  & yes & yes & no  & 4 & 4 & 2 & 2 & 3 & 3 & 12 & 16 & 16 & 16\\\\\n",
       "\t GP & F & 15 & U & GT3 & T & 4 & 3 & services & other    & reputation & mother & 1 & 1 & 0 & no  & no  & yes & yes & yes & yes & yes & no  & 4 & 5 & 5 & 1 & 3 & 1 &  4 & 16 & 17 & 18\\\\\n",
       "\t GP & M & 16 & U & GT3 & T & 4 & 4 & services & teacher  & other      & father & 1 & 3 & 0 & no  & yes & no  & yes & yes & yes & yes & yes & 4 & 4 & 3 & 1 & 1 & 4 &  0 & 16 & 17 & 17\\\\\n",
       "\t GP & M & 15 & U & GT3 & A & 3 & 4 & services & other    & course     & mother & 1 & 2 & 0 & no  & yes & yes & yes & yes & yes & yes & no  & 5 & 4 & 4 & 1 & 1 & 1 &  0 & 16 & 18 & 18\\\\\n",
       "\t GP & M & 16 & U & GT3 & T & 3 & 3 & services & other    & home       & father & 1 & 3 & 0 & no  & yes & no  & yes & yes & yes & yes & no  & 5 & 3 & 3 & 1 & 1 & 5 &  2 & 16 & 18 & 18\\\\\n",
       "\t GP & F & 16 & U & LE3 & T & 4 & 4 & health   & health   & other      & mother & 1 & 3 & 0 & no  & yes & yes & yes & yes & yes & yes & yes & 5 & 4 & 5 & 1 & 1 & 4 &  4 & 14 & 15 & 16\\\\\n",
       "\t GP & M & 15 & U & LE3 & A & 4 & 4 & teacher  & teacher  & course     & mother & 1 & 1 & 0 & no  & no  & no  & yes & yes & yes & yes & no  & 5 & 5 & 3 & 1 & 1 & 4 &  6 & 18 & 19 & 19\\\\\n",
       "\t GP & M & 15 & U & LE3 & T & 4 & 2 & teacher  & other    & course     & mother & 1 & 1 & 0 & no  & no  & no  & no  & yes & yes & yes & no  & 3 & 5 & 2 & 1 & 1 & 3 & 10 & 18 & 19 & 19\\\\\n",
       "\t GP & M & 16 & U & GT3 & T & 4 & 4 & teacher  & teacher  & course     & father & 1 & 2 & 0 & no  & yes & no  & yes & yes & yes & yes & no  & 5 & 4 & 4 & 1 & 2 & 5 &  2 & 15 & 15 & 16\\\\\n",
       "\t GP & M & 16 & R & GT3 & T & 4 & 4 & teacher  & teacher  & course     & mother & 1 & 1 & 0 & no  & no  & yes & yes & yes & yes & yes & no  & 3 & 5 & 5 & 2 & 5 & 4 &  8 & 18 & 18 & 18\\\\\n",
       "\t GP & F & 16 & U & GT3 & T & 4 & 2 & health   & services & home       & father & 1 & 2 & 0 & no  & no  & yes & no  & yes & yes & yes & yes & 4 & 2 & 3 & 1 & 1 & 3 &  0 & 14 & 15 & 16\\\\\n",
       "\t GP & M & 16 & U & GT3 & T & 1 & 0 & other    & other    & reputation & mother & 2 & 2 & 0 & no  & yes & yes & yes & yes & yes & yes & yes & 4 & 3 & 2 & 1 & 1 & 3 &  2 & 13 & 15 & 16\\\\\n",
       "\t GP & F & 17 & U & GT3 & T & 2 & 4 & services & services & reputation & father & 1 & 2 & 0 & no  & yes & no  & yes & yes & yes & no  & no  & 5 & 4 & 2 & 2 & 3 & 5 &  0 & 16 & 17 & 17\\\\\n",
       "\t GP & M & 17 & U & GT3 & T & 4 & 4 & services & teacher  & home       & mother & 1 & 1 & 0 & no  & no  & no  & no  & yes & yes & yes & no  & 5 & 2 & 3 & 1 & 2 & 5 &  4 & 17 & 15 & 16\\\\\n",
       "\t GP & F & 17 & U & GT3 & T & 4 & 4 & services & teacher  & home       & mother & 2 & 1 & 1 & no  & yes & no  & no  & yes & yes & yes & no  & 4 & 2 & 4 & 2 & 3 & 2 & 24 & 18 & 18 & 18\\\\\n",
       "\t GP & F & 16 & U & GT3 & T & 4 & 3 & health   & other    & home       & mother & 1 & 2 & 0 & no  & yes & no  & yes & yes & yes & yes & no  & 4 & 3 & 5 & 1 & 5 & 2 &  2 & 16 & 16 & 16\\\\\n",
       "\t GP & F & 16 & U & GT3 & T & 2 & 3 & services & teacher  & other      & mother & 1 & 2 & 0 & yes & no  & no  & no  & yes & yes & yes & no  & 2 & 3 & 1 & 1 & 1 & 3 &  2 & 16 & 16 & 17\\\\\n",
       "\t GP & M & 16 & U & GT3 & T & 2 & 1 & other    & other    & course     & mother & 3 & 1 & 0 & no  & no  & no  & no  & yes & yes & yes & no  & 4 & 3 & 3 & 1 & 1 & 4 &  6 & 18 & 18 & 18\\\\\n",
       "\t GP & F & 18 & U & GT3 & T & 4 & 3 & services & other    & home       & father & 1 & 2 & 0 & no  & yes & yes & no  & yes & yes & yes & yes & 3 & 1 & 2 & 1 & 3 & 2 & 21 & 17 & 18 & 18\\\\\n",
       "\t GP & M & 18 & R & LE3 & A & 3 & 4 & other    & other    & reputation & mother & 2 & 2 & 0 & no  & yes & yes & yes & yes & yes & yes & no  & 4 & 2 & 5 & 3 & 4 & 1 & 13 & 17 & 17 & 17\\\\\n",
       "\t GP & F & 18 & U & GT3 & T & 2 & 2 & at\\_home  & at\\_home  & other      & mother & 1 & 3 & 0 & no  & yes & yes & no  & yes & yes & yes & no  & 4 & 3 & 3 & 1 & 2 & 2 &  5 & 18 & 18 & 19\\\\\n",
       "\t GP & F & 17 & R & LE3 & T & 3 & 1 & services & other    & reputation & mother & 2 & 4 & 0 & no  & yes & yes & no  & yes & yes & no  & no  & 3 & 1 & 2 & 1 & 1 & 3 &  6 & 18 & 18 & 18\\\\\n",
       "\t GP & M & 18 & U & LE3 & T & 4 & 4 & teacher  & teacher  & home       & mother & 1 & 1 & 0 & no  & yes & yes & no  & yes & yes & yes & yes & 1 & 4 & 2 & 2 & 2 & 1 &  5 & 16 & 15 & 16\\\\\n",
       "\t GP & F & 17 & U & GT3 & T & 3 & 2 & health   & health   & reputation & father & 1 & 4 & 0 & no  & yes & yes & yes & no  & yes & yes & no  & 5 & 2 & 2 & 1 & 2 & 5 &  0 & 17 & 17 & 18\\\\\n",
       "\t GP & M & 20 & U & GT3 & A & 3 & 2 & services & other    & course     & other  & 1 & 1 & 0 & no  & no  & no  & yes & yes & yes & no  & no  & 5 & 5 & 3 & 1 & 1 & 5 &  0 & 17 & 18 & 18\\\\\n",
       "\t GP & M & 17 & U & GT3 & T & 3 & 3 & other    & services & reputation & mother & 1 & 1 & 0 & no  & no  & no  & yes & no  & yes & yes & no  & 4 & 3 & 5 & 3 & 5 & 5 &  3 & 14 & 15 & 16\\\\\n",
       "\t GP & F & 18 & U & LE3 & T & 3 & 3 & services & services & home       & mother & 1 & 4 & 0 & no  & yes & no  & no  & yes & yes & yes & no  & 5 & 3 & 3 & 1 & 1 & 1 &  7 & 16 & 15 & 17\\\\\n",
       "\t GP & M & 18 & R & GT3 & T & 4 & 3 & teacher  & services & course     & mother & 1 & 3 & 0 & no  & no  & no  & no  & yes & yes & yes & yes & 5 & 3 & 2 & 1 & 2 & 4 &  9 & 16 & 15 & 16\\\\\n",
       "\t MS & F & 18 & U & LE3 & T & 1 & 1 & at\\_home  & services & course     & father & 2 & 3 & 0 & no  & no  & no  & no  & yes & yes & yes & no  & 5 & 3 & 2 & 1 & 1 & 4 &  0 & 18 & 16 & 16\\\\\n",
       "\t MS & F & 18 & R & LE3 & T & 4 & 4 & other    & other    & reputation & mother & 2 & 3 & 0 & no  & no  & no  & no  & yes & yes & yes & no  & 5 & 4 & 4 & 1 & 1 & 1 &  0 & 19 & 18 & 19\\\\\n",
       "\t MS & M & 17 & U & LE3 & T & 3 & 1 & services & services & course     & mother & 2 & 1 & 0 & no  & no  & no  & no  & no  & yes & yes & no  & 2 & 4 & 5 & 3 & 4 & 2 &  3 & 14 & 16 & 16\\\\\n",
       "\\end{tabular}\n"
      ],
      "text/markdown": [
       "\n",
       "A data.frame: 40 × 33\n",
       "\n",
       "| school &lt;chr&gt; | sex &lt;chr&gt; | age &lt;int&gt; | address &lt;chr&gt; | famsize &lt;chr&gt; | Pstatus &lt;chr&gt; | Medu &lt;int&gt; | Fedu &lt;int&gt; | Mjob &lt;chr&gt; | Fjob &lt;chr&gt; | ⋯ ⋯ | famrel &lt;int&gt; | freetime &lt;int&gt; | goout &lt;int&gt; | Dalc &lt;int&gt; | Walc &lt;int&gt; | health &lt;int&gt; | absences &lt;int&gt; | G1 &lt;int&gt; | G2 &lt;int&gt; | G3 &lt;int&gt; |\n",
       "|---|---|---|---|---|---|---|---|---|---|---|---|---|---|---|---|---|---|---|---|---|\n",
       "| GP | M | 15 | U | LE3 | A | 3 | 2 | services | other    | ⋯ | 4 | 2 | 2 | 1 | 1 | 1 |  0 | 16 | 18 | 19 |\n",
       "| GP | M | 15 | U | GT3 | A | 2 | 2 | other    | other    | ⋯ | 4 | 5 | 2 | 1 | 1 | 3 |  0 | 14 | 16 | 16 |\n",
       "| GP | M | 16 | U | LE3 | T | 4 | 2 | teacher  | other    | ⋯ | 4 | 5 | 1 | 1 | 3 | 5 |  2 | 15 | 15 | 16 |\n",
       "| GP | M | 15 | U | GT3 | T | 4 | 4 | services | services | ⋯ | 4 | 3 | 1 | 1 | 1 | 5 |  0 | 17 | 16 | 17 |\n",
       "| GP | M | 15 | R | GT3 | T | 4 | 3 | teacher  | at_home  | ⋯ | 4 | 5 | 2 | 1 | 1 | 5 |  0 | 17 | 16 | 16 |\n",
       "| GP | M | 15 | U | LE3 | T | 4 | 3 | teacher  | services | ⋯ | 5 | 4 | 3 | 1 | 1 | 4 |  2 | 15 | 16 | 18 |\n",
       "| GP | M | 15 | U | GT3 | T | 4 | 4 | services | teacher  | ⋯ | 4 | 3 | 3 | 1 | 1 | 5 |  2 | 19 | 18 | 18 |\n",
       "| GP | M | 16 | U | GT3 | T | 4 | 3 | health   | services | ⋯ | 4 | 2 | 2 | 1 | 1 | 2 |  4 | 19 | 19 | 20 |\n",
       "| GP | F | 16 | U | GT3 | T | 4 | 2 | services | other    | ⋯ | 4 | 2 | 3 | 1 | 1 | 5 |  2 | 15 | 16 | 16 |\n",
       "| GP | F | 15 | R | LE3 | T | 3 | 1 | other    | other    | ⋯ | 4 | 4 | 2 | 2 | 3 | 3 | 12 | 16 | 16 | 16 |\n",
       "| GP | F | 15 | U | GT3 | T | 4 | 3 | services | other    | ⋯ | 4 | 5 | 5 | 1 | 3 | 1 |  4 | 16 | 17 | 18 |\n",
       "| GP | M | 16 | U | GT3 | T | 4 | 4 | services | teacher  | ⋯ | 4 | 4 | 3 | 1 | 1 | 4 |  0 | 16 | 17 | 17 |\n",
       "| GP | M | 15 | U | GT3 | A | 3 | 4 | services | other    | ⋯ | 5 | 4 | 4 | 1 | 1 | 1 |  0 | 16 | 18 | 18 |\n",
       "| GP | M | 16 | U | GT3 | T | 3 | 3 | services | other    | ⋯ | 5 | 3 | 3 | 1 | 1 | 5 |  2 | 16 | 18 | 18 |\n",
       "| GP | F | 16 | U | LE3 | T | 4 | 4 | health   | health   | ⋯ | 5 | 4 | 5 | 1 | 1 | 4 |  4 | 14 | 15 | 16 |\n",
       "| GP | M | 15 | U | LE3 | A | 4 | 4 | teacher  | teacher  | ⋯ | 5 | 5 | 3 | 1 | 1 | 4 |  6 | 18 | 19 | 19 |\n",
       "| GP | M | 15 | U | LE3 | T | 4 | 2 | teacher  | other    | ⋯ | 3 | 5 | 2 | 1 | 1 | 3 | 10 | 18 | 19 | 19 |\n",
       "| GP | M | 16 | U | GT3 | T | 4 | 4 | teacher  | teacher  | ⋯ | 5 | 4 | 4 | 1 | 2 | 5 |  2 | 15 | 15 | 16 |\n",
       "| GP | M | 16 | R | GT3 | T | 4 | 4 | teacher  | teacher  | ⋯ | 3 | 5 | 5 | 2 | 5 | 4 |  8 | 18 | 18 | 18 |\n",
       "| GP | F | 16 | U | GT3 | T | 4 | 2 | health   | services | ⋯ | 4 | 2 | 3 | 1 | 1 | 3 |  0 | 14 | 15 | 16 |\n",
       "| GP | M | 16 | U | GT3 | T | 1 | 0 | other    | other    | ⋯ | 4 | 3 | 2 | 1 | 1 | 3 |  2 | 13 | 15 | 16 |\n",
       "| GP | F | 17 | U | GT3 | T | 2 | 4 | services | services | ⋯ | 5 | 4 | 2 | 2 | 3 | 5 |  0 | 16 | 17 | 17 |\n",
       "| GP | M | 17 | U | GT3 | T | 4 | 4 | services | teacher  | ⋯ | 5 | 2 | 3 | 1 | 2 | 5 |  4 | 17 | 15 | 16 |\n",
       "| GP | F | 17 | U | GT3 | T | 4 | 4 | services | teacher  | ⋯ | 4 | 2 | 4 | 2 | 3 | 2 | 24 | 18 | 18 | 18 |\n",
       "| GP | F | 16 | U | GT3 | T | 4 | 3 | health   | other    | ⋯ | 4 | 3 | 5 | 1 | 5 | 2 |  2 | 16 | 16 | 16 |\n",
       "| GP | F | 16 | U | GT3 | T | 2 | 3 | services | teacher  | ⋯ | 2 | 3 | 1 | 1 | 1 | 3 |  2 | 16 | 16 | 17 |\n",
       "| GP | M | 16 | U | GT3 | T | 2 | 1 | other    | other    | ⋯ | 4 | 3 | 3 | 1 | 1 | 4 |  6 | 18 | 18 | 18 |\n",
       "| GP | F | 18 | U | GT3 | T | 4 | 3 | services | other    | ⋯ | 3 | 1 | 2 | 1 | 3 | 2 | 21 | 17 | 18 | 18 |\n",
       "| GP | M | 18 | R | LE3 | A | 3 | 4 | other    | other    | ⋯ | 4 | 2 | 5 | 3 | 4 | 1 | 13 | 17 | 17 | 17 |\n",
       "| GP | F | 18 | U | GT3 | T | 2 | 2 | at_home  | at_home  | ⋯ | 4 | 3 | 3 | 1 | 2 | 2 |  5 | 18 | 18 | 19 |\n",
       "| GP | F | 17 | R | LE3 | T | 3 | 1 | services | other    | ⋯ | 3 | 1 | 2 | 1 | 1 | 3 |  6 | 18 | 18 | 18 |\n",
       "| GP | M | 18 | U | LE3 | T | 4 | 4 | teacher  | teacher  | ⋯ | 1 | 4 | 2 | 2 | 2 | 1 |  5 | 16 | 15 | 16 |\n",
       "| GP | F | 17 | U | GT3 | T | 3 | 2 | health   | health   | ⋯ | 5 | 2 | 2 | 1 | 2 | 5 |  0 | 17 | 17 | 18 |\n",
       "| GP | M | 20 | U | GT3 | A | 3 | 2 | services | other    | ⋯ | 5 | 5 | 3 | 1 | 1 | 5 |  0 | 17 | 18 | 18 |\n",
       "| GP | M | 17 | U | GT3 | T | 3 | 3 | other    | services | ⋯ | 4 | 3 | 5 | 3 | 5 | 5 |  3 | 14 | 15 | 16 |\n",
       "| GP | F | 18 | U | LE3 | T | 3 | 3 | services | services | ⋯ | 5 | 3 | 3 | 1 | 1 | 1 |  7 | 16 | 15 | 17 |\n",
       "| GP | M | 18 | R | GT3 | T | 4 | 3 | teacher  | services | ⋯ | 5 | 3 | 2 | 1 | 2 | 4 |  9 | 16 | 15 | 16 |\n",
       "| MS | F | 18 | U | LE3 | T | 1 | 1 | at_home  | services | ⋯ | 5 | 3 | 2 | 1 | 1 | 4 |  0 | 18 | 16 | 16 |\n",
       "| MS | F | 18 | R | LE3 | T | 4 | 4 | other    | other    | ⋯ | 5 | 4 | 4 | 1 | 1 | 1 |  0 | 19 | 18 | 19 |\n",
       "| MS | M | 17 | U | LE3 | T | 3 | 1 | services | services | ⋯ | 2 | 4 | 5 | 3 | 4 | 2 |  3 | 14 | 16 | 16 |\n",
       "\n"
      ],
      "text/plain": [
       "   school sex age address famsize Pstatus Medu Fedu Mjob     Fjob     ⋯ famrel\n",
       "1  GP     M   15  U       LE3     A       3    2    services other    ⋯ 4     \n",
       "2  GP     M   15  U       GT3     A       2    2    other    other    ⋯ 4     \n",
       "3  GP     M   16  U       LE3     T       4    2    teacher  other    ⋯ 4     \n",
       "4  GP     M   15  U       GT3     T       4    4    services services ⋯ 4     \n",
       "5  GP     M   15  R       GT3     T       4    3    teacher  at_home  ⋯ 4     \n",
       "6  GP     M   15  U       LE3     T       4    3    teacher  services ⋯ 5     \n",
       "7  GP     M   15  U       GT3     T       4    4    services teacher  ⋯ 4     \n",
       "8  GP     M   16  U       GT3     T       4    3    health   services ⋯ 4     \n",
       "9  GP     F   16  U       GT3     T       4    2    services other    ⋯ 4     \n",
       "10 GP     F   15  R       LE3     T       3    1    other    other    ⋯ 4     \n",
       "11 GP     F   15  U       GT3     T       4    3    services other    ⋯ 4     \n",
       "12 GP     M   16  U       GT3     T       4    4    services teacher  ⋯ 4     \n",
       "13 GP     M   15  U       GT3     A       3    4    services other    ⋯ 5     \n",
       "14 GP     M   16  U       GT3     T       3    3    services other    ⋯ 5     \n",
       "15 GP     F   16  U       LE3     T       4    4    health   health   ⋯ 5     \n",
       "16 GP     M   15  U       LE3     A       4    4    teacher  teacher  ⋯ 5     \n",
       "17 GP     M   15  U       LE3     T       4    2    teacher  other    ⋯ 3     \n",
       "18 GP     M   16  U       GT3     T       4    4    teacher  teacher  ⋯ 5     \n",
       "19 GP     M   16  R       GT3     T       4    4    teacher  teacher  ⋯ 3     \n",
       "20 GP     F   16  U       GT3     T       4    2    health   services ⋯ 4     \n",
       "21 GP     M   16  U       GT3     T       1    0    other    other    ⋯ 4     \n",
       "22 GP     F   17  U       GT3     T       2    4    services services ⋯ 5     \n",
       "23 GP     M   17  U       GT3     T       4    4    services teacher  ⋯ 5     \n",
       "24 GP     F   17  U       GT3     T       4    4    services teacher  ⋯ 4     \n",
       "25 GP     F   16  U       GT3     T       4    3    health   other    ⋯ 4     \n",
       "26 GP     F   16  U       GT3     T       2    3    services teacher  ⋯ 2     \n",
       "27 GP     M   16  U       GT3     T       2    1    other    other    ⋯ 4     \n",
       "28 GP     F   18  U       GT3     T       4    3    services other    ⋯ 3     \n",
       "29 GP     M   18  R       LE3     A       3    4    other    other    ⋯ 4     \n",
       "30 GP     F   18  U       GT3     T       2    2    at_home  at_home  ⋯ 4     \n",
       "31 GP     F   17  R       LE3     T       3    1    services other    ⋯ 3     \n",
       "32 GP     M   18  U       LE3     T       4    4    teacher  teacher  ⋯ 1     \n",
       "33 GP     F   17  U       GT3     T       3    2    health   health   ⋯ 5     \n",
       "34 GP     M   20  U       GT3     A       3    2    services other    ⋯ 5     \n",
       "35 GP     M   17  U       GT3     T       3    3    other    services ⋯ 4     \n",
       "36 GP     F   18  U       LE3     T       3    3    services services ⋯ 5     \n",
       "37 GP     M   18  R       GT3     T       4    3    teacher  services ⋯ 5     \n",
       "38 MS     F   18  U       LE3     T       1    1    at_home  services ⋯ 5     \n",
       "39 MS     F   18  R       LE3     T       4    4    other    other    ⋯ 5     \n",
       "40 MS     M   17  U       LE3     T       3    1    services services ⋯ 2     \n",
       "   freetime goout Dalc Walc health absences G1 G2 G3\n",
       "1  2        2     1    1    1       0       16 18 19\n",
       "2  5        2     1    1    3       0       14 16 16\n",
       "3  5        1     1    3    5       2       15 15 16\n",
       "4  3        1     1    1    5       0       17 16 17\n",
       "5  5        2     1    1    5       0       17 16 16\n",
       "6  4        3     1    1    4       2       15 16 18\n",
       "7  3        3     1    1    5       2       19 18 18\n",
       "8  2        2     1    1    2       4       19 19 20\n",
       "9  2        3     1    1    5       2       15 16 16\n",
       "10 4        2     2    3    3      12       16 16 16\n",
       "11 5        5     1    3    1       4       16 17 18\n",
       "12 4        3     1    1    4       0       16 17 17\n",
       "13 4        4     1    1    1       0       16 18 18\n",
       "14 3        3     1    1    5       2       16 18 18\n",
       "15 4        5     1    1    4       4       14 15 16\n",
       "16 5        3     1    1    4       6       18 19 19\n",
       "17 5        2     1    1    3      10       18 19 19\n",
       "18 4        4     1    2    5       2       15 15 16\n",
       "19 5        5     2    5    4       8       18 18 18\n",
       "20 2        3     1    1    3       0       14 15 16\n",
       "21 3        2     1    1    3       2       13 15 16\n",
       "22 4        2     2    3    5       0       16 17 17\n",
       "23 2        3     1    2    5       4       17 15 16\n",
       "24 2        4     2    3    2      24       18 18 18\n",
       "25 3        5     1    5    2       2       16 16 16\n",
       "26 3        1     1    1    3       2       16 16 17\n",
       "27 3        3     1    1    4       6       18 18 18\n",
       "28 1        2     1    3    2      21       17 18 18\n",
       "29 2        5     3    4    1      13       17 17 17\n",
       "30 3        3     1    2    2       5       18 18 19\n",
       "31 1        2     1    1    3       6       18 18 18\n",
       "32 4        2     2    2    1       5       16 15 16\n",
       "33 2        2     1    2    5       0       17 17 18\n",
       "34 5        3     1    1    5       0       17 18 18\n",
       "35 3        5     3    5    5       3       14 15 16\n",
       "36 3        3     1    1    1       7       16 15 17\n",
       "37 3        2     1    2    4       9       16 15 16\n",
       "38 3        2     1    1    4       0       18 16 16\n",
       "39 4        4     1    1    1       0       19 18 19\n",
       "40 4        5     3    4    2       3       14 16 16"
      ]
     },
     "metadata": {},
     "output_type": "display_data"
    },
    {
     "data": {
      "text/html": [
       "<table>\n",
       "<caption>A data.frame: 82 × 33</caption>\n",
       "<thead>\n",
       "\t<tr><th scope=col>school</th><th scope=col>sex</th><th scope=col>age</th><th scope=col>address</th><th scope=col>famsize</th><th scope=col>Pstatus</th><th scope=col>Medu</th><th scope=col>Fedu</th><th scope=col>Mjob</th><th scope=col>Fjob</th><th scope=col>⋯</th><th scope=col>famrel</th><th scope=col>freetime</th><th scope=col>goout</th><th scope=col>Dalc</th><th scope=col>Walc</th><th scope=col>health</th><th scope=col>absences</th><th scope=col>G1</th><th scope=col>G2</th><th scope=col>G3</th></tr>\n",
       "\t<tr><th scope=col>&lt;chr&gt;</th><th scope=col>&lt;chr&gt;</th><th scope=col>&lt;int&gt;</th><th scope=col>&lt;chr&gt;</th><th scope=col>&lt;chr&gt;</th><th scope=col>&lt;chr&gt;</th><th scope=col>&lt;int&gt;</th><th scope=col>&lt;int&gt;</th><th scope=col>&lt;chr&gt;</th><th scope=col>&lt;chr&gt;</th><th scope=col>⋯</th><th scope=col>&lt;int&gt;</th><th scope=col>&lt;int&gt;</th><th scope=col>&lt;int&gt;</th><th scope=col>&lt;int&gt;</th><th scope=col>&lt;int&gt;</th><th scope=col>&lt;int&gt;</th><th scope=col>&lt;int&gt;</th><th scope=col>&lt;int&gt;</th><th scope=col>&lt;int&gt;</th><th scope=col>&lt;int&gt;</th></tr>\n",
       "</thead>\n",
       "<tbody>\n",
       "\t<tr><td>GP</td><td>M</td><td>15</td><td>U</td><td>LE3</td><td>A</td><td>3</td><td>2</td><td>services</td><td>other   </td><td>⋯</td><td>4</td><td>2</td><td>2</td><td>1</td><td>1</td><td>1</td><td> 0</td><td>15</td><td>16</td><td>17</td></tr>\n",
       "\t<tr><td>GP</td><td>F</td><td>16</td><td>U</td><td>GT3</td><td>T</td><td>4</td><td>4</td><td>health  </td><td>other   </td><td>⋯</td><td>4</td><td>4</td><td>4</td><td>1</td><td>2</td><td>2</td><td> 6</td><td>17</td><td>17</td><td>17</td></tr>\n",
       "\t<tr><td>GP</td><td>M</td><td>16</td><td>U</td><td>GT3</td><td>T</td><td>4</td><td>3</td><td>health  </td><td>services</td><td>⋯</td><td>4</td><td>2</td><td>2</td><td>1</td><td>1</td><td>2</td><td> 2</td><td>17</td><td>17</td><td>17</td></tr>\n",
       "\t<tr><td>GP</td><td>F</td><td>15</td><td>U</td><td>LE3</td><td>T</td><td>4</td><td>2</td><td>health  </td><td>other   </td><td>⋯</td><td>4</td><td>3</td><td>3</td><td>1</td><td>1</td><td>5</td><td> 0</td><td>16</td><td>14</td><td>16</td></tr>\n",
       "\t<tr><td>GP</td><td>M</td><td>15</td><td>U</td><td>GT3</td><td>T</td><td>4</td><td>4</td><td>teacher </td><td>health  </td><td>⋯</td><td>3</td><td>2</td><td>2</td><td>1</td><td>1</td><td>5</td><td> 8</td><td>15</td><td>15</td><td>16</td></tr>\n",
       "\t<tr><td>GP</td><td>F</td><td>16</td><td>U</td><td>GT3</td><td>T</td><td>4</td><td>2</td><td>services</td><td>other   </td><td>⋯</td><td>4</td><td>2</td><td>3</td><td>1</td><td>1</td><td>5</td><td> 2</td><td>16</td><td>15</td><td>16</td></tr>\n",
       "\t<tr><td>GP</td><td>F</td><td>16</td><td>R</td><td>GT3</td><td>T</td><td>4</td><td>4</td><td>health  </td><td>teacher </td><td>⋯</td><td>2</td><td>4</td><td>4</td><td>2</td><td>3</td><td>4</td><td> 0</td><td>17</td><td>16</td><td>16</td></tr>\n",
       "\t<tr><td>GP</td><td>F</td><td>16</td><td>U</td><td>GT3</td><td>T</td><td>1</td><td>1</td><td>services</td><td>services</td><td>⋯</td><td>5</td><td>5</td><td>5</td><td>5</td><td>5</td><td>5</td><td> 0</td><td>10</td><td>10</td><td>16</td></tr>\n",
       "\t<tr><td>GP</td><td>F</td><td>16</td><td>U</td><td>LE3</td><td>T</td><td>4</td><td>3</td><td>teacher </td><td>services</td><td>⋯</td><td>5</td><td>4</td><td>3</td><td>1</td><td>2</td><td>1</td><td> 2</td><td>16</td><td>15</td><td>16</td></tr>\n",
       "\t<tr><td>GP</td><td>M</td><td>16</td><td>U</td><td>GT3</td><td>T</td><td>4</td><td>4</td><td>services</td><td>teacher </td><td>⋯</td><td>4</td><td>4</td><td>3</td><td>1</td><td>1</td><td>4</td><td> 0</td><td>16</td><td>16</td><td>16</td></tr>\n",
       "\t<tr><td>GP</td><td>M</td><td>15</td><td>U</td><td>GT3</td><td>A</td><td>3</td><td>4</td><td>services</td><td>other   </td><td>⋯</td><td>5</td><td>4</td><td>4</td><td>1</td><td>1</td><td>1</td><td> 0</td><td>16</td><td>16</td><td>16</td></tr>\n",
       "\t<tr><td>GP</td><td>M</td><td>15</td><td>U</td><td>LE3</td><td>T</td><td>4</td><td>2</td><td>teacher </td><td>other   </td><td>⋯</td><td>3</td><td>5</td><td>2</td><td>1</td><td>1</td><td>3</td><td>10</td><td>18</td><td>17</td><td>18</td></tr>\n",
       "\t<tr><td>GP</td><td>M</td><td>15</td><td>U</td><td>GT3</td><td>T</td><td>4</td><td>4</td><td>other   </td><td>teacher </td><td>⋯</td><td>4</td><td>4</td><td>3</td><td>1</td><td>1</td><td>2</td><td> 4</td><td>16</td><td>15</td><td>16</td></tr>\n",
       "\t<tr><td>GP</td><td>F</td><td>16</td><td>U</td><td>GT3</td><td>T</td><td>4</td><td>2</td><td>health  </td><td>services</td><td>⋯</td><td>4</td><td>2</td><td>3</td><td>1</td><td>1</td><td>3</td><td> 0</td><td>17</td><td>17</td><td>18</td></tr>\n",
       "\t<tr><td>GP</td><td>F</td><td>16</td><td>U</td><td>GT3</td><td>T</td><td>4</td><td>4</td><td>health  </td><td>health  </td><td>⋯</td><td>4</td><td>4</td><td>2</td><td>1</td><td>1</td><td>3</td><td> 0</td><td>16</td><td>16</td><td>17</td></tr>\n",
       "\t<tr><td>GP</td><td>M</td><td>16</td><td>U</td><td>GT3</td><td>T</td><td>1</td><td>0</td><td>other   </td><td>other   </td><td>⋯</td><td>4</td><td>3</td><td>2</td><td>1</td><td>1</td><td>3</td><td> 0</td><td>16</td><td>17</td><td>18</td></tr>\n",
       "\t<tr><td>GP</td><td>F</td><td>17</td><td>U</td><td>GT3</td><td>T</td><td>2</td><td>4</td><td>services</td><td>services</td><td>⋯</td><td>5</td><td>4</td><td>2</td><td>2</td><td>3</td><td>5</td><td> 0</td><td>17</td><td>18</td><td>17</td></tr>\n",
       "\t<tr><td>GP</td><td>F</td><td>16</td><td>U</td><td>GT3</td><td>T</td><td>3</td><td>2</td><td>other   </td><td>other   </td><td>⋯</td><td>1</td><td>2</td><td>2</td><td>1</td><td>2</td><td>1</td><td> 8</td><td>14</td><td>15</td><td>16</td></tr>\n",
       "\t<tr><td>GP</td><td>M</td><td>16</td><td>U</td><td>LE3</td><td>T</td><td>2</td><td>1</td><td>other   </td><td>other   </td><td>⋯</td><td>4</td><td>2</td><td>3</td><td>1</td><td>2</td><td>5</td><td> 0</td><td>13</td><td>14</td><td>16</td></tr>\n",
       "\t<tr><td>GP</td><td>F</td><td>17</td><td>U</td><td>LE3</td><td>T</td><td>2</td><td>4</td><td>services</td><td>services</td><td>⋯</td><td>4</td><td>3</td><td>2</td><td>1</td><td>1</td><td>5</td><td> 8</td><td>14</td><td>15</td><td>16</td></tr>\n",
       "\t<tr><td>GP</td><td>F</td><td>17</td><td>U</td><td>GT3</td><td>T</td><td>4</td><td>4</td><td>services</td><td>teacher </td><td>⋯</td><td>4</td><td>2</td><td>4</td><td>2</td><td>3</td><td>2</td><td>30</td><td>14</td><td>15</td><td>16</td></tr>\n",
       "\t<tr><td>GP</td><td>F</td><td>16</td><td>U</td><td>GT3</td><td>T</td><td>4</td><td>4</td><td>teacher </td><td>services</td><td>⋯</td><td>5</td><td>3</td><td>2</td><td>1</td><td>1</td><td>5</td><td> 4</td><td>15</td><td>16</td><td>16</td></tr>\n",
       "\t<tr><td>GP</td><td>F</td><td>17</td><td>U</td><td>GT3</td><td>T</td><td>3</td><td>2</td><td>other   </td><td>other   </td><td>⋯</td><td>5</td><td>3</td><td>4</td><td>1</td><td>3</td><td>3</td><td> 2</td><td>17</td><td>18</td><td>17</td></tr>\n",
       "\t<tr><td>GP</td><td>F</td><td>17</td><td>U</td><td>GT3</td><td>A</td><td>2</td><td>1</td><td>other   </td><td>other   </td><td>⋯</td><td>3</td><td>2</td><td>3</td><td>1</td><td>2</td><td>3</td><td> 0</td><td>15</td><td>15</td><td>16</td></tr>\n",
       "\t<tr><td>GP</td><td>M</td><td>17</td><td>U</td><td>LE3</td><td>T</td><td>2</td><td>2</td><td>other   </td><td>other   </td><td>⋯</td><td>4</td><td>4</td><td>2</td><td>5</td><td>5</td><td>4</td><td> 0</td><td>16</td><td>16</td><td>16</td></tr>\n",
       "\t<tr><td>GP</td><td>M</td><td>16</td><td>U</td><td>GT3</td><td>T</td><td>2</td><td>1</td><td>other   </td><td>other   </td><td>⋯</td><td>4</td><td>3</td><td>3</td><td>1</td><td>1</td><td>4</td><td> 7</td><td>15</td><td>16</td><td>16</td></tr>\n",
       "\t<tr><td>GP</td><td>F</td><td>17</td><td>U</td><td>LE3</td><td>T</td><td>4</td><td>2</td><td>teacher </td><td>services</td><td>⋯</td><td>4</td><td>2</td><td>3</td><td>1</td><td>1</td><td>4</td><td> 2</td><td>14</td><td>15</td><td>17</td></tr>\n",
       "\t<tr><td>GP</td><td>M</td><td>18</td><td>U</td><td>GT3</td><td>T</td><td>2</td><td>1</td><td>other   </td><td>other   </td><td>⋯</td><td>5</td><td>2</td><td>4</td><td>1</td><td>2</td><td>4</td><td> 2</td><td>16</td><td>16</td><td>16</td></tr>\n",
       "\t<tr><td>GP</td><td>M</td><td>18</td><td>R</td><td>LE3</td><td>A</td><td>3</td><td>4</td><td>other   </td><td>other   </td><td>⋯</td><td>4</td><td>2</td><td>5</td><td>3</td><td>4</td><td>1</td><td> 6</td><td>15</td><td>16</td><td>16</td></tr>\n",
       "\t<tr><td>GP</td><td>F</td><td>18</td><td>U</td><td>GT3</td><td>T</td><td>2</td><td>3</td><td>other   </td><td>services</td><td>⋯</td><td>4</td><td>5</td><td>5</td><td>1</td><td>3</td><td>2</td><td>10</td><td>16</td><td>16</td><td>16</td></tr>\n",
       "\t<tr><td>⋮</td><td>⋮</td><td>⋮</td><td>⋮</td><td>⋮</td><td>⋮</td><td>⋮</td><td>⋮</td><td>⋮</td><td>⋮</td><td>⋱</td><td>⋮</td><td>⋮</td><td>⋮</td><td>⋮</td><td>⋮</td><td>⋮</td><td>⋮</td><td>⋮</td><td>⋮</td><td>⋮</td></tr>\n",
       "\t<tr><td>GP</td><td>M</td><td>18</td><td>R</td><td>GT3</td><td>T</td><td>4</td><td>3</td><td>teacher </td><td>services</td><td>⋯</td><td>5</td><td>3</td><td>2</td><td>1</td><td>2</td><td>4</td><td> 4</td><td>15</td><td>14</td><td>17</td></tr>\n",
       "\t<tr><td>GP</td><td>F</td><td>17</td><td>U</td><td>GT3</td><td>T</td><td>2</td><td>1</td><td>services</td><td>other   </td><td>⋯</td><td>4</td><td>3</td><td>5</td><td>2</td><td>4</td><td>4</td><td> 4</td><td>12</td><td>16</td><td>16</td></tr>\n",
       "\t<tr><td>GP</td><td>F</td><td>17</td><td>U</td><td>GT3</td><td>T</td><td>2</td><td>2</td><td>services</td><td>services</td><td>⋯</td><td>4</td><td>3</td><td>4</td><td>1</td><td>3</td><td>4</td><td> 0</td><td>13</td><td>17</td><td>17</td></tr>\n",
       "\t<tr><td>GP</td><td>F</td><td>18</td><td>U</td><td>LE3</td><td>T</td><td>4</td><td>2</td><td>teacher </td><td>other   </td><td>⋯</td><td>4</td><td>2</td><td>2</td><td>1</td><td>1</td><td>3</td><td> 0</td><td>14</td><td>17</td><td>17</td></tr>\n",
       "\t<tr><td>GP</td><td>M</td><td>17</td><td>U</td><td>LE3</td><td>A</td><td>3</td><td>2</td><td>other   </td><td>other   </td><td>⋯</td><td>4</td><td>4</td><td>4</td><td>1</td><td>2</td><td>5</td><td>10</td><td>16</td><td>18</td><td>18</td></tr>\n",
       "\t<tr><td>GP</td><td>F</td><td>18</td><td>U</td><td>GT3</td><td>T</td><td>3</td><td>2</td><td>at_home </td><td>other   </td><td>⋯</td><td>4</td><td>3</td><td>4</td><td>1</td><td>2</td><td>2</td><td> 5</td><td>14</td><td>17</td><td>17</td></tr>\n",
       "\t<tr><td>GP</td><td>F</td><td>18</td><td>U</td><td>LE3</td><td>A</td><td>2</td><td>2</td><td>services</td><td>other   </td><td>⋯</td><td>4</td><td>1</td><td>4</td><td>1</td><td>3</td><td>4</td><td>10</td><td>14</td><td>17</td><td>17</td></tr>\n",
       "\t<tr><td>MS</td><td>F</td><td>16</td><td>R</td><td>GT3</td><td>T</td><td>2</td><td>3</td><td>at_home </td><td>services</td><td>⋯</td><td>4</td><td>5</td><td>2</td><td>1</td><td>2</td><td>5</td><td> 0</td><td>16</td><td>17</td><td>17</td></tr>\n",
       "\t<tr><td>MS</td><td>F</td><td>15</td><td>R</td><td>GT3</td><td>T</td><td>3</td><td>3</td><td>other   </td><td>services</td><td>⋯</td><td>4</td><td>1</td><td>3</td><td>1</td><td>1</td><td>4</td><td> 0</td><td>14</td><td>16</td><td>16</td></tr>\n",
       "\t<tr><td>MS</td><td>F</td><td>16</td><td>R</td><td>GT3</td><td>T</td><td>4</td><td>4</td><td>teacher </td><td>teacher </td><td>⋯</td><td>4</td><td>2</td><td>2</td><td>1</td><td>1</td><td>4</td><td> 6</td><td>16</td><td>16</td><td>17</td></tr>\n",
       "\t<tr><td>MS</td><td>F</td><td>16</td><td>R</td><td>LE3</td><td>T</td><td>2</td><td>2</td><td>other   </td><td>other   </td><td>⋯</td><td>4</td><td>3</td><td>2</td><td>1</td><td>1</td><td>4</td><td> 0</td><td>14</td><td>14</td><td>16</td></tr>\n",
       "\t<tr><td>MS</td><td>F</td><td>16</td><td>U</td><td>GT3</td><td>T</td><td>2</td><td>2</td><td>services</td><td>other   </td><td>⋯</td><td>4</td><td>2</td><td>5</td><td>1</td><td>2</td><td>5</td><td> 0</td><td>17</td><td>16</td><td>16</td></tr>\n",
       "\t<tr><td>MS</td><td>F</td><td>16</td><td>R</td><td>LE3</td><td>T</td><td>1</td><td>1</td><td>at_home </td><td>other   </td><td>⋯</td><td>5</td><td>3</td><td>2</td><td>1</td><td>1</td><td>1</td><td> 0</td><td>16</td><td>17</td><td>18</td></tr>\n",
       "\t<tr><td>MS</td><td>F</td><td>17</td><td>R</td><td>GT3</td><td>T</td><td>2</td><td>2</td><td>other   </td><td>other   </td><td>⋯</td><td>5</td><td>3</td><td>2</td><td>1</td><td>1</td><td>1</td><td> 0</td><td>15</td><td>17</td><td>17</td></tr>\n",
       "\t<tr><td>MS</td><td>F</td><td>16</td><td>R</td><td>GT3</td><td>T</td><td>4</td><td>4</td><td>health  </td><td>teacher </td><td>⋯</td><td>4</td><td>3</td><td>3</td><td>2</td><td>3</td><td>2</td><td> 0</td><td>14</td><td>16</td><td>16</td></tr>\n",
       "\t<tr><td>MS</td><td>M</td><td>17</td><td>U</td><td>LE3</td><td>T</td><td>4</td><td>4</td><td>other   </td><td>services</td><td>⋯</td><td>4</td><td>4</td><td>3</td><td>1</td><td>2</td><td>5</td><td> 0</td><td>15</td><td>14</td><td>16</td></tr>\n",
       "\t<tr><td>MS</td><td>F</td><td>16</td><td>U</td><td>LE3</td><td>T</td><td>2</td><td>1</td><td>other   </td><td>services</td><td>⋯</td><td>3</td><td>2</td><td>2</td><td>1</td><td>1</td><td>3</td><td> 0</td><td>14</td><td>15</td><td>16</td></tr>\n",
       "\t<tr><td>MS</td><td>F</td><td>17</td><td>U</td><td>GT3</td><td>T</td><td>4</td><td>4</td><td>health  </td><td>health  </td><td>⋯</td><td>5</td><td>2</td><td>5</td><td>1</td><td>1</td><td>5</td><td> 0</td><td>13</td><td>15</td><td>16</td></tr>\n",
       "\t<tr><td>MS</td><td>F</td><td>17</td><td>R</td><td>GT3</td><td>T</td><td>4</td><td>2</td><td>other   </td><td>other   </td><td>⋯</td><td>4</td><td>3</td><td>3</td><td>2</td><td>3</td><td>5</td><td> 0</td><td>17</td><td>18</td><td>18</td></tr>\n",
       "\t<tr><td>MS</td><td>F</td><td>18</td><td>U</td><td>GT3</td><td>T</td><td>4</td><td>4</td><td>teacher </td><td>teacher </td><td>⋯</td><td>4</td><td>3</td><td>5</td><td>1</td><td>2</td><td>1</td><td> 0</td><td>18</td><td>18</td><td>18</td></tr>\n",
       "\t<tr><td>MS</td><td>M</td><td>18</td><td>U</td><td>LE3</td><td>T</td><td>4</td><td>4</td><td>services</td><td>other   </td><td>⋯</td><td>5</td><td>4</td><td>5</td><td>1</td><td>1</td><td>5</td><td> 3</td><td>17</td><td>17</td><td>17</td></tr>\n",
       "\t<tr><td>MS</td><td>F</td><td>17</td><td>U</td><td>GT3</td><td>T</td><td>4</td><td>2</td><td>other   </td><td>other   </td><td>⋯</td><td>4</td><td>3</td><td>3</td><td>1</td><td>2</td><td>4</td><td> 0</td><td>17</td><td>18</td><td>18</td></tr>\n",
       "\t<tr><td>MS</td><td>F</td><td>17</td><td>U</td><td>GT3</td><td>T</td><td>4</td><td>2</td><td>teacher </td><td>other   </td><td>⋯</td><td>4</td><td>2</td><td>3</td><td>3</td><td>1</td><td>5</td><td> 0</td><td>18</td><td>18</td><td>18</td></tr>\n",
       "\t<tr><td>MS</td><td>F</td><td>18</td><td>U</td><td>LE3</td><td>T</td><td>1</td><td>1</td><td>at_home </td><td>services</td><td>⋯</td><td>5</td><td>3</td><td>2</td><td>1</td><td>1</td><td>4</td><td> 0</td><td>19</td><td>17</td><td>18</td></tr>\n",
       "\t<tr><td>MS</td><td>M</td><td>18</td><td>U</td><td>LE3</td><td>T</td><td>4</td><td>4</td><td>teacher </td><td>services</td><td>⋯</td><td>4</td><td>2</td><td>2</td><td>2</td><td>2</td><td>5</td><td> 0</td><td>15</td><td>16</td><td>16</td></tr>\n",
       "\t<tr><td>MS</td><td>F</td><td>18</td><td>R</td><td>LE3</td><td>T</td><td>4</td><td>4</td><td>other   </td><td>other   </td><td>⋯</td><td>5</td><td>4</td><td>4</td><td>1</td><td>1</td><td>1</td><td> 0</td><td>15</td><td>17</td><td>17</td></tr>\n",
       "\t<tr><td>MS</td><td>F</td><td>18</td><td>U</td><td>GT3</td><td>T</td><td>3</td><td>3</td><td>other   </td><td>other   </td><td>⋯</td><td>4</td><td>1</td><td>3</td><td>1</td><td>2</td><td>1</td><td> 1</td><td>16</td><td>16</td><td>16</td></tr>\n",
       "\t<tr><td>MS</td><td>M</td><td>18</td><td>U</td><td>GT3</td><td>T</td><td>4</td><td>4</td><td>teacher </td><td>teacher </td><td>⋯</td><td>3</td><td>2</td><td>4</td><td>1</td><td>4</td><td>2</td><td> 4</td><td>17</td><td>18</td><td>19</td></tr>\n",
       "\t<tr><td>MS</td><td>M</td><td>17</td><td>U</td><td>GT3</td><td>T</td><td>2</td><td>3</td><td>other   </td><td>services</td><td>⋯</td><td>4</td><td>4</td><td>3</td><td>1</td><td>1</td><td>3</td><td> 4</td><td>14</td><td>15</td><td>16</td></tr>\n",
       "\t<tr><td>MS</td><td>F</td><td>18</td><td>U</td><td>LE3</td><td>T</td><td>3</td><td>1</td><td>teacher </td><td>services</td><td>⋯</td><td>4</td><td>3</td><td>4</td><td>1</td><td>1</td><td>1</td><td> 4</td><td>15</td><td>15</td><td>16</td></tr>\n",
       "</tbody>\n",
       "</table>\n"
      ],
      "text/latex": [
       "A data.frame: 82 × 33\n",
       "\\begin{tabular}{r|lllllllllllllllllllllllllllllllll}\n",
       " school & sex & age & address & famsize & Pstatus & Medu & Fedu & Mjob & Fjob & reason & guardian & traveltime & studytime & failures & schoolsup & famsup & paid & activities & nursery & higher & internet & romantic & famrel & freetime & goout & Dalc & Walc & health & absences & G1 & G2 & G3\\\\\n",
       " <chr> & <chr> & <int> & <chr> & <chr> & <chr> & <int> & <int> & <chr> & <chr> & <chr> & <chr> & <int> & <int> & <int> & <chr> & <chr> & <chr> & <chr> & <chr> & <chr> & <chr> & <chr> & <int> & <int> & <int> & <int> & <int> & <int> & <int> & <int> & <int> & <int>\\\\\n",
       "\\hline\n",
       "\t GP & M & 15 & U & LE3 & A & 3 & 2 & services & other    & home       & mother & 1 & 2 & 0 & no  & yes & no  & no  & yes & yes & yes & no  & 4 & 2 & 2 & 1 & 1 & 1 &  0 & 15 & 16 & 17\\\\\n",
       "\t GP & F & 16 & U & GT3 & T & 4 & 4 & health   & other    & home       & mother & 1 & 1 & 0 & no  & yes & no  & no  & yes & yes & yes & no  & 4 & 4 & 4 & 1 & 2 & 2 &  6 & 17 & 17 & 17\\\\\n",
       "\t GP & M & 16 & U & GT3 & T & 4 & 3 & health   & services & reputation & mother & 1 & 4 & 0 & no  & no  & no  & yes & yes & yes & yes & no  & 4 & 2 & 2 & 1 & 1 & 2 &  2 & 17 & 17 & 17\\\\\n",
       "\t GP & F & 15 & U & LE3 & T & 4 & 2 & health   & other    & other      & mother & 1 & 2 & 0 & no  & yes & no  & no  & yes & yes & yes & no  & 4 & 3 & 3 & 1 & 1 & 5 &  0 & 16 & 14 & 16\\\\\n",
       "\t GP & M & 15 & U & GT3 & T & 4 & 4 & teacher  & health   & reputation & mother & 1 & 2 & 0 & no  & yes & no  & yes & yes & yes & no  & no  & 3 & 2 & 2 & 1 & 1 & 5 &  8 & 15 & 15 & 16\\\\\n",
       "\t GP & F & 16 & U & GT3 & T & 4 & 2 & services & other    & course     & mother & 1 & 2 & 0 & no  & yes & yes & no  & yes & yes & yes & no  & 4 & 2 & 3 & 1 & 1 & 5 &  2 & 16 & 15 & 16\\\\\n",
       "\t GP & F & 16 & R & GT3 & T & 4 & 4 & health   & teacher  & other      & mother & 1 & 2 & 0 & no  & yes & no  & yes & yes & yes & no  & no  & 2 & 4 & 4 & 2 & 3 & 4 &  0 & 17 & 16 & 16\\\\\n",
       "\t GP & F & 16 & U & GT3 & T & 1 & 1 & services & services & course     & father & 4 & 1 & 0 & yes & yes & no  & yes & no  & yes & yes & yes & 5 & 5 & 5 & 5 & 5 & 5 &  0 & 10 & 10 & 16\\\\\n",
       "\t GP & F & 16 & U & LE3 & T & 4 & 3 & teacher  & services & course     & mother & 3 & 2 & 0 & no  & yes & no  & yes & yes & yes & yes & no  & 5 & 4 & 3 & 1 & 2 & 1 &  2 & 16 & 15 & 16\\\\\n",
       "\t GP & M & 16 & U & GT3 & T & 4 & 4 & services & teacher  & other      & father & 1 & 3 & 0 & no  & yes & no  & yes & yes & yes & yes & yes & 4 & 4 & 3 & 1 & 1 & 4 &  0 & 16 & 16 & 16\\\\\n",
       "\t GP & M & 15 & U & GT3 & A & 3 & 4 & services & other    & course     & mother & 1 & 2 & 0 & no  & yes & no  & yes & yes & yes & yes & no  & 5 & 4 & 4 & 1 & 1 & 1 &  0 & 16 & 16 & 16\\\\\n",
       "\t GP & M & 15 & U & LE3 & T & 4 & 2 & teacher  & other    & course     & mother & 1 & 1 & 0 & no  & no  & no  & no  & yes & yes & yes & no  & 3 & 5 & 2 & 1 & 1 & 3 & 10 & 18 & 17 & 18\\\\\n",
       "\t GP & M & 15 & U & GT3 & T & 4 & 4 & other    & teacher  & reputation & father & 2 & 2 & 0 & no  & yes & no  & yes & yes & yes & no  & no  & 4 & 4 & 3 & 1 & 1 & 2 &  4 & 16 & 15 & 16\\\\\n",
       "\t GP & F & 16 & U & GT3 & T & 4 & 2 & health   & services & home       & father & 1 & 2 & 0 & no  & no  & no  & no  & yes & yes & yes & yes & 4 & 2 & 3 & 1 & 1 & 3 &  0 & 17 & 17 & 18\\\\\n",
       "\t GP & F & 16 & U & GT3 & T & 4 & 4 & health   & health   & reputation & mother & 1 & 2 & 0 & no  & yes & no  & no  & yes & yes & yes & yes & 4 & 4 & 2 & 1 & 1 & 3 &  0 & 16 & 16 & 17\\\\\n",
       "\t GP & M & 16 & U & GT3 & T & 1 & 0 & other    & other    & reputation & mother & 2 & 2 & 0 & no  & yes & no  & yes & yes & yes & yes & yes & 4 & 3 & 2 & 1 & 1 & 3 &  0 & 16 & 17 & 18\\\\\n",
       "\t GP & F & 17 & U & GT3 & T & 2 & 4 & services & services & reputation & father & 1 & 2 & 0 & no  & yes & no  & yes & yes & yes & no  & no  & 5 & 4 & 2 & 2 & 3 & 5 &  0 & 17 & 18 & 17\\\\\n",
       "\t GP & F & 16 & U & GT3 & T & 3 & 2 & other    & other    & reputation & mother & 1 & 2 & 0 & no  & yes & no  & no  & yes & yes & yes & no  & 1 & 2 & 2 & 1 & 2 & 1 &  8 & 14 & 15 & 16\\\\\n",
       "\t GP & M & 16 & U & LE3 & T & 2 & 1 & other    & other    & course     & mother & 1 & 2 & 0 & no  & no  & no  & yes & yes & yes & yes & yes & 4 & 2 & 3 & 1 & 2 & 5 &  0 & 13 & 14 & 16\\\\\n",
       "\t GP & F & 17 & U & LE3 & T & 2 & 4 & services & services & course     & father & 1 & 2 & 0 & no  & no  & no  & yes & yes & yes & yes & yes & 4 & 3 & 2 & 1 & 1 & 5 &  8 & 14 & 15 & 16\\\\\n",
       "\t GP & F & 17 & U & GT3 & T & 4 & 4 & services & teacher  & home       & mother & 2 & 1 & 1 & no  & yes & no  & no  & yes & yes & yes & no  & 4 & 2 & 4 & 2 & 3 & 2 & 30 & 14 & 15 & 16\\\\\n",
       "\t GP & F & 16 & U & GT3 & T & 4 & 4 & teacher  & services & home       & mother & 1 & 3 & 0 & no  & yes & no  & yes & no  & yes & yes & no  & 5 & 3 & 2 & 1 & 1 & 5 &  4 & 15 & 16 & 16\\\\\n",
       "\t GP & F & 17 & U & GT3 & T & 3 & 2 & other    & other    & course     & mother & 1 & 2 & 0 & no  & no  & no  & yes & no  & yes & yes & no  & 5 & 3 & 4 & 1 & 3 & 3 &  2 & 17 & 18 & 17\\\\\n",
       "\t GP & F & 17 & U & GT3 & A & 2 & 1 & other    & other    & course     & mother & 2 & 3 & 0 & no  & no  & no  & yes & yes & yes & yes & yes & 3 & 2 & 3 & 1 & 2 & 3 &  0 & 15 & 15 & 16\\\\\n",
       "\t GP & M & 17 & U & LE3 & T & 2 & 2 & other    & other    & home       & father & 1 & 2 & 0 & no  & no  & no  & yes & no  & yes & yes & yes & 4 & 4 & 2 & 5 & 5 & 4 &  0 & 16 & 16 & 16\\\\\n",
       "\t GP & M & 16 & U & GT3 & T & 2 & 1 & other    & other    & course     & mother & 3 & 1 & 0 & no  & no  & no  & no  & yes & yes & yes & no  & 4 & 3 & 3 & 1 & 1 & 4 &  7 & 15 & 16 & 16\\\\\n",
       "\t GP & F & 17 & U & LE3 & T & 4 & 2 & teacher  & services & reputation & mother & 1 & 4 & 0 & no  & yes & no  & yes & yes & yes & yes & no  & 4 & 2 & 3 & 1 & 1 & 4 &  2 & 14 & 15 & 17\\\\\n",
       "\t GP & M & 18 & U & GT3 & T & 2 & 1 & other    & other    & home       & mother & 1 & 2 & 0 & no  & no  & no  & yes & yes & yes & yes & no  & 5 & 2 & 4 & 1 & 2 & 4 &  2 & 16 & 16 & 16\\\\\n",
       "\t GP & M & 18 & R & LE3 & A & 3 & 4 & other    & other    & reputation & mother & 2 & 2 & 0 & no  & yes & no  & yes & yes & yes & yes & no  & 4 & 2 & 5 & 3 & 4 & 1 &  6 & 15 & 16 & 16\\\\\n",
       "\t GP & F & 18 & U & GT3 & T & 2 & 3 & other    & services & reputation & father & 1 & 4 & 0 & no  & yes & no  & yes & yes & yes & yes & yes & 4 & 5 & 5 & 1 & 3 & 2 & 10 & 16 & 16 & 16\\\\\n",
       "\t ⋮ & ⋮ & ⋮ & ⋮ & ⋮ & ⋮ & ⋮ & ⋮ & ⋮ & ⋮ & ⋮ & ⋮ & ⋮ & ⋮ & ⋮ & ⋮ & ⋮ & ⋮ & ⋮ & ⋮ & ⋮ & ⋮ & ⋮ & ⋮ & ⋮ & ⋮ & ⋮ & ⋮ & ⋮ & ⋮ & ⋮ & ⋮ & ⋮\\\\\n",
       "\t GP & M & 18 & R & GT3 & T & 4 & 3 & teacher  & services & course     & mother & 1 & 3 & 0 & no  & no  & no  & no  & yes & yes & yes & yes & 5 & 3 & 2 & 1 & 2 & 4 &  4 & 15 & 14 & 17\\\\\n",
       "\t GP & F & 17 & U & GT3 & T & 2 & 1 & services & other    & reputation & mother & 1 & 2 & 0 & no  & yes & no  & yes & yes & yes & yes & no  & 4 & 3 & 5 & 2 & 4 & 4 &  4 & 12 & 16 & 16\\\\\n",
       "\t GP & F & 17 & U & GT3 & T & 2 & 2 & services & services & reputation & mother & 1 & 2 & 0 & no  & yes & no  & yes & yes & yes & yes & no  & 4 & 3 & 4 & 1 & 3 & 4 &  0 & 13 & 17 & 17\\\\\n",
       "\t GP & F & 18 & U & LE3 & T & 4 & 2 & teacher  & other    & course     & mother & 1 & 2 & 0 & no  & yes & no  & yes & yes & yes & yes & no  & 4 & 2 & 2 & 1 & 1 & 3 &  0 & 14 & 17 & 17\\\\\n",
       "\t GP & M & 17 & U & LE3 & A & 3 & 2 & other    & other    & reputation & mother & 1 & 2 & 0 & no  & yes & no  & no  & yes & yes & yes & no  & 4 & 4 & 4 & 1 & 2 & 5 & 10 & 16 & 18 & 18\\\\\n",
       "\t GP & F & 18 & U & GT3 & T & 3 & 2 & at\\_home  & other    & reputation & father & 1 & 3 & 0 & no  & yes & no  & no  & yes & yes & yes & yes & 4 & 3 & 4 & 1 & 2 & 2 &  5 & 14 & 17 & 17\\\\\n",
       "\t GP & F & 18 & U & LE3 & A & 2 & 2 & services & other    & reputation & mother & 2 & 2 & 0 & no  & yes & no  & no  & yes & yes & yes & no  & 4 & 1 & 4 & 1 & 3 & 4 & 10 & 14 & 17 & 17\\\\\n",
       "\t MS & F & 16 & R & GT3 & T & 2 & 3 & at\\_home  & services & course     & mother & 2 & 2 & 0 & no  & no  & no  & no  & yes & yes & no  & no  & 4 & 5 & 2 & 1 & 2 & 5 &  0 & 16 & 17 & 17\\\\\n",
       "\t MS & F & 15 & R & GT3 & T & 3 & 3 & other    & services & course     & father & 2 & 1 & 0 & no  & no  & no  & no  & no  & yes & yes & no  & 4 & 1 & 3 & 1 & 1 & 4 &  0 & 14 & 16 & 16\\\\\n",
       "\t MS & F & 16 & R & GT3 & T & 4 & 4 & teacher  & teacher  & course     & mother & 2 & 3 & 0 & no  & no  & no  & yes & yes & yes & yes & yes & 4 & 2 & 2 & 1 & 1 & 4 &  6 & 16 & 16 & 17\\\\\n",
       "\t MS & F & 16 & R & LE3 & T & 2 & 2 & other    & other    & home       & father & 3 & 1 & 0 & no  & yes & no  & yes & yes & yes & no  & yes & 4 & 3 & 2 & 1 & 1 & 4 &  0 & 14 & 14 & 16\\\\\n",
       "\t MS & F & 16 & U & GT3 & T & 2 & 2 & services & other    & course     & mother & 1 & 1 & 0 & no  & yes & yes & yes & yes & yes & no  & yes & 4 & 2 & 5 & 1 & 2 & 5 &  0 & 17 & 16 & 16\\\\\n",
       "\t MS & F & 16 & R & LE3 & T & 1 & 1 & at\\_home  & other    & course     & father & 3 & 2 & 0 & no  & yes & no  & no  & yes & yes & no  & no  & 5 & 3 & 2 & 1 & 1 & 1 &  0 & 16 & 17 & 18\\\\\n",
       "\t MS & F & 17 & R & GT3 & T & 2 & 2 & other    & other    & reputation & mother & 2 & 2 & 0 & no  & yes & no  & yes & yes & yes & no  & no  & 5 & 3 & 2 & 1 & 1 & 1 &  0 & 15 & 17 & 17\\\\\n",
       "\t MS & F & 16 & R & GT3 & T & 4 & 4 & health   & teacher  & reputation & father & 1 & 2 & 0 & no  & no  & no  & yes & no  & yes & yes & yes & 4 & 3 & 3 & 2 & 3 & 2 &  0 & 14 & 16 & 16\\\\\n",
       "\t MS & M & 17 & U & LE3 & T & 4 & 4 & other    & services & home       & mother & 1 & 3 & 0 & no  & yes & no  & no  & yes & yes & yes & no  & 4 & 4 & 3 & 1 & 2 & 5 &  0 & 15 & 14 & 16\\\\\n",
       "\t MS & F & 16 & U & LE3 & T & 2 & 1 & other    & services & other      & mother & 1 & 2 & 0 & no  & no  & no  & no  & yes & yes & yes & yes & 3 & 2 & 2 & 1 & 1 & 3 &  0 & 14 & 15 & 16\\\\\n",
       "\t MS & F & 17 & U & GT3 & T & 4 & 4 & health   & health   & course     & father & 1 & 2 & 0 & no  & yes & no  & no  & yes & yes & yes & no  & 5 & 2 & 5 & 1 & 1 & 5 &  0 & 13 & 15 & 16\\\\\n",
       "\t MS & F & 17 & R & GT3 & T & 4 & 2 & other    & other    & course     & mother & 2 & 2 & 0 & yes & yes & no  & no  & no  & yes & yes & no  & 4 & 3 & 3 & 2 & 3 & 5 &  0 & 17 & 18 & 18\\\\\n",
       "\t MS & F & 18 & U & GT3 & T & 4 & 4 & teacher  & teacher  & reputation & mother & 2 & 2 & 0 & no  & no  & no  & yes & no  & yes & yes & no  & 4 & 3 & 5 & 1 & 2 & 1 &  0 & 18 & 18 & 18\\\\\n",
       "\t MS & M & 18 & U & LE3 & T & 4 & 4 & services & other    & reputation & mother & 1 & 1 & 0 & no  & yes & no  & yes & yes & yes & yes & no  & 5 & 4 & 5 & 1 & 1 & 5 &  3 & 17 & 17 & 17\\\\\n",
       "\t MS & F & 17 & U & GT3 & T & 4 & 2 & other    & other    & course     & mother & 2 & 2 & 0 & no  & yes & no  & no  & yes & yes & yes & no  & 4 & 3 & 3 & 1 & 2 & 4 &  0 & 17 & 18 & 18\\\\\n",
       "\t MS & F & 17 & U & GT3 & T & 4 & 2 & teacher  & other    & course     & father & 2 & 4 & 0 & no  & no  & no  & no  & yes & yes & yes & yes & 4 & 2 & 3 & 3 & 1 & 5 &  0 & 18 & 18 & 18\\\\\n",
       "\t MS & F & 18 & U & LE3 & T & 1 & 1 & at\\_home  & services & course     & father & 2 & 3 & 0 & no  & no  & no  & no  & yes & yes & yes & no  & 5 & 3 & 2 & 1 & 1 & 4 &  0 & 19 & 17 & 18\\\\\n",
       "\t MS & M & 18 & U & LE3 & T & 4 & 4 & teacher  & services & other      & mother & 2 & 3 & 0 & no  & no  & no  & no  & yes & yes & yes & yes & 4 & 2 & 2 & 2 & 2 & 5 &  0 & 15 & 16 & 16\\\\\n",
       "\t MS & F & 18 & R & LE3 & T & 4 & 4 & other    & other    & reputation & mother & 2 & 3 & 0 & no  & no  & no  & no  & yes & yes & yes & no  & 5 & 4 & 4 & 1 & 1 & 1 &  0 & 15 & 17 & 17\\\\\n",
       "\t MS & F & 18 & U & GT3 & T & 3 & 3 & other    & other    & home       & mother & 1 & 2 & 0 & no  & no  & no  & no  & yes & yes & yes & yes & 4 & 1 & 3 & 1 & 2 & 1 &  1 & 16 & 16 & 16\\\\\n",
       "\t MS & M & 18 & U & GT3 & T & 4 & 4 & teacher  & teacher  & home       & father & 1 & 2 & 0 & no  & no  & no  & yes & no  & yes & yes & no  & 3 & 2 & 4 & 1 & 4 & 2 &  4 & 17 & 18 & 19\\\\\n",
       "\t MS & M & 17 & U & GT3 & T & 2 & 3 & other    & services & home       & father & 2 & 2 & 0 & no  & no  & no  & yes & yes & yes & yes & no  & 4 & 4 & 3 & 1 & 1 & 3 &  4 & 14 & 15 & 16\\\\\n",
       "\t MS & F & 18 & U & LE3 & T & 3 & 1 & teacher  & services & course     & mother & 1 & 2 & 0 & no  & yes & no  & no  & yes & yes & yes & no  & 4 & 3 & 4 & 1 & 1 & 1 &  4 & 15 & 15 & 16\\\\\n",
       "\\end{tabular}\n"
      ],
      "text/markdown": [
       "\n",
       "A data.frame: 82 × 33\n",
       "\n",
       "| school &lt;chr&gt; | sex &lt;chr&gt; | age &lt;int&gt; | address &lt;chr&gt; | famsize &lt;chr&gt; | Pstatus &lt;chr&gt; | Medu &lt;int&gt; | Fedu &lt;int&gt; | Mjob &lt;chr&gt; | Fjob &lt;chr&gt; | ⋯ ⋯ | famrel &lt;int&gt; | freetime &lt;int&gt; | goout &lt;int&gt; | Dalc &lt;int&gt; | Walc &lt;int&gt; | health &lt;int&gt; | absences &lt;int&gt; | G1 &lt;int&gt; | G2 &lt;int&gt; | G3 &lt;int&gt; |\n",
       "|---|---|---|---|---|---|---|---|---|---|---|---|---|---|---|---|---|---|---|---|---|\n",
       "| GP | M | 15 | U | LE3 | A | 3 | 2 | services | other    | ⋯ | 4 | 2 | 2 | 1 | 1 | 1 |  0 | 15 | 16 | 17 |\n",
       "| GP | F | 16 | U | GT3 | T | 4 | 4 | health   | other    | ⋯ | 4 | 4 | 4 | 1 | 2 | 2 |  6 | 17 | 17 | 17 |\n",
       "| GP | M | 16 | U | GT3 | T | 4 | 3 | health   | services | ⋯ | 4 | 2 | 2 | 1 | 1 | 2 |  2 | 17 | 17 | 17 |\n",
       "| GP | F | 15 | U | LE3 | T | 4 | 2 | health   | other    | ⋯ | 4 | 3 | 3 | 1 | 1 | 5 |  0 | 16 | 14 | 16 |\n",
       "| GP | M | 15 | U | GT3 | T | 4 | 4 | teacher  | health   | ⋯ | 3 | 2 | 2 | 1 | 1 | 5 |  8 | 15 | 15 | 16 |\n",
       "| GP | F | 16 | U | GT3 | T | 4 | 2 | services | other    | ⋯ | 4 | 2 | 3 | 1 | 1 | 5 |  2 | 16 | 15 | 16 |\n",
       "| GP | F | 16 | R | GT3 | T | 4 | 4 | health   | teacher  | ⋯ | 2 | 4 | 4 | 2 | 3 | 4 |  0 | 17 | 16 | 16 |\n",
       "| GP | F | 16 | U | GT3 | T | 1 | 1 | services | services | ⋯ | 5 | 5 | 5 | 5 | 5 | 5 |  0 | 10 | 10 | 16 |\n",
       "| GP | F | 16 | U | LE3 | T | 4 | 3 | teacher  | services | ⋯ | 5 | 4 | 3 | 1 | 2 | 1 |  2 | 16 | 15 | 16 |\n",
       "| GP | M | 16 | U | GT3 | T | 4 | 4 | services | teacher  | ⋯ | 4 | 4 | 3 | 1 | 1 | 4 |  0 | 16 | 16 | 16 |\n",
       "| GP | M | 15 | U | GT3 | A | 3 | 4 | services | other    | ⋯ | 5 | 4 | 4 | 1 | 1 | 1 |  0 | 16 | 16 | 16 |\n",
       "| GP | M | 15 | U | LE3 | T | 4 | 2 | teacher  | other    | ⋯ | 3 | 5 | 2 | 1 | 1 | 3 | 10 | 18 | 17 | 18 |\n",
       "| GP | M | 15 | U | GT3 | T | 4 | 4 | other    | teacher  | ⋯ | 4 | 4 | 3 | 1 | 1 | 2 |  4 | 16 | 15 | 16 |\n",
       "| GP | F | 16 | U | GT3 | T | 4 | 2 | health   | services | ⋯ | 4 | 2 | 3 | 1 | 1 | 3 |  0 | 17 | 17 | 18 |\n",
       "| GP | F | 16 | U | GT3 | T | 4 | 4 | health   | health   | ⋯ | 4 | 4 | 2 | 1 | 1 | 3 |  0 | 16 | 16 | 17 |\n",
       "| GP | M | 16 | U | GT3 | T | 1 | 0 | other    | other    | ⋯ | 4 | 3 | 2 | 1 | 1 | 3 |  0 | 16 | 17 | 18 |\n",
       "| GP | F | 17 | U | GT3 | T | 2 | 4 | services | services | ⋯ | 5 | 4 | 2 | 2 | 3 | 5 |  0 | 17 | 18 | 17 |\n",
       "| GP | F | 16 | U | GT3 | T | 3 | 2 | other    | other    | ⋯ | 1 | 2 | 2 | 1 | 2 | 1 |  8 | 14 | 15 | 16 |\n",
       "| GP | M | 16 | U | LE3 | T | 2 | 1 | other    | other    | ⋯ | 4 | 2 | 3 | 1 | 2 | 5 |  0 | 13 | 14 | 16 |\n",
       "| GP | F | 17 | U | LE3 | T | 2 | 4 | services | services | ⋯ | 4 | 3 | 2 | 1 | 1 | 5 |  8 | 14 | 15 | 16 |\n",
       "| GP | F | 17 | U | GT3 | T | 4 | 4 | services | teacher  | ⋯ | 4 | 2 | 4 | 2 | 3 | 2 | 30 | 14 | 15 | 16 |\n",
       "| GP | F | 16 | U | GT3 | T | 4 | 4 | teacher  | services | ⋯ | 5 | 3 | 2 | 1 | 1 | 5 |  4 | 15 | 16 | 16 |\n",
       "| GP | F | 17 | U | GT3 | T | 3 | 2 | other    | other    | ⋯ | 5 | 3 | 4 | 1 | 3 | 3 |  2 | 17 | 18 | 17 |\n",
       "| GP | F | 17 | U | GT3 | A | 2 | 1 | other    | other    | ⋯ | 3 | 2 | 3 | 1 | 2 | 3 |  0 | 15 | 15 | 16 |\n",
       "| GP | M | 17 | U | LE3 | T | 2 | 2 | other    | other    | ⋯ | 4 | 4 | 2 | 5 | 5 | 4 |  0 | 16 | 16 | 16 |\n",
       "| GP | M | 16 | U | GT3 | T | 2 | 1 | other    | other    | ⋯ | 4 | 3 | 3 | 1 | 1 | 4 |  7 | 15 | 16 | 16 |\n",
       "| GP | F | 17 | U | LE3 | T | 4 | 2 | teacher  | services | ⋯ | 4 | 2 | 3 | 1 | 1 | 4 |  2 | 14 | 15 | 17 |\n",
       "| GP | M | 18 | U | GT3 | T | 2 | 1 | other    | other    | ⋯ | 5 | 2 | 4 | 1 | 2 | 4 |  2 | 16 | 16 | 16 |\n",
       "| GP | M | 18 | R | LE3 | A | 3 | 4 | other    | other    | ⋯ | 4 | 2 | 5 | 3 | 4 | 1 |  6 | 15 | 16 | 16 |\n",
       "| GP | F | 18 | U | GT3 | T | 2 | 3 | other    | services | ⋯ | 4 | 5 | 5 | 1 | 3 | 2 | 10 | 16 | 16 | 16 |\n",
       "| ⋮ | ⋮ | ⋮ | ⋮ | ⋮ | ⋮ | ⋮ | ⋮ | ⋮ | ⋮ | ⋱ | ⋮ | ⋮ | ⋮ | ⋮ | ⋮ | ⋮ | ⋮ | ⋮ | ⋮ | ⋮ |\n",
       "| GP | M | 18 | R | GT3 | T | 4 | 3 | teacher  | services | ⋯ | 5 | 3 | 2 | 1 | 2 | 4 |  4 | 15 | 14 | 17 |\n",
       "| GP | F | 17 | U | GT3 | T | 2 | 1 | services | other    | ⋯ | 4 | 3 | 5 | 2 | 4 | 4 |  4 | 12 | 16 | 16 |\n",
       "| GP | F | 17 | U | GT3 | T | 2 | 2 | services | services | ⋯ | 4 | 3 | 4 | 1 | 3 | 4 |  0 | 13 | 17 | 17 |\n",
       "| GP | F | 18 | U | LE3 | T | 4 | 2 | teacher  | other    | ⋯ | 4 | 2 | 2 | 1 | 1 | 3 |  0 | 14 | 17 | 17 |\n",
       "| GP | M | 17 | U | LE3 | A | 3 | 2 | other    | other    | ⋯ | 4 | 4 | 4 | 1 | 2 | 5 | 10 | 16 | 18 | 18 |\n",
       "| GP | F | 18 | U | GT3 | T | 3 | 2 | at_home  | other    | ⋯ | 4 | 3 | 4 | 1 | 2 | 2 |  5 | 14 | 17 | 17 |\n",
       "| GP | F | 18 | U | LE3 | A | 2 | 2 | services | other    | ⋯ | 4 | 1 | 4 | 1 | 3 | 4 | 10 | 14 | 17 | 17 |\n",
       "| MS | F | 16 | R | GT3 | T | 2 | 3 | at_home  | services | ⋯ | 4 | 5 | 2 | 1 | 2 | 5 |  0 | 16 | 17 | 17 |\n",
       "| MS | F | 15 | R | GT3 | T | 3 | 3 | other    | services | ⋯ | 4 | 1 | 3 | 1 | 1 | 4 |  0 | 14 | 16 | 16 |\n",
       "| MS | F | 16 | R | GT3 | T | 4 | 4 | teacher  | teacher  | ⋯ | 4 | 2 | 2 | 1 | 1 | 4 |  6 | 16 | 16 | 17 |\n",
       "| MS | F | 16 | R | LE3 | T | 2 | 2 | other    | other    | ⋯ | 4 | 3 | 2 | 1 | 1 | 4 |  0 | 14 | 14 | 16 |\n",
       "| MS | F | 16 | U | GT3 | T | 2 | 2 | services | other    | ⋯ | 4 | 2 | 5 | 1 | 2 | 5 |  0 | 17 | 16 | 16 |\n",
       "| MS | F | 16 | R | LE3 | T | 1 | 1 | at_home  | other    | ⋯ | 5 | 3 | 2 | 1 | 1 | 1 |  0 | 16 | 17 | 18 |\n",
       "| MS | F | 17 | R | GT3 | T | 2 | 2 | other    | other    | ⋯ | 5 | 3 | 2 | 1 | 1 | 1 |  0 | 15 | 17 | 17 |\n",
       "| MS | F | 16 | R | GT3 | T | 4 | 4 | health   | teacher  | ⋯ | 4 | 3 | 3 | 2 | 3 | 2 |  0 | 14 | 16 | 16 |\n",
       "| MS | M | 17 | U | LE3 | T | 4 | 4 | other    | services | ⋯ | 4 | 4 | 3 | 1 | 2 | 5 |  0 | 15 | 14 | 16 |\n",
       "| MS | F | 16 | U | LE3 | T | 2 | 1 | other    | services | ⋯ | 3 | 2 | 2 | 1 | 1 | 3 |  0 | 14 | 15 | 16 |\n",
       "| MS | F | 17 | U | GT3 | T | 4 | 4 | health   | health   | ⋯ | 5 | 2 | 5 | 1 | 1 | 5 |  0 | 13 | 15 | 16 |\n",
       "| MS | F | 17 | R | GT3 | T | 4 | 2 | other    | other    | ⋯ | 4 | 3 | 3 | 2 | 3 | 5 |  0 | 17 | 18 | 18 |\n",
       "| MS | F | 18 | U | GT3 | T | 4 | 4 | teacher  | teacher  | ⋯ | 4 | 3 | 5 | 1 | 2 | 1 |  0 | 18 | 18 | 18 |\n",
       "| MS | M | 18 | U | LE3 | T | 4 | 4 | services | other    | ⋯ | 5 | 4 | 5 | 1 | 1 | 5 |  3 | 17 | 17 | 17 |\n",
       "| MS | F | 17 | U | GT3 | T | 4 | 2 | other    | other    | ⋯ | 4 | 3 | 3 | 1 | 2 | 4 |  0 | 17 | 18 | 18 |\n",
       "| MS | F | 17 | U | GT3 | T | 4 | 2 | teacher  | other    | ⋯ | 4 | 2 | 3 | 3 | 1 | 5 |  0 | 18 | 18 | 18 |\n",
       "| MS | F | 18 | U | LE3 | T | 1 | 1 | at_home  | services | ⋯ | 5 | 3 | 2 | 1 | 1 | 4 |  0 | 19 | 17 | 18 |\n",
       "| MS | M | 18 | U | LE3 | T | 4 | 4 | teacher  | services | ⋯ | 4 | 2 | 2 | 2 | 2 | 5 |  0 | 15 | 16 | 16 |\n",
       "| MS | F | 18 | R | LE3 | T | 4 | 4 | other    | other    | ⋯ | 5 | 4 | 4 | 1 | 1 | 1 |  0 | 15 | 17 | 17 |\n",
       "| MS | F | 18 | U | GT3 | T | 3 | 3 | other    | other    | ⋯ | 4 | 1 | 3 | 1 | 2 | 1 |  1 | 16 | 16 | 16 |\n",
       "| MS | M | 18 | U | GT3 | T | 4 | 4 | teacher  | teacher  | ⋯ | 3 | 2 | 4 | 1 | 4 | 2 |  4 | 17 | 18 | 19 |\n",
       "| MS | M | 17 | U | GT3 | T | 2 | 3 | other    | services | ⋯ | 4 | 4 | 3 | 1 | 1 | 3 |  4 | 14 | 15 | 16 |\n",
       "| MS | F | 18 | U | LE3 | T | 3 | 1 | teacher  | services | ⋯ | 4 | 3 | 4 | 1 | 1 | 1 |  4 | 15 | 15 | 16 |\n",
       "\n"
      ],
      "text/plain": [
       "   school sex age address famsize Pstatus Medu Fedu Mjob     Fjob     ⋯ famrel\n",
       "1  GP     M   15  U       LE3     A       3    2    services other    ⋯ 4     \n",
       "2  GP     F   16  U       GT3     T       4    4    health   other    ⋯ 4     \n",
       "3  GP     M   16  U       GT3     T       4    3    health   services ⋯ 4     \n",
       "4  GP     F   15  U       LE3     T       4    2    health   other    ⋯ 4     \n",
       "5  GP     M   15  U       GT3     T       4    4    teacher  health   ⋯ 3     \n",
       "6  GP     F   16  U       GT3     T       4    2    services other    ⋯ 4     \n",
       "7  GP     F   16  R       GT3     T       4    4    health   teacher  ⋯ 2     \n",
       "8  GP     F   16  U       GT3     T       1    1    services services ⋯ 5     \n",
       "9  GP     F   16  U       LE3     T       4    3    teacher  services ⋯ 5     \n",
       "10 GP     M   16  U       GT3     T       4    4    services teacher  ⋯ 4     \n",
       "11 GP     M   15  U       GT3     A       3    4    services other    ⋯ 5     \n",
       "12 GP     M   15  U       LE3     T       4    2    teacher  other    ⋯ 3     \n",
       "13 GP     M   15  U       GT3     T       4    4    other    teacher  ⋯ 4     \n",
       "14 GP     F   16  U       GT3     T       4    2    health   services ⋯ 4     \n",
       "15 GP     F   16  U       GT3     T       4    4    health   health   ⋯ 4     \n",
       "16 GP     M   16  U       GT3     T       1    0    other    other    ⋯ 4     \n",
       "17 GP     F   17  U       GT3     T       2    4    services services ⋯ 5     \n",
       "18 GP     F   16  U       GT3     T       3    2    other    other    ⋯ 1     \n",
       "19 GP     M   16  U       LE3     T       2    1    other    other    ⋯ 4     \n",
       "20 GP     F   17  U       LE3     T       2    4    services services ⋯ 4     \n",
       "21 GP     F   17  U       GT3     T       4    4    services teacher  ⋯ 4     \n",
       "22 GP     F   16  U       GT3     T       4    4    teacher  services ⋯ 5     \n",
       "23 GP     F   17  U       GT3     T       3    2    other    other    ⋯ 5     \n",
       "24 GP     F   17  U       GT3     A       2    1    other    other    ⋯ 3     \n",
       "25 GP     M   17  U       LE3     T       2    2    other    other    ⋯ 4     \n",
       "26 GP     M   16  U       GT3     T       2    1    other    other    ⋯ 4     \n",
       "27 GP     F   17  U       LE3     T       4    2    teacher  services ⋯ 4     \n",
       "28 GP     M   18  U       GT3     T       2    1    other    other    ⋯ 5     \n",
       "29 GP     M   18  R       LE3     A       3    4    other    other    ⋯ 4     \n",
       "30 GP     F   18  U       GT3     T       2    3    other    services ⋯ 4     \n",
       "⋮  ⋮      ⋮   ⋮   ⋮       ⋮       ⋮       ⋮    ⋮    ⋮        ⋮        ⋱ ⋮     \n",
       "53 GP     M   18  R       GT3     T       4    3    teacher  services ⋯ 5     \n",
       "54 GP     F   17  U       GT3     T       2    1    services other    ⋯ 4     \n",
       "55 GP     F   17  U       GT3     T       2    2    services services ⋯ 4     \n",
       "56 GP     F   18  U       LE3     T       4    2    teacher  other    ⋯ 4     \n",
       "57 GP     M   17  U       LE3     A       3    2    other    other    ⋯ 4     \n",
       "58 GP     F   18  U       GT3     T       3    2    at_home  other    ⋯ 4     \n",
       "59 GP     F   18  U       LE3     A       2    2    services other    ⋯ 4     \n",
       "60 MS     F   16  R       GT3     T       2    3    at_home  services ⋯ 4     \n",
       "61 MS     F   15  R       GT3     T       3    3    other    services ⋯ 4     \n",
       "62 MS     F   16  R       GT3     T       4    4    teacher  teacher  ⋯ 4     \n",
       "63 MS     F   16  R       LE3     T       2    2    other    other    ⋯ 4     \n",
       "64 MS     F   16  U       GT3     T       2    2    services other    ⋯ 4     \n",
       "65 MS     F   16  R       LE3     T       1    1    at_home  other    ⋯ 5     \n",
       "66 MS     F   17  R       GT3     T       2    2    other    other    ⋯ 5     \n",
       "67 MS     F   16  R       GT3     T       4    4    health   teacher  ⋯ 4     \n",
       "68 MS     M   17  U       LE3     T       4    4    other    services ⋯ 4     \n",
       "69 MS     F   16  U       LE3     T       2    1    other    services ⋯ 3     \n",
       "70 MS     F   17  U       GT3     T       4    4    health   health   ⋯ 5     \n",
       "71 MS     F   17  R       GT3     T       4    2    other    other    ⋯ 4     \n",
       "72 MS     F   18  U       GT3     T       4    4    teacher  teacher  ⋯ 4     \n",
       "73 MS     M   18  U       LE3     T       4    4    services other    ⋯ 5     \n",
       "74 MS     F   17  U       GT3     T       4    2    other    other    ⋯ 4     \n",
       "75 MS     F   17  U       GT3     T       4    2    teacher  other    ⋯ 4     \n",
       "76 MS     F   18  U       LE3     T       1    1    at_home  services ⋯ 5     \n",
       "77 MS     M   18  U       LE3     T       4    4    teacher  services ⋯ 4     \n",
       "78 MS     F   18  R       LE3     T       4    4    other    other    ⋯ 5     \n",
       "79 MS     F   18  U       GT3     T       3    3    other    other    ⋯ 4     \n",
       "80 MS     M   18  U       GT3     T       4    4    teacher  teacher  ⋯ 3     \n",
       "81 MS     M   17  U       GT3     T       2    3    other    services ⋯ 4     \n",
       "82 MS     F   18  U       LE3     T       3    1    teacher  services ⋯ 4     \n",
       "   freetime goout Dalc Walc health absences G1 G2 G3\n",
       "1  2        2     1    1    1       0       15 16 17\n",
       "2  4        4     1    2    2       6       17 17 17\n",
       "3  2        2     1    1    2       2       17 17 17\n",
       "4  3        3     1    1    5       0       16 14 16\n",
       "5  2        2     1    1    5       8       15 15 16\n",
       "6  2        3     1    1    5       2       16 15 16\n",
       "7  4        4     2    3    4       0       17 16 16\n",
       "8  5        5     5    5    5       0       10 10 16\n",
       "9  4        3     1    2    1       2       16 15 16\n",
       "10 4        3     1    1    4       0       16 16 16\n",
       "11 4        4     1    1    1       0       16 16 16\n",
       "12 5        2     1    1    3      10       18 17 18\n",
       "13 4        3     1    1    2       4       16 15 16\n",
       "14 2        3     1    1    3       0       17 17 18\n",
       "15 4        2     1    1    3       0       16 16 17\n",
       "16 3        2     1    1    3       0       16 17 18\n",
       "17 4        2     2    3    5       0       17 18 17\n",
       "18 2        2     1    2    1       8       14 15 16\n",
       "19 2        3     1    2    5       0       13 14 16\n",
       "20 3        2     1    1    5       8       14 15 16\n",
       "21 2        4     2    3    2      30       14 15 16\n",
       "22 3        2     1    1    5       4       15 16 16\n",
       "23 3        4     1    3    3       2       17 18 17\n",
       "24 2        3     1    2    3       0       15 15 16\n",
       "25 4        2     5    5    4       0       16 16 16\n",
       "26 3        3     1    1    4       7       15 16 16\n",
       "27 2        3     1    1    4       2       14 15 17\n",
       "28 2        4     1    2    4       2       16 16 16\n",
       "29 2        5     3    4    1       6       15 16 16\n",
       "30 5        5     1    3    2      10       16 16 16\n",
       "⋮  ⋮        ⋮     ⋮    ⋮    ⋮      ⋮        ⋮  ⋮  ⋮ \n",
       "53 3        2     1    2    4       4       15 14 17\n",
       "54 3        5     2    4    4       4       12 16 16\n",
       "55 3        4     1    3    4       0       13 17 17\n",
       "56 2        2     1    1    3       0       14 17 17\n",
       "57 4        4     1    2    5      10       16 18 18\n",
       "58 3        4     1    2    2       5       14 17 17\n",
       "59 1        4     1    3    4      10       14 17 17\n",
       "60 5        2     1    2    5       0       16 17 17\n",
       "61 1        3     1    1    4       0       14 16 16\n",
       "62 2        2     1    1    4       6       16 16 17\n",
       "63 3        2     1    1    4       0       14 14 16\n",
       "64 2        5     1    2    5       0       17 16 16\n",
       "65 3        2     1    1    1       0       16 17 18\n",
       "66 3        2     1    1    1       0       15 17 17\n",
       "67 3        3     2    3    2       0       14 16 16\n",
       "68 4        3     1    2    5       0       15 14 16\n",
       "69 2        2     1    1    3       0       14 15 16\n",
       "70 2        5     1    1    5       0       13 15 16\n",
       "71 3        3     2    3    5       0       17 18 18\n",
       "72 3        5     1    2    1       0       18 18 18\n",
       "73 4        5     1    1    5       3       17 17 17\n",
       "74 3        3     1    2    4       0       17 18 18\n",
       "75 2        3     3    1    5       0       18 18 18\n",
       "76 3        2     1    1    4       0       19 17 18\n",
       "77 2        2     2    2    5       0       15 16 16\n",
       "78 4        4     1    1    1       0       15 17 17\n",
       "79 1        3     1    2    1       1       16 16 16\n",
       "80 2        4     1    4    2       4       17 18 19\n",
       "81 4        3     1    1    3       4       14 15 16\n",
       "82 3        4     1    1    1       4       15 15 16"
      ]
     },
     "metadata": {},
     "output_type": "display_data"
    },
    {
     "data": {
      "text/html": [
       "<table>\n",
       "<caption>A data.frame: 1 × 33</caption>\n",
       "<thead>\n",
       "\t<tr><th scope=col>school</th><th scope=col>sex</th><th scope=col>age</th><th scope=col>address</th><th scope=col>famsize</th><th scope=col>Pstatus</th><th scope=col>Medu</th><th scope=col>Fedu</th><th scope=col>Mjob</th><th scope=col>Fjob</th><th scope=col>⋯</th><th scope=col>famrel</th><th scope=col>freetime</th><th scope=col>goout</th><th scope=col>Dalc</th><th scope=col>Walc</th><th scope=col>health</th><th scope=col>absences</th><th scope=col>G1</th><th scope=col>G2</th><th scope=col>G3</th></tr>\n",
       "\t<tr><th scope=col>&lt;chr&gt;</th><th scope=col>&lt;chr&gt;</th><th scope=col>&lt;int&gt;</th><th scope=col>&lt;chr&gt;</th><th scope=col>&lt;chr&gt;</th><th scope=col>&lt;chr&gt;</th><th scope=col>&lt;int&gt;</th><th scope=col>&lt;int&gt;</th><th scope=col>&lt;chr&gt;</th><th scope=col>&lt;chr&gt;</th><th scope=col>⋯</th><th scope=col>&lt;int&gt;</th><th scope=col>&lt;int&gt;</th><th scope=col>&lt;int&gt;</th><th scope=col>&lt;int&gt;</th><th scope=col>&lt;int&gt;</th><th scope=col>&lt;int&gt;</th><th scope=col>&lt;int&gt;</th><th scope=col>&lt;int&gt;</th><th scope=col>&lt;int&gt;</th><th scope=col>&lt;int&gt;</th></tr>\n",
       "</thead>\n",
       "<tbody>\n",
       "\t<tr><td>GP</td><td>M</td><td>16</td><td>U</td><td>GT3</td><td>T</td><td>4</td><td>3</td><td>health</td><td>services</td><td>⋯</td><td>4</td><td>2</td><td>2</td><td>1</td><td>1</td><td>2</td><td>4</td><td>19</td><td>19</td><td>20</td></tr>\n",
       "</tbody>\n",
       "</table>\n"
      ],
      "text/latex": [
       "A data.frame: 1 × 33\n",
       "\\begin{tabular}{r|lllllllllllllllllllllllllllllllll}\n",
       " school & sex & age & address & famsize & Pstatus & Medu & Fedu & Mjob & Fjob & reason & guardian & traveltime & studytime & failures & schoolsup & famsup & paid & activities & nursery & higher & internet & romantic & famrel & freetime & goout & Dalc & Walc & health & absences & G1 & G2 & G3\\\\\n",
       " <chr> & <chr> & <int> & <chr> & <chr> & <chr> & <int> & <int> & <chr> & <chr> & <chr> & <chr> & <int> & <int> & <int> & <chr> & <chr> & <chr> & <chr> & <chr> & <chr> & <chr> & <chr> & <int> & <int> & <int> & <int> & <int> & <int> & <int> & <int> & <int> & <int>\\\\\n",
       "\\hline\n",
       "\t GP & M & 16 & U & GT3 & T & 4 & 3 & health & services & reputation & mother & 1 & 4 & 0 & no & no & no & yes & yes & yes & yes & no & 4 & 2 & 2 & 1 & 1 & 2 & 4 & 19 & 19 & 20\\\\\n",
       "\\end{tabular}\n"
      ],
      "text/markdown": [
       "\n",
       "A data.frame: 1 × 33\n",
       "\n",
       "| school &lt;chr&gt; | sex &lt;chr&gt; | age &lt;int&gt; | address &lt;chr&gt; | famsize &lt;chr&gt; | Pstatus &lt;chr&gt; | Medu &lt;int&gt; | Fedu &lt;int&gt; | Mjob &lt;chr&gt; | Fjob &lt;chr&gt; | ⋯ ⋯ | famrel &lt;int&gt; | freetime &lt;int&gt; | goout &lt;int&gt; | Dalc &lt;int&gt; | Walc &lt;int&gt; | health &lt;int&gt; | absences &lt;int&gt; | G1 &lt;int&gt; | G2 &lt;int&gt; | G3 &lt;int&gt; |\n",
       "|---|---|---|---|---|---|---|---|---|---|---|---|---|---|---|---|---|---|---|---|---|\n",
       "| GP | M | 16 | U | GT3 | T | 4 | 3 | health | services | ⋯ | 4 | 2 | 2 | 1 | 1 | 2 | 4 | 19 | 19 | 20 |\n",
       "\n"
      ],
      "text/plain": [
       "  school sex age address famsize Pstatus Medu Fedu Mjob   Fjob     ⋯ famrel\n",
       "1 GP     M   16  U       GT3     T       4    3    health services ⋯ 4     \n",
       "  freetime goout Dalc Walc health absences G1 G2 G3\n",
       "1 2        2     1    1    2      4        19 19 20"
      ]
     },
     "metadata": {},
     "output_type": "display_data"
    },
    {
     "data": {
      "text/html": [
       "<table>\n",
       "<caption>A data.frame: 2 × 33</caption>\n",
       "<thead>\n",
       "\t<tr><th scope=col>school</th><th scope=col>sex</th><th scope=col>age</th><th scope=col>address</th><th scope=col>famsize</th><th scope=col>Pstatus</th><th scope=col>Medu</th><th scope=col>Fedu</th><th scope=col>Mjob</th><th scope=col>Fjob</th><th scope=col>⋯</th><th scope=col>famrel</th><th scope=col>freetime</th><th scope=col>goout</th><th scope=col>Dalc</th><th scope=col>Walc</th><th scope=col>health</th><th scope=col>absences</th><th scope=col>G1</th><th scope=col>G2</th><th scope=col>G3</th></tr>\n",
       "\t<tr><th scope=col>&lt;chr&gt;</th><th scope=col>&lt;chr&gt;</th><th scope=col>&lt;int&gt;</th><th scope=col>&lt;chr&gt;</th><th scope=col>&lt;chr&gt;</th><th scope=col>&lt;chr&gt;</th><th scope=col>&lt;int&gt;</th><th scope=col>&lt;int&gt;</th><th scope=col>&lt;chr&gt;</th><th scope=col>&lt;chr&gt;</th><th scope=col>⋯</th><th scope=col>&lt;int&gt;</th><th scope=col>&lt;int&gt;</th><th scope=col>&lt;int&gt;</th><th scope=col>&lt;int&gt;</th><th scope=col>&lt;int&gt;</th><th scope=col>&lt;int&gt;</th><th scope=col>&lt;int&gt;</th><th scope=col>&lt;int&gt;</th><th scope=col>&lt;int&gt;</th><th scope=col>&lt;int&gt;</th></tr>\n",
       "</thead>\n",
       "<tbody>\n",
       "\t<tr><td>GP</td><td>F</td><td>17</td><td>R</td><td>LE3</td><td>T</td><td>3</td><td>1</td><td>services</td><td>other  </td><td>⋯</td><td>3</td><td>1</td><td>2</td><td>1</td><td>1</td><td>3</td><td>0</td><td>18</td><td>19</td><td>19</td></tr>\n",
       "\t<tr><td>MS</td><td>M</td><td>18</td><td>U</td><td>GT3</td><td>T</td><td>4</td><td>4</td><td>teacher </td><td>teacher</td><td>⋯</td><td>3</td><td>2</td><td>4</td><td>1</td><td>4</td><td>2</td><td>4</td><td>17</td><td>18</td><td>19</td></tr>\n",
       "</tbody>\n",
       "</table>\n"
      ],
      "text/latex": [
       "A data.frame: 2 × 33\n",
       "\\begin{tabular}{r|lllllllllllllllllllllllllllllllll}\n",
       " school & sex & age & address & famsize & Pstatus & Medu & Fedu & Mjob & Fjob & reason & guardian & traveltime & studytime & failures & schoolsup & famsup & paid & activities & nursery & higher & internet & romantic & famrel & freetime & goout & Dalc & Walc & health & absences & G1 & G2 & G3\\\\\n",
       " <chr> & <chr> & <int> & <chr> & <chr> & <chr> & <int> & <int> & <chr> & <chr> & <chr> & <chr> & <int> & <int> & <int> & <chr> & <chr> & <chr> & <chr> & <chr> & <chr> & <chr> & <chr> & <int> & <int> & <int> & <int> & <int> & <int> & <int> & <int> & <int> & <int>\\\\\n",
       "\\hline\n",
       "\t GP & F & 17 & R & LE3 & T & 3 & 1 & services & other   & reputation & mother & 2 & 4 & 0 & no & yes & no & no  & yes & yes & no  & no & 3 & 1 & 2 & 1 & 1 & 3 & 0 & 18 & 19 & 19\\\\\n",
       "\t MS & M & 18 & U & GT3 & T & 4 & 4 & teacher  & teacher & home       & father & 1 & 2 & 0 & no & no  & no & yes & no  & yes & yes & no & 3 & 2 & 4 & 1 & 4 & 2 & 4 & 17 & 18 & 19\\\\\n",
       "\\end{tabular}\n"
      ],
      "text/markdown": [
       "\n",
       "A data.frame: 2 × 33\n",
       "\n",
       "| school &lt;chr&gt; | sex &lt;chr&gt; | age &lt;int&gt; | address &lt;chr&gt; | famsize &lt;chr&gt; | Pstatus &lt;chr&gt; | Medu &lt;int&gt; | Fedu &lt;int&gt; | Mjob &lt;chr&gt; | Fjob &lt;chr&gt; | ⋯ ⋯ | famrel &lt;int&gt; | freetime &lt;int&gt; | goout &lt;int&gt; | Dalc &lt;int&gt; | Walc &lt;int&gt; | health &lt;int&gt; | absences &lt;int&gt; | G1 &lt;int&gt; | G2 &lt;int&gt; | G3 &lt;int&gt; |\n",
       "|---|---|---|---|---|---|---|---|---|---|---|---|---|---|---|---|---|---|---|---|---|\n",
       "| GP | F | 17 | R | LE3 | T | 3 | 1 | services | other   | ⋯ | 3 | 1 | 2 | 1 | 1 | 3 | 0 | 18 | 19 | 19 |\n",
       "| MS | M | 18 | U | GT3 | T | 4 | 4 | teacher  | teacher | ⋯ | 3 | 2 | 4 | 1 | 4 | 2 | 4 | 17 | 18 | 19 |\n",
       "\n"
      ],
      "text/plain": [
       "  school sex age address famsize Pstatus Medu Fedu Mjob     Fjob    ⋯ famrel\n",
       "1 GP     F   17  R       LE3     T       3    1    services other   ⋯ 3     \n",
       "2 MS     M   18  U       GT3     T       4    4    teacher  teacher ⋯ 3     \n",
       "  freetime goout Dalc Walc health absences G1 G2 G3\n",
       "1 1        2     1    1    3      0        18 19 19\n",
       "2 2        4     1    4    2      4        17 18 19"
      ]
     },
     "metadata": {},
     "output_type": "display_data"
    }
   ],
   "source": [
    "Amath <- file %>% filter(G3 >= 16)\n",
    "Aport <- file2 %>% filter(G3 >= 16)\n",
    "Pmath <- file %>% filter(G3 == max(G3))\n",
    "Pport <- file2 %>% filter(G3 == max(G3))\n",
    "\n",
    "Amath\n",
    "Aport\n",
    "Pmath\n",
    "Pport"
   ]
  },
  {
   "cell_type": "code",
   "execution_count": 38,
   "metadata": {},
   "outputs": [
    {
     "data": {
      "text/html": [
       "<ol class=list-inline>\n",
       "\t<li>'school'</li>\n",
       "\t<li>'sex'</li>\n",
       "\t<li>'age'</li>\n",
       "\t<li>'address'</li>\n",
       "\t<li>'famsize'</li>\n",
       "\t<li>'Pstatus'</li>\n",
       "\t<li>'Medu'</li>\n",
       "\t<li>'Fedu'</li>\n",
       "\t<li>'Mjob'</li>\n",
       "\t<li>'Fjob'</li>\n",
       "\t<li>'reason'</li>\n",
       "\t<li>'guardian'</li>\n",
       "\t<li>'traveltime'</li>\n",
       "\t<li>'studytime'</li>\n",
       "\t<li>'failures'</li>\n",
       "\t<li>'schoolsup'</li>\n",
       "\t<li>'famsup'</li>\n",
       "\t<li>'paid'</li>\n",
       "\t<li>'activities'</li>\n",
       "\t<li>'nursery'</li>\n",
       "\t<li>'higher'</li>\n",
       "\t<li>'internet'</li>\n",
       "\t<li>'romantic'</li>\n",
       "\t<li>'famrel'</li>\n",
       "\t<li>'freetime'</li>\n",
       "\t<li>'goout'</li>\n",
       "\t<li>'Dalc'</li>\n",
       "\t<li>'Walc'</li>\n",
       "\t<li>'health'</li>\n",
       "\t<li>'absences'</li>\n",
       "\t<li>'G1'</li>\n",
       "\t<li>'G2'</li>\n",
       "\t<li>'G3'</li>\n",
       "</ol>\n"
      ],
      "text/latex": [
       "\\begin{enumerate*}\n",
       "\\item 'school'\n",
       "\\item 'sex'\n",
       "\\item 'age'\n",
       "\\item 'address'\n",
       "\\item 'famsize'\n",
       "\\item 'Pstatus'\n",
       "\\item 'Medu'\n",
       "\\item 'Fedu'\n",
       "\\item 'Mjob'\n",
       "\\item 'Fjob'\n",
       "\\item 'reason'\n",
       "\\item 'guardian'\n",
       "\\item 'traveltime'\n",
       "\\item 'studytime'\n",
       "\\item 'failures'\n",
       "\\item 'schoolsup'\n",
       "\\item 'famsup'\n",
       "\\item 'paid'\n",
       "\\item 'activities'\n",
       "\\item 'nursery'\n",
       "\\item 'higher'\n",
       "\\item 'internet'\n",
       "\\item 'romantic'\n",
       "\\item 'famrel'\n",
       "\\item 'freetime'\n",
       "\\item 'goout'\n",
       "\\item 'Dalc'\n",
       "\\item 'Walc'\n",
       "\\item 'health'\n",
       "\\item 'absences'\n",
       "\\item 'G1'\n",
       "\\item 'G2'\n",
       "\\item 'G3'\n",
       "\\end{enumerate*}\n"
      ],
      "text/markdown": [
       "1. 'school'\n",
       "2. 'sex'\n",
       "3. 'age'\n",
       "4. 'address'\n",
       "5. 'famsize'\n",
       "6. 'Pstatus'\n",
       "7. 'Medu'\n",
       "8. 'Fedu'\n",
       "9. 'Mjob'\n",
       "10. 'Fjob'\n",
       "11. 'reason'\n",
       "12. 'guardian'\n",
       "13. 'traveltime'\n",
       "14. 'studytime'\n",
       "15. 'failures'\n",
       "16. 'schoolsup'\n",
       "17. 'famsup'\n",
       "18. 'paid'\n",
       "19. 'activities'\n",
       "20. 'nursery'\n",
       "21. 'higher'\n",
       "22. 'internet'\n",
       "23. 'romantic'\n",
       "24. 'famrel'\n",
       "25. 'freetime'\n",
       "26. 'goout'\n",
       "27. 'Dalc'\n",
       "28. 'Walc'\n",
       "29. 'health'\n",
       "30. 'absences'\n",
       "31. 'G1'\n",
       "32. 'G2'\n",
       "33. 'G3'\n",
       "\n",
       "\n"
      ],
      "text/plain": [
       " [1] \"school\"     \"sex\"        \"age\"        \"address\"    \"famsize\"   \n",
       " [6] \"Pstatus\"    \"Medu\"       \"Fedu\"       \"Mjob\"       \"Fjob\"      \n",
       "[11] \"reason\"     \"guardian\"   \"traveltime\" \"studytime\"  \"failures\"  \n",
       "[16] \"schoolsup\"  \"famsup\"     \"paid\"       \"activities\" \"nursery\"   \n",
       "[21] \"higher\"     \"internet\"   \"romantic\"   \"famrel\"     \"freetime\"  \n",
       "[26] \"goout\"      \"Dalc\"       \"Walc\"       \"health\"     \"absences\"  \n",
       "[31] \"G1\"         \"G2\"         \"G3\"        "
      ]
     },
     "metadata": {},
     "output_type": "display_data"
    }
   ],
   "source": [
    "colnames(Amath)"
   ]
  },
  {
   "cell_type": "code",
   "execution_count": 39,
   "metadata": {
    "scrolled": true
   },
   "outputs": [
    {
     "data": {
      "text/html": [
       "<table>\n",
       "<caption>A tibble: 6 × 26</caption>\n",
       "<thead>\n",
       "\t<tr><th scope=col>sex</th><th scope=col>age</th><th scope=col>address</th><th scope=col>famsize</th><th scope=col>Pstatus</th><th scope=col>Medu</th><th scope=col>Fedu</th><th scope=col>Mjob</th><th scope=col>Fjob</th><th scope=col>reason</th><th scope=col>⋯</th><th scope=col>nursery</th><th scope=col>higher</th><th scope=col>famrel</th><th scope=col>freetime</th><th scope=col>health</th><th scope=col>absences</th><th scope=col>Factor</th><th scope=col>value</th><th scope=col>Gperiod</th><th scope=col>grade</th></tr>\n",
       "\t<tr><th scope=col>&lt;chr&gt;</th><th scope=col>&lt;int&gt;</th><th scope=col>&lt;chr&gt;</th><th scope=col>&lt;chr&gt;</th><th scope=col>&lt;chr&gt;</th><th scope=col>&lt;int&gt;</th><th scope=col>&lt;int&gt;</th><th scope=col>&lt;chr&gt;</th><th scope=col>&lt;chr&gt;</th><th scope=col>&lt;chr&gt;</th><th scope=col>⋯</th><th scope=col>&lt;chr&gt;</th><th scope=col>&lt;chr&gt;</th><th scope=col>&lt;int&gt;</th><th scope=col>&lt;int&gt;</th><th scope=col>&lt;int&gt;</th><th scope=col>&lt;int&gt;</th><th scope=col>&lt;chr&gt;</th><th scope=col>&lt;dbl&gt;</th><th scope=col>&lt;chr&gt;</th><th scope=col>&lt;int&gt;</th></tr>\n",
       "</thead>\n",
       "<tbody>\n",
       "\t<tr><td>M</td><td>15</td><td>U</td><td>LE3</td><td>A</td><td>3</td><td>2</td><td>services</td><td>other</td><td>home</td><td>⋯</td><td>yes</td><td>yes</td><td>4</td><td>2</td><td>1</td><td>0</td><td>school   </td><td>1</td><td>G1</td><td>16</td></tr>\n",
       "\t<tr><td>M</td><td>15</td><td>U</td><td>LE3</td><td>A</td><td>3</td><td>2</td><td>services</td><td>other</td><td>home</td><td>⋯</td><td>yes</td><td>yes</td><td>4</td><td>2</td><td>1</td><td>0</td><td>school   </td><td>1</td><td>G2</td><td>18</td></tr>\n",
       "\t<tr><td>M</td><td>15</td><td>U</td><td>LE3</td><td>A</td><td>3</td><td>2</td><td>services</td><td>other</td><td>home</td><td>⋯</td><td>yes</td><td>yes</td><td>4</td><td>2</td><td>1</td><td>0</td><td>school   </td><td>1</td><td>G3</td><td>19</td></tr>\n",
       "\t<tr><td>M</td><td>15</td><td>U</td><td>LE3</td><td>A</td><td>3</td><td>2</td><td>services</td><td>other</td><td>home</td><td>⋯</td><td>yes</td><td>yes</td><td>4</td><td>2</td><td>1</td><td>0</td><td>studytime</td><td>2</td><td>G1</td><td>16</td></tr>\n",
       "\t<tr><td>M</td><td>15</td><td>U</td><td>LE3</td><td>A</td><td>3</td><td>2</td><td>services</td><td>other</td><td>home</td><td>⋯</td><td>yes</td><td>yes</td><td>4</td><td>2</td><td>1</td><td>0</td><td>studytime</td><td>2</td><td>G2</td><td>18</td></tr>\n",
       "\t<tr><td>M</td><td>15</td><td>U</td><td>LE3</td><td>A</td><td>3</td><td>2</td><td>services</td><td>other</td><td>home</td><td>⋯</td><td>yes</td><td>yes</td><td>4</td><td>2</td><td>1</td><td>0</td><td>studytime</td><td>2</td><td>G3</td><td>19</td></tr>\n",
       "</tbody>\n",
       "</table>\n"
      ],
      "text/latex": [
       "A tibble: 6 × 26\n",
       "\\begin{tabular}{r|llllllllllllllllllllllllll}\n",
       " sex & age & address & famsize & Pstatus & Medu & Fedu & Mjob & Fjob & reason & guardian & traveltime & failures & schoolsup & famsup & paid & nursery & higher & famrel & freetime & health & absences & Factor & value & Gperiod & grade\\\\\n",
       " <chr> & <int> & <chr> & <chr> & <chr> & <int> & <int> & <chr> & <chr> & <chr> & <chr> & <int> & <int> & <chr> & <chr> & <chr> & <chr> & <chr> & <int> & <int> & <int> & <int> & <chr> & <dbl> & <chr> & <int>\\\\\n",
       "\\hline\n",
       "\t M & 15 & U & LE3 & A & 3 & 2 & services & other & home & mother & 1 & 0 & no & yes & yes & yes & yes & 4 & 2 & 1 & 0 & school    & 1 & G1 & 16\\\\\n",
       "\t M & 15 & U & LE3 & A & 3 & 2 & services & other & home & mother & 1 & 0 & no & yes & yes & yes & yes & 4 & 2 & 1 & 0 & school    & 1 & G2 & 18\\\\\n",
       "\t M & 15 & U & LE3 & A & 3 & 2 & services & other & home & mother & 1 & 0 & no & yes & yes & yes & yes & 4 & 2 & 1 & 0 & school    & 1 & G3 & 19\\\\\n",
       "\t M & 15 & U & LE3 & A & 3 & 2 & services & other & home & mother & 1 & 0 & no & yes & yes & yes & yes & 4 & 2 & 1 & 0 & studytime & 2 & G1 & 16\\\\\n",
       "\t M & 15 & U & LE3 & A & 3 & 2 & services & other & home & mother & 1 & 0 & no & yes & yes & yes & yes & 4 & 2 & 1 & 0 & studytime & 2 & G2 & 18\\\\\n",
       "\t M & 15 & U & LE3 & A & 3 & 2 & services & other & home & mother & 1 & 0 & no & yes & yes & yes & yes & 4 & 2 & 1 & 0 & studytime & 2 & G3 & 19\\\\\n",
       "\\end{tabular}\n"
      ],
      "text/markdown": [
       "\n",
       "A tibble: 6 × 26\n",
       "\n",
       "| sex &lt;chr&gt; | age &lt;int&gt; | address &lt;chr&gt; | famsize &lt;chr&gt; | Pstatus &lt;chr&gt; | Medu &lt;int&gt; | Fedu &lt;int&gt; | Mjob &lt;chr&gt; | Fjob &lt;chr&gt; | reason &lt;chr&gt; | ⋯ ⋯ | nursery &lt;chr&gt; | higher &lt;chr&gt; | famrel &lt;int&gt; | freetime &lt;int&gt; | health &lt;int&gt; | absences &lt;int&gt; | Factor &lt;chr&gt; | value &lt;dbl&gt; | Gperiod &lt;chr&gt; | grade &lt;int&gt; |\n",
       "|---|---|---|---|---|---|---|---|---|---|---|---|---|---|---|---|---|---|---|---|---|\n",
       "| M | 15 | U | LE3 | A | 3 | 2 | services | other | home | ⋯ | yes | yes | 4 | 2 | 1 | 0 | school    | 1 | G1 | 16 |\n",
       "| M | 15 | U | LE3 | A | 3 | 2 | services | other | home | ⋯ | yes | yes | 4 | 2 | 1 | 0 | school    | 1 | G2 | 18 |\n",
       "| M | 15 | U | LE3 | A | 3 | 2 | services | other | home | ⋯ | yes | yes | 4 | 2 | 1 | 0 | school    | 1 | G3 | 19 |\n",
       "| M | 15 | U | LE3 | A | 3 | 2 | services | other | home | ⋯ | yes | yes | 4 | 2 | 1 | 0 | studytime | 2 | G1 | 16 |\n",
       "| M | 15 | U | LE3 | A | 3 | 2 | services | other | home | ⋯ | yes | yes | 4 | 2 | 1 | 0 | studytime | 2 | G2 | 18 |\n",
       "| M | 15 | U | LE3 | A | 3 | 2 | services | other | home | ⋯ | yes | yes | 4 | 2 | 1 | 0 | studytime | 2 | G3 | 19 |\n",
       "\n"
      ],
      "text/plain": [
       "  sex age address famsize Pstatus Medu Fedu Mjob     Fjob  reason ⋯ nursery\n",
       "1 M   15  U       LE3     A       3    2    services other home   ⋯ yes    \n",
       "2 M   15  U       LE3     A       3    2    services other home   ⋯ yes    \n",
       "3 M   15  U       LE3     A       3    2    services other home   ⋯ yes    \n",
       "4 M   15  U       LE3     A       3    2    services other home   ⋯ yes    \n",
       "5 M   15  U       LE3     A       3    2    services other home   ⋯ yes    \n",
       "6 M   15  U       LE3     A       3    2    services other home   ⋯ yes    \n",
       "  higher famrel freetime health absences Factor    value Gperiod grade\n",
       "1 yes    4      2        1      0        school    1     G1      16   \n",
       "2 yes    4      2        1      0        school    1     G2      18   \n",
       "3 yes    4      2        1      0        school    1     G3      19   \n",
       "4 yes    4      2        1      0        studytime 2     G1      16   \n",
       "5 yes    4      2        1      0        studytime 2     G2      18   \n",
       "6 yes    4      2        1      0        studytime 2     G3      19   "
      ]
     },
     "metadata": {},
     "output_type": "display_data"
    }
   ],
   "source": [
    "Amath$school <- replace(Amath$school, Amath$school == \"GP\", \"1\")\n",
    "Amath$school <- replace(Amath$school, Amath$school == \"MS\", \"2\")\n",
    "Amath$activities <- replace(Amath$activities, Amath$activities == \"yes\", \"1\")\n",
    "Amath$activities <- replace(Amath$activities, Amath$activities == \"no\", \"2\")\n",
    "Amath$internet <- replace(Amath$internet, Amath$internet == \"yes\", \"1\")\n",
    "Amath$internet <- replace(Amath$internet, Amath$internet == \"no\", \"2\")\n",
    "Amath$romantic <- replace(Amath$romantic, Amath$romantic == \"yes\", \"1\")\n",
    "Amath$romantic <- replace(Amath$romantic, Amath$romantic == \"no\", \"2\")\n",
    "\n",
    "Amath <- Amath %>% transform(school = as.numeric(school)) %>% transform(activities = as.numeric(activities)) %>%\n",
    "                   transform(internet = as.numeric(internet)) %>% transform(romantic = as.numeric(romantic)) %>%\n",
    "                    transform(studytime = as.numeric(studytime)) %>% transform(goout = as.numeric(goout)) %>%\n",
    "                    transform(Dalc = as.numeric(Dalc)) %>% transform(Walc = as.numeric(Walc))\n",
    "\n",
    "columns = c('school', 'studytime', 'activities', 'internet', 'romantic', 'goout', 'Dalc', 'Walc')\n",
    "columnsG = c('G1', 'G2', 'G3')\n",
    "Amath_piv <- Amath %>% pivot_longer(columns, names_to = \"Factor\", values_to = \"value\")\n",
    "Amath_piv <- Amath_piv %>% pivot_longer(columnsG, names_to = \"Gperiod\", values_to = \"grade\")\n",
    "\n",
    "head(Amath_piv)"
   ]
  },
  {
   "cell_type": "code",
   "execution_count": 40,
   "metadata": {},
   "outputs": [
    {
     "data": {
      "text/html": [
       "<table>\n",
       "<caption>A tibble: 6 × 26</caption>\n",
       "<thead>\n",
       "\t<tr><th scope=col>sex</th><th scope=col>age</th><th scope=col>address</th><th scope=col>famsize</th><th scope=col>Pstatus</th><th scope=col>Medu</th><th scope=col>Fedu</th><th scope=col>Mjob</th><th scope=col>Fjob</th><th scope=col>reason</th><th scope=col>⋯</th><th scope=col>nursery</th><th scope=col>higher</th><th scope=col>famrel</th><th scope=col>freetime</th><th scope=col>health</th><th scope=col>absences</th><th scope=col>Factor</th><th scope=col>value</th><th scope=col>Gperiod</th><th scope=col>grade</th></tr>\n",
       "\t<tr><th scope=col>&lt;chr&gt;</th><th scope=col>&lt;int&gt;</th><th scope=col>&lt;chr&gt;</th><th scope=col>&lt;chr&gt;</th><th scope=col>&lt;chr&gt;</th><th scope=col>&lt;int&gt;</th><th scope=col>&lt;int&gt;</th><th scope=col>&lt;chr&gt;</th><th scope=col>&lt;chr&gt;</th><th scope=col>&lt;chr&gt;</th><th scope=col>⋯</th><th scope=col>&lt;chr&gt;</th><th scope=col>&lt;chr&gt;</th><th scope=col>&lt;int&gt;</th><th scope=col>&lt;int&gt;</th><th scope=col>&lt;int&gt;</th><th scope=col>&lt;int&gt;</th><th scope=col>&lt;chr&gt;</th><th scope=col>&lt;dbl&gt;</th><th scope=col>&lt;chr&gt;</th><th scope=col>&lt;int&gt;</th></tr>\n",
       "</thead>\n",
       "<tbody>\n",
       "\t<tr><td>M</td><td>15</td><td>U</td><td>LE3</td><td>A</td><td>3</td><td>2</td><td>services</td><td>other</td><td>home</td><td>⋯</td><td>yes</td><td>yes</td><td>4</td><td>2</td><td>1</td><td>0</td><td>school   </td><td>1</td><td>G1</td><td>15</td></tr>\n",
       "\t<tr><td>M</td><td>15</td><td>U</td><td>LE3</td><td>A</td><td>3</td><td>2</td><td>services</td><td>other</td><td>home</td><td>⋯</td><td>yes</td><td>yes</td><td>4</td><td>2</td><td>1</td><td>0</td><td>school   </td><td>1</td><td>G2</td><td>16</td></tr>\n",
       "\t<tr><td>M</td><td>15</td><td>U</td><td>LE3</td><td>A</td><td>3</td><td>2</td><td>services</td><td>other</td><td>home</td><td>⋯</td><td>yes</td><td>yes</td><td>4</td><td>2</td><td>1</td><td>0</td><td>school   </td><td>1</td><td>G3</td><td>17</td></tr>\n",
       "\t<tr><td>M</td><td>15</td><td>U</td><td>LE3</td><td>A</td><td>3</td><td>2</td><td>services</td><td>other</td><td>home</td><td>⋯</td><td>yes</td><td>yes</td><td>4</td><td>2</td><td>1</td><td>0</td><td>studytime</td><td>2</td><td>G1</td><td>15</td></tr>\n",
       "\t<tr><td>M</td><td>15</td><td>U</td><td>LE3</td><td>A</td><td>3</td><td>2</td><td>services</td><td>other</td><td>home</td><td>⋯</td><td>yes</td><td>yes</td><td>4</td><td>2</td><td>1</td><td>0</td><td>studytime</td><td>2</td><td>G2</td><td>16</td></tr>\n",
       "\t<tr><td>M</td><td>15</td><td>U</td><td>LE3</td><td>A</td><td>3</td><td>2</td><td>services</td><td>other</td><td>home</td><td>⋯</td><td>yes</td><td>yes</td><td>4</td><td>2</td><td>1</td><td>0</td><td>studytime</td><td>2</td><td>G3</td><td>17</td></tr>\n",
       "</tbody>\n",
       "</table>\n"
      ],
      "text/latex": [
       "A tibble: 6 × 26\n",
       "\\begin{tabular}{r|llllllllllllllllllllllllll}\n",
       " sex & age & address & famsize & Pstatus & Medu & Fedu & Mjob & Fjob & reason & guardian & traveltime & failures & schoolsup & famsup & paid & nursery & higher & famrel & freetime & health & absences & Factor & value & Gperiod & grade\\\\\n",
       " <chr> & <int> & <chr> & <chr> & <chr> & <int> & <int> & <chr> & <chr> & <chr> & <chr> & <int> & <int> & <chr> & <chr> & <chr> & <chr> & <chr> & <int> & <int> & <int> & <int> & <chr> & <dbl> & <chr> & <int>\\\\\n",
       "\\hline\n",
       "\t M & 15 & U & LE3 & A & 3 & 2 & services & other & home & mother & 1 & 0 & no & yes & no & yes & yes & 4 & 2 & 1 & 0 & school    & 1 & G1 & 15\\\\\n",
       "\t M & 15 & U & LE3 & A & 3 & 2 & services & other & home & mother & 1 & 0 & no & yes & no & yes & yes & 4 & 2 & 1 & 0 & school    & 1 & G2 & 16\\\\\n",
       "\t M & 15 & U & LE3 & A & 3 & 2 & services & other & home & mother & 1 & 0 & no & yes & no & yes & yes & 4 & 2 & 1 & 0 & school    & 1 & G3 & 17\\\\\n",
       "\t M & 15 & U & LE3 & A & 3 & 2 & services & other & home & mother & 1 & 0 & no & yes & no & yes & yes & 4 & 2 & 1 & 0 & studytime & 2 & G1 & 15\\\\\n",
       "\t M & 15 & U & LE3 & A & 3 & 2 & services & other & home & mother & 1 & 0 & no & yes & no & yes & yes & 4 & 2 & 1 & 0 & studytime & 2 & G2 & 16\\\\\n",
       "\t M & 15 & U & LE3 & A & 3 & 2 & services & other & home & mother & 1 & 0 & no & yes & no & yes & yes & 4 & 2 & 1 & 0 & studytime & 2 & G3 & 17\\\\\n",
       "\\end{tabular}\n"
      ],
      "text/markdown": [
       "\n",
       "A tibble: 6 × 26\n",
       "\n",
       "| sex &lt;chr&gt; | age &lt;int&gt; | address &lt;chr&gt; | famsize &lt;chr&gt; | Pstatus &lt;chr&gt; | Medu &lt;int&gt; | Fedu &lt;int&gt; | Mjob &lt;chr&gt; | Fjob &lt;chr&gt; | reason &lt;chr&gt; | ⋯ ⋯ | nursery &lt;chr&gt; | higher &lt;chr&gt; | famrel &lt;int&gt; | freetime &lt;int&gt; | health &lt;int&gt; | absences &lt;int&gt; | Factor &lt;chr&gt; | value &lt;dbl&gt; | Gperiod &lt;chr&gt; | grade &lt;int&gt; |\n",
       "|---|---|---|---|---|---|---|---|---|---|---|---|---|---|---|---|---|---|---|---|---|\n",
       "| M | 15 | U | LE3 | A | 3 | 2 | services | other | home | ⋯ | yes | yes | 4 | 2 | 1 | 0 | school    | 1 | G1 | 15 |\n",
       "| M | 15 | U | LE3 | A | 3 | 2 | services | other | home | ⋯ | yes | yes | 4 | 2 | 1 | 0 | school    | 1 | G2 | 16 |\n",
       "| M | 15 | U | LE3 | A | 3 | 2 | services | other | home | ⋯ | yes | yes | 4 | 2 | 1 | 0 | school    | 1 | G3 | 17 |\n",
       "| M | 15 | U | LE3 | A | 3 | 2 | services | other | home | ⋯ | yes | yes | 4 | 2 | 1 | 0 | studytime | 2 | G1 | 15 |\n",
       "| M | 15 | U | LE3 | A | 3 | 2 | services | other | home | ⋯ | yes | yes | 4 | 2 | 1 | 0 | studytime | 2 | G2 | 16 |\n",
       "| M | 15 | U | LE3 | A | 3 | 2 | services | other | home | ⋯ | yes | yes | 4 | 2 | 1 | 0 | studytime | 2 | G3 | 17 |\n",
       "\n"
      ],
      "text/plain": [
       "  sex age address famsize Pstatus Medu Fedu Mjob     Fjob  reason ⋯ nursery\n",
       "1 M   15  U       LE3     A       3    2    services other home   ⋯ yes    \n",
       "2 M   15  U       LE3     A       3    2    services other home   ⋯ yes    \n",
       "3 M   15  U       LE3     A       3    2    services other home   ⋯ yes    \n",
       "4 M   15  U       LE3     A       3    2    services other home   ⋯ yes    \n",
       "5 M   15  U       LE3     A       3    2    services other home   ⋯ yes    \n",
       "6 M   15  U       LE3     A       3    2    services other home   ⋯ yes    \n",
       "  higher famrel freetime health absences Factor    value Gperiod grade\n",
       "1 yes    4      2        1      0        school    1     G1      15   \n",
       "2 yes    4      2        1      0        school    1     G2      16   \n",
       "3 yes    4      2        1      0        school    1     G3      17   \n",
       "4 yes    4      2        1      0        studytime 2     G1      15   \n",
       "5 yes    4      2        1      0        studytime 2     G2      16   \n",
       "6 yes    4      2        1      0        studytime 2     G3      17   "
      ]
     },
     "metadata": {},
     "output_type": "display_data"
    }
   ],
   "source": [
    "Aport$school <- replace(Aport$school, Aport$school == \"GP\", \"1\")\n",
    "Aport$school <- replace(Aport$school, Aport$school == \"MS\", \"2\")\n",
    "Aport$activities <- replace(Aport$activities, Aport$activities == \"yes\", \"1\")\n",
    "Aport$activities <- replace(Aport$activities, Aport$activities == \"no\", \"2\")\n",
    "Aport$internet <- replace(Aport$internet, Aport$internet == \"yes\", \"1\")\n",
    "Aport$internet <- replace(Aport$internet, Aport$internet == \"no\", \"2\")\n",
    "Aport$romantic <- replace(Aport$romantic, Aport$romantic == \"yes\", \"1\")\n",
    "Aport$romantic <- replace(Aport$romantic, Aport$romantic == \"no\", \"2\")\n",
    "\n",
    "Aport <- Aport %>% transform(school = as.numeric(school)) %>% transform(activities = as.numeric(activities)) %>%\n",
    "                   transform(internet = as.numeric(internet)) %>% transform(romantic = as.numeric(romantic)) %>%\n",
    "                    transform(studytime = as.numeric(studytime))\n",
    "\n",
    "Aport_piv <- Aport %>% pivot_longer(columns, names_to = \"Factor\", values_to = \"value\")\n",
    "Aport_piv <- Aport_piv %>% pivot_longer(columnsG, names_to = \"Gperiod\", values_to = \"grade\")\n",
    "\n",
    "head(Aport_piv)"
   ]
  },
  {
   "cell_type": "code",
   "execution_count": 41,
   "metadata": {
    "scrolled": true
   },
   "outputs": [
    {
     "data": {
      "text/html": [
       "<table>\n",
       "<caption>A tibble: 320 × 26</caption>\n",
       "<thead>\n",
       "\t<tr><th scope=col>sex</th><th scope=col>age</th><th scope=col>address</th><th scope=col>famsize</th><th scope=col>Pstatus</th><th scope=col>Medu</th><th scope=col>Fedu</th><th scope=col>Mjob</th><th scope=col>Fjob</th><th scope=col>reason</th><th scope=col>⋯</th><th scope=col>nursery</th><th scope=col>higher</th><th scope=col>famrel</th><th scope=col>freetime</th><th scope=col>health</th><th scope=col>absences</th><th scope=col>Factor</th><th scope=col>value</th><th scope=col>Gperiod</th><th scope=col>grade</th></tr>\n",
       "\t<tr><th scope=col>&lt;chr&gt;</th><th scope=col>&lt;int&gt;</th><th scope=col>&lt;chr&gt;</th><th scope=col>&lt;chr&gt;</th><th scope=col>&lt;chr&gt;</th><th scope=col>&lt;int&gt;</th><th scope=col>&lt;int&gt;</th><th scope=col>&lt;chr&gt;</th><th scope=col>&lt;chr&gt;</th><th scope=col>&lt;chr&gt;</th><th scope=col>⋯</th><th scope=col>&lt;chr&gt;</th><th scope=col>&lt;chr&gt;</th><th scope=col>&lt;int&gt;</th><th scope=col>&lt;int&gt;</th><th scope=col>&lt;int&gt;</th><th scope=col>&lt;int&gt;</th><th scope=col>&lt;chr&gt;</th><th scope=col>&lt;dbl&gt;</th><th scope=col>&lt;chr&gt;</th><th scope=col>&lt;int&gt;</th></tr>\n",
       "</thead>\n",
       "<tbody>\n",
       "\t<tr><td>M</td><td>15</td><td>U</td><td>LE3</td><td>A</td><td>3</td><td>2</td><td>services</td><td>other   </td><td>home      </td><td>⋯</td><td>yes</td><td>yes</td><td>4</td><td>2</td><td>1</td><td>0</td><td>school    </td><td>1</td><td>G3</td><td>19</td></tr>\n",
       "\t<tr><td>M</td><td>15</td><td>U</td><td>LE3</td><td>A</td><td>3</td><td>2</td><td>services</td><td>other   </td><td>home      </td><td>⋯</td><td>yes</td><td>yes</td><td>4</td><td>2</td><td>1</td><td>0</td><td>studytime </td><td>2</td><td>G3</td><td>19</td></tr>\n",
       "\t<tr><td>M</td><td>15</td><td>U</td><td>LE3</td><td>A</td><td>3</td><td>2</td><td>services</td><td>other   </td><td>home      </td><td>⋯</td><td>yes</td><td>yes</td><td>4</td><td>2</td><td>1</td><td>0</td><td>activities</td><td>2</td><td>G3</td><td>19</td></tr>\n",
       "\t<tr><td>M</td><td>15</td><td>U</td><td>LE3</td><td>A</td><td>3</td><td>2</td><td>services</td><td>other   </td><td>home      </td><td>⋯</td><td>yes</td><td>yes</td><td>4</td><td>2</td><td>1</td><td>0</td><td>internet  </td><td>1</td><td>G3</td><td>19</td></tr>\n",
       "\t<tr><td>M</td><td>15</td><td>U</td><td>LE3</td><td>A</td><td>3</td><td>2</td><td>services</td><td>other   </td><td>home      </td><td>⋯</td><td>yes</td><td>yes</td><td>4</td><td>2</td><td>1</td><td>0</td><td>romantic  </td><td>2</td><td>G3</td><td>19</td></tr>\n",
       "\t<tr><td>M</td><td>15</td><td>U</td><td>LE3</td><td>A</td><td>3</td><td>2</td><td>services</td><td>other   </td><td>home      </td><td>⋯</td><td>yes</td><td>yes</td><td>4</td><td>2</td><td>1</td><td>0</td><td>goout     </td><td>2</td><td>G3</td><td>19</td></tr>\n",
       "\t<tr><td>M</td><td>15</td><td>U</td><td>LE3</td><td>A</td><td>3</td><td>2</td><td>services</td><td>other   </td><td>home      </td><td>⋯</td><td>yes</td><td>yes</td><td>4</td><td>2</td><td>1</td><td>0</td><td>Dalc      </td><td>1</td><td>G3</td><td>19</td></tr>\n",
       "\t<tr><td>M</td><td>15</td><td>U</td><td>LE3</td><td>A</td><td>3</td><td>2</td><td>services</td><td>other   </td><td>home      </td><td>⋯</td><td>yes</td><td>yes</td><td>4</td><td>2</td><td>1</td><td>0</td><td>Walc      </td><td>1</td><td>G3</td><td>19</td></tr>\n",
       "\t<tr><td>M</td><td>15</td><td>U</td><td>GT3</td><td>A</td><td>2</td><td>2</td><td>other   </td><td>other   </td><td>home      </td><td>⋯</td><td>yes</td><td>yes</td><td>4</td><td>5</td><td>3</td><td>0</td><td>school    </td><td>1</td><td>G3</td><td>16</td></tr>\n",
       "\t<tr><td>M</td><td>15</td><td>U</td><td>GT3</td><td>A</td><td>2</td><td>2</td><td>other   </td><td>other   </td><td>home      </td><td>⋯</td><td>yes</td><td>yes</td><td>4</td><td>5</td><td>3</td><td>0</td><td>studytime </td><td>3</td><td>G3</td><td>16</td></tr>\n",
       "\t<tr><td>M</td><td>15</td><td>U</td><td>GT3</td><td>A</td><td>2</td><td>2</td><td>other   </td><td>other   </td><td>home      </td><td>⋯</td><td>yes</td><td>yes</td><td>4</td><td>5</td><td>3</td><td>0</td><td>activities</td><td>2</td><td>G3</td><td>16</td></tr>\n",
       "\t<tr><td>M</td><td>15</td><td>U</td><td>GT3</td><td>A</td><td>2</td><td>2</td><td>other   </td><td>other   </td><td>home      </td><td>⋯</td><td>yes</td><td>yes</td><td>4</td><td>5</td><td>3</td><td>0</td><td>internet  </td><td>1</td><td>G3</td><td>16</td></tr>\n",
       "\t<tr><td>M</td><td>15</td><td>U</td><td>GT3</td><td>A</td><td>2</td><td>2</td><td>other   </td><td>other   </td><td>home      </td><td>⋯</td><td>yes</td><td>yes</td><td>4</td><td>5</td><td>3</td><td>0</td><td>romantic  </td><td>1</td><td>G3</td><td>16</td></tr>\n",
       "\t<tr><td>M</td><td>15</td><td>U</td><td>GT3</td><td>A</td><td>2</td><td>2</td><td>other   </td><td>other   </td><td>home      </td><td>⋯</td><td>yes</td><td>yes</td><td>4</td><td>5</td><td>3</td><td>0</td><td>goout     </td><td>2</td><td>G3</td><td>16</td></tr>\n",
       "\t<tr><td>M</td><td>15</td><td>U</td><td>GT3</td><td>A</td><td>2</td><td>2</td><td>other   </td><td>other   </td><td>home      </td><td>⋯</td><td>yes</td><td>yes</td><td>4</td><td>5</td><td>3</td><td>0</td><td>Dalc      </td><td>1</td><td>G3</td><td>16</td></tr>\n",
       "\t<tr><td>M</td><td>15</td><td>U</td><td>GT3</td><td>A</td><td>2</td><td>2</td><td>other   </td><td>other   </td><td>home      </td><td>⋯</td><td>yes</td><td>yes</td><td>4</td><td>5</td><td>3</td><td>0</td><td>Walc      </td><td>1</td><td>G3</td><td>16</td></tr>\n",
       "\t<tr><td>M</td><td>16</td><td>U</td><td>LE3</td><td>T</td><td>4</td><td>2</td><td>teacher </td><td>other   </td><td>course    </td><td>⋯</td><td>yes</td><td>yes</td><td>4</td><td>5</td><td>5</td><td>2</td><td>school    </td><td>1</td><td>G3</td><td>16</td></tr>\n",
       "\t<tr><td>M</td><td>16</td><td>U</td><td>LE3</td><td>T</td><td>4</td><td>2</td><td>teacher </td><td>other   </td><td>course    </td><td>⋯</td><td>yes</td><td>yes</td><td>4</td><td>5</td><td>5</td><td>2</td><td>studytime </td><td>2</td><td>G3</td><td>16</td></tr>\n",
       "\t<tr><td>M</td><td>16</td><td>U</td><td>LE3</td><td>T</td><td>4</td><td>2</td><td>teacher </td><td>other   </td><td>course    </td><td>⋯</td><td>yes</td><td>yes</td><td>4</td><td>5</td><td>5</td><td>2</td><td>activities</td><td>1</td><td>G3</td><td>16</td></tr>\n",
       "\t<tr><td>M</td><td>16</td><td>U</td><td>LE3</td><td>T</td><td>4</td><td>2</td><td>teacher </td><td>other   </td><td>course    </td><td>⋯</td><td>yes</td><td>yes</td><td>4</td><td>5</td><td>5</td><td>2</td><td>internet  </td><td>1</td><td>G3</td><td>16</td></tr>\n",
       "\t<tr><td>M</td><td>16</td><td>U</td><td>LE3</td><td>T</td><td>4</td><td>2</td><td>teacher </td><td>other   </td><td>course    </td><td>⋯</td><td>yes</td><td>yes</td><td>4</td><td>5</td><td>5</td><td>2</td><td>romantic  </td><td>2</td><td>G3</td><td>16</td></tr>\n",
       "\t<tr><td>M</td><td>16</td><td>U</td><td>LE3</td><td>T</td><td>4</td><td>2</td><td>teacher </td><td>other   </td><td>course    </td><td>⋯</td><td>yes</td><td>yes</td><td>4</td><td>5</td><td>5</td><td>2</td><td>goout     </td><td>1</td><td>G3</td><td>16</td></tr>\n",
       "\t<tr><td>M</td><td>16</td><td>U</td><td>LE3</td><td>T</td><td>4</td><td>2</td><td>teacher </td><td>other   </td><td>course    </td><td>⋯</td><td>yes</td><td>yes</td><td>4</td><td>5</td><td>5</td><td>2</td><td>Dalc      </td><td>1</td><td>G3</td><td>16</td></tr>\n",
       "\t<tr><td>M</td><td>16</td><td>U</td><td>LE3</td><td>T</td><td>4</td><td>2</td><td>teacher </td><td>other   </td><td>course    </td><td>⋯</td><td>yes</td><td>yes</td><td>4</td><td>5</td><td>5</td><td>2</td><td>Walc      </td><td>3</td><td>G3</td><td>16</td></tr>\n",
       "\t<tr><td>M</td><td>15</td><td>U</td><td>GT3</td><td>T</td><td>4</td><td>4</td><td>services</td><td>services</td><td>reputation</td><td>⋯</td><td>yes</td><td>yes</td><td>4</td><td>3</td><td>5</td><td>0</td><td>school    </td><td>1</td><td>G3</td><td>17</td></tr>\n",
       "\t<tr><td>M</td><td>15</td><td>U</td><td>GT3</td><td>T</td><td>4</td><td>4</td><td>services</td><td>services</td><td>reputation</td><td>⋯</td><td>yes</td><td>yes</td><td>4</td><td>3</td><td>5</td><td>0</td><td>studytime </td><td>2</td><td>G3</td><td>17</td></tr>\n",
       "\t<tr><td>M</td><td>15</td><td>U</td><td>GT3</td><td>T</td><td>4</td><td>4</td><td>services</td><td>services</td><td>reputation</td><td>⋯</td><td>yes</td><td>yes</td><td>4</td><td>3</td><td>5</td><td>0</td><td>activities</td><td>1</td><td>G3</td><td>17</td></tr>\n",
       "\t<tr><td>M</td><td>15</td><td>U</td><td>GT3</td><td>T</td><td>4</td><td>4</td><td>services</td><td>services</td><td>reputation</td><td>⋯</td><td>yes</td><td>yes</td><td>4</td><td>3</td><td>5</td><td>0</td><td>internet  </td><td>1</td><td>G3</td><td>17</td></tr>\n",
       "\t<tr><td>M</td><td>15</td><td>U</td><td>GT3</td><td>T</td><td>4</td><td>4</td><td>services</td><td>services</td><td>reputation</td><td>⋯</td><td>yes</td><td>yes</td><td>4</td><td>3</td><td>5</td><td>0</td><td>romantic  </td><td>2</td><td>G3</td><td>17</td></tr>\n",
       "\t<tr><td>M</td><td>15</td><td>U</td><td>GT3</td><td>T</td><td>4</td><td>4</td><td>services</td><td>services</td><td>reputation</td><td>⋯</td><td>yes</td><td>yes</td><td>4</td><td>3</td><td>5</td><td>0</td><td>goout     </td><td>1</td><td>G3</td><td>17</td></tr>\n",
       "\t<tr><td>⋮</td><td>⋮</td><td>⋮</td><td>⋮</td><td>⋮</td><td>⋮</td><td>⋮</td><td>⋮</td><td>⋮</td><td>⋮</td><td>⋱</td><td>⋮</td><td>⋮</td><td>⋮</td><td>⋮</td><td>⋮</td><td>⋮</td><td>⋮</td><td>⋮</td><td>⋮</td><td>⋮</td></tr>\n",
       "\t<tr><td>M</td><td>18</td><td>R</td><td>GT3</td><td>T</td><td>4</td><td>3</td><td>teacher </td><td>services</td><td>course    </td><td>⋯</td><td>yes</td><td>yes</td><td>5</td><td>3</td><td>4</td><td>9</td><td>activities</td><td>2</td><td>G3</td><td>16</td></tr>\n",
       "\t<tr><td>M</td><td>18</td><td>R</td><td>GT3</td><td>T</td><td>4</td><td>3</td><td>teacher </td><td>services</td><td>course    </td><td>⋯</td><td>yes</td><td>yes</td><td>5</td><td>3</td><td>4</td><td>9</td><td>internet  </td><td>1</td><td>G3</td><td>16</td></tr>\n",
       "\t<tr><td>M</td><td>18</td><td>R</td><td>GT3</td><td>T</td><td>4</td><td>3</td><td>teacher </td><td>services</td><td>course    </td><td>⋯</td><td>yes</td><td>yes</td><td>5</td><td>3</td><td>4</td><td>9</td><td>romantic  </td><td>1</td><td>G3</td><td>16</td></tr>\n",
       "\t<tr><td>M</td><td>18</td><td>R</td><td>GT3</td><td>T</td><td>4</td><td>3</td><td>teacher </td><td>services</td><td>course    </td><td>⋯</td><td>yes</td><td>yes</td><td>5</td><td>3</td><td>4</td><td>9</td><td>goout     </td><td>2</td><td>G3</td><td>16</td></tr>\n",
       "\t<tr><td>M</td><td>18</td><td>R</td><td>GT3</td><td>T</td><td>4</td><td>3</td><td>teacher </td><td>services</td><td>course    </td><td>⋯</td><td>yes</td><td>yes</td><td>5</td><td>3</td><td>4</td><td>9</td><td>Dalc      </td><td>1</td><td>G3</td><td>16</td></tr>\n",
       "\t<tr><td>M</td><td>18</td><td>R</td><td>GT3</td><td>T</td><td>4</td><td>3</td><td>teacher </td><td>services</td><td>course    </td><td>⋯</td><td>yes</td><td>yes</td><td>5</td><td>3</td><td>4</td><td>9</td><td>Walc      </td><td>2</td><td>G3</td><td>16</td></tr>\n",
       "\t<tr><td>F</td><td>18</td><td>U</td><td>LE3</td><td>T</td><td>1</td><td>1</td><td>at_home </td><td>services</td><td>course    </td><td>⋯</td><td>yes</td><td>yes</td><td>5</td><td>3</td><td>4</td><td>0</td><td>school    </td><td>2</td><td>G3</td><td>16</td></tr>\n",
       "\t<tr><td>F</td><td>18</td><td>U</td><td>LE3</td><td>T</td><td>1</td><td>1</td><td>at_home </td><td>services</td><td>course    </td><td>⋯</td><td>yes</td><td>yes</td><td>5</td><td>3</td><td>4</td><td>0</td><td>studytime </td><td>3</td><td>G3</td><td>16</td></tr>\n",
       "\t<tr><td>F</td><td>18</td><td>U</td><td>LE3</td><td>T</td><td>1</td><td>1</td><td>at_home </td><td>services</td><td>course    </td><td>⋯</td><td>yes</td><td>yes</td><td>5</td><td>3</td><td>4</td><td>0</td><td>activities</td><td>2</td><td>G3</td><td>16</td></tr>\n",
       "\t<tr><td>F</td><td>18</td><td>U</td><td>LE3</td><td>T</td><td>1</td><td>1</td><td>at_home </td><td>services</td><td>course    </td><td>⋯</td><td>yes</td><td>yes</td><td>5</td><td>3</td><td>4</td><td>0</td><td>internet  </td><td>1</td><td>G3</td><td>16</td></tr>\n",
       "\t<tr><td>F</td><td>18</td><td>U</td><td>LE3</td><td>T</td><td>1</td><td>1</td><td>at_home </td><td>services</td><td>course    </td><td>⋯</td><td>yes</td><td>yes</td><td>5</td><td>3</td><td>4</td><td>0</td><td>romantic  </td><td>2</td><td>G3</td><td>16</td></tr>\n",
       "\t<tr><td>F</td><td>18</td><td>U</td><td>LE3</td><td>T</td><td>1</td><td>1</td><td>at_home </td><td>services</td><td>course    </td><td>⋯</td><td>yes</td><td>yes</td><td>5</td><td>3</td><td>4</td><td>0</td><td>goout     </td><td>2</td><td>G3</td><td>16</td></tr>\n",
       "\t<tr><td>F</td><td>18</td><td>U</td><td>LE3</td><td>T</td><td>1</td><td>1</td><td>at_home </td><td>services</td><td>course    </td><td>⋯</td><td>yes</td><td>yes</td><td>5</td><td>3</td><td>4</td><td>0</td><td>Dalc      </td><td>1</td><td>G3</td><td>16</td></tr>\n",
       "\t<tr><td>F</td><td>18</td><td>U</td><td>LE3</td><td>T</td><td>1</td><td>1</td><td>at_home </td><td>services</td><td>course    </td><td>⋯</td><td>yes</td><td>yes</td><td>5</td><td>3</td><td>4</td><td>0</td><td>Walc      </td><td>1</td><td>G3</td><td>16</td></tr>\n",
       "\t<tr><td>F</td><td>18</td><td>R</td><td>LE3</td><td>T</td><td>4</td><td>4</td><td>other   </td><td>other   </td><td>reputation</td><td>⋯</td><td>yes</td><td>yes</td><td>5</td><td>4</td><td>1</td><td>0</td><td>school    </td><td>2</td><td>G3</td><td>19</td></tr>\n",
       "\t<tr><td>F</td><td>18</td><td>R</td><td>LE3</td><td>T</td><td>4</td><td>4</td><td>other   </td><td>other   </td><td>reputation</td><td>⋯</td><td>yes</td><td>yes</td><td>5</td><td>4</td><td>1</td><td>0</td><td>studytime </td><td>3</td><td>G3</td><td>19</td></tr>\n",
       "\t<tr><td>F</td><td>18</td><td>R</td><td>LE3</td><td>T</td><td>4</td><td>4</td><td>other   </td><td>other   </td><td>reputation</td><td>⋯</td><td>yes</td><td>yes</td><td>5</td><td>4</td><td>1</td><td>0</td><td>activities</td><td>2</td><td>G3</td><td>19</td></tr>\n",
       "\t<tr><td>F</td><td>18</td><td>R</td><td>LE3</td><td>T</td><td>4</td><td>4</td><td>other   </td><td>other   </td><td>reputation</td><td>⋯</td><td>yes</td><td>yes</td><td>5</td><td>4</td><td>1</td><td>0</td><td>internet  </td><td>1</td><td>G3</td><td>19</td></tr>\n",
       "\t<tr><td>F</td><td>18</td><td>R</td><td>LE3</td><td>T</td><td>4</td><td>4</td><td>other   </td><td>other   </td><td>reputation</td><td>⋯</td><td>yes</td><td>yes</td><td>5</td><td>4</td><td>1</td><td>0</td><td>romantic  </td><td>2</td><td>G3</td><td>19</td></tr>\n",
       "\t<tr><td>F</td><td>18</td><td>R</td><td>LE3</td><td>T</td><td>4</td><td>4</td><td>other   </td><td>other   </td><td>reputation</td><td>⋯</td><td>yes</td><td>yes</td><td>5</td><td>4</td><td>1</td><td>0</td><td>goout     </td><td>4</td><td>G3</td><td>19</td></tr>\n",
       "\t<tr><td>F</td><td>18</td><td>R</td><td>LE3</td><td>T</td><td>4</td><td>4</td><td>other   </td><td>other   </td><td>reputation</td><td>⋯</td><td>yes</td><td>yes</td><td>5</td><td>4</td><td>1</td><td>0</td><td>Dalc      </td><td>1</td><td>G3</td><td>19</td></tr>\n",
       "\t<tr><td>F</td><td>18</td><td>R</td><td>LE3</td><td>T</td><td>4</td><td>4</td><td>other   </td><td>other   </td><td>reputation</td><td>⋯</td><td>yes</td><td>yes</td><td>5</td><td>4</td><td>1</td><td>0</td><td>Walc      </td><td>1</td><td>G3</td><td>19</td></tr>\n",
       "\t<tr><td>M</td><td>17</td><td>U</td><td>LE3</td><td>T</td><td>3</td><td>1</td><td>services</td><td>services</td><td>course    </td><td>⋯</td><td>no </td><td>yes</td><td>2</td><td>4</td><td>2</td><td>3</td><td>school    </td><td>2</td><td>G3</td><td>16</td></tr>\n",
       "\t<tr><td>M</td><td>17</td><td>U</td><td>LE3</td><td>T</td><td>3</td><td>1</td><td>services</td><td>services</td><td>course    </td><td>⋯</td><td>no </td><td>yes</td><td>2</td><td>4</td><td>2</td><td>3</td><td>studytime </td><td>1</td><td>G3</td><td>16</td></tr>\n",
       "\t<tr><td>M</td><td>17</td><td>U</td><td>LE3</td><td>T</td><td>3</td><td>1</td><td>services</td><td>services</td><td>course    </td><td>⋯</td><td>no </td><td>yes</td><td>2</td><td>4</td><td>2</td><td>3</td><td>activities</td><td>2</td><td>G3</td><td>16</td></tr>\n",
       "\t<tr><td>M</td><td>17</td><td>U</td><td>LE3</td><td>T</td><td>3</td><td>1</td><td>services</td><td>services</td><td>course    </td><td>⋯</td><td>no </td><td>yes</td><td>2</td><td>4</td><td>2</td><td>3</td><td>internet  </td><td>1</td><td>G3</td><td>16</td></tr>\n",
       "\t<tr><td>M</td><td>17</td><td>U</td><td>LE3</td><td>T</td><td>3</td><td>1</td><td>services</td><td>services</td><td>course    </td><td>⋯</td><td>no </td><td>yes</td><td>2</td><td>4</td><td>2</td><td>3</td><td>romantic  </td><td>2</td><td>G3</td><td>16</td></tr>\n",
       "\t<tr><td>M</td><td>17</td><td>U</td><td>LE3</td><td>T</td><td>3</td><td>1</td><td>services</td><td>services</td><td>course    </td><td>⋯</td><td>no </td><td>yes</td><td>2</td><td>4</td><td>2</td><td>3</td><td>goout     </td><td>5</td><td>G3</td><td>16</td></tr>\n",
       "\t<tr><td>M</td><td>17</td><td>U</td><td>LE3</td><td>T</td><td>3</td><td>1</td><td>services</td><td>services</td><td>course    </td><td>⋯</td><td>no </td><td>yes</td><td>2</td><td>4</td><td>2</td><td>3</td><td>Dalc      </td><td>3</td><td>G3</td><td>16</td></tr>\n",
       "\t<tr><td>M</td><td>17</td><td>U</td><td>LE3</td><td>T</td><td>3</td><td>1</td><td>services</td><td>services</td><td>course    </td><td>⋯</td><td>no </td><td>yes</td><td>2</td><td>4</td><td>2</td><td>3</td><td>Walc      </td><td>4</td><td>G3</td><td>16</td></tr>\n",
       "</tbody>\n",
       "</table>\n"
      ],
      "text/latex": [
       "A tibble: 320 × 26\n",
       "\\begin{tabular}{r|llllllllllllllllllllllllll}\n",
       " sex & age & address & famsize & Pstatus & Medu & Fedu & Mjob & Fjob & reason & guardian & traveltime & failures & schoolsup & famsup & paid & nursery & higher & famrel & freetime & health & absences & Factor & value & Gperiod & grade\\\\\n",
       " <chr> & <int> & <chr> & <chr> & <chr> & <int> & <int> & <chr> & <chr> & <chr> & <chr> & <int> & <int> & <chr> & <chr> & <chr> & <chr> & <chr> & <int> & <int> & <int> & <int> & <chr> & <dbl> & <chr> & <int>\\\\\n",
       "\\hline\n",
       "\t M & 15 & U & LE3 & A & 3 & 2 & services & other    & home       & mother & 1 & 0 & no & yes & yes & yes & yes & 4 & 2 & 1 & 0 & school     & 1 & G3 & 19\\\\\n",
       "\t M & 15 & U & LE3 & A & 3 & 2 & services & other    & home       & mother & 1 & 0 & no & yes & yes & yes & yes & 4 & 2 & 1 & 0 & studytime  & 2 & G3 & 19\\\\\n",
       "\t M & 15 & U & LE3 & A & 3 & 2 & services & other    & home       & mother & 1 & 0 & no & yes & yes & yes & yes & 4 & 2 & 1 & 0 & activities & 2 & G3 & 19\\\\\n",
       "\t M & 15 & U & LE3 & A & 3 & 2 & services & other    & home       & mother & 1 & 0 & no & yes & yes & yes & yes & 4 & 2 & 1 & 0 & internet   & 1 & G3 & 19\\\\\n",
       "\t M & 15 & U & LE3 & A & 3 & 2 & services & other    & home       & mother & 1 & 0 & no & yes & yes & yes & yes & 4 & 2 & 1 & 0 & romantic   & 2 & G3 & 19\\\\\n",
       "\t M & 15 & U & LE3 & A & 3 & 2 & services & other    & home       & mother & 1 & 0 & no & yes & yes & yes & yes & 4 & 2 & 1 & 0 & goout      & 2 & G3 & 19\\\\\n",
       "\t M & 15 & U & LE3 & A & 3 & 2 & services & other    & home       & mother & 1 & 0 & no & yes & yes & yes & yes & 4 & 2 & 1 & 0 & Dalc       & 1 & G3 & 19\\\\\n",
       "\t M & 15 & U & LE3 & A & 3 & 2 & services & other    & home       & mother & 1 & 0 & no & yes & yes & yes & yes & 4 & 2 & 1 & 0 & Walc       & 1 & G3 & 19\\\\\n",
       "\t M & 15 & U & GT3 & A & 2 & 2 & other    & other    & home       & other  & 1 & 0 & no & yes & no  & yes & yes & 4 & 5 & 3 & 0 & school     & 1 & G3 & 16\\\\\n",
       "\t M & 15 & U & GT3 & A & 2 & 2 & other    & other    & home       & other  & 1 & 0 & no & yes & no  & yes & yes & 4 & 5 & 3 & 0 & studytime  & 3 & G3 & 16\\\\\n",
       "\t M & 15 & U & GT3 & A & 2 & 2 & other    & other    & home       & other  & 1 & 0 & no & yes & no  & yes & yes & 4 & 5 & 3 & 0 & activities & 2 & G3 & 16\\\\\n",
       "\t M & 15 & U & GT3 & A & 2 & 2 & other    & other    & home       & other  & 1 & 0 & no & yes & no  & yes & yes & 4 & 5 & 3 & 0 & internet   & 1 & G3 & 16\\\\\n",
       "\t M & 15 & U & GT3 & A & 2 & 2 & other    & other    & home       & other  & 1 & 0 & no & yes & no  & yes & yes & 4 & 5 & 3 & 0 & romantic   & 1 & G3 & 16\\\\\n",
       "\t M & 15 & U & GT3 & A & 2 & 2 & other    & other    & home       & other  & 1 & 0 & no & yes & no  & yes & yes & 4 & 5 & 3 & 0 & goout      & 2 & G3 & 16\\\\\n",
       "\t M & 15 & U & GT3 & A & 2 & 2 & other    & other    & home       & other  & 1 & 0 & no & yes & no  & yes & yes & 4 & 5 & 3 & 0 & Dalc       & 1 & G3 & 16\\\\\n",
       "\t M & 15 & U & GT3 & A & 2 & 2 & other    & other    & home       & other  & 1 & 0 & no & yes & no  & yes & yes & 4 & 5 & 3 & 0 & Walc       & 1 & G3 & 16\\\\\n",
       "\t M & 16 & U & LE3 & T & 4 & 2 & teacher  & other    & course     & mother & 1 & 0 & no & no  & no  & yes & yes & 4 & 5 & 5 & 2 & school     & 1 & G3 & 16\\\\\n",
       "\t M & 16 & U & LE3 & T & 4 & 2 & teacher  & other    & course     & mother & 1 & 0 & no & no  & no  & yes & yes & 4 & 5 & 5 & 2 & studytime  & 2 & G3 & 16\\\\\n",
       "\t M & 16 & U & LE3 & T & 4 & 2 & teacher  & other    & course     & mother & 1 & 0 & no & no  & no  & yes & yes & 4 & 5 & 5 & 2 & activities & 1 & G3 & 16\\\\\n",
       "\t M & 16 & U & LE3 & T & 4 & 2 & teacher  & other    & course     & mother & 1 & 0 & no & no  & no  & yes & yes & 4 & 5 & 5 & 2 & internet   & 1 & G3 & 16\\\\\n",
       "\t M & 16 & U & LE3 & T & 4 & 2 & teacher  & other    & course     & mother & 1 & 0 & no & no  & no  & yes & yes & 4 & 5 & 5 & 2 & romantic   & 2 & G3 & 16\\\\\n",
       "\t M & 16 & U & LE3 & T & 4 & 2 & teacher  & other    & course     & mother & 1 & 0 & no & no  & no  & yes & yes & 4 & 5 & 5 & 2 & goout      & 1 & G3 & 16\\\\\n",
       "\t M & 16 & U & LE3 & T & 4 & 2 & teacher  & other    & course     & mother & 1 & 0 & no & no  & no  & yes & yes & 4 & 5 & 5 & 2 & Dalc       & 1 & G3 & 16\\\\\n",
       "\t M & 16 & U & LE3 & T & 4 & 2 & teacher  & other    & course     & mother & 1 & 0 & no & no  & no  & yes & yes & 4 & 5 & 5 & 2 & Walc       & 3 & G3 & 16\\\\\n",
       "\t M & 15 & U & GT3 & T & 4 & 4 & services & services & reputation & mother & 2 & 0 & no & yes & no  & yes & yes & 4 & 3 & 5 & 0 & school     & 1 & G3 & 17\\\\\n",
       "\t M & 15 & U & GT3 & T & 4 & 4 & services & services & reputation & mother & 2 & 0 & no & yes & no  & yes & yes & 4 & 3 & 5 & 0 & studytime  & 2 & G3 & 17\\\\\n",
       "\t M & 15 & U & GT3 & T & 4 & 4 & services & services & reputation & mother & 2 & 0 & no & yes & no  & yes & yes & 4 & 3 & 5 & 0 & activities & 1 & G3 & 17\\\\\n",
       "\t M & 15 & U & GT3 & T & 4 & 4 & services & services & reputation & mother & 2 & 0 & no & yes & no  & yes & yes & 4 & 3 & 5 & 0 & internet   & 1 & G3 & 17\\\\\n",
       "\t M & 15 & U & GT3 & T & 4 & 4 & services & services & reputation & mother & 2 & 0 & no & yes & no  & yes & yes & 4 & 3 & 5 & 0 & romantic   & 2 & G3 & 17\\\\\n",
       "\t M & 15 & U & GT3 & T & 4 & 4 & services & services & reputation & mother & 2 & 0 & no & yes & no  & yes & yes & 4 & 3 & 5 & 0 & goout      & 1 & G3 & 17\\\\\n",
       "\t ⋮ & ⋮ & ⋮ & ⋮ & ⋮ & ⋮ & ⋮ & ⋮ & ⋮ & ⋮ & ⋮ & ⋮ & ⋮ & ⋮ & ⋮ & ⋮ & ⋮ & ⋮ & ⋮ & ⋮ & ⋮ & ⋮ & ⋮ & ⋮ & ⋮ & ⋮\\\\\n",
       "\t M & 18 & R & GT3 & T & 4 & 3 & teacher  & services & course     & mother & 1 & 0 & no & no & no & yes & yes & 5 & 3 & 4 & 9 & activities & 2 & G3 & 16\\\\\n",
       "\t M & 18 & R & GT3 & T & 4 & 3 & teacher  & services & course     & mother & 1 & 0 & no & no & no & yes & yes & 5 & 3 & 4 & 9 & internet   & 1 & G3 & 16\\\\\n",
       "\t M & 18 & R & GT3 & T & 4 & 3 & teacher  & services & course     & mother & 1 & 0 & no & no & no & yes & yes & 5 & 3 & 4 & 9 & romantic   & 1 & G3 & 16\\\\\n",
       "\t M & 18 & R & GT3 & T & 4 & 3 & teacher  & services & course     & mother & 1 & 0 & no & no & no & yes & yes & 5 & 3 & 4 & 9 & goout      & 2 & G3 & 16\\\\\n",
       "\t M & 18 & R & GT3 & T & 4 & 3 & teacher  & services & course     & mother & 1 & 0 & no & no & no & yes & yes & 5 & 3 & 4 & 9 & Dalc       & 1 & G3 & 16\\\\\n",
       "\t M & 18 & R & GT3 & T & 4 & 3 & teacher  & services & course     & mother & 1 & 0 & no & no & no & yes & yes & 5 & 3 & 4 & 9 & Walc       & 2 & G3 & 16\\\\\n",
       "\t F & 18 & U & LE3 & T & 1 & 1 & at\\_home  & services & course     & father & 2 & 0 & no & no & no & yes & yes & 5 & 3 & 4 & 0 & school     & 2 & G3 & 16\\\\\n",
       "\t F & 18 & U & LE3 & T & 1 & 1 & at\\_home  & services & course     & father & 2 & 0 & no & no & no & yes & yes & 5 & 3 & 4 & 0 & studytime  & 3 & G3 & 16\\\\\n",
       "\t F & 18 & U & LE3 & T & 1 & 1 & at\\_home  & services & course     & father & 2 & 0 & no & no & no & yes & yes & 5 & 3 & 4 & 0 & activities & 2 & G3 & 16\\\\\n",
       "\t F & 18 & U & LE3 & T & 1 & 1 & at\\_home  & services & course     & father & 2 & 0 & no & no & no & yes & yes & 5 & 3 & 4 & 0 & internet   & 1 & G3 & 16\\\\\n",
       "\t F & 18 & U & LE3 & T & 1 & 1 & at\\_home  & services & course     & father & 2 & 0 & no & no & no & yes & yes & 5 & 3 & 4 & 0 & romantic   & 2 & G3 & 16\\\\\n",
       "\t F & 18 & U & LE3 & T & 1 & 1 & at\\_home  & services & course     & father & 2 & 0 & no & no & no & yes & yes & 5 & 3 & 4 & 0 & goout      & 2 & G3 & 16\\\\\n",
       "\t F & 18 & U & LE3 & T & 1 & 1 & at\\_home  & services & course     & father & 2 & 0 & no & no & no & yes & yes & 5 & 3 & 4 & 0 & Dalc       & 1 & G3 & 16\\\\\n",
       "\t F & 18 & U & LE3 & T & 1 & 1 & at\\_home  & services & course     & father & 2 & 0 & no & no & no & yes & yes & 5 & 3 & 4 & 0 & Walc       & 1 & G3 & 16\\\\\n",
       "\t F & 18 & R & LE3 & T & 4 & 4 & other    & other    & reputation & mother & 2 & 0 & no & no & no & yes & yes & 5 & 4 & 1 & 0 & school     & 2 & G3 & 19\\\\\n",
       "\t F & 18 & R & LE3 & T & 4 & 4 & other    & other    & reputation & mother & 2 & 0 & no & no & no & yes & yes & 5 & 4 & 1 & 0 & studytime  & 3 & G3 & 19\\\\\n",
       "\t F & 18 & R & LE3 & T & 4 & 4 & other    & other    & reputation & mother & 2 & 0 & no & no & no & yes & yes & 5 & 4 & 1 & 0 & activities & 2 & G3 & 19\\\\\n",
       "\t F & 18 & R & LE3 & T & 4 & 4 & other    & other    & reputation & mother & 2 & 0 & no & no & no & yes & yes & 5 & 4 & 1 & 0 & internet   & 1 & G3 & 19\\\\\n",
       "\t F & 18 & R & LE3 & T & 4 & 4 & other    & other    & reputation & mother & 2 & 0 & no & no & no & yes & yes & 5 & 4 & 1 & 0 & romantic   & 2 & G3 & 19\\\\\n",
       "\t F & 18 & R & LE3 & T & 4 & 4 & other    & other    & reputation & mother & 2 & 0 & no & no & no & yes & yes & 5 & 4 & 1 & 0 & goout      & 4 & G3 & 19\\\\\n",
       "\t F & 18 & R & LE3 & T & 4 & 4 & other    & other    & reputation & mother & 2 & 0 & no & no & no & yes & yes & 5 & 4 & 1 & 0 & Dalc       & 1 & G3 & 19\\\\\n",
       "\t F & 18 & R & LE3 & T & 4 & 4 & other    & other    & reputation & mother & 2 & 0 & no & no & no & yes & yes & 5 & 4 & 1 & 0 & Walc       & 1 & G3 & 19\\\\\n",
       "\t M & 17 & U & LE3 & T & 3 & 1 & services & services & course     & mother & 2 & 0 & no & no & no & no  & yes & 2 & 4 & 2 & 3 & school     & 2 & G3 & 16\\\\\n",
       "\t M & 17 & U & LE3 & T & 3 & 1 & services & services & course     & mother & 2 & 0 & no & no & no & no  & yes & 2 & 4 & 2 & 3 & studytime  & 1 & G3 & 16\\\\\n",
       "\t M & 17 & U & LE3 & T & 3 & 1 & services & services & course     & mother & 2 & 0 & no & no & no & no  & yes & 2 & 4 & 2 & 3 & activities & 2 & G3 & 16\\\\\n",
       "\t M & 17 & U & LE3 & T & 3 & 1 & services & services & course     & mother & 2 & 0 & no & no & no & no  & yes & 2 & 4 & 2 & 3 & internet   & 1 & G3 & 16\\\\\n",
       "\t M & 17 & U & LE3 & T & 3 & 1 & services & services & course     & mother & 2 & 0 & no & no & no & no  & yes & 2 & 4 & 2 & 3 & romantic   & 2 & G3 & 16\\\\\n",
       "\t M & 17 & U & LE3 & T & 3 & 1 & services & services & course     & mother & 2 & 0 & no & no & no & no  & yes & 2 & 4 & 2 & 3 & goout      & 5 & G3 & 16\\\\\n",
       "\t M & 17 & U & LE3 & T & 3 & 1 & services & services & course     & mother & 2 & 0 & no & no & no & no  & yes & 2 & 4 & 2 & 3 & Dalc       & 3 & G3 & 16\\\\\n",
       "\t M & 17 & U & LE3 & T & 3 & 1 & services & services & course     & mother & 2 & 0 & no & no & no & no  & yes & 2 & 4 & 2 & 3 & Walc       & 4 & G3 & 16\\\\\n",
       "\\end{tabular}\n"
      ],
      "text/markdown": [
       "\n",
       "A tibble: 320 × 26\n",
       "\n",
       "| sex &lt;chr&gt; | age &lt;int&gt; | address &lt;chr&gt; | famsize &lt;chr&gt; | Pstatus &lt;chr&gt; | Medu &lt;int&gt; | Fedu &lt;int&gt; | Mjob &lt;chr&gt; | Fjob &lt;chr&gt; | reason &lt;chr&gt; | ⋯ ⋯ | nursery &lt;chr&gt; | higher &lt;chr&gt; | famrel &lt;int&gt; | freetime &lt;int&gt; | health &lt;int&gt; | absences &lt;int&gt; | Factor &lt;chr&gt; | value &lt;dbl&gt; | Gperiod &lt;chr&gt; | grade &lt;int&gt; |\n",
       "|---|---|---|---|---|---|---|---|---|---|---|---|---|---|---|---|---|---|---|---|---|\n",
       "| M | 15 | U | LE3 | A | 3 | 2 | services | other    | home       | ⋯ | yes | yes | 4 | 2 | 1 | 0 | school     | 1 | G3 | 19 |\n",
       "| M | 15 | U | LE3 | A | 3 | 2 | services | other    | home       | ⋯ | yes | yes | 4 | 2 | 1 | 0 | studytime  | 2 | G3 | 19 |\n",
       "| M | 15 | U | LE3 | A | 3 | 2 | services | other    | home       | ⋯ | yes | yes | 4 | 2 | 1 | 0 | activities | 2 | G3 | 19 |\n",
       "| M | 15 | U | LE3 | A | 3 | 2 | services | other    | home       | ⋯ | yes | yes | 4 | 2 | 1 | 0 | internet   | 1 | G3 | 19 |\n",
       "| M | 15 | U | LE3 | A | 3 | 2 | services | other    | home       | ⋯ | yes | yes | 4 | 2 | 1 | 0 | romantic   | 2 | G3 | 19 |\n",
       "| M | 15 | U | LE3 | A | 3 | 2 | services | other    | home       | ⋯ | yes | yes | 4 | 2 | 1 | 0 | goout      | 2 | G3 | 19 |\n",
       "| M | 15 | U | LE3 | A | 3 | 2 | services | other    | home       | ⋯ | yes | yes | 4 | 2 | 1 | 0 | Dalc       | 1 | G3 | 19 |\n",
       "| M | 15 | U | LE3 | A | 3 | 2 | services | other    | home       | ⋯ | yes | yes | 4 | 2 | 1 | 0 | Walc       | 1 | G3 | 19 |\n",
       "| M | 15 | U | GT3 | A | 2 | 2 | other    | other    | home       | ⋯ | yes | yes | 4 | 5 | 3 | 0 | school     | 1 | G3 | 16 |\n",
       "| M | 15 | U | GT3 | A | 2 | 2 | other    | other    | home       | ⋯ | yes | yes | 4 | 5 | 3 | 0 | studytime  | 3 | G3 | 16 |\n",
       "| M | 15 | U | GT3 | A | 2 | 2 | other    | other    | home       | ⋯ | yes | yes | 4 | 5 | 3 | 0 | activities | 2 | G3 | 16 |\n",
       "| M | 15 | U | GT3 | A | 2 | 2 | other    | other    | home       | ⋯ | yes | yes | 4 | 5 | 3 | 0 | internet   | 1 | G3 | 16 |\n",
       "| M | 15 | U | GT3 | A | 2 | 2 | other    | other    | home       | ⋯ | yes | yes | 4 | 5 | 3 | 0 | romantic   | 1 | G3 | 16 |\n",
       "| M | 15 | U | GT3 | A | 2 | 2 | other    | other    | home       | ⋯ | yes | yes | 4 | 5 | 3 | 0 | goout      | 2 | G3 | 16 |\n",
       "| M | 15 | U | GT3 | A | 2 | 2 | other    | other    | home       | ⋯ | yes | yes | 4 | 5 | 3 | 0 | Dalc       | 1 | G3 | 16 |\n",
       "| M | 15 | U | GT3 | A | 2 | 2 | other    | other    | home       | ⋯ | yes | yes | 4 | 5 | 3 | 0 | Walc       | 1 | G3 | 16 |\n",
       "| M | 16 | U | LE3 | T | 4 | 2 | teacher  | other    | course     | ⋯ | yes | yes | 4 | 5 | 5 | 2 | school     | 1 | G3 | 16 |\n",
       "| M | 16 | U | LE3 | T | 4 | 2 | teacher  | other    | course     | ⋯ | yes | yes | 4 | 5 | 5 | 2 | studytime  | 2 | G3 | 16 |\n",
       "| M | 16 | U | LE3 | T | 4 | 2 | teacher  | other    | course     | ⋯ | yes | yes | 4 | 5 | 5 | 2 | activities | 1 | G3 | 16 |\n",
       "| M | 16 | U | LE3 | T | 4 | 2 | teacher  | other    | course     | ⋯ | yes | yes | 4 | 5 | 5 | 2 | internet   | 1 | G3 | 16 |\n",
       "| M | 16 | U | LE3 | T | 4 | 2 | teacher  | other    | course     | ⋯ | yes | yes | 4 | 5 | 5 | 2 | romantic   | 2 | G3 | 16 |\n",
       "| M | 16 | U | LE3 | T | 4 | 2 | teacher  | other    | course     | ⋯ | yes | yes | 4 | 5 | 5 | 2 | goout      | 1 | G3 | 16 |\n",
       "| M | 16 | U | LE3 | T | 4 | 2 | teacher  | other    | course     | ⋯ | yes | yes | 4 | 5 | 5 | 2 | Dalc       | 1 | G3 | 16 |\n",
       "| M | 16 | U | LE3 | T | 4 | 2 | teacher  | other    | course     | ⋯ | yes | yes | 4 | 5 | 5 | 2 | Walc       | 3 | G3 | 16 |\n",
       "| M | 15 | U | GT3 | T | 4 | 4 | services | services | reputation | ⋯ | yes | yes | 4 | 3 | 5 | 0 | school     | 1 | G3 | 17 |\n",
       "| M | 15 | U | GT3 | T | 4 | 4 | services | services | reputation | ⋯ | yes | yes | 4 | 3 | 5 | 0 | studytime  | 2 | G3 | 17 |\n",
       "| M | 15 | U | GT3 | T | 4 | 4 | services | services | reputation | ⋯ | yes | yes | 4 | 3 | 5 | 0 | activities | 1 | G3 | 17 |\n",
       "| M | 15 | U | GT3 | T | 4 | 4 | services | services | reputation | ⋯ | yes | yes | 4 | 3 | 5 | 0 | internet   | 1 | G3 | 17 |\n",
       "| M | 15 | U | GT3 | T | 4 | 4 | services | services | reputation | ⋯ | yes | yes | 4 | 3 | 5 | 0 | romantic   | 2 | G3 | 17 |\n",
       "| M | 15 | U | GT3 | T | 4 | 4 | services | services | reputation | ⋯ | yes | yes | 4 | 3 | 5 | 0 | goout      | 1 | G3 | 17 |\n",
       "| ⋮ | ⋮ | ⋮ | ⋮ | ⋮ | ⋮ | ⋮ | ⋮ | ⋮ | ⋮ | ⋱ | ⋮ | ⋮ | ⋮ | ⋮ | ⋮ | ⋮ | ⋮ | ⋮ | ⋮ | ⋮ |\n",
       "| M | 18 | R | GT3 | T | 4 | 3 | teacher  | services | course     | ⋯ | yes | yes | 5 | 3 | 4 | 9 | activities | 2 | G3 | 16 |\n",
       "| M | 18 | R | GT3 | T | 4 | 3 | teacher  | services | course     | ⋯ | yes | yes | 5 | 3 | 4 | 9 | internet   | 1 | G3 | 16 |\n",
       "| M | 18 | R | GT3 | T | 4 | 3 | teacher  | services | course     | ⋯ | yes | yes | 5 | 3 | 4 | 9 | romantic   | 1 | G3 | 16 |\n",
       "| M | 18 | R | GT3 | T | 4 | 3 | teacher  | services | course     | ⋯ | yes | yes | 5 | 3 | 4 | 9 | goout      | 2 | G3 | 16 |\n",
       "| M | 18 | R | GT3 | T | 4 | 3 | teacher  | services | course     | ⋯ | yes | yes | 5 | 3 | 4 | 9 | Dalc       | 1 | G3 | 16 |\n",
       "| M | 18 | R | GT3 | T | 4 | 3 | teacher  | services | course     | ⋯ | yes | yes | 5 | 3 | 4 | 9 | Walc       | 2 | G3 | 16 |\n",
       "| F | 18 | U | LE3 | T | 1 | 1 | at_home  | services | course     | ⋯ | yes | yes | 5 | 3 | 4 | 0 | school     | 2 | G3 | 16 |\n",
       "| F | 18 | U | LE3 | T | 1 | 1 | at_home  | services | course     | ⋯ | yes | yes | 5 | 3 | 4 | 0 | studytime  | 3 | G3 | 16 |\n",
       "| F | 18 | U | LE3 | T | 1 | 1 | at_home  | services | course     | ⋯ | yes | yes | 5 | 3 | 4 | 0 | activities | 2 | G3 | 16 |\n",
       "| F | 18 | U | LE3 | T | 1 | 1 | at_home  | services | course     | ⋯ | yes | yes | 5 | 3 | 4 | 0 | internet   | 1 | G3 | 16 |\n",
       "| F | 18 | U | LE3 | T | 1 | 1 | at_home  | services | course     | ⋯ | yes | yes | 5 | 3 | 4 | 0 | romantic   | 2 | G3 | 16 |\n",
       "| F | 18 | U | LE3 | T | 1 | 1 | at_home  | services | course     | ⋯ | yes | yes | 5 | 3 | 4 | 0 | goout      | 2 | G3 | 16 |\n",
       "| F | 18 | U | LE3 | T | 1 | 1 | at_home  | services | course     | ⋯ | yes | yes | 5 | 3 | 4 | 0 | Dalc       | 1 | G3 | 16 |\n",
       "| F | 18 | U | LE3 | T | 1 | 1 | at_home  | services | course     | ⋯ | yes | yes | 5 | 3 | 4 | 0 | Walc       | 1 | G3 | 16 |\n",
       "| F | 18 | R | LE3 | T | 4 | 4 | other    | other    | reputation | ⋯ | yes | yes | 5 | 4 | 1 | 0 | school     | 2 | G3 | 19 |\n",
       "| F | 18 | R | LE3 | T | 4 | 4 | other    | other    | reputation | ⋯ | yes | yes | 5 | 4 | 1 | 0 | studytime  | 3 | G3 | 19 |\n",
       "| F | 18 | R | LE3 | T | 4 | 4 | other    | other    | reputation | ⋯ | yes | yes | 5 | 4 | 1 | 0 | activities | 2 | G3 | 19 |\n",
       "| F | 18 | R | LE3 | T | 4 | 4 | other    | other    | reputation | ⋯ | yes | yes | 5 | 4 | 1 | 0 | internet   | 1 | G3 | 19 |\n",
       "| F | 18 | R | LE3 | T | 4 | 4 | other    | other    | reputation | ⋯ | yes | yes | 5 | 4 | 1 | 0 | romantic   | 2 | G3 | 19 |\n",
       "| F | 18 | R | LE3 | T | 4 | 4 | other    | other    | reputation | ⋯ | yes | yes | 5 | 4 | 1 | 0 | goout      | 4 | G3 | 19 |\n",
       "| F | 18 | R | LE3 | T | 4 | 4 | other    | other    | reputation | ⋯ | yes | yes | 5 | 4 | 1 | 0 | Dalc       | 1 | G3 | 19 |\n",
       "| F | 18 | R | LE3 | T | 4 | 4 | other    | other    | reputation | ⋯ | yes | yes | 5 | 4 | 1 | 0 | Walc       | 1 | G3 | 19 |\n",
       "| M | 17 | U | LE3 | T | 3 | 1 | services | services | course     | ⋯ | no  | yes | 2 | 4 | 2 | 3 | school     | 2 | G3 | 16 |\n",
       "| M | 17 | U | LE3 | T | 3 | 1 | services | services | course     | ⋯ | no  | yes | 2 | 4 | 2 | 3 | studytime  | 1 | G3 | 16 |\n",
       "| M | 17 | U | LE3 | T | 3 | 1 | services | services | course     | ⋯ | no  | yes | 2 | 4 | 2 | 3 | activities | 2 | G3 | 16 |\n",
       "| M | 17 | U | LE3 | T | 3 | 1 | services | services | course     | ⋯ | no  | yes | 2 | 4 | 2 | 3 | internet   | 1 | G3 | 16 |\n",
       "| M | 17 | U | LE3 | T | 3 | 1 | services | services | course     | ⋯ | no  | yes | 2 | 4 | 2 | 3 | romantic   | 2 | G3 | 16 |\n",
       "| M | 17 | U | LE3 | T | 3 | 1 | services | services | course     | ⋯ | no  | yes | 2 | 4 | 2 | 3 | goout      | 5 | G3 | 16 |\n",
       "| M | 17 | U | LE3 | T | 3 | 1 | services | services | course     | ⋯ | no  | yes | 2 | 4 | 2 | 3 | Dalc       | 3 | G3 | 16 |\n",
       "| M | 17 | U | LE3 | T | 3 | 1 | services | services | course     | ⋯ | no  | yes | 2 | 4 | 2 | 3 | Walc       | 4 | G3 | 16 |\n",
       "\n"
      ],
      "text/plain": [
       "    sex age address famsize Pstatus Medu Fedu Mjob     Fjob     reason     ⋯\n",
       "1   M   15  U       LE3     A       3    2    services other    home       ⋯\n",
       "2   M   15  U       LE3     A       3    2    services other    home       ⋯\n",
       "3   M   15  U       LE3     A       3    2    services other    home       ⋯\n",
       "4   M   15  U       LE3     A       3    2    services other    home       ⋯\n",
       "5   M   15  U       LE3     A       3    2    services other    home       ⋯\n",
       "6   M   15  U       LE3     A       3    2    services other    home       ⋯\n",
       "7   M   15  U       LE3     A       3    2    services other    home       ⋯\n",
       "8   M   15  U       LE3     A       3    2    services other    home       ⋯\n",
       "9   M   15  U       GT3     A       2    2    other    other    home       ⋯\n",
       "10  M   15  U       GT3     A       2    2    other    other    home       ⋯\n",
       "11  M   15  U       GT3     A       2    2    other    other    home       ⋯\n",
       "12  M   15  U       GT3     A       2    2    other    other    home       ⋯\n",
       "13  M   15  U       GT3     A       2    2    other    other    home       ⋯\n",
       "14  M   15  U       GT3     A       2    2    other    other    home       ⋯\n",
       "15  M   15  U       GT3     A       2    2    other    other    home       ⋯\n",
       "16  M   15  U       GT3     A       2    2    other    other    home       ⋯\n",
       "17  M   16  U       LE3     T       4    2    teacher  other    course     ⋯\n",
       "18  M   16  U       LE3     T       4    2    teacher  other    course     ⋯\n",
       "19  M   16  U       LE3     T       4    2    teacher  other    course     ⋯\n",
       "20  M   16  U       LE3     T       4    2    teacher  other    course     ⋯\n",
       "21  M   16  U       LE3     T       4    2    teacher  other    course     ⋯\n",
       "22  M   16  U       LE3     T       4    2    teacher  other    course     ⋯\n",
       "23  M   16  U       LE3     T       4    2    teacher  other    course     ⋯\n",
       "24  M   16  U       LE3     T       4    2    teacher  other    course     ⋯\n",
       "25  M   15  U       GT3     T       4    4    services services reputation ⋯\n",
       "26  M   15  U       GT3     T       4    4    services services reputation ⋯\n",
       "27  M   15  U       GT3     T       4    4    services services reputation ⋯\n",
       "28  M   15  U       GT3     T       4    4    services services reputation ⋯\n",
       "29  M   15  U       GT3     T       4    4    services services reputation ⋯\n",
       "30  M   15  U       GT3     T       4    4    services services reputation ⋯\n",
       "⋮   ⋮   ⋮   ⋮       ⋮       ⋮       ⋮    ⋮    ⋮        ⋮        ⋮          ⋱\n",
       "291 M   18  R       GT3     T       4    3    teacher  services course     ⋯\n",
       "292 M   18  R       GT3     T       4    3    teacher  services course     ⋯\n",
       "293 M   18  R       GT3     T       4    3    teacher  services course     ⋯\n",
       "294 M   18  R       GT3     T       4    3    teacher  services course     ⋯\n",
       "295 M   18  R       GT3     T       4    3    teacher  services course     ⋯\n",
       "296 M   18  R       GT3     T       4    3    teacher  services course     ⋯\n",
       "297 F   18  U       LE3     T       1    1    at_home  services course     ⋯\n",
       "298 F   18  U       LE3     T       1    1    at_home  services course     ⋯\n",
       "299 F   18  U       LE3     T       1    1    at_home  services course     ⋯\n",
       "300 F   18  U       LE3     T       1    1    at_home  services course     ⋯\n",
       "301 F   18  U       LE3     T       1    1    at_home  services course     ⋯\n",
       "302 F   18  U       LE3     T       1    1    at_home  services course     ⋯\n",
       "303 F   18  U       LE3     T       1    1    at_home  services course     ⋯\n",
       "304 F   18  U       LE3     T       1    1    at_home  services course     ⋯\n",
       "305 F   18  R       LE3     T       4    4    other    other    reputation ⋯\n",
       "306 F   18  R       LE3     T       4    4    other    other    reputation ⋯\n",
       "307 F   18  R       LE3     T       4    4    other    other    reputation ⋯\n",
       "308 F   18  R       LE3     T       4    4    other    other    reputation ⋯\n",
       "309 F   18  R       LE3     T       4    4    other    other    reputation ⋯\n",
       "310 F   18  R       LE3     T       4    4    other    other    reputation ⋯\n",
       "311 F   18  R       LE3     T       4    4    other    other    reputation ⋯\n",
       "312 F   18  R       LE3     T       4    4    other    other    reputation ⋯\n",
       "313 M   17  U       LE3     T       3    1    services services course     ⋯\n",
       "314 M   17  U       LE3     T       3    1    services services course     ⋯\n",
       "315 M   17  U       LE3     T       3    1    services services course     ⋯\n",
       "316 M   17  U       LE3     T       3    1    services services course     ⋯\n",
       "317 M   17  U       LE3     T       3    1    services services course     ⋯\n",
       "318 M   17  U       LE3     T       3    1    services services course     ⋯\n",
       "319 M   17  U       LE3     T       3    1    services services course     ⋯\n",
       "320 M   17  U       LE3     T       3    1    services services course     ⋯\n",
       "    nursery higher famrel freetime health absences Factor     value Gperiod\n",
       "1   yes     yes    4      2        1      0        school     1     G3     \n",
       "2   yes     yes    4      2        1      0        studytime  2     G3     \n",
       "3   yes     yes    4      2        1      0        activities 2     G3     \n",
       "4   yes     yes    4      2        1      0        internet   1     G3     \n",
       "5   yes     yes    4      2        1      0        romantic   2     G3     \n",
       "6   yes     yes    4      2        1      0        goout      2     G3     \n",
       "7   yes     yes    4      2        1      0        Dalc       1     G3     \n",
       "8   yes     yes    4      2        1      0        Walc       1     G3     \n",
       "9   yes     yes    4      5        3      0        school     1     G3     \n",
       "10  yes     yes    4      5        3      0        studytime  3     G3     \n",
       "11  yes     yes    4      5        3      0        activities 2     G3     \n",
       "12  yes     yes    4      5        3      0        internet   1     G3     \n",
       "13  yes     yes    4      5        3      0        romantic   1     G3     \n",
       "14  yes     yes    4      5        3      0        goout      2     G3     \n",
       "15  yes     yes    4      5        3      0        Dalc       1     G3     \n",
       "16  yes     yes    4      5        3      0        Walc       1     G3     \n",
       "17  yes     yes    4      5        5      2        school     1     G3     \n",
       "18  yes     yes    4      5        5      2        studytime  2     G3     \n",
       "19  yes     yes    4      5        5      2        activities 1     G3     \n",
       "20  yes     yes    4      5        5      2        internet   1     G3     \n",
       "21  yes     yes    4      5        5      2        romantic   2     G3     \n",
       "22  yes     yes    4      5        5      2        goout      1     G3     \n",
       "23  yes     yes    4      5        5      2        Dalc       1     G3     \n",
       "24  yes     yes    4      5        5      2        Walc       3     G3     \n",
       "25  yes     yes    4      3        5      0        school     1     G3     \n",
       "26  yes     yes    4      3        5      0        studytime  2     G3     \n",
       "27  yes     yes    4      3        5      0        activities 1     G3     \n",
       "28  yes     yes    4      3        5      0        internet   1     G3     \n",
       "29  yes     yes    4      3        5      0        romantic   2     G3     \n",
       "30  yes     yes    4      3        5      0        goout      1     G3     \n",
       "⋮   ⋮       ⋮      ⋮      ⋮        ⋮      ⋮        ⋮          ⋮     ⋮      \n",
       "291 yes     yes    5      3        4      9        activities 2     G3     \n",
       "292 yes     yes    5      3        4      9        internet   1     G3     \n",
       "293 yes     yes    5      3        4      9        romantic   1     G3     \n",
       "294 yes     yes    5      3        4      9        goout      2     G3     \n",
       "295 yes     yes    5      3        4      9        Dalc       1     G3     \n",
       "296 yes     yes    5      3        4      9        Walc       2     G3     \n",
       "297 yes     yes    5      3        4      0        school     2     G3     \n",
       "298 yes     yes    5      3        4      0        studytime  3     G3     \n",
       "299 yes     yes    5      3        4      0        activities 2     G3     \n",
       "300 yes     yes    5      3        4      0        internet   1     G3     \n",
       "301 yes     yes    5      3        4      0        romantic   2     G3     \n",
       "302 yes     yes    5      3        4      0        goout      2     G3     \n",
       "303 yes     yes    5      3        4      0        Dalc       1     G3     \n",
       "304 yes     yes    5      3        4      0        Walc       1     G3     \n",
       "305 yes     yes    5      4        1      0        school     2     G3     \n",
       "306 yes     yes    5      4        1      0        studytime  3     G3     \n",
       "307 yes     yes    5      4        1      0        activities 2     G3     \n",
       "308 yes     yes    5      4        1      0        internet   1     G3     \n",
       "309 yes     yes    5      4        1      0        romantic   2     G3     \n",
       "310 yes     yes    5      4        1      0        goout      4     G3     \n",
       "311 yes     yes    5      4        1      0        Dalc       1     G3     \n",
       "312 yes     yes    5      4        1      0        Walc       1     G3     \n",
       "313 no      yes    2      4        2      3        school     2     G3     \n",
       "314 no      yes    2      4        2      3        studytime  1     G3     \n",
       "315 no      yes    2      4        2      3        activities 2     G3     \n",
       "316 no      yes    2      4        2      3        internet   1     G3     \n",
       "317 no      yes    2      4        2      3        romantic   2     G3     \n",
       "318 no      yes    2      4        2      3        goout      5     G3     \n",
       "319 no      yes    2      4        2      3        Dalc       3     G3     \n",
       "320 no      yes    2      4        2      3        Walc       4     G3     \n",
       "    grade\n",
       "1   19   \n",
       "2   19   \n",
       "3   19   \n",
       "4   19   \n",
       "5   19   \n",
       "6   19   \n",
       "7   19   \n",
       "8   19   \n",
       "9   16   \n",
       "10  16   \n",
       "11  16   \n",
       "12  16   \n",
       "13  16   \n",
       "14  16   \n",
       "15  16   \n",
       "16  16   \n",
       "17  16   \n",
       "18  16   \n",
       "19  16   \n",
       "20  16   \n",
       "21  16   \n",
       "22  16   \n",
       "23  16   \n",
       "24  16   \n",
       "25  17   \n",
       "26  17   \n",
       "27  17   \n",
       "28  17   \n",
       "29  17   \n",
       "30  17   \n",
       "⋮   ⋮    \n",
       "291 16   \n",
       "292 16   \n",
       "293 16   \n",
       "294 16   \n",
       "295 16   \n",
       "296 16   \n",
       "297 16   \n",
       "298 16   \n",
       "299 16   \n",
       "300 16   \n",
       "301 16   \n",
       "302 16   \n",
       "303 16   \n",
       "304 16   \n",
       "305 19   \n",
       "306 19   \n",
       "307 19   \n",
       "308 19   \n",
       "309 19   \n",
       "310 19   \n",
       "311 19   \n",
       "312 19   \n",
       "313 16   \n",
       "314 16   \n",
       "315 16   \n",
       "316 16   \n",
       "317 16   \n",
       "318 16   \n",
       "319 16   \n",
       "320 16   "
      ]
     },
     "metadata": {},
     "output_type": "display_data"
    },
    {
     "data": {
      "text/html": [
       "<table>\n",
       "<caption>A tibble: 6 × 26</caption>\n",
       "<thead>\n",
       "\t<tr><th scope=col>sex</th><th scope=col>age</th><th scope=col>address</th><th scope=col>famsize</th><th scope=col>Pstatus</th><th scope=col>Medu</th><th scope=col>Fedu</th><th scope=col>Mjob</th><th scope=col>Fjob</th><th scope=col>reason</th><th scope=col>⋯</th><th scope=col>nursery</th><th scope=col>higher</th><th scope=col>famrel</th><th scope=col>freetime</th><th scope=col>health</th><th scope=col>absences</th><th scope=col>Factor</th><th scope=col>value</th><th scope=col>Gperiod</th><th scope=col>grade</th></tr>\n",
       "\t<tr><th scope=col>&lt;chr&gt;</th><th scope=col>&lt;int&gt;</th><th scope=col>&lt;chr&gt;</th><th scope=col>&lt;chr&gt;</th><th scope=col>&lt;chr&gt;</th><th scope=col>&lt;int&gt;</th><th scope=col>&lt;int&gt;</th><th scope=col>&lt;chr&gt;</th><th scope=col>&lt;chr&gt;</th><th scope=col>&lt;chr&gt;</th><th scope=col>⋯</th><th scope=col>&lt;chr&gt;</th><th scope=col>&lt;chr&gt;</th><th scope=col>&lt;int&gt;</th><th scope=col>&lt;int&gt;</th><th scope=col>&lt;int&gt;</th><th scope=col>&lt;int&gt;</th><th scope=col>&lt;chr&gt;</th><th scope=col>&lt;dbl&gt;</th><th scope=col>&lt;chr&gt;</th><th scope=col>&lt;int&gt;</th></tr>\n",
       "</thead>\n",
       "<tbody>\n",
       "\t<tr><td>M</td><td>15</td><td>U</td><td>LE3</td><td>A</td><td>3</td><td>2</td><td>services</td><td>other</td><td>home</td><td>⋯</td><td>yes</td><td>yes</td><td>4</td><td>2</td><td>1</td><td>0</td><td>school    </td><td>1</td><td>G3</td><td>17</td></tr>\n",
       "\t<tr><td>M</td><td>15</td><td>U</td><td>LE3</td><td>A</td><td>3</td><td>2</td><td>services</td><td>other</td><td>home</td><td>⋯</td><td>yes</td><td>yes</td><td>4</td><td>2</td><td>1</td><td>0</td><td>studytime </td><td>2</td><td>G3</td><td>17</td></tr>\n",
       "\t<tr><td>M</td><td>15</td><td>U</td><td>LE3</td><td>A</td><td>3</td><td>2</td><td>services</td><td>other</td><td>home</td><td>⋯</td><td>yes</td><td>yes</td><td>4</td><td>2</td><td>1</td><td>0</td><td>activities</td><td>2</td><td>G3</td><td>17</td></tr>\n",
       "\t<tr><td>M</td><td>15</td><td>U</td><td>LE3</td><td>A</td><td>3</td><td>2</td><td>services</td><td>other</td><td>home</td><td>⋯</td><td>yes</td><td>yes</td><td>4</td><td>2</td><td>1</td><td>0</td><td>internet  </td><td>1</td><td>G3</td><td>17</td></tr>\n",
       "\t<tr><td>M</td><td>15</td><td>U</td><td>LE3</td><td>A</td><td>3</td><td>2</td><td>services</td><td>other</td><td>home</td><td>⋯</td><td>yes</td><td>yes</td><td>4</td><td>2</td><td>1</td><td>0</td><td>romantic  </td><td>2</td><td>G3</td><td>17</td></tr>\n",
       "\t<tr><td>M</td><td>15</td><td>U</td><td>LE3</td><td>A</td><td>3</td><td>2</td><td>services</td><td>other</td><td>home</td><td>⋯</td><td>yes</td><td>yes</td><td>4</td><td>2</td><td>1</td><td>0</td><td>goout     </td><td>2</td><td>G3</td><td>17</td></tr>\n",
       "</tbody>\n",
       "</table>\n"
      ],
      "text/latex": [
       "A tibble: 6 × 26\n",
       "\\begin{tabular}{r|llllllllllllllllllllllllll}\n",
       " sex & age & address & famsize & Pstatus & Medu & Fedu & Mjob & Fjob & reason & guardian & traveltime & failures & schoolsup & famsup & paid & nursery & higher & famrel & freetime & health & absences & Factor & value & Gperiod & grade\\\\\n",
       " <chr> & <int> & <chr> & <chr> & <chr> & <int> & <int> & <chr> & <chr> & <chr> & <chr> & <int> & <int> & <chr> & <chr> & <chr> & <chr> & <chr> & <int> & <int> & <int> & <int> & <chr> & <dbl> & <chr> & <int>\\\\\n",
       "\\hline\n",
       "\t M & 15 & U & LE3 & A & 3 & 2 & services & other & home & mother & 1 & 0 & no & yes & no & yes & yes & 4 & 2 & 1 & 0 & school     & 1 & G3 & 17\\\\\n",
       "\t M & 15 & U & LE3 & A & 3 & 2 & services & other & home & mother & 1 & 0 & no & yes & no & yes & yes & 4 & 2 & 1 & 0 & studytime  & 2 & G3 & 17\\\\\n",
       "\t M & 15 & U & LE3 & A & 3 & 2 & services & other & home & mother & 1 & 0 & no & yes & no & yes & yes & 4 & 2 & 1 & 0 & activities & 2 & G3 & 17\\\\\n",
       "\t M & 15 & U & LE3 & A & 3 & 2 & services & other & home & mother & 1 & 0 & no & yes & no & yes & yes & 4 & 2 & 1 & 0 & internet   & 1 & G3 & 17\\\\\n",
       "\t M & 15 & U & LE3 & A & 3 & 2 & services & other & home & mother & 1 & 0 & no & yes & no & yes & yes & 4 & 2 & 1 & 0 & romantic   & 2 & G3 & 17\\\\\n",
       "\t M & 15 & U & LE3 & A & 3 & 2 & services & other & home & mother & 1 & 0 & no & yes & no & yes & yes & 4 & 2 & 1 & 0 & goout      & 2 & G3 & 17\\\\\n",
       "\\end{tabular}\n"
      ],
      "text/markdown": [
       "\n",
       "A tibble: 6 × 26\n",
       "\n",
       "| sex &lt;chr&gt; | age &lt;int&gt; | address &lt;chr&gt; | famsize &lt;chr&gt; | Pstatus &lt;chr&gt; | Medu &lt;int&gt; | Fedu &lt;int&gt; | Mjob &lt;chr&gt; | Fjob &lt;chr&gt; | reason &lt;chr&gt; | ⋯ ⋯ | nursery &lt;chr&gt; | higher &lt;chr&gt; | famrel &lt;int&gt; | freetime &lt;int&gt; | health &lt;int&gt; | absences &lt;int&gt; | Factor &lt;chr&gt; | value &lt;dbl&gt; | Gperiod &lt;chr&gt; | grade &lt;int&gt; |\n",
       "|---|---|---|---|---|---|---|---|---|---|---|---|---|---|---|---|---|---|---|---|---|\n",
       "| M | 15 | U | LE3 | A | 3 | 2 | services | other | home | ⋯ | yes | yes | 4 | 2 | 1 | 0 | school     | 1 | G3 | 17 |\n",
       "| M | 15 | U | LE3 | A | 3 | 2 | services | other | home | ⋯ | yes | yes | 4 | 2 | 1 | 0 | studytime  | 2 | G3 | 17 |\n",
       "| M | 15 | U | LE3 | A | 3 | 2 | services | other | home | ⋯ | yes | yes | 4 | 2 | 1 | 0 | activities | 2 | G3 | 17 |\n",
       "| M | 15 | U | LE3 | A | 3 | 2 | services | other | home | ⋯ | yes | yes | 4 | 2 | 1 | 0 | internet   | 1 | G3 | 17 |\n",
       "| M | 15 | U | LE3 | A | 3 | 2 | services | other | home | ⋯ | yes | yes | 4 | 2 | 1 | 0 | romantic   | 2 | G3 | 17 |\n",
       "| M | 15 | U | LE3 | A | 3 | 2 | services | other | home | ⋯ | yes | yes | 4 | 2 | 1 | 0 | goout      | 2 | G3 | 17 |\n",
       "\n"
      ],
      "text/plain": [
       "  sex age address famsize Pstatus Medu Fedu Mjob     Fjob  reason ⋯ nursery\n",
       "1 M   15  U       LE3     A       3    2    services other home   ⋯ yes    \n",
       "2 M   15  U       LE3     A       3    2    services other home   ⋯ yes    \n",
       "3 M   15  U       LE3     A       3    2    services other home   ⋯ yes    \n",
       "4 M   15  U       LE3     A       3    2    services other home   ⋯ yes    \n",
       "5 M   15  U       LE3     A       3    2    services other home   ⋯ yes    \n",
       "6 M   15  U       LE3     A       3    2    services other home   ⋯ yes    \n",
       "  higher famrel freetime health absences Factor     value Gperiod grade\n",
       "1 yes    4      2        1      0        school     1     G3      17   \n",
       "2 yes    4      2        1      0        studytime  2     G3      17   \n",
       "3 yes    4      2        1      0        activities 2     G3      17   \n",
       "4 yes    4      2        1      0        internet   1     G3      17   \n",
       "5 yes    4      2        1      0        romantic   2     G3      17   \n",
       "6 yes    4      2        1      0        goout      2     G3      17   "
      ]
     },
     "metadata": {},
     "output_type": "display_data"
    }
   ],
   "source": [
    "Amath_piv1 <- Amath_piv %>% filter(Gperiod == 'G1')\n",
    "Amath_piv2 <- Amath_piv %>% filter(Gperiod == 'G2')\n",
    "Amath_piv3 <- Amath_piv %>% filter(Gperiod == 'G3')\n",
    "\n",
    "Amath_piv3\n",
    "\n",
    "Aport_piv1 <- Aport_piv %>% filter(Gperiod == 'G1')\n",
    "Aport_piv2 <- Aport_piv %>% filter(Gperiod == 'G2')\n",
    "Aport_piv3 <- Aport_piv %>% filter(Gperiod == 'G3')\n",
    "\n",
    "head(Aport_piv3)"
   ]
  },
  {
   "cell_type": "code",
   "execution_count": 42,
   "metadata": {},
   "outputs": [
    {
     "data": {
      "image/png": "[encoded data removed]",
      "text/plain": [
       "plot without title"
      ]
     },
     "metadata": {},
     "output_type": "display_data"
    }
   ],
   "source": [
    "Amath_piv3 <- Amath_piv3 %>% transform(value = as.character(value))\n",
    "Amath_piv3$Factor <- replace(Amath_piv3$Factor, Amath_piv3$Factor == \"Dalc\", \"Alc_Wday\")\n",
    "Amath_piv3$Factor <- replace(Amath_piv3$Factor, Amath_piv3$Factor == \"Walc\", \"Alc_Wend\")\n",
    "Amath_piv3$Factor <- replace(Amath_piv3$Factor, Amath_piv3$Factor == \"goout\", \"go_out\")\n",
    "\n",
    "plot7 <- ggplot(data = Amath_piv3) + geom_bar(mapping = aes(x = Factor, fill = value), position = \"dodge\") + \n",
    "        scale_fill_manual(values = coul)\n",
    "plot7"
   ]
  },
  {
   "cell_type": "code",
   "execution_count": 43,
   "metadata": {},
   "outputs": [
    {
     "data": {
      "image/png": "[encoded data removed]",
      "text/plain": [
       "plot without title"
      ]
     },
     "metadata": {},
     "output_type": "display_data"
    }
   ],
   "source": [
    "Aport_piv3 <- Aport_piv3 %>% transform(value = as.character(value))\n",
    "Aport_piv3$Factor <- replace(Aport_piv3$Factor, Aport_piv3$Factor == \"Dalc\", \"Alc_Wday\")\n",
    "Aport_piv3$Factor <- replace(Aport_piv3$Factor, Aport_piv3$Factor == \"Walc\", \"Alc_Wend\")\n",
    "Aport_piv3$Factor <- replace(Aport_piv3$Factor, Aport_piv3$Factor == \"goout\", \"go_out\")\n",
    "\n",
    "plot8 <- ggplot(data = Aport_piv3) + geom_bar(mapping = aes(x = Factor, fill = value), position = \"dodge\") +\n",
    "        scale_fill_manual(values = coul)\n",
    "plot8"
   ]
  },
  {
   "cell_type": "code",
   "execution_count": 44,
   "metadata": {},
   "outputs": [
    {
     "name": "stdout",
     "output_type": "stream",
     "text": [
      "[1] \"Survey results from top Math student\"\n"
     ]
    },
    {
     "data": {
      "text/html": [
       "<table>\n",
       "<caption>A data.frame: 1 × 13</caption>\n",
       "<thead>\n",
       "\t<tr><th scope=col>school</th><th scope=col>sex</th><th scope=col>age</th><th scope=col>activities</th><th scope=col>Dalc</th><th scope=col>Walc</th><th scope=col>goout</th><th scope=col>internet</th><th scope=col>romantic</th><th scope=col>studytime</th><th scope=col>G1</th><th scope=col>G2</th><th scope=col>G3</th></tr>\n",
       "\t<tr><th scope=col>&lt;chr&gt;</th><th scope=col>&lt;chr&gt;</th><th scope=col>&lt;int&gt;</th><th scope=col>&lt;chr&gt;</th><th scope=col>&lt;int&gt;</th><th scope=col>&lt;int&gt;</th><th scope=col>&lt;int&gt;</th><th scope=col>&lt;chr&gt;</th><th scope=col>&lt;chr&gt;</th><th scope=col>&lt;int&gt;</th><th scope=col>&lt;int&gt;</th><th scope=col>&lt;int&gt;</th><th scope=col>&lt;int&gt;</th></tr>\n",
       "</thead>\n",
       "<tbody>\n",
       "\t<tr><td>GP</td><td>M</td><td>16</td><td>yes</td><td>1</td><td>1</td><td>2</td><td>yes</td><td>no</td><td>4</td><td>19</td><td>19</td><td>20</td></tr>\n",
       "</tbody>\n",
       "</table>\n"
      ],
      "text/latex": [
       "A data.frame: 1 × 13\n",
       "\\begin{tabular}{r|lllllllllllll}\n",
       " school & sex & age & activities & Dalc & Walc & goout & internet & romantic & studytime & G1 & G2 & G3\\\\\n",
       " <chr> & <chr> & <int> & <chr> & <int> & <int> & <int> & <chr> & <chr> & <int> & <int> & <int> & <int>\\\\\n",
       "\\hline\n",
       "\t GP & M & 16 & yes & 1 & 1 & 2 & yes & no & 4 & 19 & 19 & 20\\\\\n",
       "\\end{tabular}\n"
      ],
      "text/markdown": [
       "\n",
       "A data.frame: 1 × 13\n",
       "\n",
       "| school &lt;chr&gt; | sex &lt;chr&gt; | age &lt;int&gt; | activities &lt;chr&gt; | Dalc &lt;int&gt; | Walc &lt;int&gt; | goout &lt;int&gt; | internet &lt;chr&gt; | romantic &lt;chr&gt; | studytime &lt;int&gt; | G1 &lt;int&gt; | G2 &lt;int&gt; | G3 &lt;int&gt; |\n",
       "|---|---|---|---|---|---|---|---|---|---|---|---|---|\n",
       "| GP | M | 16 | yes | 1 | 1 | 2 | yes | no | 4 | 19 | 19 | 20 |\n",
       "\n"
      ],
      "text/plain": [
       "  school sex age activities Dalc Walc goout internet romantic studytime G1 G2\n",
       "1 GP     M   16  yes        1    1    2     yes      no       4         19 19\n",
       "  G3\n",
       "1 20"
      ]
     },
     "metadata": {},
     "output_type": "display_data"
    }
   ],
   "source": [
    "print('Survey results from top Math student')\n",
    "select(Pmath, school, sex, age, activities, Dalc, Walc, goout, internet, romantic, school, studytime, G1, G2, G3)"
   ]
  },
  {
   "cell_type": "code",
   "execution_count": 45,
   "metadata": {},
   "outputs": [
    {
     "name": "stdout",
     "output_type": "stream",
     "text": [
      "[1] \"Survey results from top Portuguese language student\"\n"
     ]
    },
    {
     "data": {
      "text/html": [
       "<table>\n",
       "<caption>A data.frame: 2 × 13</caption>\n",
       "<thead>\n",
       "\t<tr><th scope=col>school</th><th scope=col>sex</th><th scope=col>age</th><th scope=col>activities</th><th scope=col>Dalc</th><th scope=col>Walc</th><th scope=col>goout</th><th scope=col>internet</th><th scope=col>romantic</th><th scope=col>studytime</th><th scope=col>G1</th><th scope=col>G2</th><th scope=col>G3</th></tr>\n",
       "\t<tr><th scope=col>&lt;chr&gt;</th><th scope=col>&lt;chr&gt;</th><th scope=col>&lt;int&gt;</th><th scope=col>&lt;chr&gt;</th><th scope=col>&lt;int&gt;</th><th scope=col>&lt;int&gt;</th><th scope=col>&lt;int&gt;</th><th scope=col>&lt;chr&gt;</th><th scope=col>&lt;chr&gt;</th><th scope=col>&lt;int&gt;</th><th scope=col>&lt;int&gt;</th><th scope=col>&lt;int&gt;</th><th scope=col>&lt;int&gt;</th></tr>\n",
       "</thead>\n",
       "<tbody>\n",
       "\t<tr><td>GP</td><td>F</td><td>17</td><td>no </td><td>1</td><td>1</td><td>2</td><td>no </td><td>no</td><td>4</td><td>18</td><td>19</td><td>19</td></tr>\n",
       "\t<tr><td>MS</td><td>M</td><td>18</td><td>yes</td><td>1</td><td>4</td><td>4</td><td>yes</td><td>no</td><td>2</td><td>17</td><td>18</td><td>19</td></tr>\n",
       "</tbody>\n",
       "</table>\n"
      ],
      "text/latex": [
       "A data.frame: 2 × 13\n",
       "\\begin{tabular}{r|lllllllllllll}\n",
       " school & sex & age & activities & Dalc & Walc & goout & internet & romantic & studytime & G1 & G2 & G3\\\\\n",
       " <chr> & <chr> & <int> & <chr> & <int> & <int> & <int> & <chr> & <chr> & <int> & <int> & <int> & <int>\\\\\n",
       "\\hline\n",
       "\t GP & F & 17 & no  & 1 & 1 & 2 & no  & no & 4 & 18 & 19 & 19\\\\\n",
       "\t MS & M & 18 & yes & 1 & 4 & 4 & yes & no & 2 & 17 & 18 & 19\\\\\n",
       "\\end{tabular}\n"
      ],
      "text/markdown": [
       "\n",
       "A data.frame: 2 × 13\n",
       "\n",
       "| school &lt;chr&gt; | sex &lt;chr&gt; | age &lt;int&gt; | activities &lt;chr&gt; | Dalc &lt;int&gt; | Walc &lt;int&gt; | goout &lt;int&gt; | internet &lt;chr&gt; | romantic &lt;chr&gt; | studytime &lt;int&gt; | G1 &lt;int&gt; | G2 &lt;int&gt; | G3 &lt;int&gt; |\n",
       "|---|---|---|---|---|---|---|---|---|---|---|---|---|\n",
       "| GP | F | 17 | no  | 1 | 1 | 2 | no  | no | 4 | 18 | 19 | 19 |\n",
       "| MS | M | 18 | yes | 1 | 4 | 4 | yes | no | 2 | 17 | 18 | 19 |\n",
       "\n"
      ],
      "text/plain": [
       "  school sex age activities Dalc Walc goout internet romantic studytime G1 G2\n",
       "1 GP     F   17  no         1    1    2     no       no       4         18 19\n",
       "2 MS     M   18  yes        1    4    4     yes      no       2         17 18\n",
       "  G3\n",
       "1 19\n",
       "2 19"
      ]
     },
     "metadata": {},
     "output_type": "display_data"
    }
   ],
   "source": [
    "print('Survey results from top Portuguese language student')\n",
    "select(Pport, school, sex, age, activities, Dalc, Walc, goout, internet, romantic, school, studytime, G1, G2, G3)"
   ]
  },
  {
   "cell_type": "code",
   "execution_count": 46,
   "metadata": {},
   "outputs": [
    {
     "data": {
      "image/png": "[encoded data removed]",
      "text/plain": [
       "plot without title"
      ]
     },
     "metadata": {},
     "output_type": "display_data"
    }
   ],
   "source": [
    "plot9 <- ggplot(Amath_piv3, aes(x = factor(1), fill=value)) +  \n",
    "geom_bar(width=1, position=\"fill\") +\n",
    "coord_polar(theta=\"y\") + theme_void() +\n",
    "facet_wrap(~Factor) + scale_fill_manual(values = coul)\n",
    "\n",
    "plot9"
   ]
  },
  {
   "cell_type": "code",
   "execution_count": 47,
   "metadata": {},
   "outputs": [
    {
     "data": {
      "image/png": "[encoded data removed]",
      "text/plain": [
       "plot without title"
      ]
     },
     "metadata": {},
     "output_type": "display_data"
    }
   ],
   "source": [
    "plot10 <- ggplot(Aport_piv3, aes(x = factor(1), fill=value)) +  \n",
    "geom_bar(width=1, position=\"fill\") +\n",
    "coord_polar(theta=\"y\") + theme_void() +\n",
    "facet_wrap(~Factor) + scale_fill_manual(values = coul)\n",
    "\n",
    "plot10"
   ]
  },
  {
   "cell_type": "code",
   "execution_count": 48,
   "metadata": {},
   "outputs": [
    {
     "data": {
      "text/html": [
       "<strong>png:</strong> 2"
      ],
      "text/latex": [
       "\\textbf{png:} 2"
      ],
      "text/markdown": [
       "**png:** 2"
      ],
      "text/plain": [
       "png \n",
       "  2 "
      ]
     },
     "metadata": {},
     "output_type": "display_data"
    }
   ],
   "source": [
    "png(filename=\"plot1.png\")\n",
    "\n",
    "plot1\n",
    "\n",
    "dev.off()"
   ]
  },
  {
   "cell_type": "code",
   "execution_count": 49,
   "metadata": {},
   "outputs": [
    {
     "data": {
      "text/html": [
       "<strong>png:</strong> 2"
      ],
      "text/latex": [
       "\\textbf{png:} 2"
      ],
      "text/markdown": [
       "**png:** 2"
      ],
      "text/plain": [
       "png \n",
       "  2 "
      ]
     },
     "metadata": {},
     "output_type": "display_data"
    }
   ],
   "source": [
    "png(filename=\"plot2.png\")\n",
    "\n",
    "plot1\n",
    "\n",
    "dev.off()"
   ]
  },
  {
   "cell_type": "code",
   "execution_count": 50,
   "metadata": {},
   "outputs": [
    {
     "data": {
      "text/html": [
       "<strong>png:</strong> 2"
      ],
      "text/latex": [
       "\\textbf{png:} 2"
      ],
      "text/markdown": [
       "**png:** 2"
      ],
      "text/plain": [
       "png \n",
       "  2 "
      ]
     },
     "metadata": {},
     "output_type": "display_data"
    }
   ],
   "source": [
    "png(filename=\"plot1.png\")\n",
    "\n",
    "plot2\n",
    "\n",
    "dev.off()"
   ]
  },
  {
   "cell_type": "code",
   "execution_count": 51,
   "metadata": {},
   "outputs": [
    {
     "data": {
      "text/html": [
       "<strong>png:</strong> 2"
      ],
      "text/latex": [
       "\\textbf{png:} 2"
      ],
      "text/markdown": [
       "**png:** 2"
      ],
      "text/plain": [
       "png \n",
       "  2 "
      ]
     },
     "metadata": {},
     "output_type": "display_data"
    }
   ],
   "source": [
    "png(filename=\"plot3.png\")\n",
    "\n",
    "plot3\n",
    "\n",
    "dev.off()"
   ]
  },
  {
   "cell_type": "code",
   "execution_count": 52,
   "metadata": {},
   "outputs": [
    {
     "data": {
      "text/html": [
       "<strong>png:</strong> 2"
      ],
      "text/latex": [
       "\\textbf{png:} 2"
      ],
      "text/markdown": [
       "**png:** 2"
      ],
      "text/plain": [
       "png \n",
       "  2 "
      ]
     },
     "metadata": {},
     "output_type": "display_data"
    }
   ],
   "source": [
    "png(filename=\"plot4.png\")\n",
    "\n",
    "plot4\n",
    "\n",
    "dev.off()"
   ]
  },
  {
   "cell_type": "code",
   "execution_count": 53,
   "metadata": {},
   "outputs": [
    {
     "data": {
      "text/html": [
       "<strong>png:</strong> 2"
      ],
      "text/latex": [
       "\\textbf{png:} 2"
      ],
      "text/markdown": [
       "**png:** 2"
      ],
      "text/plain": [
       "png \n",
       "  2 "
      ]
     },
     "metadata": {},
     "output_type": "display_data"
    }
   ],
   "source": [
    "png(filename=\"plot5.png\")\n",
    "\n",
    "plot5\n",
    "\n",
    "dev.off()"
   ]
  },
  {
   "cell_type": "code",
   "execution_count": 54,
   "metadata": {},
   "outputs": [
    {
     "data": {
      "text/html": [
       "<strong>png:</strong> 2"
      ],
      "text/latex": [
       "\\textbf{png:} 2"
      ],
      "text/markdown": [
       "**png:** 2"
      ],
      "text/plain": [
       "png \n",
       "  2 "
      ]
     },
     "metadata": {},
     "output_type": "display_data"
    }
   ],
   "source": [
    "png(filename=\"plot6.png\")\n",
    "\n",
    "plot6\n",
    "\n",
    "dev.off()"
   ]
  },
  {
   "cell_type": "code",
   "execution_count": 55,
   "metadata": {},
   "outputs": [
    {
     "data": {
      "text/html": [
       "<strong>png:</strong> 2"
      ],
      "text/latex": [
       "\\textbf{png:} 2"
      ],
      "text/markdown": [
       "**png:** 2"
      ],
      "text/plain": [
       "png \n",
       "  2 "
      ]
     },
     "metadata": {},
     "output_type": "display_data"
    }
   ],
   "source": [
    "png(filename=\"plot7.png\")\n",
    "\n",
    "plot7\n",
    "\n",
    "dev.off()"
   ]
  },
  {
   "cell_type": "code",
   "execution_count": 56,
   "metadata": {},
   "outputs": [
    {
     "data": {
      "text/html": [
       "<strong>png:</strong> 2"
      ],
      "text/latex": [
       "\\textbf{png:} 2"
      ],
      "text/markdown": [
       "**png:** 2"
      ],
      "text/plain": [
       "png \n",
       "  2 "
      ]
     },
     "metadata": {},
     "output_type": "display_data"
    }
   ],
   "source": [
    "png(filename=\"plot8.png\")\n",
    "\n",
    "plot8\n",
    "\n",
    "dev.off()"
   ]
  },
  {
   "cell_type": "code",
   "execution_count": 57,
   "metadata": {},
   "outputs": [
    {
     "data": {
      "text/html": [
       "<strong>png:</strong> 2"
      ],
      "text/latex": [
       "\\textbf{png:} 2"
      ],
      "text/markdown": [
       "**png:** 2"
      ],
      "text/plain": [
       "png \n",
       "  2 "
      ]
     },
     "metadata": {},
     "output_type": "display_data"
    }
   ],
   "source": [
    "png(filename=\"plot9.png\")\n",
    "\n",
    "plot9\n",
    "\n",
    "dev.off()"
   ]
  },
  {
   "cell_type": "code",
   "execution_count": 58,
   "metadata": {},
   "outputs": [
    {
     "data": {
      "text/html": [
       "<strong>png:</strong> 2"
      ],
      "text/latex": [
       "\\textbf{png:} 2"
      ],
      "text/markdown": [
       "**png:** 2"
      ],
      "text/plain": [
       "png \n",
       "  2 "
      ]
     },
     "metadata": {},
     "output_type": "display_data"
    }
   ],
   "source": [
    "png(filename=\"plot10.png\")\n",
    "\n",
    "plot10\n",
    "\n",
    "dev.off()"
   ]
  },
  {
   "cell_type": "markdown",
   "metadata": {},
   "source": [
    "---\n",
    "\n",
    "# Common Pitfalls / Inefficiencies\n",
    "\n",
    "**Pay attention to the following in your visualizations and stories:**\n",
    "\n",
    "\n",
    "### Color coordinate among plots so that the same data attributes have the same color in all plots\n",
    "\n",
    "you can do that by creating a manual palette and use it everywhere to make sure same color is always assigned to the same attribute value. \n",
    "\n",
    "\n",
    "### Perceptual grouping is important! group and/or order values\n",
    "\n",
    "In a bar chart, **order the axes** by time, value, etc. to make comparisons more intuitive. \n",
    "\n",
    "Pie chart: order wedges. \n",
    "\n",
    "In a bubble map, if you want to show trends, use grouping variable to **connect** bubbles, etc. \n",
    "\n",
    "\n",
    "### No lengthy text in x axis\n",
    "\n",
    "Flip the axes of a bar chart so that string values (text) are readable on the y axis left to right, \n",
    "\n",
    "**or** \n",
    "\n",
    "at least put them slanted in x axis for better readibility. \n",
    "\n",
    "\n",
    "### Plot only those that tell an obvious story\n",
    "\n",
    "**No crowded** scatter plots with useless linear regression lines that don't tell anything. Look at alternative plots to tell your story.\n",
    "\n",
    "\n",
    "### If you have too many classes (discrete variables/categories), try to group them \n",
    "\n",
    "Instead of giving a color to each of them, you can put them in meaningful groups and color code.\n",
    "\n",
    "For sequential variables, you can do the same thing by binning. \n",
    "\n",
    "Stepped color palettes may be more useful than smooth sequential palettes (especially for comparison in choropleth maps).\n",
    "\n",
    "You can group/cluster data into meaningful chunks and display those as bubble charts, networks, geographical regions, etc. \n",
    "\n",
    "Do NOT dump all the data in the plot unless there is a CLEAR pattern/clustering to it that can be perceived immediately. \n",
    "\n",
    "\n",
    "### ANNOTATE!\n",
    "\n",
    "**Tell** your audience what they are supposed to see. \n",
    "\n",
    "Use meaningful titles with a message, not dry titles. \n",
    "\n",
    "Use nice and concise axis labels. \n",
    "\n",
    "Use text annotations (look at the **examples in the lab notebook**).\n",
    "\n",
    "\n",
    "\n",
    "### THEMING!\n",
    "\n",
    "**Good looking** charts are more **convincing**. \n",
    "\n",
    "**Almost NEVER use the default color palette, default theme, default font.**\n",
    "\n",
    "\n",
    "Use a subtle color scheme, nice fonts, interesting glyphs, etc. to make your charts look more **sophisticated**. \n",
    "\n",
    "\n",
    "\n",
    "### Use space wisely!\n",
    "\n",
    "**Balance the plots** to use space effectively.\n",
    "\n",
    "Pay attention to data-ink ratio.\n",
    "\n",
    "HAVE A FLOW left to right, top to bottom. \n",
    "\n",
    "\n"
   ]
  },
  {
   "cell_type": "code",
   "execution_count": null,
   "metadata": {},
   "outputs": [],
   "source": []
  },
  {
   "cell_type": "code",
   "execution_count": null,
   "metadata": {},
   "outputs": [],
   "source": []
  }
 ],
 "metadata": {
  "kernelspec": {
   "display_name": "R",
   "language": "R",
   "name": "ir"
  },
  "language_info": {
   "codemirror_mode": "r",
   "file_extension": ".r",
   "mimetype": "text/x-r-source",
   "name": "R",
   "pygments_lexer": "r",
   "version": "3.5.1"
  }
 },
 "nbformat": 4,
 "nbformat_minor": 2
}
